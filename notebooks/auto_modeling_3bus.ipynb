{
 "cells": [
  {
   "cell_type": "code",
   "execution_count": 15,
   "outputs": [],
   "source": [
    "import os.path\n",
    "import pandapower.networks as pn\n",
    "import pandapower as pp\n",
    "import pandas as pd\n",
    "import gurobipy as gp\n",
    "from gurobipy import GRB\n",
    "from numpy import flatnonzero as find, ones, zeros, Inf, pi, exp, conj, r_, arange, array\n",
    "from pypower_.makeYbus import makeYbus\n",
    "from pypower_.idx_brch import F_BUS, T_BUS, RATE_A, PF, QF, PT, QT, MU_SF, MU_ST\n",
    "from pypower_.idx_gen import GEN_BUS, PG, QG\n",
    "from pypower_.idx_cost import MODEL, PW_LINEAR, NCOST, POLYNOMIAL\n",
    "from pypower_.totcost import totcost\n",
    "from pypower_.makeSbus import makeSbus\n",
    "from pypower_.idx_bus import BUS_TYPE, REF, VM, VA, MU_VMAX, MU_VMIN, LAM_P, LAM_Q\n",
    "import cvxpy as cp\n",
    "import numpy as np\n",
    "from scipy.sparse import csr_matrix as sparse\n",
    "from pypower_.idx_bus import PD, QD\n",
    "from pypower_.idx_gen import GEN_BUS, PG, QG, GEN_STATUS"
   ],
   "metadata": {
    "collapsed": false
   }
  },
  {
   "cell_type": "code",
   "execution_count": 16,
   "outputs": [
    {
     "name": "stdout",
     "output_type": "stream",
     "text": [
      "['/snap/pycharm-professional/319/plugins/python/helpers-pro/jupyter_debug', '/snap/pycharm-professional/319/plugins/python/helpers/pydev', '/home/ubuntu-h/PycharmProjects/scientificProject/notebooks', '/home/ubuntu-h/PycharmProjects/scientificProject', '/home/ubuntu-h/PycharmProjects/scientificProject/src/pysettrie', '/home/ubuntu-h/anaconda3/envs/scientificProject/lib/python310.zip', '/home/ubuntu-h/anaconda3/envs/scientificProject/lib/python3.10', '/home/ubuntu-h/anaconda3/envs/scientificProject/lib/python3.10/lib-dynload', '', '/home/ubuntu-h/anaconda3/envs/scientificProject/lib/python3.10/site-packages', '/home/ubuntu-h/anaconda3/envs/scientificProject/lib/python3.10/site-packages/PyQt5_sip-12.11.0-py3.10-linux-x86_64.egg']\n",
      "<module 'posixpath' from '/home/ubuntu-h/anaconda3/envs/scientificProject/lib/python3.10/posixpath.py'>\n"
     ]
    }
   ],
   "source": [
    "import sys\n",
    "print(sys.path)\n",
    "print(os.path)\n",
    "path_current = '/home/ubuntu-h/PycharmProjects/scientificProject'\n",
    "if path_current not in sys.path:\n",
    "    sys.path.insert(1, '/home/ubuntu-h/PycharmProjects/scientificProject')"
   ],
   "metadata": {
    "collapsed": false
   }
  },
  {
   "cell_type": "code",
   "execution_count": 17,
   "outputs": [],
   "source": [
    "import pandapower as pp\n",
    "net = pp.create_empty_network()\n",
    "\n",
    "# create buses\n",
    "bus1 = pp.create_bus(net, vn_kv=110.)\n",
    "bus2 = pp.create_bus(net, vn_kv=110.)\n",
    "bus3 = pp.create_bus(net, vn_kv=110.)\n",
    "# bus4 = pp.create_bus(net, vn_kv=110.)\n",
    "# bus5 = pp.create_bus(net, vn_kv=110.)\n",
    "\n",
    "# create 110 kV lines\n",
    "pp.create_line(net, bus2, bus3, length_km=70., std_type='149-AL1/24-ST1A 110.0')\n",
    "# pp.create_line(net, bus3, bus4, length_km=50., std_type=\"149-AL1/24-ST1A 110.0\")\n",
    "# pp.create_line(net, bus4, bus2, length_km=40., std_type=\"149-AL1/24-ST1A 110.0\")\n",
    "pp.create_line(net, bus1, bus2, length_km=70., std_type='149-AL1/24-ST1A 110.0')\n",
    "\n",
    "# create loads\n",
    "pp.create_load(net, bus1, p_mw=30., controllable=False)\n",
    "# pp.create_load(net, bus3, p_mw=70., controllable=False)\n",
    "# pp.create_load(net, bus4, p_mw=25., controllable=False)\n",
    "\n",
    "# create generators\n",
    "eg = pp.create_ext_grid(net, bus3, min_p_mw=0, max_p_mw=1000, vm_pu=1.05)\n",
    "g0 = pp.create_gen(net, bus2, p_mw=80, min_p_mw=0, max_p_mw=50, vm_pu=1.00, controllable=True)\n",
    "# g1 = pp.create_gen(net, bus4, p_mw=100, min_p_mw=0, max_p_mw=100, vm_pu=1.00, controllable=True)\n",
    "\n",
    "\n",
    "costeg = pp.create_poly_cost(net, 0, 'ext_grid', cp1_eur_per_mw=20)\n",
    "costgen1 = pp.create_poly_cost(net, 0, 'gen', cp1_eur_per_mw=10)\n",
    "costgen2 = pp.create_poly_cost(net, 1, 'gen', cp1_eur_per_mw=10)"
   ],
   "metadata": {
    "collapsed": false
   }
  },
  {
   "cell_type": "markdown",
   "source": [
    "![xx -w50](grid2GUROBI.png)"
   ],
   "metadata": {
    "collapsed": false
   }
  },
  {
   "cell_type": "markdown",
   "source": [],
   "metadata": {
    "collapsed": false
   }
  },
  {
   "cell_type": "code",
   "execution_count": 18,
   "outputs": [
    {
     "data": {
      "text/plain": "   element        et  cp0_eur  cp1_eur_per_mw  cp2_eur_per_mw2  cq0_eur  \\\n0        0  ext_grid      0.0            20.0              0.0      0.0   \n1        0       gen      0.0            10.0              0.0      0.0   \n2        1       gen      0.0            10.0              0.0      0.0   \n\n   cq1_eur_per_mvar  cq2_eur_per_mvar2  \n0               0.0                0.0  \n1               0.0                0.0  \n2               0.0                0.0  ",
      "text/html": "<div>\n<style scoped>\n    .dataframe tbody tr th:only-of-type {\n        vertical-align: middle;\n    }\n\n    .dataframe tbody tr th {\n        vertical-align: top;\n    }\n\n    .dataframe thead th {\n        text-align: right;\n    }\n</style>\n<table border=\"1\" class=\"dataframe\">\n  <thead>\n    <tr style=\"text-align: right;\">\n      <th></th>\n      <th>element</th>\n      <th>et</th>\n      <th>cp0_eur</th>\n      <th>cp1_eur_per_mw</th>\n      <th>cp2_eur_per_mw2</th>\n      <th>cq0_eur</th>\n      <th>cq1_eur_per_mvar</th>\n      <th>cq2_eur_per_mvar2</th>\n    </tr>\n  </thead>\n  <tbody>\n    <tr>\n      <th>0</th>\n      <td>0</td>\n      <td>ext_grid</td>\n      <td>0.0</td>\n      <td>20.0</td>\n      <td>0.0</td>\n      <td>0.0</td>\n      <td>0.0</td>\n      <td>0.0</td>\n    </tr>\n    <tr>\n      <th>1</th>\n      <td>0</td>\n      <td>gen</td>\n      <td>0.0</td>\n      <td>10.0</td>\n      <td>0.0</td>\n      <td>0.0</td>\n      <td>0.0</td>\n      <td>0.0</td>\n    </tr>\n    <tr>\n      <th>2</th>\n      <td>1</td>\n      <td>gen</td>\n      <td>0.0</td>\n      <td>10.0</td>\n      <td>0.0</td>\n      <td>0.0</td>\n      <td>0.0</td>\n      <td>0.0</td>\n    </tr>\n  </tbody>\n</table>\n</div>"
     },
     "execution_count": 18,
     "metadata": {},
     "output_type": "execute_result"
    }
   ],
   "source": [
    "# net.bus[\"min_vm_pu\"] = 0.98\n",
    "# net.bus[\"max_vm_pu\"] = 1.02\n",
    "net.line[\"max_loading_percent\"] = 100\n",
    "# net.sn_mva = 100\n",
    "# net = pp.networks.case14()\n",
    "# net.gen['vm_pu'] = 1.0\n",
    "# net.bus[\"min_vm_pu\"] = 0.95\n",
    "# net.bus[\"max_vm_pu\"] = 1.05\n",
    "# net.poly_cost[:,3] = 0\n",
    "# net.poly_cost['cp2_eur_per_mw2'] = 0\n",
    "net.poly_cost"
   ],
   "metadata": {
    "collapsed": false
   }
  },
  {
   "cell_type": "code",
   "execution_count": 19,
   "outputs": [],
   "source": [
    "om,ppopt = pp.runopp(net, delta=1e-16)   # solve the OPF problem"
   ],
   "metadata": {
    "collapsed": false
   }
  },
  {
   "cell_type": "code",
   "execution_count": 20,
   "outputs": [
    {
     "name": "stdout",
     "output_type": "stream",
     "text": [
      "        p_mw    q_mvar  va_degree     vm_pu\n",
      "0  30.972595  0.434275   -0.12696  1.054942\n"
     ]
    },
    {
     "data": {
      "text/plain": "   name  bus  p_mw  vm_pu  sn_mva  min_q_mvar  max_q_mvar  scaling  slack  \\\n0  None    1  80.0    1.0     NaN         NaN         NaN      1.0  False   \n\n   in_service  slack_weight  type  controllable  min_p_mw  max_p_mw  \\\n0        True           0.0  None          True       0.0      50.0   \n\n   power_station_trafo  \n0                  NaN  ",
      "text/html": "<div>\n<style scoped>\n    .dataframe tbody tr th:only-of-type {\n        vertical-align: middle;\n    }\n\n    .dataframe tbody tr th {\n        vertical-align: top;\n    }\n\n    .dataframe thead th {\n        text-align: right;\n    }\n</style>\n<table border=\"1\" class=\"dataframe\">\n  <thead>\n    <tr style=\"text-align: right;\">\n      <th></th>\n      <th>name</th>\n      <th>bus</th>\n      <th>p_mw</th>\n      <th>vm_pu</th>\n      <th>sn_mva</th>\n      <th>min_q_mvar</th>\n      <th>max_q_mvar</th>\n      <th>scaling</th>\n      <th>slack</th>\n      <th>in_service</th>\n      <th>slack_weight</th>\n      <th>type</th>\n      <th>controllable</th>\n      <th>min_p_mw</th>\n      <th>max_p_mw</th>\n      <th>power_station_trafo</th>\n    </tr>\n  </thead>\n  <tbody>\n    <tr>\n      <th>0</th>\n      <td>None</td>\n      <td>1</td>\n      <td>80.0</td>\n      <td>1.0</td>\n      <td>NaN</td>\n      <td>NaN</td>\n      <td>NaN</td>\n      <td>1.0</td>\n      <td>False</td>\n      <td>True</td>\n      <td>0.0</td>\n      <td>None</td>\n      <td>True</td>\n      <td>0.0</td>\n      <td>50.0</td>\n      <td>NaN</td>\n    </tr>\n  </tbody>\n</table>\n</div>"
     },
     "execution_count": 20,
     "metadata": {},
     "output_type": "execute_result"
    }
   ],
   "source": [
    "# net = pp.networks.case57()\n",
    "print(net.res_gen)    # output the results of two generators\n",
    "net.gen"
   ],
   "metadata": {
    "collapsed": false
   }
  },
  {
   "cell_type": "code",
   "execution_count": 21,
   "outputs": [
    {
     "name": "stdout",
     "output_type": "stream",
     "text": [
      "      p_mw    q_mvar\n",
      "0  0.00008 -3.470302\n"
     ]
    },
    {
     "data": {
      "text/plain": "0    1.05\nName: vm_pu, dtype: float64"
     },
     "execution_count": 21,
     "metadata": {},
     "output_type": "execute_result"
    }
   ],
   "source": [
    "print(net.res_ext_grid)\n",
    "net.ext_grid['vm_pu']"
   ],
   "metadata": {
    "collapsed": false
   }
  },
  {
   "cell_type": "code",
   "execution_count": 22,
   "outputs": [
    {
     "data": {
      "text/plain": "309.7275380408373"
     },
     "execution_count": 22,
     "metadata": {},
     "output_type": "execute_result"
    }
   ],
   "source": [
    "# the total cost of generation\n",
    "net.res_cost"
   ],
   "metadata": {
    "collapsed": false
   }
  },
  {
   "cell_type": "code",
   "execution_count": 23,
   "outputs": [
    {
     "data": {
      "text/plain": "{'baseMVA': 1,\n 'version': 2,\n 'bus': array([[ 0.00000000e+00,  1.00000000e+00,  3.00000000e+01,\n          0.00000000e+00,  0.00000000e+00,  0.00000000e+00,\n          1.00000000e+00,  1.02244822e+00, -3.98223525e+00,\n          1.10000000e+02,  1.00000000e+00,  2.00000000e+00,\n          0.00000000e+00,  1.06688085e+01,  1.79874386e-02,\n          0.00000000e+00,  0.00000000e+00],\n        [ 1.00000000e+00,  2.00000000e+00,  0.00000000e+00,\n          0.00000000e+00,  0.00000000e+00,  0.00000000e+00,\n          1.00000000e+00,  1.05494243e+00, -1.26959649e-01,\n          1.10000000e+02,  1.00000000e+00,  2.00000000e+00,\n          0.00000000e+00,  1.00000162e+01,  6.93307350e-22,\n          0.00000000e+00,  0.00000000e+00],\n        [ 2.00000000e+00,  3.00000000e+00,  0.00000000e+00,\n          0.00000000e+00,  0.00000000e+00,  0.00000000e+00,\n          1.00000000e+00,  1.05000000e+00,  0.00000000e+00,\n          1.10000000e+02,  1.00000000e+00,  1.05000000e+00,\n          1.05000000e+00,  9.97906806e+00, -5.53163121e-21,\n          1.96890556e+01,  0.00000000e+00]]),\n 'branch': array([[ 1.00000000e+00+0.j,  2.00000000e+00+0.j,  1.12231405e-03+0.j,\n          2.37190083e-03+0.j,  2.32831286e+00+0.j,  8.95470268e+01+0.j,\n          2.50000000e+02+0.j,  2.50000000e+02+0.j,  1.00000000e+00+0.j,\n          0.00000000e+00+0.j,  1.00000000e+00+0.j, -3.60000000e+02+0.j,\n          3.60000000e+02+0.j,  4.78862237e-03+0.j,  9.01514410e-01+0.j,\n          7.95039119e-05+0.j, -3.47030236e+00+0.j,  0.00000000e+00+0.j,\n          0.00000000e+00+0.j,  0.00000000e+00+0.j,  0.00000000e+00+0.j,\n          0.00000000e+00+0.j,  0.00000000e+00+0.j],\n        [ 0.00000000e+00+0.j,  1.00000000e+00+0.j,  1.12231405e-03+0.j,\n          2.37190083e-03+0.j,  2.32831286e+00+0.j,  8.95470268e+01+0.j,\n          2.50000000e+02+0.j,  2.50000000e+02+0.j,  1.00000000e+00+0.j,\n          0.00000000e+00+0.j,  1.00000000e+00+0.j, -3.60000000e+02+0.j,\n          3.60000000e+02+0.j, -3.00000000e+01+0.j, -2.07389661e-11+0.j,\n          3.09678062e+01+0.j, -4.67239774e-01+0.j,  0.00000000e+00+0.j,\n          0.00000000e+00+0.j,  0.00000000e+00+0.j,  0.00000000e+00+0.j,\n          0.00000000e+00+0.j,  0.00000000e+00+0.j]]),\n 'gen': array([[ 2.00000000e+00,  7.95042360e-05, -3.47030236e+00,\n          1.00000000e+09, -1.00000000e+09,  1.05000000e+00,\n          1.00000000e+00,  1.00000000e+00,  1.00000000e+03,\n         -1.00000000e-16,  0.00000000e+00,  0.00000000e+00,\n          0.00000000e+00,  0.00000000e+00,  0.00000000e+00,\n          0.00000000e+00,  0.00000000e+00,  0.00000000e+00,\n          0.00000000e+00,  0.00000000e+00,  0.00000000e+00,\n          0.00000000e+00,  1.00209327e+01,  0.00000000e+00,\n          0.00000000e+00,  1.00000000e+00],\n        [ 1.00000000e+00,  3.09725948e+01,  4.34274636e-01,\n          1.00000000e+09, -1.00000000e+09,  1.05494243e+00,\n                     nan,  1.00000000e+00,  5.00000000e+01,\n         -1.00000000e-16,  0.00000000e+00,  0.00000000e+00,\n          0.00000000e+00,  0.00000000e+00,  0.00000000e+00,\n          0.00000000e+00,  0.00000000e+00,  0.00000000e+00,\n          0.00000000e+00,  0.00000000e+00,  0.00000000e+00,\n          0.00000000e+00,  0.00000000e+00,  0.00000000e+00,\n          0.00000000e+00,  0.00000000e+00]]),\n 'internal': {'Ybus': array([], dtype=complex128),\n  'Yf': array([], dtype=complex128),\n  'Yt': array([], dtype=complex128),\n  'branch_is': array([ True,  True]),\n  'gen_is': array([ True,  True]),\n  'DLF': array([], dtype=complex128),\n  'buses_ord_bfs_nets': array([], dtype=float64),\n  'ref_gens': array([0])},\n 'gencost': array([[ 2.,  0.,  0.,  2., 20.,  0.],\n        [ 2.,  0.,  0.,  2., 10.,  0.]]),\n 'om': \n VARIABLES               name       i1       iN        N\n =========              ------    -----    -----   ------\n               0:          Va        0        3        3\n               1:          Vm        3        6        3\n               2:          Pg        6        8        2\n               3:          Qg        8       10        2\n   var['NS'] = 4                  var['N'] = 10\n \n \n NON-LINEAR CONSTRAINTS  name       i1       iN        N\n ====================== ------    -----    -----   ------\n               0:        Pmis        0        3        3\n               1:        Qmis        3        6        3\n               2:          Sf        6        8        2\n               3:          St        8       10        2\n      nln.NS = 4                     nln.N = 10\n \n \n LINEAR CONSTRAINTS      name       i1       iN        N\n ==================     ------    -----    -----   ------\n               0:         PQh        0        0        0\n               1:         PQl        0        0        0\n               2:          vl        0        0        0\n               3:         ang        0        0        0\n      lin.NS = 4                      lin.N = 0\n \n COSTS  :  <none>\n   userdata = \n {'Apqdata': {'h': array([], dtype=float64), 'l': array([], dtype=float64), 'ipql': array([], dtype=int64), 'ipqh': array([], dtype=int64)}, 'iang': array([], dtype=int64)},\n 'x': array([-6.95031167e-02, -2.21586389e-03,  0.00000000e+00,  1.02244822e+00,\n         1.05494243e+00,  1.05000000e+00,  7.95042360e-05,  3.09725948e+01,\n        -3.47030236e+00,  4.34274636e-01]),\n 'mu': {'var': {'l': array([0.00000000e+00, 0.00000000e+00, 1.11021037e-12, 0.00000000e+00,\n          0.00000000e+00, 0.00000000e+00, 1.00209327e+01, 0.00000000e+00,\n          0.00000000e+00, 0.00000000e+00]),\n   'u': array([ 0.        ,  0.        ,  0.        ,  0.        ,  0.        ,\n          19.68905564,  0.        ,  0.        ,  0.        ,  0.        ])},\n  'nln': {'l': array([0.00000000e+00, 0.00000000e+00, 0.00000000e+00, 0.00000000e+00,\n          0.00000000e+00, 5.53163121e-21, 0.00000000e+00, 0.00000000e+00,\n          0.00000000e+00, 0.00000000e+00]),\n   'u': array([1.06688085e+01, 1.00000162e+01, 9.97906806e+00, 1.79874386e-02,\n          6.93307350e-22, 0.00000000e+00, 0.00000000e+00, 0.00000000e+00,\n          0.00000000e+00, 0.00000000e+00])},\n  'lin': {'l': array([], dtype=float64), 'u': array([], dtype=float64)}},\n 'f': 309.7275380408373,\n 'var': {'val': {'Va': array([-0.06950312, -0.00221586,  0.        ]),\n   'Vm': array([1.02244822, 1.05494243, 1.05      ]),\n   'Pg': array([7.95042360e-05, 3.09725948e+01]),\n   'Qg': array([-3.47030236,  0.43427464])},\n  'mu': {'l': {'Va': array([0.00000000e+00, 0.00000000e+00, 1.11021037e-12]),\n    'Vm': array([0., 0., 0.]),\n    'Pg': array([10.02093274,  0.        ]),\n    'Qg': array([0., 0.])},\n   'u': {'Va': array([0., 0., 0.]),\n    'Vm': array([ 0.        ,  0.        , 19.68905564]),\n    'Pg': array([0., 0.]),\n    'Qg': array([0., 0.])}}},\n 'lin': {'mu': {'l': {}, 'u': {}}},\n 'nln': {'mu': {'l': {'Pmis': array([0., 0., 0.]),\n    'Qmis': array([0.00000000e+00, 0.00000000e+00, 5.53163121e-21]),\n    'Sf': array([0., 0.]),\n    'St': array([0., 0.])},\n   'u': {'Pmis': array([10.66880847, 10.00001617,  9.97906806]),\n    'Qmis': array([1.79874386e-02, 6.93307350e-22, 0.00000000e+00]),\n    'Sf': array([0., 0.]),\n    'St': array([0., 0.])}}},\n 'et': 0.4725858509991667,\n 'success': True,\n 'raw': {'xr': array([-6.95031167e-02, -2.21586389e-03,  0.00000000e+00,  1.02244822e+00,\n          1.05494243e+00,  1.05000000e+00,  7.95042360e-05,  3.09725948e+01,\n         -3.47030236e+00,  4.34274636e-01]),\n  'pimul': array([-1.06688085e+01, -1.00000162e+01, -9.97906806e+00, -1.79874386e-02,\n         -6.93307350e-22,  5.53163121e-21,  0.00000000e+00,  0.00000000e+00,\n          0.00000000e+00,  0.00000000e+00,  0.00000000e+00,  0.00000000e+00,\n          1.11021037e-12,  0.00000000e+00,  0.00000000e+00, -1.96890556e+01,\n          1.00209327e+01,  0.00000000e+00,  0.00000000e+00,  0.00000000e+00]),\n  'info': True,\n  'output': {'iterations': 17,\n   'hist': [{'feascond': 4.914426736151794e-07,\n     'gradcond': 14484.589026047473,\n     'compcond': 7984096.604714062,\n     'costcond': 0.0,\n     'gamma': 1,\n     'stepsize': 0,\n     'obj': 10250.0,\n     'alphap': 0,\n     'alphad': 0},\n    {'feascond': 1.3920963220198935e-09,\n     'gradcond': 244.10352343383485,\n     'compcond': 88322561.20063217,\n     'costcond': 0.4867094359527428,\n     'gamma': 12374488.295814157,\n     'stepsize': 491.7348649941768,\n     'obj': 394.1339219569581,\n     'alphap': 1,\n     'alphad': 0.5050243575111777},\n    {'feascond': 1.6860258181282357e-09,\n     'gradcond': 18.14170779771327,\n     'compcond': 7200505.737074479,\n     'costcond': 0.021244098706698508,\n     'gamma': 1428709.0934377536,\n     'stepsize': 802523.3555870916,\n     'obj': 614.947928965655,\n     'alphap': 3.844800785586165e-05,\n     'alphad': 1},\n    {'feascond': 2.9679938055995854e-11,\n     'gradcond': 6.583356412373014,\n     'compcond': 886264.3522982494,\n     'costcond': 0.0004079964790092383,\n     'gamma': 170378.86013947803,\n     'stepsize': 6.396644746067912,\n     'obj': 619.2787903455394,\n     'alphap': 1,\n     'alphad': 1},\n    {'feascond': 3.947684555255795e-12,\n     'gradcond': 2.635515675707021,\n     'compcond': 91638.68035532527,\n     'costcond': 0.0012655356455767886,\n     'gamma': 16903.90931263148,\n     'stepsize': 2.1396813335381895,\n     'obj': 605.8397145060395,\n     'alphap': 1,\n     'alphad': 1},\n    {'feascond': 6.281544092851757e-12,\n     'gradcond': 2.064601155529603,\n     'compcond': 9423.632169919432,\n     'costcond': 0.0010748376072321813,\n     'gamma': 1677.2743494782235,\n     'stepsize': 2.367845191760822,\n     'obj': 594.4401591246118,\n     'alphap': 1,\n     'alphad': 1},\n    {'feascond': 4.696257615305493e-12,\n     'gradcond': 1.8807345178091694,\n     'compcond': 970.9656156055177,\n     'costcond': 0.00099460237657673,\n     'gamma': 166.94849972531608,\n     'stepsize': 2.0934731557817408,\n     'obj': 583.9029037638466,\n     'alphap': 1,\n     'alphad': 1},\n    {'feascond': 3.8543370351764664e-12,\n     'gradcond': 1.6864744391831146,\n     'compcond': 99.82049435090055,\n     'costcond': 0.0008790669054888382,\n     'gamma': 16.628345940202745,\n     'stepsize': 1.8919938387201833,\n     'obj': 574.5989449902405,\n     'alphap': 1,\n     'alphad': 1},\n    {'feascond': 3.10683711064126e-12,\n     'gradcond': 1.450748429031178,\n     'compcond': 10.247303601766225,\n     'costcond': 0.000789671551517544,\n     'gamma': 1.657522284872817,\n     'stepsize': 1.7049195107113375,\n     'obj': 566.2484850346743,\n     'alphap': 1,\n     'alphad': 1},\n    {'feascond': 2.536311810492958e-12,\n     'gradcond': 0.880741287651593,\n     'compcond': 1.050432424204861,\n     'costcond': 0.0007122378348686303,\n     'gamma': 0.16531891820197905,\n     'stepsize': 1.5446415482048816,\n     'obj': 558.7228030910093,\n     'alphap': 1,\n     'alphad': 1},\n    {'feascond': 2.2564762046585e-12,\n     'gradcond': 0.19360360374999966,\n     'compcond': 0.1077083412408572,\n     'costcond': 0.0006884262627011546,\n     'gamma': 0.016494817067736436,\n     'stepsize': 1.4697001970710875,\n     'obj': 551.4539010127799,\n     'alphap': 1,\n     'alphad': 1},\n    {'feascond': 3.9971743899144854e-12,\n     'gradcond': 0.03023245457573046,\n     'compcond': 0.01126535386603258,\n     'costcond': 0.0011517171630813334,\n     'gamma': 0.001644785221968821,\n     'stepsize': 2.100375857107884,\n     'obj': 539.301610459522,\n     'alphap': 1,\n     'alphad': 1},\n    {'feascond': 1.404632310444886e-10,\n     'gradcond': 0.011852852623345421,\n     'compcond': 0.005852672422306242,\n     'costcond': 0.009153950719881133,\n     'gamma': 0.000692317318601566,\n     'stepsize': 12.900034868445038,\n     'obj': 442.8253628954116,\n     'alphap': 1,\n     'alphad': 0.6298287441003333},\n    {'feascond': 2.651001549764876e-10,\n     'gradcond': 0.015613230848913503,\n     'compcond': 0.00038843466322061135,\n     'costcond': 0.012911709157346046,\n     'gamma': 7.719591749057524e-05,\n     'stepsize': 19.192720804856183,\n     'obj': 307.9906390287494,\n     'alphap': 0.9640167638626995,\n     'alphad': 1},\n    {'feascond': 1.2366116153968666e-11,\n     'gradcond': 0.0003190690483877173,\n     'compcond': 3.994201461738863e-05,\n     'costcond': 0.0002509278337192145,\n     'gamma': 7.95792228529954e-06,\n     'stepsize': 3.138025072473696,\n     'obj': 310.57720078979884,\n     'alphap': 1,\n     'alphad': 1},\n    {'feascond': 6.823136895583958e-13,\n     'gradcond': 7.93373842445482e-06,\n     'compcond': 3.988193000711857e-06,\n     'costcond': 7.516718090136013e-05,\n     'gamma': 7.967556642337403e-07,\n     'stepsize': 0.752571261223363,\n     'obj': 309.80218376814963,\n     'alphap': 1,\n     'alphad': 1},\n    {'feascond': 3.534995764738683e-16,\n     'gradcond': 1.8608083659157632e-08,\n     'compcond': 3.9874765121165066e-07,\n     'costcond': 6.545909988761794e-06,\n     'gamma': 7.967945424813742e-08,\n     'stepsize': 0.018780431355767357,\n     'obj': 309.73469673105274,\n     'alphap': 1,\n     'alphad': 1},\n    {'feascond': 7.746940831950841e-19,\n     'gradcond': 8.935522020988378e-11,\n     'compcond': 3.987390904291532e-08,\n     'costcond': 6.943622145495515e-07,\n     'gamma': 7.967952104663797e-09,\n     'stepsize': 0.0010180200776270813,\n     'obj': 309.7275380408373,\n     'alphap': 1,\n     'alphad': 1}],\n   'message': 'Converged',\n   'alg': 560}}}"
     },
     "execution_count": 23,
     "metadata": {},
     "output_type": "execute_result"
    }
   ],
   "source": [
    "# the key variable, which represents the information of the OPF problem\n",
    "om.get_ppc()"
   ],
   "metadata": {
    "collapsed": false
   }
  },
  {
   "cell_type": "code",
   "execution_count": 24,
   "outputs": [],
   "source": [
    "## unpack data\n",
    "ppc = om.get_ppc()\n",
    "baseMVA, bus, gen, branch, gencost = \\\n",
    "    ppc[\"baseMVA\"], ppc[\"bus\"], ppc[\"gen\"], ppc[\"branch\"], ppc[\"gencost\"]\n",
    "vv, _, _, _ = om.get_idx()\n",
    "\n",
    "## problem dimensions\n",
    "nb = bus.shape[0]          ## number of buses\n",
    "nl = branch.shape[0]       ## number of branches\n",
    "ny = om.getN('var', 'y')   ## number of piece-wise linear costs, 'y' is a part of p-w linear costs\n",
    "\n",
    "## bounds on optimization vars\n",
    "x0, xmin, xmax = om.getv()"
   ],
   "metadata": {
    "collapsed": false
   }
  },
  {
   "cell_type": "code",
   "execution_count": 24,
   "outputs": [],
   "source": [],
   "metadata": {
    "collapsed": false
   }
  },
  {
   "cell_type": "code",
   "execution_count": 25,
   "outputs": [
    {
     "name": "stderr",
     "output_type": "stream",
     "text": [
      "/home/ubuntu-h/PycharmProjects/scientificProject/pypower_/makeYbus.py:49: ComplexWarning: Casting complex values to real discards the imaginary part\n",
      "  tap[i] = branch[i, TAP]  ## assign non-zero tap ratios\n",
      "/home/ubuntu-h/anaconda3/envs/scientificProject/lib/python3.10/site-packages/scipy/sparse/_coo.py:160: ComplexWarning: Casting complex values to real discards the imaginary part\n",
      "  self.col = np.array(col, copy=copy, dtype=idx_dtype)\n"
     ]
    },
    {
     "data": {
      "text/plain": "matrix([[ 162.99668368-343.31337094j, -162.99668368+344.47752737j,\n            0.          +0.j        ],\n        [-162.99668368+344.47752737j,  325.99336737-686.62674189j,\n         -162.99668368+344.47752737j],\n        [   0.          +0.j        , -162.99668368+344.47752737j,\n          162.99668368-343.31337094j]])"
     },
     "execution_count": 25,
     "metadata": {},
     "output_type": "execute_result"
    }
   ],
   "source": [
    "## build admittance matrices\n",
    "Ybus, Yf, Yt = makeYbus(baseMVA, bus, branch)\n",
    "Ybus.todense()"
   ],
   "metadata": {
    "collapsed": false
   }
  },
  {
   "cell_type": "code",
   "execution_count": 26,
   "outputs": [
    {
     "name": "stdout",
     "output_type": "stream",
     "text": [
      "ll\"[-1.57079633e+00 -1.57079633e+00  0.00000000e+00  0.00000000e+00\n",
      "  0.00000000e+00  1.05000000e+00 -1.00000000e-16 -1.00000000e-16\n",
      " -1.00000000e+02 -1.00000000e+02];\n",
      " uu:[   1.57079633    1.57079633    0.            2.            2.\n",
      "    1.05       1000.           50.          100.          100.        ]\n"
     ]
    }
   ],
   "source": [
    "## Set the lower and upper bound for all variables\n",
    "ll, uu = xmin.copy(), xmax.copy()\n",
    "# print(f'll : {ll}; uu : {uu}')\n",
    "ll[xmin == -Inf] = -1e10   ## replace Inf with numerical proxies\n",
    "uu[xmax ==  Inf] =  1e10\n",
    "Va_refs = bus[bus[:, BUS_TYPE]  == REF, VA] * (pi / 180)\n",
    "# print(f\"Va_refs: {Va_refs}\")\n",
    "ll[vv[\"i1\"][\"Va\"]:vv[\"iN\"][\"Va\"]] = -np.ones_like(bus[:, VA]) * (pi / 2) # Va lower bound 赋值\n",
    "uu[vv[\"i1\"][\"Va\"]:vv[\"iN\"][\"Va\"]] = np.ones_like(bus[:, VA]) * (pi / 2) # Va upper bound 赋值\n",
    "## deal with the Va_refs\n",
    "ll[vv[\"i1\"][\"Va\"]:vv[\"iN\"][\"Va\"]][bus[:, BUS_TYPE]  == REF] = Va_refs  # Va_refs lower bound 赋值\n",
    "uu[vv[\"i1\"][\"Va\"]:vv[\"iN\"][\"Va\"]][bus[:, BUS_TYPE]  == REF] = Va_refs # Va_refs upper bound 赋值\n",
    "## deal with reactive power, whose ll and uu is 1e9\n",
    "ll[ll<-1e4] = -100\n",
    "uu[uu>1e4] = 100\n",
    "v_max = uu[vv[\"i1\"][\"Vm\"]:vv[\"iN\"][\"Vm\"]][-1]\n",
    "print(f'll\"{ll};\\n uu:{uu}')"
   ],
   "metadata": {
    "collapsed": false
   }
  },
  {
   "cell_type": "code",
   "execution_count": 27,
   "outputs": [
    {
     "data": {
      "text/plain": "array([1.  , 1.  , 1.05])"
     },
     "execution_count": 27,
     "metadata": {},
     "output_type": "execute_result"
    }
   ],
   "source": [
    "x0[vv[\"i1\"][\"Vm\"]:vv[\"iN\"][\"Vm\"]]"
   ],
   "metadata": {
    "collapsed": false
   }
  },
  {
   "cell_type": "code",
   "execution_count": 28,
   "outputs": [
    {
     "data": {
      "text/plain": "array([2.  , 2.  , 1.05])"
     },
     "execution_count": 28,
     "metadata": {},
     "output_type": "execute_result"
    }
   ],
   "source": [
    "uu[vv[\"i1\"][\"Vm\"]:vv[\"iN\"][\"Vm\"]]"
   ],
   "metadata": {
    "collapsed": false
   }
  },
  {
   "cell_type": "code",
   "execution_count": 29,
   "outputs": [
    {
     "data": {
      "text/plain": "array([1.02244822, 1.05494243, 1.05      ])"
     },
     "execution_count": 29,
     "metadata": {},
     "output_type": "execute_result"
    }
   ],
   "source": [
    "bus[:, VM] # 赋值"
   ],
   "metadata": {
    "collapsed": false
   }
  },
  {
   "cell_type": "code",
   "execution_count": 30,
   "outputs": [],
   "source": [
    "x0[vv[\"i1\"][\"Vm\"]:vv[\"iN\"][\"Vm\"]] = bus[:, VM] # 赋值"
   ],
   "metadata": {
    "collapsed": false
   }
  },
  {
   "cell_type": "code",
   "execution_count": 31,
   "outputs": [],
   "source": [
    "Va_refs = bus[bus[:, BUS_TYPE]  == REF, VA] * (pi / 180)\n",
    "x0[vv[\"i1\"][\"Va\"]:vv[\"iN\"][\"Va\"]] = bus[:, VA] * (pi / 180) # 赋值"
   ],
   "metadata": {
    "collapsed": false
   }
  },
  {
   "cell_type": "code",
   "execution_count": 32,
   "outputs": [],
   "source": [
    "## 赋值\n",
    "x0[vv[\"i1\"][\"Pg\"]:vv[\"iN\"][\"Pg\"]] = gen[:,PG]\n",
    "x0[vv[\"i1\"][\"Qg\"]:vv[\"iN\"][\"Qg\"]] = gen[:,QG]"
   ],
   "metadata": {
    "collapsed": false
   }
  },
  {
   "cell_type": "markdown",
   "source": [
    "\n",
    "### 不能处理piecewise linear 的cost, 因为没有引入那个函数，（大约在这个位置）"
   ],
   "metadata": {
    "collapsed": false
   }
  },
  {
   "cell_type": "markdown",
   "source": [
    "\n",
    "### 处理cost fun"
   ],
   "metadata": {
    "collapsed": false
   }
  },
  {
   "cell_type": "code",
   "execution_count": 33,
   "outputs": [],
   "source": [
    "## grab Pg & Qg\n",
    "Pg = x0[vv[\"i1\"][\"Pg\"]:vv[\"iN\"][\"Pg\"]]  ## active generation in p.u.\n",
    "Qg = x0[vv[\"i1\"][\"Qg\"]:vv[\"iN\"][\"Qg\"]]  ## reactive generation in p.u.\n",
    "\n",
    "##----- evaluate objective function -----\n",
    "## polynomial cost of P and Q\n",
    "# use totcost only on polynomial cost in the minimization problem formulation, pwl cost is the sum of the y variables.\n",
    "ipol = find(gencost[:, MODEL] == POLYNOMIAL)   ## poly MW and MVAr costs\n",
    "xx = r_[ Pg, Qg ] * baseMVA\n",
    "if len(ipol)>0:\n",
    "    f = sum( totcost(gencost[ipol, :], xx[ipol]) )  ## cost of poly P or Q\n",
    "else:\n",
    "    f = 0"
   ],
   "metadata": {
    "collapsed": false
   }
  },
  {
   "cell_type": "code",
   "execution_count": 34,
   "outputs": [
    {
     "data": {
      "text/plain": "array([7.95042360e-05, 3.09725948e+01])"
     },
     "execution_count": 34,
     "metadata": {},
     "output_type": "execute_result"
    }
   ],
   "source": [
    "Pg"
   ],
   "metadata": {
    "collapsed": false
   }
  },
  {
   "cell_type": "code",
   "execution_count": 35,
   "outputs": [
    {
     "data": {
      "text/plain": "array([7.95042360e-05, 3.09725948e+01])"
     },
     "execution_count": 35,
     "metadata": {},
     "output_type": "execute_result"
    }
   ],
   "source": [
    "xx[ipol]"
   ],
   "metadata": {
    "collapsed": false
   }
  },
  {
   "cell_type": "code",
   "execution_count": 36,
   "outputs": [
    {
     "name": "stdout",
     "output_type": "stream",
     "text": [
      "(array([20., 10.]), array([20., 10.]))\n"
     ]
    }
   ],
   "source": [
    "First_Or_Con = 4\n",
    "print(f\"{gencost[ipol, First_Or_Con], gencost[:, First_Or_Con]}\")"
   ],
   "metadata": {
    "collapsed": false
   }
  },
  {
   "cell_type": "code",
   "execution_count": 37,
   "outputs": [
    {
     "data": {
      "text/plain": "array([[ 2.,  0.,  0.,  2., 20.,  0.],\n       [ 2.,  0.,  0.,  2., 10.,  0.]])"
     },
     "execution_count": 37,
     "metadata": {},
     "output_type": "execute_result"
    }
   ],
   "source": [
    "gencost"
   ],
   "metadata": {
    "collapsed": false
   }
  },
  {
   "cell_type": "markdown",
   "source": [
    "### 处理约束部分"
   ],
   "metadata": {
    "collapsed": false
   }
  },
  {
   "cell_type": "code",
   "execution_count": 38,
   "outputs": [],
   "source": [
    "## grab Pg & Qg\n",
    "Pg = x0[vv[\"i1\"][\"Pg\"]:vv[\"iN\"][\"Pg\"]]  ## active generation in p.u.\n",
    "Qg = x0[vv[\"i1\"][\"Qg\"]:vv[\"iN\"][\"Qg\"]]  ## reactive generation in p.u."
   ],
   "metadata": {
    "collapsed": false
   }
  },
  {
   "cell_type": "code",
   "execution_count": 39,
   "outputs": [],
   "source": [
    "## put Pg & Qg back in gen\n",
    "gen[:, PG] = Pg * baseMVA  ## active generation in MW\n",
    "gen[:, QG] = Qg * baseMVA  ## reactive generation in MVAr"
   ],
   "metadata": {
    "collapsed": false
   }
  },
  {
   "cell_type": "code",
   "execution_count": 40,
   "outputs": [],
   "source": [
    "\n",
    "on = find(gen[:, GEN_STATUS] > 0)      ## which generators are on?\n",
    "gbus = gen[on, GEN_BUS]                   ## what buses are they at?\n",
    "\n",
    "## form net complex bus power injection vector\n",
    "nb = bus.shape[0]\n",
    "ngon = on.shape[0]\n",
    "## connection matrix, element i, j is 1 if gen on(j) at bus i is ON\n",
    "Cg = sparse((ones(ngon), (gbus, range(ngon))), (nb, ngon))\n",
    "\n",
    "## power injected by gens plus power injected by loads converted to p.u.\n",
    "Sbus = ( Cg * (gen[on, PG] + 1j * gen[on, QG]) - (bus[:, PD] + 1j * bus[:, QD]) ) / baseMVA\n",
    "# Sbus = makeSbus(baseMVA, bus, gen) ## net injected power in p.u."
   ],
   "metadata": {
    "collapsed": false
   }
  },
  {
   "cell_type": "code",
   "execution_count": 41,
   "outputs": [
    {
     "data": {
      "text/plain": "array([-3.00000000e+01+0.j        ,  3.09725948e+01+0.43427464j,\n        7.95042360e-05-3.47030236j])"
     },
     "execution_count": 41,
     "metadata": {},
     "output_type": "execute_result"
    }
   ],
   "source": [
    "Sbus"
   ],
   "metadata": {
    "collapsed": false
   }
  },
  {
   "cell_type": "code",
   "execution_count": 42,
   "outputs": [
    {
     "data": {
      "text/plain": "array([1.01997965-0.07100614j, 1.05493984-0.00233761j,\n       1.05      +0.j        ])"
     },
     "execution_count": 42,
     "metadata": {},
     "output_type": "execute_result"
    }
   ],
   "source": [
    "## reconstruct V\n",
    "Va = x0[vv[\"i1\"][\"Va\"]:vv[\"iN\"][\"Va\"]]\n",
    "Vm = x0[vv[\"i1\"][\"Vm\"]:vv[\"iN\"][\"Vm\"]]\n",
    "V = Vm * exp(1j * Va)\n",
    "V"
   ],
   "metadata": {
    "collapsed": false
   }
  },
  {
   "cell_type": "code",
   "execution_count": 43,
   "outputs": [
    {
     "data": {
      "text/plain": "array([-0.06950312, -0.00221586,  0.        ])"
     },
     "execution_count": 43,
     "metadata": {},
     "output_type": "execute_result"
    }
   ],
   "source": [
    "Va"
   ],
   "metadata": {
    "collapsed": false
   }
  },
  {
   "cell_type": "code",
   "execution_count": 44,
   "outputs": [
    {
     "data": {
      "text/plain": "      vm_pu  va_degree       p_mw    q_mvar      lam_p         lam_q\n0  1.022448  -3.982235  30.000000  0.000000  10.668808  1.798744e-02\n1  1.054942  -0.126960 -30.972595 -0.434275  10.000016  6.933073e-22\n2  1.050000   0.000000  -0.000080  3.470302   9.979068 -5.531631e-21",
      "text/html": "<div>\n<style scoped>\n    .dataframe tbody tr th:only-of-type {\n        vertical-align: middle;\n    }\n\n    .dataframe tbody tr th {\n        vertical-align: top;\n    }\n\n    .dataframe thead th {\n        text-align: right;\n    }\n</style>\n<table border=\"1\" class=\"dataframe\">\n  <thead>\n    <tr style=\"text-align: right;\">\n      <th></th>\n      <th>vm_pu</th>\n      <th>va_degree</th>\n      <th>p_mw</th>\n      <th>q_mvar</th>\n      <th>lam_p</th>\n      <th>lam_q</th>\n    </tr>\n  </thead>\n  <tbody>\n    <tr>\n      <th>0</th>\n      <td>1.022448</td>\n      <td>-3.982235</td>\n      <td>30.000000</td>\n      <td>0.000000</td>\n      <td>10.668808</td>\n      <td>1.798744e-02</td>\n    </tr>\n    <tr>\n      <th>1</th>\n      <td>1.054942</td>\n      <td>-0.126960</td>\n      <td>-30.972595</td>\n      <td>-0.434275</td>\n      <td>10.000016</td>\n      <td>6.933073e-22</td>\n    </tr>\n    <tr>\n      <th>2</th>\n      <td>1.050000</td>\n      <td>0.000000</td>\n      <td>-0.000080</td>\n      <td>3.470302</td>\n      <td>9.979068</td>\n      <td>-5.531631e-21</td>\n    </tr>\n  </tbody>\n</table>\n</div>"
     },
     "execution_count": 44,
     "metadata": {},
     "output_type": "execute_result"
    }
   ],
   "source": [
    "net.res_bus"
   ],
   "metadata": {
    "collapsed": false
   }
  },
  {
   "cell_type": "code",
   "execution_count": 45,
   "outputs": [],
   "source": [
    "## evaluate power flow equations\n",
    "mis = V * conj(Ybus * V) - Sbus"
   ],
   "metadata": {
    "collapsed": false
   }
  },
  {
   "cell_type": "code",
   "execution_count": 46,
   "outputs": [
    {
     "data": {
      "text/plain": "array([[ 1.00000000e+00+0.j,  2.00000000e+00+0.j,  1.12231405e-03+0.j,\n         2.37190083e-03+0.j,  2.32831286e+00+0.j,  8.95470268e+01+0.j,\n         2.50000000e+02+0.j,  2.50000000e+02+0.j,  1.00000000e+00+0.j,\n         0.00000000e+00+0.j,  1.00000000e+00+0.j, -3.60000000e+02+0.j,\n         3.60000000e+02+0.j,  4.78862237e-03+0.j,  9.01514410e-01+0.j,\n         7.95039119e-05+0.j, -3.47030236e+00+0.j,  0.00000000e+00+0.j,\n         0.00000000e+00+0.j,  0.00000000e+00+0.j,  0.00000000e+00+0.j,\n         0.00000000e+00+0.j,  0.00000000e+00+0.j],\n       [ 0.00000000e+00+0.j,  1.00000000e+00+0.j,  1.12231405e-03+0.j,\n         2.37190083e-03+0.j,  2.32831286e+00+0.j,  8.95470268e+01+0.j,\n         2.50000000e+02+0.j,  2.50000000e+02+0.j,  1.00000000e+00+0.j,\n         0.00000000e+00+0.j,  1.00000000e+00+0.j, -3.60000000e+02+0.j,\n         3.60000000e+02+0.j, -3.00000000e+01+0.j, -2.07389661e-11+0.j,\n         3.09678062e+01+0.j, -4.67239774e-01+0.j,  0.00000000e+00+0.j,\n         0.00000000e+00+0.j,  0.00000000e+00+0.j,  0.00000000e+00+0.j,\n         0.00000000e+00+0.j,  0.00000000e+00+0.j]])"
     },
     "execution_count": 46,
     "metadata": {},
     "output_type": "execute_result"
    }
   ],
   "source": [
    "ppc['branch']"
   ],
   "metadata": {
    "collapsed": false
   }
  },
  {
   "cell_type": "code",
   "execution_count": 47,
   "outputs": [
    {
     "data": {
      "text/plain": "array([89.54702675+0.j, 89.54702675+0.j])"
     },
     "execution_count": 47,
     "metadata": {},
     "output_type": "execute_result"
    }
   ],
   "source": [
    "branch[:, RATE_A]"
   ],
   "metadata": {
    "collapsed": false
   }
  },
  {
   "cell_type": "code",
   "execution_count": 48,
   "outputs": [],
   "source": [
    " ## find branches with flow limits\n",
    "il = find((branch[:, RATE_A] != 0) & (branch[:, RATE_A] < 1e10))\n",
    "nl2 = len(il)           ## number of constrained lines"
   ],
   "metadata": {
    "collapsed": false
   }
  },
  {
   "cell_type": "code",
   "execution_count": 49,
   "outputs": [
    {
     "data": {
      "text/plain": "array([0, 1])"
     },
     "execution_count": 49,
     "metadata": {},
     "output_type": "execute_result"
    }
   ],
   "source": [
    "il"
   ],
   "metadata": {
    "collapsed": false
   }
  },
  {
   "cell_type": "code",
   "execution_count": 60,
   "outputs": [
    {
     "name": "stdout",
     "output_type": "stream",
     "text": [
      "Set parameter NonConvex to value 2\n",
      "ipol: [0 1]\n",
      "Gurobi Optimizer version 10.0.1 build v10.0.1rc0 (linux64)\n",
      "\n",
      "CPU model: Intel(R) Core(TM) i5-10600KF CPU @ 4.10GHz, instruction set [SSE2|AVX|AVX2]\n",
      "Thread count: 8 physical cores, 8 logical processors, using up to 8 threads\n",
      "\n",
      "Optimize a model with 12 rows, 22 columns and 44 nonzeros\n",
      "Model fingerprint: 0x4a87b7bb\n",
      "Model has 10 quadratic constraints\n",
      "Coefficient statistics:\n",
      "  Matrix range     [1e+00, 7e+02]\n",
      "  QMatrix range    [1e+00, 1e+00]\n",
      "  QLMatrix range   [1e+00, 1e+00]\n",
      "  Objective range  [1e+00, 2e+00]\n",
      "  Bounds range     [1e+00, 1e+04]\n",
      "  RHS range        [3e+01, 3e+01]\n",
      "  QRHS range       [8e-01, 1e+00]\n",
      "Presolve removed 6 rows and 6 columns\n",
      "\n",
      "Continuous model is non-convex -- solving as a MIP\n",
      "\n",
      "Presolve removed 6 rows and 6 columns\n",
      "Presolve time: 0.00s\n",
      "Presolved: 66 rows, 32 columns, 202 nonzeros\n",
      "Presolved model has 2 quadratic constraint(s)\n",
      "Presolved model has 16 bilinear constraint(s)\n",
      "Variable types: 32 continuous, 0 integer (0 binary)\n",
      "\n",
      "Root relaxation: objective 0.000000e+00, 29 iterations, 0.00 seconds (0.00 work units)\n",
      "\n",
      "    Nodes    |    Current Node    |     Objective Bounds      |     Work\n",
      " Expl Unexpl |  Obj  Depth IntInf | Incumbent    BestBd   Gap | It/Node Time\n",
      "\n",
      "     0     0    0.00000    0   14          -    0.00000      -     -    0s\n",
      "     0     0    0.00000    0   16          -    0.00000      -     -    0s\n",
      "     0     0    0.00000    0   13          -    0.00000      -     -    0s\n",
      "     0     0    0.00000    0    9          -    0.00000      -     -    0s\n",
      "     0     0    0.00000    0    9          -    0.00000      -     -    0s\n",
      "     0     0    0.00000    0    9          -    0.00000      -     -    0s\n",
      "     0     0    0.00000    0    9          -    0.00000      -     -    0s\n",
      "     0     0    0.00000    0    9          -    0.00000      -     -    0s\n",
      "     0     2    0.00000    0    9          -    0.00000      -     -    0s\n",
      "H  745   423                      94.9074384    0.00000   100%   4.8    0s\n",
      "*12042  2156              57      94.9074362   79.31545  16.4%   4.9    0s\n",
      "*12049  2156              60      94.9074357   79.31545  16.4%   4.9    0s\n",
      "*12052  2156              59      94.9074352   79.31545  16.4%   4.9    0s\n",
      "*12378  2156              54      94.9074288   79.35967  16.4%   4.9    0s\n",
      "*50404  8210              62      94.9074288   93.74203  1.23%   4.4    3s\n",
      "*56762  9443              57      94.9074284   94.01745  0.94%   4.3    3s\n",
      "*56772  9443              59      94.9074282   94.01745  0.94%   4.3    3s\n",
      "*66740 10817              61      94.9074274   94.32378  0.61%   4.3    4s\n",
      " 78286 13035   94.88905   45   16   94.90743   94.52868  0.40%   4.3    5s\n",
      "*93704 15739              61      94.9074273   94.66580  0.25%   4.2    6s\n",
      "*106068 18206              69      94.9074262   94.73391  0.18%   4.2    6s\n",
      " 130985 23290   94.87168   53    0   94.90743   94.81381  0.10%   4.1   10s\n",
      " 185646 22453   94.90739   67    5   94.90743   94.81381  0.10%   4.0   15s\n",
      " 241640 31335   94.90003   68   14   94.90743   94.81381  0.10%   3.9   20s\n",
      " 290601 45229     cutoff   66        94.90743   94.84750  0.06%   3.8   25s\n",
      " 347592 62378     cutoff   71        94.90743   94.88052  0.03%   3.6   30s\n",
      "*355622 64051              82      94.9074259   94.88328  0.03%   3.6   30s\n",
      " 388997 67434 infeasible   70        94.90743   94.89650  0.01%   3.6   35s\n",
      "\n",
      "Cutting planes:\n",
      "  RLT: 4\n",
      "\n",
      "Explored 396751 nodes (1409113 simplex iterations) in 36.09 seconds (26.58 work units)\n",
      "Thread count was 8 (of 8 available processors)\n",
      "\n",
      "Solution count 10: 94.9074 94.9074 94.9074 ... 94.9074\n",
      "\n",
      "Optimal solution found (tolerance 1.00e-04)\n",
      "Warning: max constraint violation (1.8673e-06) exceeds tolerance\n",
      "Best objective 9.490742592092e+01, best bound 9.489803860998e+01, gap 0.0099%\n",
      "Pg: [94.90742592  0.        ]; Qg: [0.         5.26424601]; opt obj: 94.90742592092384\n"
     ]
    }
   ],
   "source": [
    "# Parameters\n",
    "# obtain the complex load\n",
    "Pd = bus[:, PD]\n",
    "Qd = bus[:, QD]\n",
    "# slack_v = net.ext_grid['vm_pu']\n",
    "\n",
    "\n",
    "def optimize_OPF(p_load):\n",
    "    Pd = p_load\n",
    "    Qd = 0\n",
    "\n",
    "    lb_update = -1e4\n",
    "\n",
    "    # obtain the range of voltage; the range is from the setting\n",
    "    V_range = 0.1\n",
    "    V_ll,V_uu = 1.0-V_range, 1.0+V_range\n",
    "\n",
    "    # obtain the power range\n",
    "    # Pg_lower, Pg_upper = ll[vv[\"i1\"][\"Pg\"]:vv[\"iN\"][\"Pg\"]], uu[vv[\"i1\"][\"Pg\"]:vv[\"iN\"][\"Pg\"]]*baseMVA\n",
    "    # Qg_lower, Qg_upper = ll[vv[\"i1\"][\"Qg\"]:vv[\"iN\"][\"Qg\"]], uu[vv[\"i1\"][\"Qg\"]:vv[\"iN\"][\"Qg\"]]*baseMVA\n",
    "\n",
    "    # the dimension of the OPF\n",
    "    # nb = bus.shape[0]          ## number of buses\n",
    "    # nl = branch.shape[0]       ## number of branches\n",
    "\n",
    "    # ineq_idx = 0\n",
    "\n",
    "    # create the model; set the model type: NonConvex.\n",
    "    model = gp.Model(\"PowerGeneration\");model.setParam('NonConvex', 2)\n",
    "\n",
    "    # creat variables for the model; the numbers in the following codes should be replaced by parameters\n",
    "    V_re = model.addMVar(3, lb=[-1.05,-1.05,-1.05], ub=[1.05,1.05,1.05], vtype=GRB.CONTINUOUS, name='V real')\n",
    "    V_im = model.addMVar(3, lb=[-1.05,-1.05,-1.05],ub=[1.05,1.05,1.05], vtype=GRB.CONTINUOUS, name='V imag')\n",
    "    Pg = model.addMVar(2, lb=0, ub=[105,105], vtype=GRB.CONTINUOUS, name='Pg')\n",
    "    Qg = model.addMVar(2, lb=[0,0], ub=[105,105], vtype=GRB.CONTINUOUS, name='Qg')\n",
    "    temp1 = model.addMVar(3, lb=lb_update, vtype=GRB.CONTINUOUS, name='Temp 1')\n",
    "    temp2 = model.addMVar(3, lb=lb_update, vtype=GRB.CONTINUOUS, name='Temp 2')\n",
    "    Pg_net = model.addMVar(3, lb=lb_update, vtype=GRB.CONTINUOUS, name='Pg net')  # the number of buses, too\n",
    "    Qg_net = model.addMVar(3, lb=lb_update, vtype=GRB.CONTINUOUS, name='Qg net')\n",
    "\n",
    "    # Line_temp_1 = model.addMVar(2, lb=lb_update, vtype=GRB.CONTINUOUS, name='Line temp 1')    # the shape should be line number\n",
    "    # Line_temp_2 = model.addMVar(2, lb=lb_update, vtype=GRB.CONTINUOUS, name='Line temp 2')    # the shape should be line number\n",
    "    # Line_temp_3 = model.addMVar(2, lb=lb_update, vtype=GRB.CONTINUOUS, name='Line temp 3')    # the shape should be line number\n",
    "    # Line_temp_4 = model.addMVar(2, lb=lb_update, vtype=GRB.CONTINUOUS, name='Line temp 4')    # the shape should be line number\n",
    "\n",
    "    # the prameters of branches\n",
    "    G = np.real(Ybus)\n",
    "    B = np.imag(Ybus)\n",
    "\n",
    "\n",
    "    # Constraints; insert the formulas\n",
    "    Temp_c1 = model.addConstr(G@V_re - B@V_im == temp1, 'Temp Constr 1')\n",
    "    Temp_c2 = model.addConstr(G @ V_im + B @ V_re == temp2, 'Temp Constr 2')\n",
    "    Pg_net_c = model.addConstr(Cg @ Pg - Pd == Pg_net, 'Pg net Constr')\n",
    "    Qg_net_c = model.addConstr(Cg @ Qg - Qd == Qg_net, 'Qg net Constr')\n",
    "    # print(f'Pd:{Pd}\\n Qd:{Qd}')\n",
    "    CVL_CPL = model.addConstrs((V_re[i] * temp1[i] *baseMVA+ V_im[i] * temp2[i]*baseMVA == Pg_net[i]  for i in range(nb)), 'Cvl P')  # break into different parts\n",
    "    CVL_CPL_Q = model.addConstrs((V_im[i] * temp1[i] *baseMVA - V_re[i] * temp2[i]*baseMVA == Qg_net[i] for i in range(nb)), 'Cvl Q')\n",
    "\n",
    "    # the constraints of voltages on all buses; set the constraint for slack bus, then give the upper and lower constraints for other buses\n",
    "\n",
    "    # the upper&lower constraints for buses except for the slack bus\n",
    "    V_upper = model.addConstrs((V_re[i]**2 + V_im[i]**2 <= V_uu**2 for i in range(1,nb-ineq_idx)), 'V upper bound')  # 对 range 起始值的处理，是处理树状分层搜索的突破口；有一\"减\"，对应的有一\"加\"。\n",
    "    # if ineq_idx != 0:\n",
    "    #     V_upper = model.addConstrs((V_re[i]**2 + V_im[i]**2 == V_uu**2 for i in range(ineq_idx,nb)), 'V upper bound')\n",
    "    #\n",
    "    V_lower = model.addConstrs((V_re[i]**2 + V_im[i]**2 >= V_ll**2 for i in range(1,nb)), 'V lower bound')\n",
    "\n",
    "    # # Yf * W * Yf; the number is equal to that of the lines/branches\n",
    "    # Line_temp_c_1 = model.addConstr(G_yf@V_re - B_yf@V_im == Line_temp_1, 'Branch Con 1')\n",
    "    # Line_temp_c_2 = model.addConstr(G_yf @ V_im + B_yf @ V_re == Line_temp_2, 'Branch Con 2')\n",
    "    # Line_temp_c_3 = model.addConstr(G_yt@V_re - B_yt@V_im == Line_temp_3, 'Branch Con 3')\n",
    "    # Line_temp_c_4 = model.addConstr(G_yt @ V_im + B_yt @ V_re == Line_temp_4, 'Branch Con 4')\n",
    "    # # 下式左侧是否应该乘上baseMVA\n",
    "    # Line_c_1 = model.addConstrs((Line_temp_1[i]**2 + Line_temp_2[i]**2 <= np.real(flow_max[i]) for i in range(nl)), 'Branch Con 1') # p.u.\n",
    "    # Line_c_2 = model.addConstrs((Line_temp_3[i]**2 + Line_temp_4[i]**2 <= np.real(flow_max[i]) for i in range(nl)), 'Branch Con 2') # p.u.\n",
    "\n",
    "    # set the objective of the model\n",
    "    print('ipol:', ipol)\n",
    "    # The \"gencost\" changes with different cases. Keep in Mind!\n",
    "    # model.setObjective(gencost[ipol, First_Or_Con]@Pg**2+gencost[ipol, First_Or_Con+1]@Pg, GRB.MINIMIZE)\n",
    "    model.setObjective(np.array([1, 1.5])@Pg, GRB.MINIMIZE)\n",
    "\n",
    "    # calculate the optimization\n",
    "    model.optimize()\n",
    "\n",
    "    Pg_star, Qg_star = Pg.X, Qg.X\n",
    "    optimized_obj = np.array([1, 1.5])@Pg_star\n",
    "\n",
    "    print(f'Pg: {Pg_star}; Qg: {Qg_star}; opt obj: {optimized_obj}')\n",
    "\n",
    "optimize_OPF(p_load=30)"
   ],
   "metadata": {
    "collapsed": false
   }
  },
  {
   "cell_type": "code",
   "execution_count": 56,
   "outputs": [
    {
     "data": {
      "text/plain": "array([32.18896129,  0.        ])"
     },
     "execution_count": 56,
     "metadata": {},
     "output_type": "execute_result"
    }
   ],
   "source": [
    "i = 0\n",
    "for p in range(50):\n",
    "    i+=1\n",
    "    p_load = p*0.0005\n",
    "    print(f'is: {i}')\n",
    "    optimize_OPF(p_load)"
   ],
   "metadata": {
    "collapsed": false
   }
  },
  {
   "cell_type": "code",
   "execution_count": 57,
   "outputs": [
    {
     "data": {
      "text/plain": "array([30.,  0.,  0.])"
     },
     "execution_count": 57,
     "metadata": {},
     "output_type": "execute_result"
    }
   ],
   "source": [
    "Pd"
   ],
   "metadata": {
    "collapsed": false
   }
  },
  {
   "cell_type": "code",
   "execution_count": 58,
   "outputs": [
    {
     "data": {
      "text/plain": "array([0., 0., 0.])"
     },
     "execution_count": 58,
     "metadata": {},
     "output_type": "execute_result"
    }
   ],
   "source": [
    "Qd"
   ],
   "metadata": {
    "collapsed": false
   }
  },
  {
   "cell_type": "code",
   "execution_count": 41,
   "outputs": [
    {
     "data": {
      "text/plain": "array([1.1025, 1.0404, 1.0404, 1.0404])"
     },
     "execution_count": 41,
     "metadata": {},
     "output_type": "execute_result"
    }
   ],
   "source": [
    "llv = ll[vv[\"i1\"][\"Vm\"]:vv[\"iN\"][\"Vm\"]]**2\n",
    "uuv = uu[vv[\"i1\"][\"Vm\"]:vv[\"iN\"][\"Vm\"]]**2\n",
    "uuv"
   ],
   "metadata": {
    "collapsed": false
   }
  },
  {
   "cell_type": "code",
   "execution_count": 42,
   "outputs": [
    {
     "name": "stdout",
     "output_type": "stream",
     "text": [
      "  (0, 0)\t(162.99668368338897-343.3133709444148j)\n",
      "  (1, 0)\t(-162.99668368338897+344.47752737211067j)\n",
      "  (0, 1)\t(-162.99668368338897+344.47752737211067j)\n",
      "  (3, 1)\t(-285.24419644593075+602.8356729011938j)\n",
      "  (1, 1)\t(611.2375638127087-1288.7971825456257j)\n",
      "  (2, 1)\t(-162.99668368338897+344.47752737211067j)\n",
      "  (2, 2)\t(391.19204084013353-824.7503689598727j)\n",
      "  (1, 2)\t(-162.99668368338897+344.47752737211067j)\n",
      "  (3, 2)\t(-228.19535715674456+482.268538320955j)\n",
      "  (3, 3)\t(513.4395536026753-1083.607438672254j)\n",
      "  (2, 3)\t(-228.19535715674456+482.268538320955j)\n",
      "  (1, 3)\t(-285.24419644593075+602.8356729011938j)\n"
     ]
    }
   ],
   "source": [
    "print(Ybus)"
   ],
   "metadata": {
    "collapsed": false
   }
  },
  {
   "cell_type": "code",
   "execution_count": 43,
   "outputs": [
    {
     "data": {
      "text/plain": "array([1000.,   80.,  100.])"
     },
     "execution_count": 43,
     "metadata": {},
     "output_type": "execute_result"
    }
   ],
   "source": [
    "Pg_lower, Pg_upper = ll[vv[\"i1\"][\"Pg\"]:vv[\"iN\"][\"Pg\"]], uu[vv[\"i1\"][\"Pg\"]:vv[\"iN\"][\"Pg\"]]\n",
    "Pg_upper"
   ],
   "metadata": {
    "collapsed": false
   }
  },
  {
   "cell_type": "code",
   "execution_count": 43,
   "outputs": [],
   "source": [],
   "metadata": {
    "collapsed": false
   }
  },
  {
   "cell_type": "code",
   "execution_count": 44,
   "outputs": [
    {
     "data": {
      "text/plain": "array([ 0., 60., 70., 25.])"
     },
     "execution_count": 44,
     "metadata": {},
     "output_type": "execute_result"
    }
   ],
   "source": [
    "Pd = bus[:, PD]\n",
    "Pd"
   ],
   "metadata": {
    "collapsed": false
   }
  },
  {
   "cell_type": "code",
   "execution_count": 45,
   "outputs": [
    {
     "data": {
      "text/plain": "1"
     },
     "execution_count": 45,
     "metadata": {},
     "output_type": "execute_result"
    }
   ],
   "source": [
    "baseMVA"
   ],
   "metadata": {
    "collapsed": false
   }
  },
  {
   "cell_type": "code",
   "execution_count": 46,
   "outputs": [
    {
     "name": "stdout",
     "output_type": "stream",
     "text": [
      "Set parameter NonConvex to value 2\n",
      "ipol: [0 1 2]\n"
     ]
    },
    {
     "ename": "GurobiError",
     "evalue": "Index 8 out of range for attribute 'X'",
     "output_type": "error",
     "traceback": [
      "\u001B[0;31m---------------------------------------------------------------------------\u001B[0m",
      "\u001B[0;31mGurobiError\u001B[0m                               Traceback (most recent call last)",
      "Cell \u001B[0;32mIn[46], line 85\u001B[0m\n\u001B[1;32m     81\u001B[0m \u001B[38;5;66;03m# calculate the optimization\u001B[39;00m\n\u001B[1;32m     82\u001B[0m \u001B[38;5;66;03m# model.optimize()\u001B[39;00m\n\u001B[1;32m     83\u001B[0m model\u001B[38;5;241m.\u001B[39mX[:\u001B[38;5;241m14\u001B[39m]\n\u001B[0;32m---> 85\u001B[0m Pg_star, Qg_star \u001B[38;5;241m=\u001B[39m \u001B[43mPg\u001B[49m\u001B[38;5;241;43m.\u001B[39;49m\u001B[43mX\u001B[49m, Qg\u001B[38;5;241m.\u001B[39mX\n\u001B[1;32m     86\u001B[0m optimized_obj \u001B[38;5;241m=\u001B[39m gencost[ipol, First_Or_Con]\u001B[38;5;129m@Pg_star\u001B[39m\n",
      "File \u001B[0;32msrc/gurobipy/mvar.pxi:296\u001B[0m, in \u001B[0;36mgurobipy.MVar.__getattr__\u001B[0;34m()\u001B[0m\n",
      "File \u001B[0;32msrc/gurobipy/mvar.pxi:557\u001B[0m, in \u001B[0;36mgurobipy.MVar.getAttr\u001B[0;34m()\u001B[0m\n",
      "File \u001B[0;32msrc/gurobipy/attrutil.pxi:148\u001B[0m, in \u001B[0;36mgurobipy.__gettypedattrlist\u001B[0;34m()\u001B[0m\n",
      "\u001B[0;31mGurobiError\u001B[0m: Index 8 out of range for attribute 'X'"
     ]
    }
   ],
   "source": [
    "# Parameters\n",
    "# obtain the complex load\n",
    "Pd = bus[:, PD]\n",
    "Qd = bus[:, QD]\n",
    "slack_v = net.ext_grid['vm_pu']\n",
    "\n",
    "lb_update = -1e4\n",
    "\n",
    "# obtain the range of voltage; the range is from the setting\n",
    "V_range = v_max - 1\n",
    "V_ll,V_uu = 1.0-V_range, 1.0+V_range\n",
    "\n",
    "# obtain the power range\n",
    "Pg_lower, Pg_upper = ll[vv[\"i1\"][\"Pg\"]:vv[\"iN\"][\"Pg\"]], uu[vv[\"i1\"][\"Pg\"]:vv[\"iN\"][\"Pg\"]]*baseMVA\n",
    "Qg_lower, Qg_upper = ll[vv[\"i1\"][\"Qg\"]:vv[\"iN\"][\"Qg\"]], uu[vv[\"i1\"][\"Qg\"]:vv[\"iN\"][\"Qg\"]]*baseMVA\n",
    "\n",
    "# the dimension of the OPF\n",
    "nb = bus.shape[0]          ## number of buses\n",
    "nl = branch.shape[0]       ## number of branches\n",
    "\n",
    "ineq_idx = 0\n",
    "\n",
    "# create the model; set the model type: NonConvex.\n",
    "model = gp.Model(\"PowerGeneration\");model.setParam('NonConvex', 2)\n",
    "\n",
    "# creat variables for the model; the numbers in the following codes should be replaced by parameters\n",
    "V_re = model.addMVar(nb, lb=lb_update, vtype=GRB.CONTINUOUS, name='V real')\n",
    "V_im = model.addMVar(nb, lb=lb_update, vtype=GRB.CONTINUOUS, name='V imag')\n",
    "Pg = model.addMVar(ngon, lb=Pg_lower, ub=Pg_upper, vtype=GRB.CONTINUOUS, name='Pg')\n",
    "Qg = model.addMVar(ngon, lb=Qg_lower, ub=Qg_upper, vtype=GRB.CONTINUOUS, name='Qg')\n",
    "temp1 = model.addMVar(nb, lb=lb_update, vtype=GRB.CONTINUOUS, name='Temp 1')\n",
    "temp2 = model.addMVar(nb, lb=lb_update, vtype=GRB.CONTINUOUS, name='Temp 2')\n",
    "Pg_net = model.addMVar(nb, lb=lb_update, vtype=GRB.CONTINUOUS, name='Pg net')  # the number of buses, too\n",
    "Qg_net = model.addMVar(nb, lb=lb_update, vtype=GRB.CONTINUOUS, name='Qg net')\n",
    "Line_temp_1 = model.addMVar(nl, lb=lb_update, vtype=GRB.CONTINUOUS, name='Line temp 1')    # the shape should be line number\n",
    "Line_temp_2 = model.addMVar(nl, lb=lb_update, vtype=GRB.CONTINUOUS, name='Line temp 2')    # the shape should be line number\n",
    "Line_temp_3 = model.addMVar(nl, lb=lb_update, vtype=GRB.CONTINUOUS, name='Line temp 3')    # the shape should be line number\n",
    "Line_temp_4 = model.addMVar(nl, lb=lb_update, vtype=GRB.CONTINUOUS, name='Line temp 4')    # the shape should be line number\n",
    "\n",
    "# the prameters of branches\n",
    "G = np.real(Ybus)\n",
    "B = np.imag(Ybus)\n",
    "# the parameters for currents in branches\n",
    "G_yf, B_yf = np.real(Yf), np.imag(Yf)\n",
    "G_yt, B_yt = np.real(Yt), np.imag(Yt)\n",
    "\n",
    "# Constraints; insert the formulas\n",
    "Temp_c1 = model.addConstr(G@V_re - B@V_im == temp1, 'Temp Constr 1')\n",
    "Temp_c2 = model.addConstr(G @ V_im + B @ V_re == temp2, 'Temp Constr 2')\n",
    "Pg_net_c = model.addConstr(Cg @ Pg - Pd == Pg_net, 'Pg net Constr')\n",
    "Qg_net_c = model.addConstr(Cg @ Qg - Qd == Qg_net, 'Qg net Constr')\n",
    "# print(f'Pd:{Pd}\\n Qd:{Qd}')\n",
    "CVL_CPL = model.addConstrs((V_re[i] * temp1[i] *baseMVA+ V_im[i] * temp2[i]*baseMVA == Pg_net[i]  for i in range(nb)), 'Cvl P')  # break into different parts\n",
    "CVL_CPL_Q = model.addConstrs((V_im[i] * temp1[i] *baseMVA - V_re[i] * temp2[i]*baseMVA == Qg_net[i] for i in range(nb)), 'Cvl Q')\n",
    "\n",
    "# the constraints of voltages on all buses; set the constraint for slack bus, then give the upper and lower constraints for other buses\n",
    "V_slack = model.addConstr(V_re[0]==slack_v, 'V slack real')\n",
    "V_slack_a = model.addConstr(V_im[0]==0, 'V slack imag')\n",
    "# the upper&lower constraints for buses except for the slack bus\n",
    "V_upper = model.addConstrs((V_re[i]**2 + V_im[i]**2 <= V_uu**2 for i in range(1,nb-ineq_idx)), 'V upper bound')  # 对 range 起始值的处理，是处理树状分层搜索的突破口；有一\"减\"，对应的有一\"加\"。\n",
    "# if ineq_idx != 0:\n",
    "#     V_upper = model.addConstrs((V_re[i]**2 + V_im[i]**2 == V_uu**2 for i in range(ineq_idx,nb)), 'V upper bound')\n",
    "#\n",
    "V_lower = model.addConstrs((V_re[i]**2 + V_im[i]**2 >= V_ll**2 for i in range(1,nb)), 'V lower bound')\n",
    "\n",
    "# Yf * W * Yf; the number is equal to that of the lines/branches\n",
    "Line_temp_c_1 = model.addConstr(G_yf@V_re - B_yf@V_im == Line_temp_1, 'Branch Con 1')\n",
    "Line_temp_c_2 = model.addConstr(G_yf @ V_im + B_yf @ V_re == Line_temp_2, 'Branch Con 2')\n",
    "Line_temp_c_3 = model.addConstr(G_yt@V_re - B_yt@V_im == Line_temp_3, 'Branch Con 3')\n",
    "Line_temp_c_4 = model.addConstr(G_yt @ V_im + B_yt @ V_re == Line_temp_4, 'Branch Con 4')\n",
    "# 下式左侧是否应该乘上baseMVA\n",
    "Line_c_1 = model.addConstrs((Line_temp_1[i]**2 + Line_temp_2[i]**2 <= np.real(flow_max[i]) for i in range(nl)), 'Branch Con 1') # p.u.\n",
    "Line_c_2 = model.addConstrs((Line_temp_3[i]**2 + Line_temp_4[i]**2 <= np.real(flow_max[i]) for i in range(nl)), 'Branch Con 2') # p.u.\n",
    "\n",
    "# set the objective of the model\n",
    "print('ipol:', ipol)\n",
    "# The \"gencost\" changes with different cases. Keep in Mind!\n",
    "# model.setObjective(gencost[ipol, First_Or_Con]@Pg**2+gencost[ipol, First_Or_Con+1]@Pg, GRB.MINIMIZE)\n",
    "model.setObjective(gencost[ipol, First_Or_Con]@Pg, GRB.MINIMIZE)\n",
    "\n",
    "# calculate the optimization\n",
    "# model.optimize()\n",
    "model.X[:14]\n",
    "\n",
    "Pg_star, Qg_star = Pg.X, Qg.X\n",
    "optimized_obj = gencost[ipol, First_Or_Con]@Pg_star\n"
   ],
   "metadata": {
    "collapsed": false
   }
  },
  {
   "cell_type": "code",
   "execution_count": null,
   "outputs": [],
   "source": [
    "len(model.getVars())\n",
    "len(model.getConstrs())"
   ],
   "metadata": {
    "collapsed": false
   }
  },
  {
   "cell_type": "code",
   "execution_count": null,
   "outputs": [],
   "source": [
    "print(Pg)"
   ],
   "metadata": {
    "collapsed": false
   }
  },
  {
   "cell_type": "code",
   "execution_count": null,
   "outputs": [],
   "source": [
    "net.res_bus"
   ],
   "metadata": {
    "collapsed": false
   }
  },
  {
   "cell_type": "code",
   "execution_count": null,
   "outputs": [],
   "source": [
    "m = gp.Model(\"model\")\n",
    "# x = m.addMVar(shape=(10), name=\"x\")\n",
    "y = m.addMVar(shape=(5),lb=np.array([-1,-2,-3,-4,-5]), name=\"y\")\n",
    "\n",
    "A = np.ones(5)\n",
    "\n",
    "m.addConstrs((y[i] >=np.array([-1,-2,-3,-4,-5])[i] for i in range(5)), name=\"const\")\n",
    "m.setObjective(A@Y_.real)\n",
    "m.optimize()"
   ],
   "metadata": {
    "collapsed": false
   }
  },
  {
   "cell_type": "code",
   "execution_count": null,
   "outputs": [],
   "source": [
    "m.X"
   ],
   "metadata": {
    "collapsed": false
   }
  },
  {
   "cell_type": "code",
   "execution_count": null,
   "outputs": [],
   "source": [
    "for v in m.getVars():\n",
    "    print(v.varName, v.x)"
   ],
   "metadata": {
    "collapsed": false
   }
  },
  {
   "cell_type": "code",
   "execution_count": null,
   "outputs": [],
   "source": [],
   "metadata": {
    "collapsed": false
   }
  },
  {
   "cell_type": "code",
   "execution_count": null,
   "outputs": [],
   "source": [
    "n = 3\n",
    "p = 3\n",
    "np.random.seed(1)\n",
    "C = np.random.randn(n, n)\n",
    "A = []\n",
    "b = []\n",
    "for i in range(p):\n",
    "    A.append(np.random.randn(n, n))\n",
    "    b.append(np.random.randn())\n",
    "\n",
    "print(f'A ;{A};\\n b : {b}')"
   ],
   "metadata": {
    "collapsed": false
   }
  },
  {
   "cell_type": "code",
   "execution_count": null,
   "outputs": [],
   "source": [
    "# Define and solve the CVXPY problem.\n",
    "# Create a symmetric matrix variable\n",
    "X = cp.Variable((n,n), symmetric=True)\n",
    "# The operator >> denotes matrix inequality.\n",
    "constraints = [X >> 0]\n",
    "constraints += [\n",
    "    cp.trace(A[i] @ X) == b[i] for i in range(p)\n",
    "]\n",
    "prob = cp.Problem(cp.Minimize(cp.trace(C @ X)),\n",
    "                  constraints)\n",
    "prob.solve()\n",
    "# Print result.\n",
    "print(\"The optimal value is\", prob.value)\n",
    "print(\"A solution X is\")\n",
    "print(X.value)"
   ],
   "metadata": {
    "collapsed": false
   }
  },
  {
   "cell_type": "code",
   "execution_count": null,
   "outputs": [],
   "source": [],
   "metadata": {
    "collapsed": false
   }
  },
  {
   "cell_type": "code",
   "execution_count": null,
   "outputs": [],
   "source": [],
   "metadata": {
    "collapsed": false
   }
  }
 ],
 "metadata": {
  "kernelspec": {
   "display_name": "Python 3",
   "language": "python",
   "name": "python3"
  },
  "language_info": {
   "codemirror_mode": {
    "name": "ipython",
    "version": 2
   },
   "file_extension": ".py",
   "mimetype": "text/x-python",
   "name": "python",
   "nbconvert_exporter": "python",
   "pygments_lexer": "ipython2",
   "version": "2.7.6"
  }
 },
 "nbformat": 4,
 "nbformat_minor": 0
}
