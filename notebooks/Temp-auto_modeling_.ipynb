{
 "cells": [
  {
   "cell_type": "code",
   "execution_count": 247,
   "outputs": [],
   "source": [
    "import os.path\n",
    "import pandapower.networks as pn\n",
    "import pandapower as pp\n",
    "import pandas as pd\n",
    "import gurobipy as gp\n",
    "from gurobipy import GRB\n",
    "from numpy import flatnonzero as find, ones, zeros, Inf, pi, exp, conj, r_, arange, array\n",
    "from pypower_.makeYbus import makeYbus\n",
    "from pypower_.idx_brch import F_BUS, T_BUS, RATE_A, PF, QF, PT, QT, MU_SF, MU_ST\n",
    "from pypower_.idx_gen import GEN_BUS, PG, QG\n",
    "from pypower_.idx_cost import MODEL, PW_LINEAR, NCOST, POLYNOMIAL\n",
    "from pypower_.totcost import totcost\n",
    "from pypower_.makeSbus import makeSbus\n",
    "from pypower_.idx_bus import BUS_TYPE, REF, VM, VA, MU_VMAX, MU_VMIN, LAM_P, LAM_Q\n",
    "import cvxpy as cp\n",
    "import numpy as np\n",
    "from scipy.sparse import csr_matrix as sparse\n",
    "from pypower_.idx_bus import PD, QD\n",
    "from pypower_.idx_gen import GEN_BUS, PG, QG, GEN_STATUS"
   ],
   "metadata": {
    "collapsed": false
   }
  },
  {
   "cell_type": "code",
   "execution_count": 248,
   "outputs": [
    {
     "name": "stdout",
     "output_type": "stream",
     "text": [
      "['/snap/pycharm-professional/314/plugins/python/helpers-pro/jupyter_debug', '/home/ubuntu-h/PycharmProjects/scientificProject', '/home/ubuntu-h/PycharmProjects/scientificProject', '/snap/pycharm-professional/314/plugins/python/helpers/pydev', '/home/ubuntu-h/PycharmProjects/scientificProject/notebooks', '/home/ubuntu-h/anaconda3/envs/scientificProject/lib/python310.zip', '/home/ubuntu-h/anaconda3/envs/scientificProject/lib/python3.10', '/home/ubuntu-h/anaconda3/envs/scientificProject/lib/python3.10/lib-dynload', '', '/home/ubuntu-h/anaconda3/envs/scientificProject/lib/python3.10/site-packages', '/home/ubuntu-h/anaconda3/envs/scientificProject/lib/python3.10/site-packages/PyQt5_sip-12.11.0-py3.10-linux-x86_64.egg']\n",
      "<module 'posixpath' from '/home/ubuntu-h/anaconda3/envs/scientificProject/lib/python3.10/posixpath.py'>\n"
     ]
    }
   ],
   "source": [
    "import sys\n",
    "print(sys.path)\n",
    "print(os.path)\n",
    "# sys.path.insert(1, '/home/ubuntu-h/PycharmProjects/scientificProject')"
   ],
   "metadata": {
    "collapsed": false
   }
  },
  {
   "cell_type": "markdown",
   "source": [
    "## 使用pandapower 构建不同电网结构的OPF模型"
   ],
   "metadata": {
    "collapsed": false
   }
  },
  {
   "cell_type": "code",
   "execution_count": 249,
   "outputs": [],
   "source": [
    "import pandapower as pp\n",
    "net = pp.create_empty_network()\n",
    "\n",
    "# create buses\n",
    "bus1 = pp.create_bus(net, vn_kv=110.)\n",
    "bus2 = pp.create_bus(net, vn_kv=110.)\n",
    "bus3 = pp.create_bus(net, vn_kv=110.)\n",
    "bus4 = pp.create_bus(net, vn_kv=110.)\n",
    "# bus5 = pp.create_bus(net, vn_kv=110.)\n",
    "\n",
    "# create 110 kV lines\n",
    "pp.create_line(net, bus2, bus3, length_km=70., std_type='149-AL1/24-ST1A 110.0')\n",
    "pp.create_line(net, bus3, bus4, length_km=50., std_type=\"149-AL1/24-ST1A 110.0\")\n",
    "pp.create_line(net, bus4, bus2, length_km=40., std_type=\"149-AL1/24-ST1A 110.0\")\n",
    "pp.create_line(net, bus1, bus2, length_km=70., std_type='149-AL1/24-ST1A 110.0')\n",
    "\n",
    "# create loads\n",
    "pp.create_load(net, bus2, p_mw=60., controllable=False)\n",
    "pp.create_load(net, bus3, p_mw=70., controllable=False)\n",
    "pp.create_load(net, bus4, p_mw=25., controllable=False)\n",
    "\n",
    "# create generators\n",
    "eg = pp.create_ext_grid(net, bus1, min_p_mw=0, max_p_mw=1000, vm_pu=1.05)\n",
    "g0 = pp.create_gen(net, bus3, p_mw=80, min_p_mw=0, max_p_mw=80, vm_pu=1.00, controllable=True)\n",
    "g1 = pp.create_gen(net, bus4, p_mw=100, min_p_mw=0, max_p_mw=100, vm_pu=1.00, controllable=True)\n",
    "\n",
    "\n",
    "costeg = pp.create_poly_cost(net, 0, 'ext_grid', cp1_eur_per_mw=20)\n",
    "costgen1 = pp.create_poly_cost(net, 0, 'gen', cp1_eur_per_mw=10)\n",
    "costgen2 = pp.create_poly_cost(net, 1, 'gen', cp1_eur_per_mw=10)\n",
    "\n",
    "net.bus[\"min_vm_pu\"] = 0.98\n",
    "net.bus[\"max_vm_pu\"] = 1.02\n",
    "net.line[\"max_loading_percent\"] = 50"
   ],
   "metadata": {
    "collapsed": false
   }
  },
  {
   "cell_type": "markdown",
   "source": [
    "![xx -w50](grid2GUROBI.png)"
   ],
   "metadata": {
    "collapsed": false
   }
  },
  {
   "cell_type": "markdown",
   "source": [
    "### 也可使用典型的IEEE 电网模型"
   ],
   "metadata": {
    "collapsed": false
   }
  },
  {
   "cell_type": "code",
   "execution_count": 250,
   "outputs": [
    {
     "data": {
      "text/plain": "   element        et  cp0_eur  cp1_eur_per_mw  cp2_eur_per_mw2  cq0_eur  \\\n0        0  ext_grid      0.0            20.0              0.0      0.0   \n1        0       gen      0.0            10.0              0.0      0.0   \n2        1       gen      0.0            10.0              0.0      0.0   \n\n   cq1_eur_per_mvar  cq2_eur_per_mvar2  \n0               0.0                0.0  \n1               0.0                0.0  \n2               0.0                0.0  ",
      "text/html": "<div>\n<style scoped>\n    .dataframe tbody tr th:only-of-type {\n        vertical-align: middle;\n    }\n\n    .dataframe tbody tr th {\n        vertical-align: top;\n    }\n\n    .dataframe thead th {\n        text-align: right;\n    }\n</style>\n<table border=\"1\" class=\"dataframe\">\n  <thead>\n    <tr style=\"text-align: right;\">\n      <th></th>\n      <th>element</th>\n      <th>et</th>\n      <th>cp0_eur</th>\n      <th>cp1_eur_per_mw</th>\n      <th>cp2_eur_per_mw2</th>\n      <th>cq0_eur</th>\n      <th>cq1_eur_per_mvar</th>\n      <th>cq2_eur_per_mvar2</th>\n    </tr>\n  </thead>\n  <tbody>\n    <tr>\n      <th>0</th>\n      <td>0</td>\n      <td>ext_grid</td>\n      <td>0.0</td>\n      <td>20.0</td>\n      <td>0.0</td>\n      <td>0.0</td>\n      <td>0.0</td>\n      <td>0.0</td>\n    </tr>\n    <tr>\n      <th>1</th>\n      <td>0</td>\n      <td>gen</td>\n      <td>0.0</td>\n      <td>10.0</td>\n      <td>0.0</td>\n      <td>0.0</td>\n      <td>0.0</td>\n      <td>0.0</td>\n    </tr>\n    <tr>\n      <th>2</th>\n      <td>1</td>\n      <td>gen</td>\n      <td>0.0</td>\n      <td>10.0</td>\n      <td>0.0</td>\n      <td>0.0</td>\n      <td>0.0</td>\n      <td>0.0</td>\n    </tr>\n  </tbody>\n</table>\n</div>"
     },
     "execution_count": 250,
     "metadata": {},
     "output_type": "execute_result"
    }
   ],
   "source": [
    "# # net.sn_mva = 100\n",
    "net = pp.networks.case14()\n",
    "net = pp.networks.case_ieee30()"
   ],
   "metadata": {
    "collapsed": false
   }
  },
  {
   "cell_type": "code",
   "execution_count": 251,
   "outputs": [],
   "source": [
    "om,ppopt = pp.runopp(net, delta=1e-16)   # solve the OPF problem"
   ],
   "metadata": {
    "collapsed": false
   }
  },
  {
   "cell_type": "code",
   "execution_count": 254,
   "outputs": [
    {
     "data": {
      "text/plain": "1570.2048160492498"
     },
     "execution_count": 254,
     "metadata": {},
     "output_type": "execute_result"
    }
   ],
   "source": [
    "# the total cost of generation\n",
    "net.res_cost"
   ],
   "metadata": {
    "collapsed": false
   }
  },
  {
   "cell_type": "code",
   "execution_count": 256,
   "outputs": [],
   "source": [
    "## unpack data\n",
    "ppc = om.get_ppc()\n",
    "baseMVA, bus, gen, branch, gencost = \\\n",
    "    ppc[\"baseMVA\"], ppc[\"bus\"], ppc[\"gen\"], ppc[\"branch\"], ppc[\"gencost\"]\n",
    "vv, _, _, _ = om.get_idx()\n",
    "\n",
    "## problem dimensions\n",
    "nb = bus.shape[0]          ## number of buses\n",
    "nl = branch.shape[0]       ## number of branches\n",
    "ny = om.getN('var', 'y')   ## number of piece-wise linear costs, 'y' is a part of p-w linear costs\n",
    "\n",
    "## bounds on optimization vars\n",
    "x0, xmin, xmax = om.getv()"
   ],
   "metadata": {
    "collapsed": false
   }
  },
  {
   "cell_type": "code",
   "execution_count": 257,
   "outputs": [
    {
     "name": "stderr",
     "output_type": "stream",
     "text": [
      "/home/ubuntu-h/PycharmProjects/scientificProject/pypower_/makeYbus.py:49: ComplexWarning: Casting complex values to real discards the imaginary part\n",
      "  tap[i] = branch[i, TAP]  ## assign non-zero tap ratios\n",
      "/home/ubuntu-h/anaconda3/envs/scientificProject/lib/python3.10/site-packages/scipy/sparse/_coo.py:160: ComplexWarning: Casting complex values to real discards the imaginary part\n",
      "  self.col = np.array(col, copy=copy, dtype=idx_dtype)\n"
     ]
    }
   ],
   "source": [
    "## build admittance matrices\n",
    "Ybus, Yf, Yt = makeYbus(baseMVA, bus, branch)"
   ],
   "metadata": {
    "collapsed": false
   }
  },
  {
   "cell_type": "code",
   "execution_count": 258,
   "outputs": [
    {
     "name": "stdout",
     "output_type": "stream",
     "text": [
      "ll\"[ 0.00000000e+00 -1.57079633e+00 -1.57079633e+00 -1.57079633e+00\n",
      "  1.05000000e+00  9.80000000e-01  9.80000000e-01  9.80000000e-01\n",
      " -1.00000000e-16 -1.00000000e-16 -1.00000000e-16 -1.00000000e+02\n",
      " -1.00000000e+02 -1.00000000e+02];\n",
      " uu:[   0.            1.57079633    1.57079633    1.57079633    1.05\n",
      "    1.02          1.02          1.02       1000.           80.\n",
      "  100.          100.          100.          100.        ]\n"
     ]
    }
   ],
   "source": [
    "## Set the lower and upper bound for all variables\n",
    "ll, uu = xmin.copy(), xmax.copy()\n",
    "# print(f'll : {ll}; uu : {uu}')\n",
    "ll[xmin == -Inf] = -1e10   ## replace Inf with numerical proxies\n",
    "uu[xmax ==  Inf] =  1e10\n",
    "Va_refs = bus[bus[:, BUS_TYPE]  == REF, VA] * (pi / 180)\n",
    "# print(f\"Va_refs: {Va_refs}\")\n",
    "ll[vv[\"i1\"][\"Va\"]:vv[\"iN\"][\"Va\"]] = -np.ones_like(bus[:, VA]) * (pi / 2) # Va lower bound 赋值\n",
    "uu[vv[\"i1\"][\"Va\"]:vv[\"iN\"][\"Va\"]] = np.ones_like(bus[:, VA]) * (pi / 2) # Va upper bound 赋值\n",
    "## deal with the Va_refs\n",
    "ll[vv[\"i1\"][\"Va\"]:vv[\"iN\"][\"Va\"]][bus[:, BUS_TYPE]  == REF] = Va_refs  # Va_refs lower bound 赋值\n",
    "uu[vv[\"i1\"][\"Va\"]:vv[\"iN\"][\"Va\"]][bus[:, BUS_TYPE]  == REF] = Va_refs # Va_refs upper bound 赋值\n",
    "## deal with reactive power, whose ll and uu is 1e9\n",
    "ll[ll<-1e4] = -100\n",
    "uu[uu>1e4] = 100\n",
    "print(f'll\"{ll};\\n uu:{uu}')"
   ],
   "metadata": {
    "collapsed": false
   }
  },
  {
   "cell_type": "code",
   "execution_count": 261,
   "outputs": [],
   "source": [
    "x0[vv[\"i1\"][\"Vm\"]:vv[\"iN\"][\"Vm\"]] = bus[:, VM] # 赋值"
   ],
   "metadata": {
    "collapsed": false
   }
  },
  {
   "cell_type": "code",
   "execution_count": 262,
   "outputs": [],
   "source": [
    "Va_refs = bus[bus[:, BUS_TYPE]  == REF, VA] * (pi / 180)\n",
    "x0[vv[\"i1\"][\"Va\"]:vv[\"iN\"][\"Va\"]] = bus[:, VA] * (pi / 180) # 赋值"
   ],
   "metadata": {
    "collapsed": false
   }
  },
  {
   "cell_type": "code",
   "execution_count": 263,
   "outputs": [],
   "source": [
    "## 赋值\n",
    "x0[vv[\"i1\"][\"Pg\"]:vv[\"iN\"][\"Pg\"]] = gen[:,PG]\n",
    "x0[vv[\"i1\"][\"Qg\"]:vv[\"iN\"][\"Qg\"]] = gen[:,QG]"
   ],
   "metadata": {
    "collapsed": false
   }
  },
  {
   "cell_type": "markdown",
   "source": [
    "\n",
    "### 处理cost function"
   ],
   "metadata": {
    "collapsed": false
   }
  },
  {
   "cell_type": "code",
   "execution_count": 264,
   "outputs": [],
   "source": [
    "## grab Pg & Qg\n",
    "Pg = x0[vv[\"i1\"][\"Pg\"]:vv[\"iN\"][\"Pg\"]]  ## active generation in p.u.\n",
    "Qg = x0[vv[\"i1\"][\"Qg\"]:vv[\"iN\"][\"Qg\"]]  ## reactive generation in p.u.\n",
    "\n",
    "##----- evaluate objective function -----\n",
    "## polynomial cost of P and Q\n",
    "# use totcost only on polynomial cost in the minimization problem formulation, pwl cost is the sum of the y variables.\n",
    "ipol = find(gencost[:, MODEL] == POLYNOMIAL)   ## poly MW and MVAr costs\n",
    "xx = r_[ Pg, Qg ] * baseMVA\n",
    "if len(ipol)>0:\n",
    "    f = sum( totcost(gencost[ipol, :], xx[ipol]) )  ## cost of poly P or Q\n",
    "else:\n",
    "    f = 0"
   ],
   "metadata": {
    "collapsed": false
   }
  },
  {
   "cell_type": "code",
   "execution_count": 267,
   "outputs": [
    {
     "name": "stdout",
     "output_type": "stream",
     "text": [
      "(array([20., 10., 10.]), array([20., 10., 10.]))\n"
     ]
    }
   ],
   "source": [
    "First_Or_Con = 4\n",
    "print(f\"{gencost[ipol, First_Or_Con], gencost[:, First_Or_Con]}\")"
   ],
   "metadata": {
    "collapsed": false
   }
  },
  {
   "cell_type": "markdown",
   "source": [
    "### 处理约束部分"
   ],
   "metadata": {
    "collapsed": false
   }
  },
  {
   "cell_type": "code",
   "execution_count": 269,
   "outputs": [],
   "source": [
    "## grab Pg & Qg\n",
    "Pg = x0[vv[\"i1\"][\"Pg\"]:vv[\"iN\"][\"Pg\"]]  ## active generation in p.u.\n",
    "Qg = x0[vv[\"i1\"][\"Qg\"]:vv[\"iN\"][\"Qg\"]]  ## reactive generation in p.u."
   ],
   "metadata": {
    "collapsed": false
   }
  },
  {
   "cell_type": "code",
   "execution_count": 270,
   "outputs": [],
   "source": [
    "## put Pg & Qg back in gen\n",
    "gen[:, PG] = Pg * baseMVA  ## active generation in MW\n",
    "gen[:, QG] = Qg * baseMVA  ## reactive generation in MVAr"
   ],
   "metadata": {
    "collapsed": false
   }
  },
  {
   "cell_type": "code",
   "execution_count": 271,
   "outputs": [],
   "source": [
    "## reconstruct V\n",
    "Va = x0[vv[\"i1\"][\"Va\"]:vv[\"iN\"][\"Va\"]]\n",
    "Vm = x0[vv[\"i1\"][\"Vm\"]:vv[\"iN\"][\"Vm\"]]\n",
    "V = Vm * exp(1j * Va)\n",
    "\n",
    "on = find(gen[:, GEN_STATUS] > 0)      ## which generators are on?\n",
    "gbus = gen[on, GEN_BUS]                   ## what buses are they at?\n",
    "\n",
    "## form net complex bus power injection vector\n",
    "nb = bus.shape[0]\n",
    "ngon = on.shape[0]\n",
    "## connection matrix, element i, j is 1 if gen on(j) at bus i is ON\n",
    "Cg = sparse((ones(ngon), (gbus, range(ngon))), (nb, ngon))"
   ],
   "metadata": {
    "collapsed": false
   }
  },
  {
   "cell_type": "code",
   "execution_count": null,
   "outputs": [],
   "source": [
    "## 不等式约束： 线电压的功率\n",
    "ppopt = {}\n",
    "il = find(branch[:, RATE_A] < 1e10)\n",
    "nl2 = len(il)           ## number of constrained lines\n",
    "if any(net.line['max_i_ka']) > 0:\n",
    "    ppopt['OPF_FLOW_LIM'] = 2\n",
    "\n",
    "if nl2 > 0:\n",
    "    flow_max = (branch[il, RATE_A] / baseMVA)**2\n",
    "    flow_max[flow_max == 0] = 1e5\n",
    "    print(f\"flow_max: {flow_max}\")\n",
    "    if ppopt['OPF_FLOW_LIM'] == 2:      ## current magnitude limit, |I|\n",
    "        If = Yf * V\n",
    "        It = Yt * V\n",
    "        h = r_[ If * conj(If) - flow_max,     ## branch I limits (from bus)\n",
    "                It * conj(It) - flow_max ].real    ## branch I limits (to bus)\n",
    "    else:\n",
    "        ## compute branch power flows\n",
    "        ## complex power injected at \"from\" bus (p.u.)\n",
    "        Sf = V[ branch[il, F_BUS].astype(int) ] * conj(Yf * V)\n",
    "        ## complex power injected at \"to\" bus (p.u.)\n",
    "        St = V[ branch[il, T_BUS].astype(int) ] * conj(Yt * V)\n",
    "        if ppopt['OPF_FLOW_LIM'] == 1:   ## active power limit, P (Pan Wei)\n",
    "            h = r_[ Sf.real**2 - flow_max,   ## branch P limits (from bus)\n",
    "                    St.real**2 - flow_max ]  ## branch P limits (to bus)\n",
    "        else:                ## apparent power limit, |S|\n",
    "            h = r_[ Sf * conj(Sf) - flow_max, ## branch S limits (from bus)\n",
    "                    St * conj(St) - flow_max ].real  ## branch S limits (to bus)\n",
    "else:\n",
    "    h = zeros((0,1))"
   ],
   "metadata": {
    "collapsed": false
   }
  },
  {
   "cell_type": "markdown",
   "source": [
    "## 使用GUROBI 构建优化模型"
   ],
   "metadata": {
    "collapsed": false
   }
  },
  {
   "cell_type": "code",
   "execution_count": 291,
   "outputs": [
    {
     "name": "stdout",
     "output_type": "stream",
     "text": [
      "Set parameter NonConvex to value 2\n",
      "ipol: [0 1 2]\n",
      "Gurobi Optimizer version 10.0.1 build v10.0.1rc0 (linux64)\n",
      "\n",
      "CPU model: Intel(R) Core(TM) i5-10600KF CPU @ 4.10GHz, instruction set [SSE2|AVX|AVX2]\n",
      "Thread count: 8 physical cores, 8 logical processors, using up to 8 threads\n",
      "\n",
      "Optimize a model with 34 rows, 46 columns and 152 nonzeros\n",
      "Model fingerprint: 0x47ad00e0\n",
      "Model has 22 quadratic constraints\n",
      "Coefficient statistics:\n",
      "  Matrix range     [1e+00, 1e+03]\n",
      "  QMatrix range    [1e+00, 1e+00]\n",
      "  QLMatrix range   [1e+00, 1e+00]\n",
      "  Objective range  [1e+01, 2e+01]\n",
      "  Bounds range     [1e-16, 1e+04]\n",
      "  RHS range        [1e+00, 7e+01]\n",
      "  QRHS range       [1e+00, 2e+03]\n",
      "Presolve removed 4 rows and 4 columns\n",
      "\n",
      "Continuous model is non-convex -- solving as a MIP\n",
      "\n",
      "Presolve removed 12 rows and 14 columns\n",
      "Presolve time: 0.00s\n",
      "Presolved: 85 rows, 50 columns, 292 nonzeros\n",
      "Presolved model has 11 quadratic constraint(s)\n",
      "Presolved model has 18 bilinear constraint(s)\n",
      "Variable types: 50 continuous, 0 integer (0 binary)\n",
      "\n",
      "Root relaxation: objective 1.394932e+03, 37 iterations, 0.00 seconds (0.00 work units)\n",
      "\n",
      "    Nodes    |    Current Node    |     Objective Bounds      |     Work\n",
      " Expl Unexpl |  Obj  Depth IntInf | Incumbent    BestBd   Gap | It/Node Time\n",
      "\n",
      "     0     0 1394.93241    0   12          - 1394.93241      -     -    0s\n",
      "H    0     0                    1570.2045375 1394.93241  11.2%     -    0s\n",
      "     0     0 1453.14263    0   12 1570.20454 1453.14263  7.46%     -    0s\n",
      "     0     0 1474.41488    0   13 1570.20454 1474.41488  6.10%     -    0s\n",
      "     0     0 1477.30653    0   13 1570.20454 1477.30653  5.92%     -    0s\n",
      "     0     0 1478.02950    0   12 1570.20454 1478.02950  5.87%     -    0s\n",
      "     0     0 1494.39635    0   13 1570.20454 1494.39635  4.83%     -    0s\n",
      "     0     0 1497.65365    0   12 1570.20454 1497.65365  4.62%     -    0s\n",
      "     0     0 1497.71247    0   12 1570.20454 1497.71247  4.62%     -    0s\n",
      "     0     0 1513.67634    0   12 1570.20454 1513.67634  3.60%     -    0s\n",
      "     0     0 1515.38394    0   12 1570.20454 1515.38394  3.49%     -    0s\n",
      "     0     0 1517.20010    0   12 1570.20454 1517.20010  3.38%     -    0s\n",
      "     0     0 1517.29432    0   12 1570.20454 1517.29432  3.37%     -    0s\n",
      "     0     0 1518.82038    0   12 1570.20454 1518.82038  3.27%     -    0s\n",
      "     0     0 1519.31549    0   12 1570.20454 1519.31549  3.24%     -    0s\n",
      "     0     0 1519.32251    0   12 1570.20454 1519.32251  3.24%     -    0s\n",
      "     0     0 1543.65294    0   10 1570.20454 1543.65294  1.69%     -    0s\n",
      "     0     2 1543.65294    0   10 1570.20454 1543.65294  1.69%     -    0s\n",
      "\n",
      "Cutting planes:\n",
      "  RLT: 7\n",
      "\n",
      "Explored 70 nodes (359 simplex iterations) in 0.09 seconds (0.02 work units)\n",
      "Thread count was 8 (of 8 available processors)\n",
      "\n",
      "Solution count 1: 1570.2 \n",
      "\n",
      "Optimal solution found (tolerance 1.00e-04)\n",
      "Best objective 1.570204537494e+03, best bound 1.570119750315e+03, gap 0.0054%\n"
     ]
    },
    {
     "data": {
      "text/plain": "[1.05,\n 1.0106317566373713,\n 1.017788190556323,\n 1.0164889138132425,\n 0.0,\n 0.018627900517429623,\n 0.0671356757219666,\n 0.0845593760423413,\n 1.798612909896436e-10,\n 79.99999998990722,\n 77.02045375909742,\n 16.144166734275736,\n -2.2741022318031097,\n -17.57565640134782]"
     },
     "execution_count": 291,
     "metadata": {},
     "output_type": "execute_result"
    }
   ],
   "source": [
    "# Parameters\n",
    "# obtain the complex load\n",
    "Pd = bus[:, PD]\n",
    "Qd = bus[:, QD]\n",
    "\n",
    "lb_update = -1e4\n",
    "\n",
    "# obtain the range of voltage; the range is from the setting\n",
    "V_range = 0.02\n",
    "V_ll,V_uu = 1.0-V_range, 1.0+V_range\n",
    "\n",
    "# obtain the power range\n",
    "Pg_lower, Pg_upper = ll[vv[\"i1\"][\"Pg\"]:vv[\"iN\"][\"Pg\"]], uu[vv[\"i1\"][\"Pg\"]:vv[\"iN\"][\"Pg\"]]*baseMVA\n",
    "Qg_lower, Qg_upper = ll[vv[\"i1\"][\"Qg\"]:vv[\"iN\"][\"Qg\"]], uu[vv[\"i1\"][\"Qg\"]:vv[\"iN\"][\"Qg\"]]*baseMVA\n",
    "\n",
    "# the dimension of the OPF\n",
    "nb = bus.shape[0]          ## number of buses\n",
    "nl = branch.shape[0]       ## number of branches\n",
    "\n",
    "# create the model; set the model type: NonConvex.\n",
    "model = gp.Model(\"PowerGeneration\");model.setParam('NonConvex', 2)\n",
    "\n",
    "# creat variables for the model; the numbers in the following codes should be replaced by parameters\n",
    "V_re = model.addMVar(nb, lb=lb_update, vtype=GRB.CONTINUOUS, name='V real')\n",
    "V_im = model.addMVar(nb, lb=lb_update, vtype=GRB.CONTINUOUS, name='V imag')\n",
    "Pg = model.addMVar(ngon, lb=Pg_lower, ub=Pg_upper, vtype=GRB.CONTINUOUS, name='Pg')\n",
    "Qg = model.addMVar(ngon, lb=Qg_lower, ub=Qg_upper, vtype=GRB.CONTINUOUS, name='Qg')\n",
    "temp1 = model.addMVar(nb, lb=lb_update, vtype=GRB.CONTINUOUS, name='Temp 1')\n",
    "temp2 = model.addMVar(nb, lb=lb_update, vtype=GRB.CONTINUOUS, name='Temp 2')\n",
    "Pg_net = model.addMVar(nb, lb=lb_update, vtype=GRB.CONTINUOUS, name='Pg net')  # the number of buses, too\n",
    "Qg_net = model.addMVar(nb, lb=lb_update, vtype=GRB.CONTINUOUS, name='Qg net')\n",
    "Line_temp_1 = model.addMVar(nl, lb=lb_update, vtype=GRB.CONTINUOUS, name='Line temp 1')    # the shape should be line number\n",
    "Line_temp_2 = model.addMVar(nl, lb=lb_update, vtype=GRB.CONTINUOUS, name='Line temp 2')    # the shape should be line number\n",
    "Line_temp_3 = model.addMVar(nl, lb=lb_update, vtype=GRB.CONTINUOUS, name='Line temp 3')    # the shape should be line number\n",
    "Line_temp_4 = model.addMVar(nl, lb=lb_update, vtype=GRB.CONTINUOUS, name='Line temp 4')    # the shape should be line number\n",
    "\n",
    "# the prameters of branches\n",
    "G = np.real(Ybus)\n",
    "B = np.imag(Ybus)\n",
    "# the parameters for currents in branches\n",
    "G_yf, B_yf = np.real(Yf), np.imag(Yf)\n",
    "G_yt, B_yt = np.real(Yt), np.imag(Yt)\n",
    "\n",
    "# Constraints; insert the formulas\n",
    "Temp_c1 = model.addConstr(G@V_re - B@V_im == temp1, 'Temp Constr 1')\n",
    "Temp_c2 = model.addConstr(G @ V_im + B @ V_re == temp2, 'Temp Constr 2')\n",
    "Pg_net_c = model.addConstr(Cg @ Pg - Pd == Pg_net, 'Pg net Constr')\n",
    "Qg_net_c = model.addConstr(Cg @ Qg - Qd == Qg_net, 'Qg net Constr')\n",
    "# print(f'Pd:{Pd}\\n Qd:{Qd}')\n",
    "CVL_CPL = model.addConstrs((V_re[i] * temp1[i] *baseMVA+ V_im[i] * temp2[i]*baseMVA == Pg_net[i]  for i in range(nb)), 'Cvl P')  # break into different parts\n",
    "CVL_CPL_Q = model.addConstrs((V_im[i] * temp1[i] *baseMVA - V_re[i] * temp2[i]*baseMVA == Qg_net[i] for i in range(nb)), 'Cvl Q')\n",
    "\n",
    "# the constraints of voltages on all buses; set the constraint for slack bus, then give the upper and lower constraints for other buses\n",
    "V_slack = model.addConstr(V_re[0]==1.05, 'V slack real')\n",
    "V_slack_a = model.addConstr(V_im[0]==0, 'V slack imag')\n",
    "# the upper&lower constraints for buses except for the slack bus\n",
    "V_upper = model.addConstrs((V_re[i]**2 + V_im[i]**2 <= V_uu**2 for i in range(1,nb)), 'V upper bound')\n",
    "V_lower = model.addConstrs((V_re[i]**2 + V_im[i]**2 >= V_ll**2 for i in range(1,nb)), 'V lower bound')\n",
    "\n",
    "# Yf * W * Yf; the number is equal to that of the lines/branches\n",
    "Line_temp_c_1 = model.addConstr(G_yf@V_re - B_yf@V_im == Line_temp_1, 'Branch Con 1')\n",
    "Line_temp_c_2 = model.addConstr(G_yf @ V_im + B_yf @ V_re == Line_temp_2, 'Branch Con 2')\n",
    "Line_temp_c_3 = model.addConstr(G_yt@V_re - B_yt@V_im == Line_temp_3, 'Branch Con 3')\n",
    "Line_temp_c_4 = model.addConstr(G_yt @ V_im + B_yt @ V_re == Line_temp_4, 'Branch Con 4')\n",
    "Line_c_1 = model.addConstrs((Line_temp_1[i]**2 + Line_temp_2[i]**2 <= np.real(flow_max[i]) for i in range(nl)), 'Branch Con 1') # p.u.\n",
    "Line_c_2 = model.addConstrs((Line_temp_3[i]**2 + Line_temp_4[i]**2 <= np.real(flow_max[i]) for i in range(nl)), 'Branch Con 2') # p.u.\n",
    "\n",
    "# set the objective of the model\n",
    "print('ipol:', ipol)\n",
    "# The \"gencost\" changes with different cases. Keep in Mind!\n",
    "# model.setObjective(gencost[ipol, First_Or_Con]@Pg**2+gencost[ipol, First_Or_Con+1]@Pg, GRB.MINIMIZE)\n",
    "model.setObjective(gencost[ipol, First_Or_Con]@Pg, GRB.MINIMIZE)\n",
    "\n",
    "# calculate the optimization\n",
    "model.optimize()\n",
    "model.X[:14]"
   ],
   "metadata": {
    "collapsed": false
   }
  }
 ],
 "metadata": {
  "kernelspec": {
   "display_name": "Python 3",
   "language": "python",
   "name": "python3"
  },
  "language_info": {
   "codemirror_mode": {
    "name": "ipython",
    "version": 2
   },
   "file_extension": ".py",
   "mimetype": "text/x-python",
   "name": "python",
   "nbconvert_exporter": "python",
   "pygments_lexer": "ipython2",
   "version": "2.7.6"
  }
 },
 "nbformat": 4,
 "nbformat_minor": 0
}
