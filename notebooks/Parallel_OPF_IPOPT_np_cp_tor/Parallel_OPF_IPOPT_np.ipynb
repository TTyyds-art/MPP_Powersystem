{
 "cells": [
  {
   "cell_type": "code",
   "execution_count": 8,
   "metadata": {
    "collapsed": true,
    "ExecuteTime": {
     "end_time": "2023-06-10T08:21:41.964906200Z",
     "start_time": "2023-06-10T08:21:41.960916900Z"
    }
   },
   "outputs": [],
   "source": [
    "import warnings\n",
    "warnings.filterwarnings(\"ignore\")\n",
    "\n",
    "import sys, os\n",
    "path_current = '/home/huzuntao/PycharmProjects/MPP_Powersystem/'\n",
    "path_ = os.getcwd()\n",
    "if path_current not in sys.path:\n",
    "    sys.path.insert(1, '/home/huzuntao/PycharmProjects/MPP_Powersystem/')\n",
    "elif path_ not in sys.path:\n",
    "    sys.path.insert(1, path_)\n",
    "\n",
    "from pypower_.pipsopf_solver import pipsopf_solver_gpu\n",
    "from pypower__.pipsopf_solver import pipsopf_solver\n",
    "import pandapower as pp"
   ]
  },
  {
   "cell_type": "code",
   "execution_count": 2,
   "outputs": [],
   "source": [
    "net = pp.create_empty_network()\n",
    "\n",
    "# create buses\n",
    "bus1 = pp.create_bus(net, vn_kv=110.)\n",
    "bus2 = pp.create_bus(net, vn_kv=110.)\n",
    "bus3 = pp.create_bus(net, vn_kv=110.)\n",
    "bus4 = pp.create_bus(net, vn_kv=110.)\n",
    "bus5 = pp.create_bus(net, vn_kv=110.)\n",
    "bus6 = pp.create_bus(net, vn_kv=110.)\n",
    "\n",
    "# create 110 kV lines\n",
    "pp.create_line(net, bus4, bus5, length_km=90., std_type='149-AL1/24-ST1A 110.0')\n",
    "pp.create_line(net, bus3, bus4, length_km=90., std_type='149-AL1/24-ST1A 110.0')\n",
    "pp.create_line(net, bus2, bus3, length_km=90., std_type='149-AL1/24-ST1A 110.0')\n",
    "pp.create_line(net, bus1, bus2, length_km=70., std_type='149-AL1/24-ST1A 110.0')\n",
    "pp.create_line(net, bus6, bus3, length_km=70., std_type='149-AL1/24-ST1A 110.0')\n",
    "\n",
    "# create loads\n",
    "p_load_1 = 10\n",
    "p_load_2 = 30\n",
    "pp.create_load(net, bus2, p_mw=p_load_1, controllable=False)\n",
    "pp.create_load(net, bus4, p_mw=p_load_2/2, controllable=False)\n",
    "pp.create_load(net, bus5, p_mw=p_load_2/2, controllable=False)\n",
    "pp.create_load(net, bus6, p_mw=p_load_2/2, controllable=False)\n",
    "# create generators\n",
    "eg = pp.create_ext_grid(net, bus1, min_p_mw=0, max_p_mw=1000, vm_pu=1.05)\n",
    "g0 = pp.create_gen(net, bus3, p_mw=80, min_p_mw=0, max_p_mw=80, vm_pu=1.00, controllable=True)\n",
    "\n",
    "costeg = pp.create_poly_cost(net, 0, 'ext_grid', cp1_eur_per_mw=20)\n",
    "costgen1 = pp.create_poly_cost(net, 0, 'gen', cp1_eur_per_mw=10)\n",
    "costgen2 = pp.create_poly_cost(net, 1, 'gen', cp1_eur_per_mw=10)\n",
    "\n",
    "net.bus[\"min_vm_pu\"] = 0.96\n",
    "net.bus[\"max_vm_pu\"] = 1.04\n",
    "net.line[\"max_loading_percent\"] = 100"
   ],
   "metadata": {
    "collapsed": false,
    "ExecuteTime": {
     "end_time": "2023-06-10T08:19:31.580913100Z",
     "start_time": "2023-06-10T08:19:31.523067100Z"
    }
   }
  },
  {
   "cell_type": "code",
   "execution_count": 3,
   "outputs": [],
   "source": [
    "om, ppopt, raw = pp.runopp(net, delta=1e-16, RETURN_RAW_DER=1)"
   ],
   "metadata": {
    "collapsed": false,
    "ExecuteTime": {
     "end_time": "2023-06-10T08:19:33.161765200Z",
     "start_time": "2023-06-10T08:19:32.530792800Z"
    }
   }
  },
  {
   "cell_type": "code",
   "execution_count": 4,
   "outputs": [],
   "source": [
    "results, success, raw = pipsopf_solver(om, ppopt)"
   ],
   "metadata": {
    "collapsed": false,
    "ExecuteTime": {
     "end_time": "2023-06-10T08:19:36.818591800Z",
     "start_time": "2023-06-10T08:19:36.461221400Z"
    }
   }
  },
  {
   "cell_type": "code",
   "execution_count": 9,
   "outputs": [
    {
     "name": "stdout",
     "output_type": "stream",
     "text": [
      "A_: None; eyex shape: (16, 16); nx : 16\n",
      "max it: 150; i: 1\n",
      "max it: 150; i: 2\n",
      "max it: 150; i: 3\n",
      "max it: 150; i: 4\n",
      "max it: 150; i: 5\n",
      "max it: 150; i: 6\n",
      "max it: 150; i: 7\n",
      "max it: 150; i: 8\n",
      "max it: 150; i: 9\n",
      "max it: 150; i: 10\n",
      "max it: 150; i: 11\n",
      "max it: 150; i: 12\n",
      "max it: 150; i: 13\n",
      "max it: 150; i: 14\n",
      "max it: 150; i: 15\n",
      "max it: 150; i: 16\n",
      "max it: 150; i: 17\n",
      "max it: 150; i: 18\n",
      "max it: 150; i: 19\n",
      "max it: 150; i: 20\n",
      "max it: 150; i: 21\n",
      "max it: 150; i: 22\n",
      "max it: 150; i: 23\n",
      "max it: 150; i: 24\n",
      "max it: 150; i: 25\n",
      "max it: 150; i: 26\n"
     ]
    }
   ],
   "source": [
    "\n",
    "results, success, raw = pipsopf_solver_gpu(om, ppopt)"
   ],
   "metadata": {
    "collapsed": false,
    "ExecuteTime": {
     "end_time": "2023-06-10T08:21:49.297522200Z",
     "start_time": "2023-06-10T08:21:46.566135Z"
    }
   }
  },
  {
   "cell_type": "markdown",
   "source": [
    "## pipscopf.py"
   ],
   "metadata": {
    "collapsed": false
   }
  },
  {
   "cell_type": "code",
   "execution_count": 35,
   "outputs": [],
   "source": [
    "from numpy import flatnonzero as find, ones, zeros, Inf, pi, exp, conj, r_\n",
    "from pypower__.idx_brch import F_BUS, T_BUS, RATE_A, PF, QF, PT, QT, MU_SF, MU_ST\n",
    "from pypower__.idx_bus import BUS_TYPE, REF, VM, VA, MU_VMAX, MU_VMIN, LAM_P, LAM_Q\n",
    "from pypower__.idx_cost import MODEL, PW_LINEAR, NCOST\n",
    "from pypower__.idx_gen import GEN_BUS, PG, QG, VG, MU_PMAX, MU_PMIN, MU_QMAX, MU_QMIN\n",
    "from pypower__.makeYbus import makeYbus\n",
    "from pypower__.opf_consfcn import opf_consfcn\n",
    "from pypower__.opf_costfcn import opf_costfcn\n",
    "\n",
    "\n",
    "from pypower__.opf_hessfcn import opf_hessfcn\n",
    "from pypower__.pips import pips\n",
    "\n",
    "# pip.py\n",
    "from numpy import array, Inf, any, isnan, ones, r_, finfo, \\\n",
    "    zeros, dot, absolute, log, flatnonzero as find\n",
    "from numpy.linalg import norm\n",
    "\n",
    "from scipy.sparse import vstack, hstack, eye, csr_matrix as sparse\n",
    "from scipy.sparse.linalg import spsolve\n",
    "EPS = finfo(float).eps\n"
   ],
   "metadata": {
    "collapsed": false,
    "ExecuteTime": {
     "end_time": "2023-06-04T06:36:24.582182900Z",
     "start_time": "2023-06-04T06:36:24.498403100Z"
    }
   }
  },
  {
   "cell_type": "code",
   "execution_count": 36,
   "outputs": [],
   "source": [
    "x0_init=None\n",
    "out_opt=None\n",
    "\n",
    "if out_opt is None:\n",
    "    out_opt = {}\n",
    "\n",
    "## options\n",
    "verbose = ppopt['VERBOSE']\n",
    "feastol = ppopt['PDIPM_FEASTOL']\n",
    "gradtol = ppopt['PDIPM_GRADTOL']\n",
    "comptol = ppopt['PDIPM_COMPTOL']\n",
    "costtol = ppopt['PDIPM_COSTTOL']\n",
    "max_it  = ppopt['PDIPM_MAX_IT']\n",
    "max_red = ppopt['SCPDIPM_RED_IT']\n",
    "init = ppopt['INIT']\n",
    "step_control = (ppopt['OPF_ALG'] == 565)  ## OPF_ALG == 565, PIPS-sc\n",
    "if feastol == 0:\n",
    "    feastol = ppopt['OPF_VIOLATION']\n",
    "opt = {  'feastol': feastol,\n",
    "         'gradtol': gradtol,\n",
    "         'comptol': comptol,\n",
    "         'costtol': costtol,\n",
    "         'max_it': max_it,\n",
    "         'max_red': max_red,\n",
    "         'step_control': step_control,\n",
    "         'cost_mult': 1e-0,\n",
    "         'verbose': verbose  }\n",
    "\n",
    "## unpack data\n",
    "ppc = om.get_ppc()\n",
    "baseMVA, bus, gen, branch, gencost = \\\n",
    "    ppc[\"baseMVA\"], ppc[\"bus\"], ppc[\"gen\"], ppc[\"branch\"], ppc[\"gencost\"]\n",
    "vv, _, nn, _ = om.get_idx()\n",
    "\n",
    "## problem dimensions\n",
    "nb = bus.shape[0]          ## number of buses\n",
    "nl = branch.shape[0]       ## number of branches\n",
    "ny = om.getN('var', 'y')   ## number of piece-wise linear costs\n",
    "\n",
    "## linear constraints\n",
    "A, l, u = om.linear_constraints()\n",
    "\n",
    "## bounds on optimization vars\n",
    "x0, xmin, xmax = om.getv()\n",
    "\n",
    "## build admittance matrices\n",
    "Ybus, Yf, Yt = makeYbus(baseMVA, bus, branch)\n",
    "\n",
    "## try to select an interior initial point if init is not available from a previous powerflow\n",
    "if init != \"pf\":\n",
    "    ll, uu = xmin.copy(), xmax.copy()\n",
    "    ll[xmin == -Inf] = -1e10   ## replace Inf with numerical proxies\n",
    "    uu[xmax ==  Inf] =  1e10\n",
    "    x0 = (ll + uu) / 2\n",
    "    Varefs = bus[bus[:, BUS_TYPE] == REF, VA] * (pi / 180)\n",
    "    ## angles set to first reference angle\n",
    "    x0[vv[\"i1\"][\"Va\"]:vv[\"iN\"][\"Va\"]] = Varefs[0]\n",
    "    if ny > 0:\n",
    "        pass\n",
    "#         ipwl = find(gencost[:, MODEL] == PW_LINEAR)\n",
    "# #         PQ = r_[gen[:, PMAX], gen[:, QMAX]]\n",
    "# #         c = totcost(gencost[ipwl, :], PQ[ipwl])\n",
    "#         c = gencost.flatten('F')[sub2ind(gencost.shape, ipwl, NCOST+2*gencost[ipwl, NCOST])]    ## largest y-value in CCV data\n",
    "#         x0[vv[\"i1\"][\"y\"]:vv[\"iN\"][\"y\"]] = max(c) + 0.1 * abs(max(c))\n",
    "# #        x0[vv[\"i1\"][\"y\"]:vv[\"iN\"][\"y\"]] = c + 0.1 * abs(c)\n",
    "\n",
    "\n",
    "## find branches with flow limits\n",
    "il = find((branch[:, RATE_A] != 0) & (branch[:, RATE_A] < 1e10))\n",
    "nl2 = len(il)           ## number of constrained lines\n",
    "\n",
    "##-----  run opf  -----\n",
    "f_fcn = lambda x, return_hessian=False: opf_costfcn(x, om, return_hessian)\n",
    "gh_fcn = lambda x: opf_consfcn(x, om, Ybus, Yf[il, :], Yt[il,:], ppopt, il)\n",
    "hess_fcn = lambda x, lmbda, cost_mult: opf_hessfcn(x, lmbda, om, Ybus, Yf[il, :], Yt[il, :], ppopt, il, cost_mult)\n",
    "\n"
   ],
   "metadata": {
    "collapsed": false,
    "ExecuteTime": {
     "end_time": "2023-06-04T06:36:24.987922900Z",
     "start_time": "2023-06-04T06:36:24.964984700Z"
    }
   }
  },
  {
   "cell_type": "code",
   "execution_count": 37,
   "outputs": [],
   "source": [
    "solution = pips(f_fcn, x0, A, l, u, xmin, xmax, gh_fcn, hess_fcn, opt)\n",
    "x, f, info, lmbda, output = solution[\"x\"], solution[\"f\"], \\\n",
    "        solution[\"eflag\"], solution[\"lmbda\"], solution[\"output\"]\n",
    "\n",
    "success = (info > 0)"
   ],
   "metadata": {
    "collapsed": false,
    "ExecuteTime": {
     "end_time": "2023-06-04T06:36:25.931472900Z",
     "start_time": "2023-06-04T06:36:25.393579700Z"
    }
   }
  },
  {
   "cell_type": "markdown",
   "source": [
    "## pip.py\n"
   ],
   "metadata": {
    "collapsed": false
   }
  },
  {
   "cell_type": "code",
   "execution_count": 89,
   "outputs": [],
   "source": [
    "if isinstance(f_fcn, dict):  ## problem dict\n",
    "    p = f_fcn\n",
    "    f_fcn = p['f_fcn']\n",
    "    x0 = p['x0']\n",
    "    if 'opt' in p: opt = p['opt']\n",
    "    if 'hess_fcn' in p: hess_fcn = p['hess_fcn']\n",
    "    if 'gh_fcn' in p: gh_fcn = p['gh_fcn']\n",
    "    if 'xmax' in p: xmax = p['xmax']\n",
    "    if 'xmin' in p: xmin = p['xmin']\n",
    "    if 'u' in p: u = p['u']\n",
    "    if 'l' in p: l = p['l']\n",
    "    if 'A' in p: A = p['A']\n",
    "\n",
    "nx = x0.shape[0]                        # number of variables\n",
    "nA = A.shape[0] if A is not None else 0 # number of original linear constr\n",
    "\n",
    "# default argument values\n",
    "if l is None or len(l) == 0: l = -Inf * ones(nA)\n",
    "if u is None or len(u) == 0: u =  Inf * ones(nA)\n",
    "if xmin is None or len(xmin) == 0: xmin = -Inf * ones(x0.shape[0])\n",
    "if xmax is None or len(xmax) == 0: xmax =  Inf * ones(x0.shape[0])\n",
    "if gh_fcn is None:\n",
    "    nonlinear = False\n",
    "    gn = array([])\n",
    "    hn = array([])\n",
    "else:\n",
    "    nonlinear = True\n",
    "\n",
    "if opt is None: opt = {}\n",
    "# options\n",
    "if \"feastol\" not in opt:\n",
    "    opt[\"feastol\"] = 1e-06\n",
    "if \"gradtol\" not in opt:\n",
    "    opt[\"gradtol\"] = 1e-06\n",
    "if \"comptol\" not in opt:\n",
    "    opt[\"comptol\"] = 1e-06\n",
    "if \"costtol\" not in opt:\n",
    "    opt[\"costtol\"] = 1e-06\n",
    "if \"max_it\" not in opt:\n",
    "    opt[\"max_it\"] = 150\n",
    "if \"max_red\" not in opt:\n",
    "    opt[\"max_red\"] = 20\n",
    "if \"step_control\" not in opt:\n",
    "    opt[\"step_control\"] = False\n",
    "if \"cost_mult\" not in opt:\n",
    "    opt[\"cost_mult\"] = 1\n",
    "if \"verbose\" not in opt:\n",
    "    opt[\"verbose\"] = 0\n",
    "\n",
    "# initialize history\n",
    "hist = []\n",
    "\n",
    "# constants\n",
    "xi = 0.99995\n",
    "sigma = 0.1\n",
    "z0 = 1\n",
    "alpha_min = 1e-8\n",
    "rho_min = 0.95\n",
    "rho_max = 1.05\n",
    "mu_threshold = 1e-5\n",
    "\n",
    "# initialize\n",
    "i = 0                       # iteration counter\n",
    "converged = False           # flag\n",
    "eflag = False               # exit flag\n",
    "\n",
    "# add var limits to linear constraints\n",
    "eyex = eye(nx, nx, format=\"csr\")\n",
    "AA = eyex if A is None else vstack([eyex, A], \"csr\")\n",
    "ll = r_[xmin, l]\n",
    "uu = r_[xmax, u]\n",
    "\n",
    "# split up linear constraints\n",
    "ieq = find( absolute(uu - ll) <= EPS )\n",
    "igt = find( (uu >=  1e10) & (ll > -1e10) )\n",
    "ilt = find( (ll <= -1e10) & (uu <  1e10) )\n",
    "ibx = find( (absolute(uu - ll) > EPS) & (uu < 1e10) & (ll > -1e10) )\n",
    "# zero-sized sparse matrices unsupported\n",
    "Ae = AA[ieq, :] if len(ieq) else None\n",
    "if len(ilt) or len(igt) or len(ibx):\n",
    "    idxs = [(1, ilt), (-1, igt), (1, ibx), (-1, ibx)]\n",
    "    Ai = vstack([sig * AA[idx, :] for sig, idx in idxs if len(idx)], 'csr')\n",
    "else:\n",
    "    Ai = None\n",
    "be = uu[ieq]\n",
    "bi = r_[uu[ilt], -ll[igt], uu[ibx], -ll[ibx]]\n",
    "\n",
    "# evaluate cost f(x0) and constraints g(x0), h(x0)\n",
    "x = x0\n",
    "f, df = f_fcn(x)                 # cost\n",
    "f = f * opt[\"cost_mult\"]\n",
    "df = df * opt[\"cost_mult\"]\n",
    "if 1:\n",
    "    hn, gn, dhn, dgn = gh_fcn(x)        # nonlinear constraints\n",
    "    h = hn if Ai is None else r_[hn.reshape(len(hn),), Ai * x - bi] # inequality constraints\n",
    "    g = gn if Ae is None else r_[gn, Ae * x - be] # equality constraints\n",
    "    if (dhn is None) and (Ai is None):\n",
    "        dh = None\n",
    "    elif dhn is None:\n",
    "        dh = Ai.T\n",
    "    elif Ai is None:\n",
    "        dh = dhn\n",
    "    else:\n",
    "        dh = hstack([dhn, Ai.T])\n",
    "\n",
    "    if (dgn is None) and (Ae is None):\n",
    "        dg = None\n",
    "    elif dgn is None:\n",
    "        dg = Ae.T\n",
    "    elif Ae is None:\n",
    "        dg = dgn\n",
    "    else:\n",
    "        dg = hstack([dgn, Ae.T])\n",
    "else:\n",
    "    h = -bi if Ai is None else Ai * x - bi        # inequality constraints\n",
    "    g = -be if Ae is None else Ae * x - be        # equality constraints\n",
    "    dh = None if Ai is None else Ai.T     # 1st derivative of inequalities\n",
    "    dg = None if Ae is None else Ae.T     # 1st derivative of equalities\n",
    "\n",
    "# some dimensions\n",
    "neq = g.shape[0]           # number of equality constraints\n",
    "niq = h.shape[0]           # number of inequality constraints\n",
    "neqnln = gn.shape[0]       # number of nonlinear equality constraints\n",
    "niqnln = hn.shape[0]       # number of nonlinear inequality constraints\n",
    "nlt = len(ilt)             # number of upper bounded linear inequalities\n",
    "ngt = len(igt)             # number of lower bounded linear inequalities\n",
    "nbx = len(ibx)             # number of doubly bounded linear inequalities\n",
    "\n",
    "# initialize gamma, lam, mu, z, e\n",
    "gamma = 1                  # barrier coefficient\n",
    "lam = zeros(neq)\n",
    "z = z0 * ones(niq)\n",
    "mu = z0 * ones(niq)\n",
    "k = find(h < -z0)\n",
    "z[k] = -h[k]\n",
    "k = find((gamma / z) > z0)\n",
    "mu[k] = gamma / z[k]\n",
    "e = ones(niq)\n",
    "\n",
    "# check tolerance\n",
    "f0 = f\n",
    "if opt[\"step_control\"]:\n",
    "    L = f + dot(lam, g) + dot(mu, h + z) - gamma * sum(log(z))\n",
    "\n",
    "Lx = df.copy()\n",
    "Lx = Lx + dg * lam if dg is not None else Lx\n",
    "Lx = Lx + dh * mu  if dh is not None else Lx\n",
    "\n",
    "maxh = zeros(1) if len(h) == 0 else max(h)\n",
    "\n",
    "gnorm = norm(g, Inf) if len(g) else 0.0\n",
    "lam_norm = norm(lam, Inf) if len(lam) else 0.0\n",
    "mu_norm = norm(mu, Inf) if len(mu) else 0.0\n",
    "znorm = norm(z, Inf) if len(z) else 0.0\n",
    "feascond = \\\n",
    "    max([gnorm, maxh]) / (1 + max([norm(x, Inf), znorm]))\n",
    "gradcond = \\\n",
    "    norm(Lx, Inf) / (1 + max([lam_norm, mu_norm]))\n",
    "compcond = dot(z, mu) / (1 + norm(x, Inf))\n",
    "costcond = absolute(f - f0) / (1 + absolute(f0))\n",
    "\n",
    "# save history\n",
    "hist.append({'feascond': feascond, 'gradcond': gradcond,\n",
    "    'compcond': compcond, 'costcond': costcond, 'gamma': gamma,\n",
    "    'stepsize': 0, 'obj': f / opt[\"cost_mult\"], 'alphap': 0, 'alphad': 0})\n",
    "\n",
    "if opt[\"verbose\"]: # pragma: no cover\n",
    "    s = '-sc' if opt[\"step_control\"] else ''\n",
    "    v = {'Name': 'PIPS',\n",
    "           'Version': '1.0',\n",
    "           'Release':  '',\n",
    "           'Date': '07-Feb-2011'}\n",
    "    print('Python Interior Point Solver - PIPS%s, Version %s, %s' %\n",
    "                (s, v['Version'], v['Date']))\n",
    "    if opt['verbose'] > 1:\n",
    "        print(\" it    objective   step size   feascond     gradcond     \"\n",
    "              \"compcond     costcond  \")\n",
    "        print(\"----  ------------ --------- ------------ ------------ \"\n",
    "              \"------------ ------------\")\n",
    "        print(\"%3d  %12.8g %10s %12g %12g %12g %12g\" %\n",
    "            (i, (f / opt[\"cost_mult\"]), \"\",\n",
    "             feascond, gradcond, compcond, costcond))\n",
    "\n",
    "if feascond < opt[\"feastol\"] and gradcond < opt[\"gradtol\"] and \\\n",
    "    compcond < opt[\"comptol\"] and costcond < opt[\"costtol\"]:\n",
    "    converged = True\n",
    "    if opt[\"verbose\"]:\n",
    "        print(\"Converged!\")"
   ],
   "metadata": {
    "collapsed": false,
    "ExecuteTime": {
     "end_time": "2023-06-04T11:24:03.597893100Z",
     "start_time": "2023-06-04T11:24:03.532833400Z"
    }
   }
  },
  {
   "cell_type": "code",
   "execution_count": 90,
   "outputs": [
    {
     "name": "stdout",
     "output_type": "stream",
     "text": [
      "  (0, 3)\t398.4826377065583\n",
      "  (0, 8)\t-398.48263770655285\n",
      "  (1, 2)\t379.507274006251\n",
      "  (1, 3)\t-398.4826377065592\n",
      "  (1, 7)\t-379.507274006251\n",
      "  (1, 8)\t398.48263770655194\n",
      "  (2, 1)\t379.507274006251\n",
      "  (2, 2)\t-379.507274006251\n",
      "  (2, 4)\t-379.5072740062469\n",
      "  (2, 6)\t-379.507274006251\n",
      "  (2, 7)\t379.507274006251\n",
      "  (2, 9)\t379.5072740062469\n",
      "  (3, 0)\t379.507274006251\n",
      "  (3, 1)\t-379.507274006251\n",
      "  (3, 5)\t-379.507274006251\n",
      "  (3, 6)\t379.507274006251\n",
      "  (4, 0)\t-379.507274006251\n",
      "  (4, 5)\t379.507274006251\n",
      "  (5, 4)\t379.5072740062469\n",
      "  (5, 9)\t-379.5072740062469\n",
      "  (6, 3)\t13643.858021102305\n",
      "  (6, 8)\t15325.320030992641\n",
      "  (7, 2)\t-797.5707992417994\n",
      "  (7, 3)\t-13681.114547475901\n",
      "  (7, 7)\t802.0514553740358\n",
      "  :\t:\n",
      "  (9, 1)\t802.0514553740358\n",
      "  (9, 5)\t802.0514553740358\n",
      "  (9, 6)\t-797.5707992417994\n",
      "  (10, 0)\t802.0514553740358\n",
      "  (10, 5)\t-797.5707992417994\n",
      "  (11, 4)\t-799.3409349977359\n",
      "  (11, 9)\t802.0514553740269\n",
      "  (7, 10)\t1.0\n",
      "  (8, 11)\t1.0\n",
      "  (9, 12)\t1.0\n",
      "  (10, 13)\t1.0\n",
      "  (11, 14)\t1.0\n",
      "  (12, 15)\t1.0\n",
      "  (13, 16)\t1.0\n",
      "  (14, 17)\t1.0\n",
      "  (15, 18)\t1.0\n",
      "  (7, 19)\t-1.0\n",
      "  (8, 20)\t-1.0\n",
      "  (9, 21)\t-1.0\n",
      "  (10, 22)\t-1.0\n",
      "  (11, 23)\t-1.0\n",
      "  (12, 24)\t-1.0\n",
      "  (13, 25)\t-1.0\n",
      "  (14, 26)\t-1.0\n",
      "  (15, 27)\t-1.0\n"
     ]
    }
   ],
   "source": [
    "print(dh)"
   ],
   "metadata": {
    "collapsed": false,
    "ExecuteTime": {
     "end_time": "2023-06-04T11:24:03.877824300Z",
     "start_time": "2023-06-04T11:24:03.813445500Z"
    }
   }
  },
  {
   "cell_type": "code",
   "execution_count": 88,
   "outputs": [
    {
     "name": "stdout",
     "output_type": "stream",
     "text": [
      "  (0, 7)\t1.0\n",
      "  (1, 8)\t1.0\n",
      "  (2, 9)\t1.0\n",
      "  (3, 10)\t1.0\n",
      "  (4, 11)\t1.0\n",
      "  (5, 12)\t1.0\n",
      "  (6, 13)\t1.0\n",
      "  (7, 14)\t1.0\n",
      "  (8, 15)\t1.0\n",
      "  (9, 7)\t-1.0\n",
      "  (10, 8)\t-1.0\n",
      "  (11, 9)\t-1.0\n",
      "  (12, 10)\t-1.0\n",
      "  (13, 11)\t-1.0\n",
      "  (14, 12)\t-1.0\n",
      "  (15, 13)\t-1.0\n",
      "  (16, 14)\t-1.0\n",
      "  (17, 15)\t-1.0\n"
     ]
    }
   ],
   "source": [
    "print(Ai)"
   ],
   "metadata": {
    "collapsed": false,
    "ExecuteTime": {
     "end_time": "2023-06-04T11:22:05.883677500Z",
     "start_time": "2023-06-04T11:22:05.813863500Z"
    }
   }
  },
  {
   "cell_type": "markdown",
   "source": [
    "### Iteration loop"
   ],
   "metadata": {
    "collapsed": false
   }
  },
  {
   "cell_type": "code",
   "execution_count": 91,
   "outputs": [
    {
     "name": "stdout",
     "output_type": "stream",
     "text": [
      "max it: 150; i: 1\n"
     ]
    }
   ],
   "source": [
    "# do Newton iterations\n",
    "while (not converged) and (i < 1):\n",
    "    # update iteration counter\n",
    "    i += 1\n",
    "    print(f\"max it: {opt['max_it']}; i: {i}\")\n",
    "    # compute update step\n",
    "    lmbda = {\"eqnonlin\": lam[range(neqnln)],\n",
    "             \"ineqnonlin\": mu[range(niqnln)]}\n",
    "    if nonlinear:\n",
    "        if hess_fcn is None:\n",
    "            print(\"pips: Hessian evaluation via finite differences \"\n",
    "                  \"not yet implemented.\\nPlease provide \"\n",
    "                  \"your own hessian evaluation function.\")\n",
    "        Lxx = hess_fcn(x, lmbda, opt[\"cost_mult\"])\n",
    "    else:\n",
    "        _, _, d2f = f_fcn(x, True)      # cost\n",
    "        Lxx = d2f * opt[\"cost_mult\"]\n",
    "    rz = range(len(z))\n",
    "    zinvdiag = sparse((1.0 / z, (rz, rz))) if len(z) else None\n",
    "    rmu = range(len(mu))\n",
    "    mudiag = sparse((mu, (rmu, rmu))) if len(mu) else None\n",
    "    dh_zinv = None if dh is None else dh * zinvdiag\n",
    "    M = Lxx if dh is None else Lxx + dh_zinv * mudiag * dh.T\n",
    "    N = Lx if dh is None else Lx + dh_zinv * (mudiag * h + gamma * e)\n",
    "\n",
    "    Ab = sparse(M) if dg is None else vstack([\n",
    "        hstack([M, dg]),\n",
    "        hstack([dg.T, sparse((neq, neq))])\n",
    "    ])\n",
    "    bb = r_[-N, -g]\n",
    "\n",
    "    dxdlam = spsolve(Ab.tocsr(), bb)\n",
    "\n",
    "    if any(isnan(dxdlam)):\n",
    "        if opt[\"verbose\"]:\n",
    "            print('\\nNumerically Failed\\n')\n",
    "        eflag = -1\n",
    "        break\n",
    "\n",
    "    dx = dxdlam[:nx]\n",
    "    dlam = dxdlam[nx:nx + neq]\n",
    "    dz = -h - z if dh is None else -h - z - dh.T * dx\n",
    "    dmu = -mu if dh is None else -mu + zinvdiag * (gamma * e - mudiag * dz)\n",
    "\n",
    "    # do the update\n",
    "    k = find(dz < 0.0)\n",
    "    alphap = min([xi * min(z[k] / -dz[k]), 1]) if len(k) else 1.0\n",
    "    k = find(dmu < 0.0)\n",
    "    alphad = min([xi * min(mu[k] / -dmu[k]), 1]) if len(k) else 1.0\n",
    "    x = x + alphap * dx\n",
    "    z = z + alphap * dz\n",
    "    lam = lam + alphad * dlam\n",
    "    mu = mu + alphad * dmu\n",
    "    if niq > 0:\n",
    "        gamma = sigma * dot(z, mu) / niq\n",
    "\n",
    "    # evaluate cost, constraints, derivatives\n",
    "    f, df = f_fcn(x)             # cost\n",
    "    f = f * opt[\"cost_mult\"]\n",
    "    df = df * opt[\"cost_mult\"]\n",
    "    if nonlinear:\n",
    "        hn, gn, dhn, dgn = gh_fcn(x)                   # nln constraints\n",
    "#            g = gn if Ai is None else r_[gn, Ai * x - bi] # ieq constraints\n",
    "#            h = hn if Ae is None else r_[hn, Ae * x - be] # eq constraints\n",
    "        h = hn if Ai is None else r_[hn.reshape(len(hn),), Ai * x - bi] # ieq constr\n",
    "        g = gn if Ae is None else r_[gn, Ae * x - be]  # eq constr\n",
    "\n",
    "        if (dhn is None) and (Ai is None):\n",
    "            dh = None\n",
    "        elif dhn is None:\n",
    "            dh = Ai.T\n",
    "        elif Ai is None:\n",
    "            dh = dhn\n",
    "        else:\n",
    "            dh = hstack([dhn, Ai.T])\n",
    "\n",
    "        if (dgn is None) and (Ae is None):\n",
    "            dg = None\n",
    "        elif dgn is None:\n",
    "            dg = Ae.T\n",
    "        elif Ae is None:\n",
    "            dg = dgn\n",
    "        else:\n",
    "            dg = hstack([dgn, Ae.T])\n",
    "    else:\n",
    "        h = -bi if Ai is None else Ai * x - bi    # inequality constraints\n",
    "        g = -be if Ae is None else Ae * x - be    # equality constraints\n",
    "        # 1st derivatives are constant, still dh = Ai.T, dg = Ae.T\n",
    "\n",
    "    Lx = df\n",
    "    Lx = Lx + dg * lam if dg is not None else Lx\n",
    "    Lx = Lx + dh * mu  if dh is not None else Lx\n",
    "\n",
    "    if len(h) == 0:\n",
    "        maxh = zeros(1)\n",
    "    else:\n",
    "        maxh = max(h)\n",
    "\n",
    "    gnorm = norm(g, Inf) if len(g) else 0.0\n",
    "    lam_norm = norm(lam, Inf) if len(lam) else 0.0\n",
    "    mu_norm = norm(mu, Inf) if len(mu) else 0.0\n",
    "    znorm = norm(z, Inf) if len(z) else 0.0\n",
    "    feascond = \\\n",
    "        max([gnorm, maxh]) / (1 + max([norm(x, Inf), znorm]))\n",
    "    gradcond = \\\n",
    "        norm(Lx, Inf) / (1 + max([lam_norm, mu_norm]))\n",
    "    compcond = dot(z, mu) / (1 + norm(x, Inf))\n",
    "    costcond = float(absolute(f - f0) / (1 + absolute(f0)))\n",
    "\n",
    "    hist.append({'feascond': feascond, 'gradcond': gradcond,\n",
    "        'compcond': compcond, 'costcond': costcond, 'gamma': gamma,\n",
    "        'stepsize': norm(dx), 'obj': f / opt[\"cost_mult\"],\n",
    "        'alphap': alphap, 'alphad': alphad})\n",
    "\n",
    "    if opt[\"verbose\"] > 1:\n",
    "        print(\"%3d  %12.8g %10.5g %12g %12g %12g %12g\" %\n",
    "            (i, (f / opt[\"cost_mult\"]), norm(dx), feascond, gradcond,\n",
    "             compcond, costcond))\n",
    "\n",
    "    if feascond < opt[\"feastol\"] and gradcond < opt[\"gradtol\"] and \\\n",
    "        compcond < opt[\"comptol\"] and costcond < opt[\"costtol\"]:\n",
    "        converged = True\n",
    "        if opt[\"verbose\"]:\n",
    "            print(\"Converged!\")\n",
    "    else:\n",
    "        if any(isnan(x)) or (alphap < alpha_min) or \\\n",
    "            (alphad < alpha_min) or (gamma < EPS) or (gamma > 1.0 / EPS):\n",
    "            if opt[\"verbose\"]:\n",
    "                print(\"Numerically failed.\")\n",
    "            eflag = -1\n",
    "            break\n",
    "        f0 = f\n",
    "\n",
    "        if opt[\"step_control\"]:\n",
    "            L = f + dot(lam, g) + dot(mu, (h + z)) - gamma * sum(log(z))\n"
   ],
   "metadata": {
    "collapsed": false,
    "ExecuteTime": {
     "end_time": "2023-06-04T11:25:51.124751600Z",
     "start_time": "2023-06-04T11:25:51.058681400Z"
    }
   }
  },
  {
   "cell_type": "code",
   "execution_count": 65,
   "outputs": [
    {
     "name": "stdout",
     "output_type": "stream",
     "text": [
      "Lxx: [[ 6.08292972e+05 -6.08292972e+05  0.00000000e+00  0.00000000e+00\n",
      "   0.00000000e+00  0.00000000e+00  7.27595761e-12  0.00000000e+00\n",
      "   0.00000000e+00  0.00000000e+00  0.00000000e+00  0.00000000e+00\n",
      "   0.00000000e+00  0.00000000e+00  0.00000000e+00  0.00000000e+00]\n",
      " [-6.08292972e+05  9.58116109e+05 -3.49823137e+05  0.00000000e+00\n",
      "   0.00000000e+00  0.00000000e+00  0.00000000e+00 -7.27595761e-12\n",
      "   0.00000000e+00  0.00000000e+00  0.00000000e+00  0.00000000e+00\n",
      "   0.00000000e+00  0.00000000e+00  0.00000000e+00  0.00000000e+00]\n",
      " [ 0.00000000e+00 -3.49823137e+05  1.27897291e+06 -3.49823137e+05\n",
      "   0.00000000e+00 -5.79326640e+05  0.00000000e+00  0.00000000e+00\n",
      "   0.00000000e+00  0.00000000e+00  0.00000000e+00  0.00000000e+00\n",
      "   0.00000000e+00  0.00000000e+00  0.00000000e+00  0.00000000e+00]\n",
      " [ 0.00000000e+00  0.00000000e+00 -3.49823137e+05  6.99646273e+05\n",
      "  -3.49823137e+05  0.00000000e+00  0.00000000e+00  0.00000000e+00\n",
      "   0.00000000e+00  0.00000000e+00  0.00000000e+00  0.00000000e+00\n",
      "   0.00000000e+00  0.00000000e+00  0.00000000e+00  0.00000000e+00]\n",
      " [ 0.00000000e+00  0.00000000e+00  0.00000000e+00 -3.49823137e+05\n",
      "   3.49823137e+05  0.00000000e+00  0.00000000e+00  0.00000000e+00\n",
      "   0.00000000e+00  0.00000000e+00  0.00000000e+00  0.00000000e+00\n",
      "   0.00000000e+00  0.00000000e+00  0.00000000e+00  0.00000000e+00]\n",
      " [ 0.00000000e+00  0.00000000e+00 -5.79326640e+05  0.00000000e+00\n",
      "   0.00000000e+00  5.79326640e+05  0.00000000e+00  0.00000000e+00\n",
      "   0.00000000e+00  0.00000000e+00  0.00000000e+00  0.00000000e+00\n",
      "   0.00000000e+00  0.00000000e+00  0.00000000e+00  0.00000000e+00]\n",
      " [ 7.27595761e-12  0.00000000e+00  0.00000000e+00  0.00000000e+00\n",
      "   0.00000000e+00  0.00000000e+00  5.79329351e+05 -5.79326640e+05\n",
      "   0.00000000e+00  0.00000000e+00  0.00000000e+00  0.00000000e+00\n",
      "   0.00000000e+00  0.00000000e+00  0.00000000e+00  0.00000000e+00]\n",
      " [ 0.00000000e+00 -7.27595761e-12  0.00000000e+00  0.00000000e+00\n",
      "   0.00000000e+00  0.00000000e+00 -5.79326640e+05  9.29156968e+05\n",
      "  -3.49823137e+05  0.00000000e+00  0.00000000e+00  0.00000000e+00\n",
      "   0.00000000e+00  0.00000000e+00  0.00000000e+00  0.00000000e+00]\n",
      " [ 0.00000000e+00  0.00000000e+00  0.00000000e+00  0.00000000e+00\n",
      "   0.00000000e+00  0.00000000e+00  0.00000000e+00 -3.49823137e+05\n",
      "   1.27898459e+06 -3.49823137e+05  0.00000000e+00 -5.79326640e+05\n",
      "   0.00000000e+00  0.00000000e+00  0.00000000e+00  0.00000000e+00]\n",
      " [ 0.00000000e+00  0.00000000e+00  0.00000000e+00  0.00000000e+00\n",
      "   0.00000000e+00  0.00000000e+00  0.00000000e+00  0.00000000e+00\n",
      "  -3.49823137e+05  6.99655235e+05 -3.49823137e+05  0.00000000e+00\n",
      "   0.00000000e+00  0.00000000e+00  0.00000000e+00  0.00000000e+00]\n",
      " [ 0.00000000e+00  0.00000000e+00  0.00000000e+00  0.00000000e+00\n",
      "   0.00000000e+00  0.00000000e+00  0.00000000e+00  0.00000000e+00\n",
      "   0.00000000e+00 -3.49823137e+05  3.49827617e+05  0.00000000e+00\n",
      "   0.00000000e+00  0.00000000e+00  0.00000000e+00  0.00000000e+00]\n",
      " [ 0.00000000e+00  0.00000000e+00  0.00000000e+00  0.00000000e+00\n",
      "   0.00000000e+00  0.00000000e+00  0.00000000e+00  0.00000000e+00\n",
      "  -5.79326640e+05  0.00000000e+00  0.00000000e+00  5.79329351e+05\n",
      "   0.00000000e+00  0.00000000e+00  0.00000000e+00  0.00000000e+00]\n",
      " [ 0.00000000e+00  0.00000000e+00  0.00000000e+00  0.00000000e+00\n",
      "   0.00000000e+00  0.00000000e+00  0.00000000e+00  0.00000000e+00\n",
      "   0.00000000e+00  0.00000000e+00  0.00000000e+00  0.00000000e+00\n",
      "   0.00000000e+00  0.00000000e+00  0.00000000e+00  0.00000000e+00]\n",
      " [ 0.00000000e+00  0.00000000e+00  0.00000000e+00  0.00000000e+00\n",
      "   0.00000000e+00  0.00000000e+00  0.00000000e+00  0.00000000e+00\n",
      "   0.00000000e+00  0.00000000e+00  0.00000000e+00  0.00000000e+00\n",
      "   0.00000000e+00  0.00000000e+00  0.00000000e+00  0.00000000e+00]\n",
      " [ 0.00000000e+00  0.00000000e+00  0.00000000e+00  0.00000000e+00\n",
      "   0.00000000e+00  0.00000000e+00  0.00000000e+00  0.00000000e+00\n",
      "   0.00000000e+00  0.00000000e+00  0.00000000e+00  0.00000000e+00\n",
      "   0.00000000e+00  0.00000000e+00  0.00000000e+00  0.00000000e+00]\n",
      " [ 0.00000000e+00  0.00000000e+00  0.00000000e+00  0.00000000e+00\n",
      "   0.00000000e+00  0.00000000e+00  0.00000000e+00  0.00000000e+00\n",
      "   0.00000000e+00  0.00000000e+00  0.00000000e+00  0.00000000e+00\n",
      "   0.00000000e+00  0.00000000e+00  0.00000000e+00  0.00000000e+00]]\n"
     ]
    }
   ],
   "source": [
    "print(f\"Lxx: {Lxx.toarray()}\")\n"
   ],
   "metadata": {
    "collapsed": false,
    "ExecuteTime": {
     "end_time": "2023-06-04T07:02:00.673336100Z",
     "start_time": "2023-06-04T07:02:00.595848700Z"
    }
   }
  },
  {
   "cell_type": "code",
   "execution_count": 66,
   "outputs": [
    {
     "name": "stdout",
     "output_type": "stream",
     "text": [
      "dxdlam:[ 0.00000000e+00 -1.08418363e-02  9.02859755e-03 -8.83492868e-02\n",
      " -1.36005826e-01 -2.77964824e-02  0.00000000e+00  2.23184917e-02\n",
      " -8.75397820e-03 -3.95947024e-02 -5.71969480e-02 -2.29541905e-02\n",
      " -4.91340899e+02  6.38460652e+00  6.87341542e+00 -2.01218903e+01\n",
      "  1.80346364e+01  1.60868888e+01  1.03192303e+01  1.29531655e+02\n",
      "  1.89162197e+02  7.01420314e+01  1.37468308e-08 -4.26652326e+01\n",
      " -4.02437806e-08 -1.67696619e+01 -2.22526668e+01 -4.45644602e+00\n",
      " -7.46005065e-12 -1.15387682e+03]\n"
     ]
    }
   ],
   "source": [
    "print(f\"dxdlam:{dxdlam}\")"
   ],
   "metadata": {
    "collapsed": false,
    "ExecuteTime": {
     "end_time": "2023-06-04T07:09:09.053252500Z",
     "start_time": "2023-06-04T07:09:08.961500100Z"
    }
   }
  },
  {
   "cell_type": "code",
   "execution_count": 67,
   "outputs": [
    {
     "name": "stdout",
     "output_type": "stream",
     "text": [
      "Ab:  (0, 7)\t91.44355891476664\n",
      "  (0, 6)\t-95.61317967496848\n",
      "  (0, 1)\t-608334.4586067942\n",
      "  (0, 0)\t608334.4586067941\n",
      "  (1, 8)\t75.72801186223592\n",
      "  (1, 6)\t95.61317967497234\n",
      "  (1, 7)\t-167.17157077700642\n",
      "  (1, 2)\t-349859.0693443677\n",
      "  (1, 1)\t958193.5279511621\n",
      "  (1, 0)\t-608334.4586067942\n",
      "  (2, 8)\t-227.25946669852146\n",
      "  (2, 9)\t75.72801186223592\n",
      "  (2, 7)\t75.72801186223592\n",
      "  (2, 11)\t75.80344297404963\n",
      "  (2, 5)\t-579362.5687947819\n",
      "  (2, 3)\t-349859.0693443677\n",
      "  (2, 2)\t1279080.7074835175\n",
      "  (2, 1)\t-349859.0693443677\n",
      "  (3, 9)\t-151.45602372447183\n",
      "  (3, 10)\t75.72801186223592\n",
      "  (3, 8)\t75.72801186223592\n",
      "  (3, 4)\t-349859.0693443677\n",
      "  (3, 3)\t699718.1386887354\n",
      "  (3, 2)\t-349859.0693443677\n",
      "  (4, 9)\t75.72801186223592\n",
      "  :\t:\n",
      "  (21, 8)\t-162.99668368338897\n",
      "  (23, 8)\t-267.9269657338639\n",
      "  (24, 8)\t872.0160557848681\n",
      "  (25, 8)\t-267.9269657338639\n",
      "  (27, 8)\t-344.47752737211067\n",
      "  (18, 9)\t-126.77519842041363\n",
      "  (19, 9)\t253.55039684082726\n",
      "  (20, 9)\t-126.77519842041363\n",
      "  (24, 9)\t-267.9269657338639\n",
      "  (25, 9)\t529.8668412681491\n",
      "  (26, 9)\t-267.9269657338639\n",
      "  (19, 10)\t-126.77519842041363\n",
      "  (20, 10)\t126.77519842041363\n",
      "  (25, 10)\t-267.9269657338639\n",
      "  (26, 10)\t264.93342063407454\n",
      "  (18, 11)\t-162.99668368338897\n",
      "  (21, 11)\t162.99668368338897\n",
      "  (24, 11)\t-344.47752737211067\n",
      "  (27, 11)\t342.149214516719\n",
      "  (16, 12)\t-1.0\n",
      "  (18, 13)\t-1.0\n",
      "  (22, 14)\t-1.0\n",
      "  (24, 15)\t-1.0\n",
      "  (28, 0)\t1.0\n",
      "  (29, 6)\t1.0\n",
      "bb:[ 5.58090041e-04 -5.58090041e-04  5.68434189e-14 -0.00000000e+00\n",
      " -0.00000000e+00 -0.00000000e+00 -3.78555132e+00  3.78421044e+00\n",
      " -1.45595158e-03 -1.11786826e-03 -5.58934129e-04 -3.38083319e-04\n",
      " -2.00000000e+01 -1.00000000e+01 -0.00000000e+00 -0.00000000e+00\n",
      "  4.91442674e+02 -1.85016582e+00  4.00000000e+01 -1.50000000e+01\n",
      " -1.50000000e+01 -1.50000000e+01 -1.68015877e+01  1.98848053e+01\n",
      "  4.15770153e+00  2.99354510e+00  1.49677255e+00  1.16415643e+00\n",
      " -0.00000000e+00 -0.00000000e+00]\n"
     ]
    }
   ],
   "source": [
    "print(f\"Ab:{Ab}\\nbb:{bb}\")"
   ],
   "metadata": {
    "collapsed": false,
    "ExecuteTime": {
     "end_time": "2023-06-04T07:12:02.853386400Z",
     "start_time": "2023-06-04T07:12:02.774860200Z"
    }
   }
  },
  {
   "cell_type": "code",
   "execution_count": 68,
   "outputs": [
    {
     "data": {
      "text/plain": "(30, 30)"
     },
     "execution_count": 68,
     "metadata": {},
     "output_type": "execute_result"
    }
   ],
   "source": [
    "Ab.shape"
   ],
   "metadata": {
    "collapsed": false,
    "ExecuteTime": {
     "end_time": "2023-06-04T07:20:46.794880300Z",
     "start_time": "2023-06-04T07:20:46.734873700Z"
    }
   }
  },
  {
   "cell_type": "code",
   "execution_count": 74,
   "outputs": [
    {
     "name": "stdout",
     "output_type": "stream",
     "text": [
      "[-4.26075931e+03  4.46502602e+03 -2.92419566e+02  3.00365780e+02\n",
      " -3.75242041e+02  1.63029113e+02  2.67629078e+07 -2.67540988e+07\n",
      "  9.56307214e+03  6.96658792e+03  3.44657682e+03  2.16737614e+03\n",
      "  7.97093165e+00  5.26530355e+00  1.35137482e-08 -3.95614323e-08]\n"
     ]
    }
   ],
   "source": [
    "print(Lx + dh_zinv * (mudiag * h + gamma * e))"
   ],
   "metadata": {
    "collapsed": false,
    "ExecuteTime": {
     "end_time": "2023-06-04T08:05:58.923770500Z",
     "start_time": "2023-06-04T08:05:58.843984Z"
    }
   }
  },
  {
   "cell_type": "code",
   "execution_count": 73,
   "outputs": [
    {
     "data": {
      "text/plain": "(16,)"
     },
     "execution_count": 73,
     "metadata": {},
     "output_type": "execute_result"
    }
   ],
   "source": [
    "(dh_zinv * (mudiag * h + gamma * e)).shape"
   ],
   "metadata": {
    "collapsed": false,
    "ExecuteTime": {
     "end_time": "2023-06-04T08:05:47.805216200Z",
     "start_time": "2023-06-04T08:05:47.736596700Z"
    }
   }
  },
  {
   "cell_type": "code",
   "execution_count": 76,
   "outputs": [
    {
     "name": "stdout",
     "output_type": "stream",
     "text": [
      "[-3.15431743e+02  5.22738110e+02 -2.96708652e+02  3.01118514e+02\n",
      " -3.74963740e+02  1.63247510e+02  1.49305720e+04 -1.56026999e+04\n",
      " -7.15759503e+02 -9.33998102e+02 -5.03256224e+02 -2.21897926e+02\n",
      "  9.90297178e+00  4.95148589e+00  9.69417421e-17  8.37681472e-17]\n"
     ]
    }
   ],
   "source": [
    "print(Lx)"
   ],
   "metadata": {
    "collapsed": false,
    "ExecuteTime": {
     "end_time": "2023-06-04T08:10:48.105735600Z",
     "start_time": "2023-06-04T08:10:48.028851600Z"
    }
   }
  },
  {
   "cell_type": "code",
   "execution_count": 78,
   "outputs": [
    {
     "name": "stdout",
     "output_type": "stream",
     "text": [
      "[-3.94532757e+03  3.94228791e+03  4.28908589e+00 -7.52733278e-01\n",
      " -2.78300925e-01 -2.18396961e-01  2.67479772e+07 -2.67384961e+07\n",
      "  1.02788316e+04  7.90058602e+03  3.94983304e+03  2.38927407e+03\n",
      " -1.93204013e+00  3.13817659e-01  1.35137481e-08 -3.95614324e-08]\n"
     ]
    }
   ],
   "source": [
    "print(dh_zinv * (mudiag * h + gamma * e))"
   ],
   "metadata": {
    "collapsed": false,
    "ExecuteTime": {
     "end_time": "2023-06-04T08:13:03.727039600Z",
     "start_time": "2023-06-04T08:13:03.676178200Z"
    }
   }
  },
  {
   "cell_type": "code",
   "execution_count": 81,
   "outputs": [
    {
     "name": "stdout",
     "output_type": "stream",
     "text": [
      "[[ 371.48023149 -367.75209887    0.            0.            0.\n",
      "     0.         -170.95202974  178.83107291    0.            0.\n",
      "     0.            0.            1.            0.        ]\n",
      " [-371.48023149  636.64061076 -273.90603262    0.            0.\n",
      "     0.          170.95202974 -312.55033813  123.11522658    0.\n",
      "     0.            0.            0.            0.        ]\n",
      " [   0.         -268.8885119   878.8698316  -242.56827256    0.\n",
      "  -327.87159981    0.          133.71926522 -364.71706536  144.63921783\n",
      "     0.          169.92555861    0.            0.        ]\n",
      " [   0.            0.         -265.65906737  490.70671829 -237.3681742\n",
      "     0.            0.            0.           95.83908448 -248.12202211\n",
      "   126.24471832    0.            0.            0.        ]\n",
      " [   0.            0.            0.         -248.13844573  237.3681742\n",
      "     0.            0.            0.            0.          103.48280428\n",
      "  -126.24471832    0.            0.            0.        ]\n",
      " [   0.            0.         -339.30473161    0.            0.\n",
      "   327.87159981    0.            0.          145.7627543     0.\n",
      "     0.         -169.92555861    0.            0.        ]\n",
      " [ 179.48157884 -170.31530754    0.            0.            0.\n",
      "     0.          367.16738233 -350.24009416    0.            0.\n",
      "     0.            0.            0.            1.        ]\n",
      " [-167.28185359  286.41881489 -120.47206072    0.            0.\n",
      "     0.         -363.50490713  623.2702181  -268.02553274    0.\n",
      "     0.            0.            0.            0.        ]\n",
      " [   0.         -134.87998182  458.042026   -145.89472235    0.\n",
      "  -171.40055488    0.         -271.2225313   850.7689571  -244.67382572\n",
      "     0.         -330.71760714    0.            0.        ]\n",
      " [   0.            0.          -99.72054304  229.19182616 -131.35759733\n",
      "     0.            0.            0.         -276.41819208  513.65912413\n",
      "  -246.98152493    0.            0.            0.        ]\n",
      " [   0.            0.            0.         -109.64799906  105.52798035\n",
      "     0.            0.            0.            0.         -262.92178933\n",
      "   251.38930669    0.            0.            0.        ]\n",
      " [   0.            0.         -149.12782269    0.            0.\n",
      "   144.78888131    0.            0.         -347.13789607    0.\n",
      "     0.          335.69219392    0.            0.        ]\n",
      " [  -1.            0.            0.            0.            0.\n",
      "     0.            0.            0.            0.            0.\n",
      "     0.            0.            0.            0.        ]\n",
      " [   0.            0.           -1.            0.            0.\n",
      "     0.            0.            0.            0.            0.\n",
      "     0.            0.            0.            0.        ]\n",
      " [   0.            0.            0.            0.            0.\n",
      "     0.           -1.            0.            0.            0.\n",
      "     0.            0.            0.            0.        ]\n",
      " [   0.            0.            0.            0.            0.\n",
      "     0.            0.            0.           -1.            0.\n",
      "     0.            0.            0.            0.        ]]\n"
     ]
    }
   ],
   "source": [
    "print(dg.toarray())"
   ],
   "metadata": {
    "collapsed": false,
    "ExecuteTime": {
     "end_time": "2023-06-04T08:24:16.959007800Z",
     "start_time": "2023-06-04T08:24:16.818385700Z"
    }
   }
  },
  {
   "cell_type": "code",
   "execution_count": 92,
   "outputs": [
    {
     "name": "stdout",
     "output_type": "stream",
     "text": [
      "  (0, 3)\t3719.8563715503165\n",
      "  (0, 8)\t2905.451877035773\n",
      "  (1, 2)\t-3076.9104309543004\n",
      "  (1, 3)\t-3719.856371550317\n",
      "  (1, 7)\t-3845.7560653242244\n",
      "  (1, 8)\t-2905.451877035773\n",
      "  (2, 1)\t16289.110371959681\n",
      "  (2, 2)\t3076.9104309543004\n",
      "  (2, 4)\t9791.465789094711\n",
      "  (2, 6)\t15569.22772847432\n",
      "  (2, 7)\t3845.7560653242244\n",
      "  (2, 9)\t10526.486946351524\n",
      "  (3, 0)\t7773.714316406145\n",
      "  (3, 1)\t-16289.110371959683\n",
      "  (3, 5)\t7086.01461683815\n",
      "  (3, 6)\t-15569.227728474321\n",
      "  (4, 0)\t-7773.714316406145\n",
      "  (4, 5)\t-7086.01461683815\n",
      "  (5, 4)\t-9791.465789094713\n",
      "  (5, 9)\t-10526.486946351522\n",
      "  (6, 3)\t7309.569641931692\n",
      "  (6, 8)\t8982.764738383588\n",
      "  (7, 2)\t4553.446000678547\n",
      "  (7, 3)\t-7286.761694761755\n",
      "  (7, 7)\t6202.861790876377\n",
      "  :\t:\n",
      "  (9, 1)\t-3702.2325089789338\n",
      "  (9, 5)\t3961.8136523955686\n",
      "  (9, 6)\t-5311.514904418306\n",
      "  (10, 0)\t-2068.1566495466054\n",
      "  (10, 5)\t-3611.998832396194\n",
      "  (11, 4)\t-4650.312866919104\n",
      "  (11, 9)\t-3057.8214328422127\n",
      "  (7, 10)\t1.0\n",
      "  (8, 11)\t1.0\n",
      "  (9, 12)\t1.0\n",
      "  (10, 13)\t1.0\n",
      "  (11, 14)\t1.0\n",
      "  (12, 15)\t1.0\n",
      "  (13, 16)\t1.0\n",
      "  (14, 17)\t1.0\n",
      "  (15, 18)\t1.0\n",
      "  (7, 19)\t-1.0\n",
      "  (8, 20)\t-1.0\n",
      "  (9, 21)\t-1.0\n",
      "  (10, 22)\t-1.0\n",
      "  (11, 23)\t-1.0\n",
      "  (12, 24)\t-1.0\n",
      "  (13, 25)\t-1.0\n",
      "  (14, 26)\t-1.0\n",
      "  (15, 27)\t-1.0\n"
     ]
    }
   ],
   "source": [
    "print(dh)"
   ],
   "metadata": {
    "collapsed": false,
    "ExecuteTime": {
     "end_time": "2023-06-04T11:25:59.441176300Z",
     "start_time": "2023-06-04T11:25:59.394301300Z"
    }
   }
  },
  {
   "cell_type": "code",
   "execution_count": 30,
   "outputs": [
    {
     "data": {
      "text/plain": "array([ 0.  ,  0.  ,  0.  ,  0.  ,  0.  ,  0.  ,  1.05,  1.  ,  1.  ,\n        1.  ,  1.  ,  1.  ,  0.  , 80.  ,  0.  ,  0.  ])"
     },
     "execution_count": 30,
     "metadata": {},
     "output_type": "execute_result"
    }
   ],
   "source": [
    "x_0, _, _ = om.getv()\n",
    "x_0"
   ],
   "metadata": {
    "collapsed": false
   }
  },
  {
   "cell_type": "code",
   "execution_count": 30,
   "outputs": [],
   "source": [],
   "metadata": {
    "collapsed": false
   }
  }
 ],
 "metadata": {
  "kernelspec": {
   "name": "nvenv",
   "language": "python",
   "display_name": "nvenv"
  },
  "language_info": {
   "codemirror_mode": {
    "name": "ipython",
    "version": 2
   },
   "file_extension": ".py",
   "mimetype": "text/x-python",
   "name": "python",
   "nbconvert_exporter": "python",
   "pygments_lexer": "ipython2",
   "version": "2.7.6"
  }
 },
 "nbformat": 4,
 "nbformat_minor": 0
}
