{
 "cells": [
  {
   "cell_type": "code",
   "execution_count": 1,
   "outputs": [
    {
     "name": "stderr",
     "output_type": "stream",
     "text": [
      "/home/huzuntao/PycharmProjects/MPP_Powersystem/venv/lib/python3.8/site-packages/numba/core/errors.py:175: UserWarning: Insufficiently recent colorama version found. Numba requires colorama >= 0.3.9\n",
      "  warnings.warn(msg)\n"
     ]
    }
   ],
   "source": [
    "import os.path\n",
    "import pandapower.networks as pn\n",
    "import pandapower as pp\n",
    "import pandas as pd\n",
    "import gurobipy as gp\n",
    "from gurobipy import GRB\n",
    "from numpy import flatnonzero as find, ones, zeros, Inf, pi, exp, conj, r_, arange, array\n",
    "from pypower_.makeYbus import makeYbus\n",
    "from pypower_.idx_brch import F_BUS, T_BUS, RATE_A, PF, QF, PT, QT, MU_SF, MU_ST\n",
    "from pypower_.idx_gen import GEN_BUS, PG, QG\n",
    "from pypower_.idx_cost import MODEL, PW_LINEAR, NCOST, POLYNOMIAL\n",
    "from pypower_.totcost import totcost\n",
    "from pypower_.makeSbus import makeSbus\n",
    "from pypower_.idx_bus import BUS_TYPE, REF, VM, VA, MU_VMAX, MU_VMIN, LAM_P, LAM_Q\n",
    "import cvxpy as cp\n",
    "import numpy as np\n",
    "from scipy.sparse import csr_matrix as sparse\n",
    "from pypower_.idx_bus import PD, QD\n",
    "from pypower_.idx_gen import GEN_BUS, PG, QG, GEN_STATUS"
   ],
   "metadata": {
    "collapsed": false
   }
  },
  {
   "cell_type": "code",
   "execution_count": 2,
   "outputs": [
    {
     "name": "stdout",
     "output_type": "stream",
     "text": [
      "['/snap/pycharm-professional/319/plugins/python/helpers-pro/jupyter_debug', '/snap/pycharm-professional/319/plugins/python/helpers/pydev', '/home/huzuntao/PycharmProjects/MPP_Powersystem/notebooks', '/home/huzuntao/PycharmProjects/MPP_Powersystem', '/usr/lib/python38.zip', '/usr/lib/python3.8', '/usr/lib/python3.8/lib-dynload', '', '/home/huzuntao/PycharmProjects/MPP_Powersystem/venv/lib/python3.8/site-packages', '/usr/lib/python3.8/site-packages', '/usr/local/lib/python3.8/dist-packages', '/usr/lib/python3/dist-packages']\n",
      "<module 'posixpath' from '/usr/lib/python3.8/posixpath.py'>\n"
     ]
    }
   ],
   "source": [
    "import sys\n",
    "print(sys.path)\n",
    "print(os.path)\n",
    "path_current = '/home/ubuntu-h/PycharmProjects/scientificProject'\n",
    "if path_current not in sys.path:\n",
    "    sys.path.insert(1, '/home/ubuntu-h/PycharmProjects/scientificProject')"
   ],
   "metadata": {
    "collapsed": false
   }
  },
  {
   "cell_type": "code",
   "execution_count": 3,
   "outputs": [],
   "source": [
    "import pandapower as pp\n",
    "net = pp.create_empty_network()\n",
    "\n",
    "# create buses\n",
    "bus1 = pp.create_bus(net, vn_kv=110.)\n",
    "bus2 = pp.create_bus(net, vn_kv=110.)\n",
    "bus3 = pp.create_bus(net, vn_kv=110.)\n",
    "# bus4 = pp.create_bus(net, vn_kv=110.)\n",
    "# bus5 = pp.create_bus(net, vn_kv=110.)\n",
    "\n",
    "# create 110 kV lines\n",
    "pp.create_line(net, bus2, bus3, length_km=70., std_type='149-AL1/24-ST1A 110.0')\n",
    "# pp.create_line(net, bus3, bus4, length_km=50., std_type=\"149-AL1/24-ST1A 110.0\")\n",
    "# pp.create_line(net, bus4, bus2, length_km=40., std_type=\"149-AL1/24-ST1A 110.0\")\n",
    "pp.create_line(net, bus1, bus2, length_km=70., std_type='149-AL1/24-ST1A 110.0')\n",
    "\n",
    "# create loads\n",
    "pp.create_load(net, bus1, p_mw=30., controllable=False)\n",
    "# pp.create_load(net, bus3, p_mw=70., controllable=False)\n",
    "# pp.create_load(net, bus4, p_mw=25., controllable=False)\n",
    "\n",
    "# create generators\n",
    "eg = pp.create_ext_grid(net, bus3, min_p_mw=0, max_p_mw=1000, vm_pu=1.05)\n",
    "g0 = pp.create_gen(net, bus2, p_mw=80, min_p_mw=0, max_p_mw=50, vm_pu=1.00, controllable=True)\n",
    "# g1 = pp.create_gen(net, bus4, p_mw=100, min_p_mw=0, max_p_mw=100, vm_pu=1.00, controllable=True)\n",
    "\n",
    "\n",
    "costeg = pp.create_poly_cost(net, 0, 'ext_grid', cp1_eur_per_mw=20)\n",
    "costgen1 = pp.create_poly_cost(net, 0, 'gen', cp1_eur_per_mw=10)\n",
    "costgen2 = pp.create_poly_cost(net, 1, 'gen', cp1_eur_per_mw=10)"
   ],
   "metadata": {
    "collapsed": false
   }
  },
  {
   "cell_type": "markdown",
   "source": [
    "![xx -w50](grid2GUROBI.png)"
   ],
   "metadata": {
    "collapsed": false
   }
  },
  {
   "cell_type": "markdown",
   "source": [],
   "metadata": {
    "collapsed": false
   }
  },
  {
   "cell_type": "code",
   "execution_count": 4,
   "outputs": [
    {
     "data": {
      "text/plain": "   element        et  cp0_eur  cp1_eur_per_mw  cp2_eur_per_mw2  cq0_eur  \\\n0        0  ext_grid      0.0            20.0              0.0      0.0   \n1        0       gen      0.0            10.0              0.0      0.0   \n2        1       gen      0.0            10.0              0.0      0.0   \n\n   cq1_eur_per_mvar  cq2_eur_per_mvar2  \n0               0.0                0.0  \n1               0.0                0.0  \n2               0.0                0.0  ",
      "text/html": "<div>\n<style scoped>\n    .dataframe tbody tr th:only-of-type {\n        vertical-align: middle;\n    }\n\n    .dataframe tbody tr th {\n        vertical-align: top;\n    }\n\n    .dataframe thead th {\n        text-align: right;\n    }\n</style>\n<table border=\"1\" class=\"dataframe\">\n  <thead>\n    <tr style=\"text-align: right;\">\n      <th></th>\n      <th>element</th>\n      <th>et</th>\n      <th>cp0_eur</th>\n      <th>cp1_eur_per_mw</th>\n      <th>cp2_eur_per_mw2</th>\n      <th>cq0_eur</th>\n      <th>cq1_eur_per_mvar</th>\n      <th>cq2_eur_per_mvar2</th>\n    </tr>\n  </thead>\n  <tbody>\n    <tr>\n      <th>0</th>\n      <td>0</td>\n      <td>ext_grid</td>\n      <td>0.0</td>\n      <td>20.0</td>\n      <td>0.0</td>\n      <td>0.0</td>\n      <td>0.0</td>\n      <td>0.0</td>\n    </tr>\n    <tr>\n      <th>1</th>\n      <td>0</td>\n      <td>gen</td>\n      <td>0.0</td>\n      <td>10.0</td>\n      <td>0.0</td>\n      <td>0.0</td>\n      <td>0.0</td>\n      <td>0.0</td>\n    </tr>\n    <tr>\n      <th>2</th>\n      <td>1</td>\n      <td>gen</td>\n      <td>0.0</td>\n      <td>10.0</td>\n      <td>0.0</td>\n      <td>0.0</td>\n      <td>0.0</td>\n      <td>0.0</td>\n    </tr>\n  </tbody>\n</table>\n</div>"
     },
     "execution_count": 4,
     "metadata": {},
     "output_type": "execute_result"
    }
   ],
   "source": [
    "# net.bus[\"min_vm_pu\"] = 0.98\n",
    "# net.bus[\"max_vm_pu\"] = 1.02\n",
    "net.line[\"max_loading_percent\"] = 100\n",
    "# net.sn_mva = 100\n",
    "# net = pp.networks.case14()\n",
    "# net.gen['vm_pu'] = 1.0\n",
    "# net.bus[\"min_vm_pu\"] = 0.95\n",
    "# net.bus[\"max_vm_pu\"] = 1.05\n",
    "# net.poly_cost[:,3] = 0\n",
    "# net.poly_cost['cp2_eur_per_mw2'] = 0\n",
    "net.poly_cost"
   ],
   "metadata": {
    "collapsed": false
   }
  },
  {
   "cell_type": "code",
   "execution_count": 5,
   "outputs": [],
   "source": [
    "om,ppopt = pp.runopp(net, delta=1e-16)   # solve the OPF problem"
   ],
   "metadata": {
    "collapsed": false
   }
  },
  {
   "cell_type": "code",
   "execution_count": 6,
   "outputs": [
    {
     "name": "stdout",
     "output_type": "stream",
     "text": [
      "        p_mw    q_mvar  va_degree     vm_pu\n",
      "0  30.972595  0.434275   -0.12696  1.054942\n"
     ]
    },
    {
     "data": {
      "text/plain": "   name  bus  p_mw  vm_pu  sn_mva  min_q_mvar  max_q_mvar  scaling  slack  \\\n0  None    1  80.0    1.0     NaN         NaN         NaN      1.0  False   \n\n   in_service  slack_weight  type  controllable  min_p_mw  max_p_mw  \\\n0        True           0.0  None          True       0.0      50.0   \n\n   power_station_trafo  \n0                  NaN  ",
      "text/html": "<div>\n<style scoped>\n    .dataframe tbody tr th:only-of-type {\n        vertical-align: middle;\n    }\n\n    .dataframe tbody tr th {\n        vertical-align: top;\n    }\n\n    .dataframe thead th {\n        text-align: right;\n    }\n</style>\n<table border=\"1\" class=\"dataframe\">\n  <thead>\n    <tr style=\"text-align: right;\">\n      <th></th>\n      <th>name</th>\n      <th>bus</th>\n      <th>p_mw</th>\n      <th>vm_pu</th>\n      <th>sn_mva</th>\n      <th>min_q_mvar</th>\n      <th>max_q_mvar</th>\n      <th>scaling</th>\n      <th>slack</th>\n      <th>in_service</th>\n      <th>slack_weight</th>\n      <th>type</th>\n      <th>controllable</th>\n      <th>min_p_mw</th>\n      <th>max_p_mw</th>\n      <th>power_station_trafo</th>\n    </tr>\n  </thead>\n  <tbody>\n    <tr>\n      <th>0</th>\n      <td>None</td>\n      <td>1</td>\n      <td>80.0</td>\n      <td>1.0</td>\n      <td>NaN</td>\n      <td>NaN</td>\n      <td>NaN</td>\n      <td>1.0</td>\n      <td>False</td>\n      <td>True</td>\n      <td>0.0</td>\n      <td>None</td>\n      <td>True</td>\n      <td>0.0</td>\n      <td>50.0</td>\n      <td>NaN</td>\n    </tr>\n  </tbody>\n</table>\n</div>"
     },
     "execution_count": 6,
     "metadata": {},
     "output_type": "execute_result"
    }
   ],
   "source": [
    "# net = pp.networks.case57()\n",
    "print(net.res_gen)    # output the results of two generators\n",
    "net.gen"
   ],
   "metadata": {
    "collapsed": false
   }
  },
  {
   "cell_type": "code",
   "execution_count": 7,
   "outputs": [
    {
     "name": "stdout",
     "output_type": "stream",
     "text": [
      "      p_mw    q_mvar\n",
      "0  0.00008 -3.470302\n"
     ]
    },
    {
     "data": {
      "text/plain": "0    1.05\nName: vm_pu, dtype: float64"
     },
     "execution_count": 7,
     "metadata": {},
     "output_type": "execute_result"
    }
   ],
   "source": [
    "print(net.res_ext_grid)\n",
    "net.ext_grid['vm_pu']"
   ],
   "metadata": {
    "collapsed": false
   }
  },
  {
   "cell_type": "code",
   "execution_count": 8,
   "outputs": [
    {
     "data": {
      "text/plain": "309.7275380408373"
     },
     "execution_count": 8,
     "metadata": {},
     "output_type": "execute_result"
    }
   ],
   "source": [
    "# the total cost of generation\n",
    "net.res_cost"
   ],
   "metadata": {
    "collapsed": false
   }
  },
  {
   "cell_type": "code",
   "execution_count": 9,
   "outputs": [
    {
     "data": {
      "text/plain": "{'baseMVA': 1,\n 'version': 2,\n 'bus': array([[ 0.00000000e+00,  1.00000000e+00,  3.00000000e+01,\n          0.00000000e+00,  0.00000000e+00,  0.00000000e+00,\n          1.00000000e+00,  1.02244822e+00, -3.98223525e+00,\n          1.10000000e+02,  1.00000000e+00,  2.00000000e+00,\n          0.00000000e+00,  1.06688085e+01,  1.79874386e-02,\n          0.00000000e+00,  0.00000000e+00],\n        [ 1.00000000e+00,  2.00000000e+00,  0.00000000e+00,\n          0.00000000e+00,  0.00000000e+00,  0.00000000e+00,\n          1.00000000e+00,  1.05494243e+00, -1.26959649e-01,\n          1.10000000e+02,  1.00000000e+00,  2.00000000e+00,\n          0.00000000e+00,  1.00000162e+01,  6.93307350e-22,\n          0.00000000e+00,  0.00000000e+00],\n        [ 2.00000000e+00,  3.00000000e+00,  0.00000000e+00,\n          0.00000000e+00,  0.00000000e+00,  0.00000000e+00,\n          1.00000000e+00,  1.05000000e+00,  0.00000000e+00,\n          1.10000000e+02,  1.00000000e+00,  1.05000000e+00,\n          1.05000000e+00,  9.97906806e+00, -5.53163219e-21,\n          1.96890556e+01,  0.00000000e+00]]),\n 'branch': array([[ 1.00000000e+00+0.j,  2.00000000e+00+0.j,  1.12231405e-03+0.j,\n          2.37190083e-03+0.j,  2.32831286e+00+0.j,  8.95470268e+01+0.j,\n          2.50000000e+02+0.j,  2.50000000e+02+0.j,  1.00000000e+00+0.j,\n          0.00000000e+00+0.j,  1.00000000e+00+0.j, -3.60000000e+02+0.j,\n          3.60000000e+02+0.j,  4.78862237e-03+0.j,  9.01514410e-01+0.j,\n          7.95039119e-05+0.j, -3.47030236e+00+0.j,  0.00000000e+00+0.j,\n          0.00000000e+00+0.j,  0.00000000e+00+0.j,  0.00000000e+00+0.j,\n          0.00000000e+00+0.j,  0.00000000e+00+0.j],\n        [ 0.00000000e+00+0.j,  1.00000000e+00+0.j,  1.12231405e-03+0.j,\n          2.37190083e-03+0.j,  2.32831286e+00+0.j,  8.95470268e+01+0.j,\n          2.50000000e+02+0.j,  2.50000000e+02+0.j,  1.00000000e+00+0.j,\n          0.00000000e+00+0.j,  1.00000000e+00+0.j, -3.60000000e+02+0.j,\n          3.60000000e+02+0.j, -3.00000000e+01+0.j, -2.07935891e-11+0.j,\n          3.09678062e+01+0.j, -4.67239774e-01+0.j,  0.00000000e+00+0.j,\n          0.00000000e+00+0.j,  0.00000000e+00+0.j,  0.00000000e+00+0.j,\n          0.00000000e+00+0.j,  0.00000000e+00+0.j]]),\n 'gen': array([[ 2.00000000e+00,  7.95042360e-05, -3.47030236e+00,\n          1.00000000e+09, -1.00000000e+09,  1.05000000e+00,\n          1.00000000e+00,  1.00000000e+00,  1.00000000e+03,\n         -1.00000000e-16,  0.00000000e+00,  0.00000000e+00,\n          0.00000000e+00,  0.00000000e+00,  0.00000000e+00,\n          0.00000000e+00,  0.00000000e+00,  0.00000000e+00,\n          0.00000000e+00,  0.00000000e+00,  0.00000000e+00,\n          0.00000000e+00,  1.00209327e+01,  0.00000000e+00,\n          0.00000000e+00,  1.00000000e+00],\n        [ 1.00000000e+00,  3.09725948e+01,  4.34274636e-01,\n          1.00000000e+09, -1.00000000e+09,  1.05494243e+00,\n                     nan,  1.00000000e+00,  5.00000000e+01,\n         -1.00000000e-16,  0.00000000e+00,  0.00000000e+00,\n          0.00000000e+00,  0.00000000e+00,  0.00000000e+00,\n          0.00000000e+00,  0.00000000e+00,  0.00000000e+00,\n          0.00000000e+00,  0.00000000e+00,  0.00000000e+00,\n          0.00000000e+00,  0.00000000e+00,  0.00000000e+00,\n          0.00000000e+00,  0.00000000e+00]]),\n 'internal': {'Ybus': array([], dtype=complex128),\n  'Yf': array([], dtype=complex128),\n  'Yt': array([], dtype=complex128),\n  'branch_is': array([ True,  True]),\n  'gen_is': array([ True,  True]),\n  'DLF': array([], dtype=complex128),\n  'buses_ord_bfs_nets': array([], dtype=float64),\n  'ref_gens': array([0])},\n 'gencost': array([[ 2.,  0.,  0.,  2., 20.,  0.],\n        [ 2.,  0.,  0.,  2., 10.,  0.]]),\n 'om': \n VARIABLES               name       i1       iN        N\n =========              ------    -----    -----   ------\n               0:          Va        0        3        3\n               1:          Vm        3        6        3\n               2:          Pg        6        8        2\n               3:          Qg        8       10        2\n   var['NS'] = 4                  var['N'] = 10\n \n \n NON-LINEAR CONSTRAINTS  name       i1       iN        N\n ====================== ------    -----    -----   ------\n               0:        Pmis        0        3        3\n               1:        Qmis        3        6        3\n               2:          Sf        6        8        2\n               3:          St        8       10        2\n      nln.NS = 4                     nln.N = 10\n \n \n LINEAR CONSTRAINTS      name       i1       iN        N\n ==================     ------    -----    -----   ------\n               0:         PQh        0        0        0\n               1:         PQl        0        0        0\n               2:          vl        0        0        0\n               3:         ang        0        0        0\n      lin.NS = 4                      lin.N = 0\n \n COSTS  :  <none>\n   userdata = \n {'Apqdata': {'h': array([], dtype=float64), 'l': array([], dtype=float64), 'ipql': array([], dtype=int64), 'ipqh': array([], dtype=int64)}, 'iang': array([], dtype=int64)},\n 'x': array([-6.95031167e-02, -2.21586389e-03,  0.00000000e+00,  1.02244822e+00,\n         1.05494243e+00,  1.05000000e+00,  7.95042360e-05,  3.09725948e+01,\n        -3.47030236e+00,  4.34274636e-01]),\n 'mu': {'var': {'l': array([ 0.        ,  0.        ,  0.        ,  0.        ,  0.        ,\n           0.        , 10.02093274,  0.        ,  0.        ,  0.        ]),\n   'u': array([0.00000000e+00, 0.00000000e+00, 5.55092493e-13, 0.00000000e+00,\n          0.00000000e+00, 1.96890556e+01, 0.00000000e+00, 0.00000000e+00,\n          0.00000000e+00, 0.00000000e+00])},\n  'nln': {'l': array([0.00000000e+00, 0.00000000e+00, 0.00000000e+00, 0.00000000e+00,\n          0.00000000e+00, 5.53163219e-21, 0.00000000e+00, 0.00000000e+00,\n          0.00000000e+00, 0.00000000e+00]),\n   'u': array([1.06688085e+01, 1.00000162e+01, 9.97906806e+00, 1.79874386e-02,\n          6.93307350e-22, 0.00000000e+00, 0.00000000e+00, 0.00000000e+00,\n          0.00000000e+00, 0.00000000e+00])},\n  'lin': {'l': array([], dtype=float64), 'u': array([], dtype=float64)}},\n 'f': 309.7275380408373,\n 'var': {'val': {'Va': array([-0.06950312, -0.00221586,  0.        ]),\n   'Vm': array([1.02244822, 1.05494243, 1.05      ]),\n   'Pg': array([7.95042360e-05, 3.09725948e+01]),\n   'Qg': array([-3.47030236,  0.43427464])},\n  'mu': {'l': {'Va': array([0., 0., 0.]),\n    'Vm': array([0., 0., 0.]),\n    'Pg': array([10.02093274,  0.        ]),\n    'Qg': array([0., 0.])},\n   'u': {'Va': array([0.00000000e+00, 0.00000000e+00, 5.55092493e-13]),\n    'Vm': array([ 0.        ,  0.        , 19.68905564]),\n    'Pg': array([0., 0.]),\n    'Qg': array([0., 0.])}}},\n 'lin': {'mu': {'l': {}, 'u': {}}},\n 'nln': {'mu': {'l': {'Pmis': array([0., 0., 0.]),\n    'Qmis': array([0.00000000e+00, 0.00000000e+00, 5.53163219e-21]),\n    'Sf': array([0., 0.]),\n    'St': array([0., 0.])},\n   'u': {'Pmis': array([10.66880847, 10.00001617,  9.97906806]),\n    'Qmis': array([1.79874386e-02, 6.93307350e-22, 0.00000000e+00]),\n    'Sf': array([0., 0.]),\n    'St': array([0., 0.])}}},\n 'et': 0.4442892969818786,\n 'success': True,\n 'raw': {'xr': array([-6.95031167e-02, -2.21586389e-03,  0.00000000e+00,  1.02244822e+00,\n          1.05494243e+00,  1.05000000e+00,  7.95042360e-05,  3.09725948e+01,\n         -3.47030236e+00,  4.34274636e-01]),\n  'pimul': array([-1.06688085e+01, -1.00000162e+01, -9.97906806e+00, -1.79874386e-02,\n         -6.93307350e-22,  5.53163219e-21,  0.00000000e+00,  0.00000000e+00,\n          0.00000000e+00,  0.00000000e+00,  0.00000000e+00,  0.00000000e+00,\n         -5.55092493e-13,  0.00000000e+00,  0.00000000e+00, -1.96890556e+01,\n          1.00209327e+01,  0.00000000e+00,  0.00000000e+00,  0.00000000e+00]),\n  'info': True,\n  'output': {'iterations': 17,\n   'hist': [{'feascond': 4.914426736151794e-07,\n     'gradcond': 14484.589026047473,\n     'compcond': 7984096.604714062,\n     'costcond': 0.0,\n     'gamma': 1,\n     'stepsize': 0,\n     'obj': 10250.0,\n     'alphap': 0,\n     'alphad': 0},\n    {'feascond': 1.3920963220199717e-09,\n     'gradcond': 244.1035234338343,\n     'compcond': 88322561.20063137,\n     'costcond': 0.48670943595274296,\n     'gamma': 12374488.295814164,\n     'stepsize': 491.7348649941771,\n     'obj': 394.13392195695457,\n     'alphap': 1,\n     'alphad': 0.5050243575111775},\n    {'feascond': 1.686025818128541e-09,\n     'gradcond': 18.141707797713742,\n     'compcond': 7200505.737074542,\n     'costcond': 0.021244098706698716,\n     'gamma': 1428709.093437763,\n     'stepsize': 802523.3555871275,\n     'obj': 614.9479289656535,\n     'alphap': 3.844800785586027e-05,\n     'alphad': 1},\n    {'feascond': 2.967993805351961e-11,\n     'gradcond': 6.583356412370798,\n     'compcond': 886264.3522982328,\n     'costcond': 0.00040799647900933636,\n     'gamma': 170378.86013947465,\n     'stepsize': 6.396644746071774,\n     'obj': 619.2787903455389,\n     'alphap': 1,\n     'alphad': 1},\n    {'feascond': 3.947684555165201e-12,\n     'gradcond': 2.6355156757077065,\n     'compcond': 91638.68035533835,\n     'costcond': 0.0012655356455788796,\n     'gamma': 16903.909312632717,\n     'stepsize': 2.1396813335390745,\n     'obj': 605.8397145060169,\n     'alphap': 1,\n     'alphad': 1},\n    {'feascond': 6.281544092800242e-12,\n     'gradcond': 2.064601155528949,\n     'compcond': 9423.632169920464,\n     'costcond': 0.0010748376072312416,\n     'gamma': 1677.2743494783383,\n     'stepsize': 2.3678451917610714,\n     'obj': 594.4401591245992,\n     'alphap': 1,\n     'alphad': 1},\n    {'feascond': 4.696257615063908e-12,\n     'gradcond': 1.8807345178091714,\n     'compcond': 970.9656156056292,\n     'costcond': 0.0009946023765766854,\n     'gamma': 166.94849972532836,\n     'stepsize': 2.093473155781337,\n     'obj': 583.9029037638344,\n     'alphap': 1,\n     'alphad': 1},\n    {'feascond': 3.8543370352084405e-12,\n     'gradcond': 1.6864744391828883,\n     'compcond': 99.82049435091228,\n     'costcond': 0.0008790669054889047,\n     'gamma': 16.628345940204014,\n     'stepsize': 1.8919938387198925,\n     'obj': 574.5989449902277,\n     'alphap': 1,\n     'alphad': 1},\n    {'feascond': 3.106837110492934e-12,\n     'gradcond': 1.4507484290309702,\n     'compcond': 10.247303601767324,\n     'costcond': 0.0007896715515171644,\n     'gamma': 1.65752228487294,\n     'stepsize': 1.7049195107111381,\n     'obj': 566.2484850346655,\n     'alphap': 1,\n     'alphad': 1},\n    {'feascond': 2.5363118108189193e-12,\n     'gradcond': 0.8807412876515107,\n     'compcond': 1.0504324242049763,\n     'costcond': 0.000712237834868644,\n     'gamma': 0.16531891820199174,\n     'stepsize': 1.5446415482045615,\n     'obj': 558.7228030910003,\n     'alphap': 1,\n     'alphad': 1},\n    {'feascond': 2.256476204463989e-12,\n     'gradcond': 0.19360360374997712,\n     'compcond': 0.10770834124086881,\n     'costcond': 0.0006884262627010829,\n     'gamma': 0.01649481706773771,\n     'stepsize': 1.4697001970710182,\n     'obj': 551.4539010127717,\n     'alphap': 1,\n     'alphad': 1},\n    {'feascond': 3.9971743901383064e-12,\n     'gradcond': 0.03023245457572941,\n     'compcond': 0.011265353866033728,\n     'costcond': 0.0011517171630810977,\n     'gamma': 0.0016447852219689475,\n     'stepsize': 2.100375857107574,\n     'obj': 539.3016104595163,\n     'alphap': 1,\n     'alphad': 1},\n    {'feascond': 1.4046323104441754e-10,\n     'gradcond': 0.011852852623345463,\n     'compcond': 0.005852672422306344,\n     'costcond': 0.00915395071988026,\n     'gamma': 0.0006923173186015662,\n     'stepsize': 12.900034868443672,\n     'obj': 442.8253628954152,\n     'alphap': 1,\n     'alphad': 0.629828744100373},\n    {'feascond': 2.651001549765658e-10,\n     'gradcond': 0.015613230848914176,\n     'compcond': 0.00038843466322061173,\n     'costcond': 0.012911709157346376,\n     'gamma': 7.719591749057532e-05,\n     'stepsize': 19.192720804856663,\n     'obj': 307.99063902874946,\n     'alphap': 0.9640167638626986,\n     'alphad': 1},\n    {'feascond': 1.2366116153993465e-11,\n     'gradcond': 0.000319069048387641,\n     'compcond': 3.994201461738878e-05,\n     'costcond': 0.000250927833719265,\n     'gamma': 7.957922285299586e-06,\n     'stepsize': 3.138025072473351,\n     'obj': 310.5772007897994,\n     'alphap': 1,\n     'alphad': 1},\n    {'feascond': 6.823136896303382e-13,\n     'gradcond': 7.93373842454147e-06,\n     'compcond': 3.988193000711868e-06,\n     'costcond': 7.51671809013534e-05,\n     'gamma': 7.967556642337439e-07,\n     'stepsize': 0.7525712612232639,\n     'obj': 309.80218376815026,\n     'alphap': 1,\n     'alphad': 1},\n    {'feascond': 3.5349935176472917e-16,\n     'gradcond': 1.8608083672133078e-08,\n     'compcond': 3.987476512116518e-07,\n     'costcond': 6.545909988819001e-06,\n     'gamma': 7.967945424813768e-08,\n     'stepsize': 0.01878043135605853,\n     'obj': 309.7346967310528,\n     'alphap': 1,\n     'alphad': 1},\n    {'feascond': 7.747615847546795e-19,\n     'gradcond': 8.9355331010878e-11,\n     'compcond': 3.987390904291546e-08,\n     'costcond': 6.943622145529167e-07,\n     'gamma': 7.967952104663825e-09,\n     'stepsize': 0.001018020077592428,\n     'obj': 309.7275380408373,\n     'alphap': 1,\n     'alphad': 1}],\n   'message': 'Converged',\n   'alg': 560}}}"
     },
     "execution_count": 9,
     "metadata": {},
     "output_type": "execute_result"
    }
   ],
   "source": [
    "# the key variable, which represents the information of the OPF problem\n",
    "om.get_ppc()"
   ],
   "metadata": {
    "collapsed": false
   }
  },
  {
   "cell_type": "code",
   "execution_count": 10,
   "outputs": [],
   "source": [
    "## unpack data\n",
    "ppc = om.get_ppc()\n",
    "baseMVA, bus, gen, branch, gencost = \\\n",
    "    ppc[\"baseMVA\"], ppc[\"bus\"], ppc[\"gen\"], ppc[\"branch\"], ppc[\"gencost\"]\n",
    "vv, _, _, _ = om.get_idx()\n",
    "\n",
    "## problem dimensions\n",
    "nb = bus.shape[0]          ## number of buses\n",
    "nl = branch.shape[0]       ## number of branches\n",
    "ny = om.getN('var', 'y')   ## number of piece-wise linear costs, 'y' is a part of p-w linear costs\n",
    "\n",
    "## bounds on optimization vars\n",
    "x0, xmin, xmax = om.getv()"
   ],
   "metadata": {
    "collapsed": false
   }
  },
  {
   "cell_type": "code",
   "execution_count": 10,
   "outputs": [],
   "source": [],
   "metadata": {
    "collapsed": false
   }
  },
  {
   "cell_type": "code",
   "execution_count": 11,
   "outputs": [
    {
     "name": "stderr",
     "output_type": "stream",
     "text": [
      "/home/huzuntao/PycharmProjects/MPP_Powersystem/pypower_/makeYbus.py:49: ComplexWarning: Casting complex values to real discards the imaginary part\n",
      "  tap[i] = branch[i, TAP]  ## assign non-zero tap ratios\n",
      "/usr/local/lib/python3.8/dist-packages/scipy/sparse/_coo.py:159: ComplexWarning: Casting complex values to real discards the imaginary part\n",
      "  self.col = np.array(col, copy=copy, dtype=idx_dtype)\n"
     ]
    },
    {
     "data": {
      "text/plain": "matrix([[ 162.99668368-343.31337094j, -162.99668368+344.47752737j,\n            0.          +0.j        ],\n        [-162.99668368+344.47752737j,  325.99336737-686.62674189j,\n         -162.99668368+344.47752737j],\n        [   0.          +0.j        , -162.99668368+344.47752737j,\n          162.99668368-343.31337094j]])"
     },
     "execution_count": 11,
     "metadata": {},
     "output_type": "execute_result"
    }
   ],
   "source": [
    "## build admittance matrices\n",
    "Ybus, Yf, Yt = makeYbus(baseMVA, bus, branch)\n",
    "Ybus.todense()"
   ],
   "metadata": {
    "collapsed": false
   }
  },
  {
   "cell_type": "code",
   "execution_count": 12,
   "outputs": [
    {
     "name": "stdout",
     "output_type": "stream",
     "text": [
      "ll\"[-1.57079633e+00 -1.57079633e+00  0.00000000e+00  0.00000000e+00\n",
      "  0.00000000e+00  1.05000000e+00 -1.00000000e-16 -1.00000000e-16\n",
      " -1.00000000e+02 -1.00000000e+02];\n",
      " uu:[   1.57079633    1.57079633    0.            2.            2.\n",
      "    1.05       1000.           50.          100.          100.        ]\n"
     ]
    }
   ],
   "source": [
    "## Set the lower and upper bound for all variables\n",
    "ll, uu = xmin.copy(), xmax.copy()\n",
    "# print(f'll : {ll}; uu : {uu}')\n",
    "ll[xmin == -Inf] = -1e10   ## replace Inf with numerical proxies\n",
    "uu[xmax ==  Inf] =  1e10\n",
    "Va_refs = bus[bus[:, BUS_TYPE]  == REF, VA] * (pi / 180)\n",
    "# print(f\"Va_refs: {Va_refs}\")\n",
    "ll[vv[\"i1\"][\"Va\"]:vv[\"iN\"][\"Va\"]] = -np.ones_like(bus[:, VA]) * (pi / 2) # Va lower bound 赋值\n",
    "uu[vv[\"i1\"][\"Va\"]:vv[\"iN\"][\"Va\"]] = np.ones_like(bus[:, VA]) * (pi / 2) # Va upper bound 赋值\n",
    "## deal with the Va_refs\n",
    "ll[vv[\"i1\"][\"Va\"]:vv[\"iN\"][\"Va\"]][bus[:, BUS_TYPE]  == REF] = Va_refs  # Va_refs lower bound 赋值\n",
    "uu[vv[\"i1\"][\"Va\"]:vv[\"iN\"][\"Va\"]][bus[:, BUS_TYPE]  == REF] = Va_refs # Va_refs upper bound 赋值\n",
    "## deal with reactive power, whose ll and uu is 1e9\n",
    "ll[ll<-1e4] = -100\n",
    "uu[uu>1e4] = 100\n",
    "v_max = uu[vv[\"i1\"][\"Vm\"]:vv[\"iN\"][\"Vm\"]][-1]\n",
    "print(f'll\"{ll};\\n uu:{uu}')"
   ],
   "metadata": {
    "collapsed": false
   }
  },
  {
   "cell_type": "code",
   "execution_count": 13,
   "outputs": [
    {
     "data": {
      "text/plain": "array([1.  , 1.  , 1.05])"
     },
     "execution_count": 13,
     "metadata": {},
     "output_type": "execute_result"
    }
   ],
   "source": [
    "x0[vv[\"i1\"][\"Vm\"]:vv[\"iN\"][\"Vm\"]]"
   ],
   "metadata": {
    "collapsed": false
   }
  },
  {
   "cell_type": "code",
   "execution_count": 14,
   "outputs": [
    {
     "data": {
      "text/plain": "array([2.  , 2.  , 1.05])"
     },
     "execution_count": 14,
     "metadata": {},
     "output_type": "execute_result"
    }
   ],
   "source": [
    "uu[vv[\"i1\"][\"Vm\"]:vv[\"iN\"][\"Vm\"]]"
   ],
   "metadata": {
    "collapsed": false
   }
  },
  {
   "cell_type": "code",
   "execution_count": 15,
   "outputs": [
    {
     "data": {
      "text/plain": "array([1.02244822, 1.05494243, 1.05      ])"
     },
     "execution_count": 15,
     "metadata": {},
     "output_type": "execute_result"
    }
   ],
   "source": [
    "bus[:, VM] # 赋值"
   ],
   "metadata": {
    "collapsed": false
   }
  },
  {
   "cell_type": "code",
   "execution_count": 16,
   "outputs": [],
   "source": [
    "x0[vv[\"i1\"][\"Vm\"]:vv[\"iN\"][\"Vm\"]] = bus[:, VM] # 赋值"
   ],
   "metadata": {
    "collapsed": false
   }
  },
  {
   "cell_type": "code",
   "execution_count": 17,
   "outputs": [],
   "source": [
    "Va_refs = bus[bus[:, BUS_TYPE]  == REF, VA] * (pi / 180)\n",
    "x0[vv[\"i1\"][\"Va\"]:vv[\"iN\"][\"Va\"]] = bus[:, VA] * (pi / 180) # 赋值"
   ],
   "metadata": {
    "collapsed": false
   }
  },
  {
   "cell_type": "code",
   "execution_count": 18,
   "outputs": [],
   "source": [
    "## 赋值\n",
    "x0[vv[\"i1\"][\"Pg\"]:vv[\"iN\"][\"Pg\"]] = gen[:,PG]\n",
    "x0[vv[\"i1\"][\"Qg\"]:vv[\"iN\"][\"Qg\"]] = gen[:,QG]"
   ],
   "metadata": {
    "collapsed": false
   }
  },
  {
   "cell_type": "markdown",
   "source": [
    "\n",
    "### 不能处理piecewise linear 的cost, 因为没有引入那个函数，（大约在这个位置）"
   ],
   "metadata": {
    "collapsed": false
   }
  },
  {
   "cell_type": "markdown",
   "source": [
    "\n",
    "### 处理cost fun"
   ],
   "metadata": {
    "collapsed": false
   }
  },
  {
   "cell_type": "code",
   "execution_count": 19,
   "outputs": [],
   "source": [
    "## grab Pg & Qg\n",
    "Pg = x0[vv[\"i1\"][\"Pg\"]:vv[\"iN\"][\"Pg\"]]  ## active generation in p.u.\n",
    "Qg = x0[vv[\"i1\"][\"Qg\"]:vv[\"iN\"][\"Qg\"]]  ## reactive generation in p.u.\n",
    "\n",
    "##----- evaluate objective function -----\n",
    "## polynomial cost of P and Q\n",
    "# use totcost only on polynomial cost in the minimization problem formulation, pwl cost is the sum of the y variables.\n",
    "ipol = find(gencost[:, MODEL] == POLYNOMIAL)   ## poly MW and MVAr costs\n",
    "xx = r_[ Pg, Qg ] * baseMVA\n",
    "if len(ipol)>0:\n",
    "    f = sum( totcost(gencost[ipol, :], xx[ipol]) )  ## cost of poly P or Q\n",
    "else:\n",
    "    f = 0"
   ],
   "metadata": {
    "collapsed": false
   }
  },
  {
   "cell_type": "code",
   "execution_count": 20,
   "outputs": [
    {
     "data": {
      "text/plain": "array([7.95042360e-05, 3.09725948e+01])"
     },
     "execution_count": 20,
     "metadata": {},
     "output_type": "execute_result"
    }
   ],
   "source": [
    "Pg"
   ],
   "metadata": {
    "collapsed": false
   }
  },
  {
   "cell_type": "code",
   "execution_count": 21,
   "outputs": [
    {
     "data": {
      "text/plain": "array([7.95042360e-05, 3.09725948e+01])"
     },
     "execution_count": 21,
     "metadata": {},
     "output_type": "execute_result"
    }
   ],
   "source": [
    "xx[ipol]"
   ],
   "metadata": {
    "collapsed": false
   }
  },
  {
   "cell_type": "code",
   "execution_count": 22,
   "outputs": [
    {
     "name": "stdout",
     "output_type": "stream",
     "text": [
      "(array([20., 10.]), array([20., 10.]))\n"
     ]
    }
   ],
   "source": [
    "First_Or_Con = 4\n",
    "print(f\"{gencost[ipol, First_Or_Con], gencost[:, First_Or_Con]}\")"
   ],
   "metadata": {
    "collapsed": false
   }
  },
  {
   "cell_type": "code",
   "execution_count": 23,
   "outputs": [
    {
     "data": {
      "text/plain": "array([[ 2.,  0.,  0.,  2., 20.,  0.],\n       [ 2.,  0.,  0.,  2., 10.,  0.]])"
     },
     "execution_count": 23,
     "metadata": {},
     "output_type": "execute_result"
    }
   ],
   "source": [
    "gencost"
   ],
   "metadata": {
    "collapsed": false
   }
  },
  {
   "cell_type": "markdown",
   "source": [
    "### 处理约束部分"
   ],
   "metadata": {
    "collapsed": false
   }
  },
  {
   "cell_type": "code",
   "execution_count": 24,
   "outputs": [],
   "source": [
    "## grab Pg & Qg\n",
    "Pg = x0[vv[\"i1\"][\"Pg\"]:vv[\"iN\"][\"Pg\"]]  ## active generation in p.u.\n",
    "Qg = x0[vv[\"i1\"][\"Qg\"]:vv[\"iN\"][\"Qg\"]]  ## reactive generation in p.u."
   ],
   "metadata": {
    "collapsed": false
   }
  },
  {
   "cell_type": "code",
   "execution_count": 25,
   "outputs": [],
   "source": [
    "## put Pg & Qg back in gen\n",
    "gen[:, PG] = Pg * baseMVA  ## active generation in MW\n",
    "gen[:, QG] = Qg * baseMVA  ## reactive generation in MVAr"
   ],
   "metadata": {
    "collapsed": false
   }
  },
  {
   "cell_type": "code",
   "execution_count": 26,
   "outputs": [],
   "source": [
    "\n",
    "on = find(gen[:, GEN_STATUS] > 0)      ## which generators are on?\n",
    "gbus = gen[on, GEN_BUS]                   ## what buses are they at?\n",
    "\n",
    "## form net complex bus power injection vector\n",
    "nb = bus.shape[0]\n",
    "ngon = on.shape[0]\n",
    "## connection matrix, element i, j is 1 if gen on(j) at bus i is ON\n",
    "Cg = sparse((ones(ngon), (gbus, range(ngon))), (nb, ngon))\n",
    "\n",
    "## power injected by gens plus power injected by loads converted to p.u.\n",
    "Sbus = ( Cg * (gen[on, PG] + 1j * gen[on, QG]) - (bus[:, PD] + 1j * bus[:, QD]) ) / baseMVA\n",
    "# Sbus = makeSbus(baseMVA, bus, gen) ## net injected power in p.u."
   ],
   "metadata": {
    "collapsed": false
   }
  },
  {
   "cell_type": "code",
   "execution_count": 27,
   "outputs": [
    {
     "data": {
      "text/plain": "array([-3.00000000e+01+0.j        ,  3.09725948e+01+0.43427464j,\n        7.95042360e-05-3.47030236j])"
     },
     "execution_count": 27,
     "metadata": {},
     "output_type": "execute_result"
    }
   ],
   "source": [
    "Sbus"
   ],
   "metadata": {
    "collapsed": false
   }
  },
  {
   "cell_type": "code",
   "execution_count": 28,
   "outputs": [
    {
     "data": {
      "text/plain": "array([1.01997965-0.07100614j, 1.05493984-0.00233761j,\n       1.05      +0.j        ])"
     },
     "execution_count": 28,
     "metadata": {},
     "output_type": "execute_result"
    }
   ],
   "source": [
    "## reconstruct V\n",
    "Va = x0[vv[\"i1\"][\"Va\"]:vv[\"iN\"][\"Va\"]]\n",
    "Vm = x0[vv[\"i1\"][\"Vm\"]:vv[\"iN\"][\"Vm\"]]\n",
    "V = Vm * exp(1j * Va)\n",
    "V"
   ],
   "metadata": {
    "collapsed": false
   }
  },
  {
   "cell_type": "code",
   "execution_count": 29,
   "outputs": [
    {
     "data": {
      "text/plain": "array([-0.06950312, -0.00221586,  0.        ])"
     },
     "execution_count": 29,
     "metadata": {},
     "output_type": "execute_result"
    }
   ],
   "source": [
    "Va"
   ],
   "metadata": {
    "collapsed": false
   }
  },
  {
   "cell_type": "code",
   "execution_count": 30,
   "outputs": [
    {
     "data": {
      "text/plain": "      vm_pu  va_degree       p_mw    q_mvar      lam_p         lam_q\n0  1.022448  -3.982235  30.000000  0.000000  10.668808  1.798744e-02\n1  1.054942  -0.126960 -30.972595 -0.434275  10.000016  6.933073e-22\n2  1.050000   0.000000  -0.000080  3.470302   9.979068 -5.531632e-21",
      "text/html": "<div>\n<style scoped>\n    .dataframe tbody tr th:only-of-type {\n        vertical-align: middle;\n    }\n\n    .dataframe tbody tr th {\n        vertical-align: top;\n    }\n\n    .dataframe thead th {\n        text-align: right;\n    }\n</style>\n<table border=\"1\" class=\"dataframe\">\n  <thead>\n    <tr style=\"text-align: right;\">\n      <th></th>\n      <th>vm_pu</th>\n      <th>va_degree</th>\n      <th>p_mw</th>\n      <th>q_mvar</th>\n      <th>lam_p</th>\n      <th>lam_q</th>\n    </tr>\n  </thead>\n  <tbody>\n    <tr>\n      <th>0</th>\n      <td>1.022448</td>\n      <td>-3.982235</td>\n      <td>30.000000</td>\n      <td>0.000000</td>\n      <td>10.668808</td>\n      <td>1.798744e-02</td>\n    </tr>\n    <tr>\n      <th>1</th>\n      <td>1.054942</td>\n      <td>-0.126960</td>\n      <td>-30.972595</td>\n      <td>-0.434275</td>\n      <td>10.000016</td>\n      <td>6.933073e-22</td>\n    </tr>\n    <tr>\n      <th>2</th>\n      <td>1.050000</td>\n      <td>0.000000</td>\n      <td>-0.000080</td>\n      <td>3.470302</td>\n      <td>9.979068</td>\n      <td>-5.531632e-21</td>\n    </tr>\n  </tbody>\n</table>\n</div>"
     },
     "execution_count": 30,
     "metadata": {},
     "output_type": "execute_result"
    }
   ],
   "source": [
    "net.res_bus"
   ],
   "metadata": {
    "collapsed": false
   }
  },
  {
   "cell_type": "code",
   "execution_count": 31,
   "outputs": [],
   "source": [
    "## evaluate power flow equations\n",
    "mis = V * conj(Ybus * V) - Sbus"
   ],
   "metadata": {
    "collapsed": false
   }
  },
  {
   "cell_type": "code",
   "execution_count": 32,
   "outputs": [
    {
     "data": {
      "text/plain": "array([[ 1.00000000e+00+0.j,  2.00000000e+00+0.j,  1.12231405e-03+0.j,\n         2.37190083e-03+0.j,  2.32831286e+00+0.j,  8.95470268e+01+0.j,\n         2.50000000e+02+0.j,  2.50000000e+02+0.j,  1.00000000e+00+0.j,\n         0.00000000e+00+0.j,  1.00000000e+00+0.j, -3.60000000e+02+0.j,\n         3.60000000e+02+0.j,  4.78862237e-03+0.j,  9.01514410e-01+0.j,\n         7.95039119e-05+0.j, -3.47030236e+00+0.j,  0.00000000e+00+0.j,\n         0.00000000e+00+0.j,  0.00000000e+00+0.j,  0.00000000e+00+0.j,\n         0.00000000e+00+0.j,  0.00000000e+00+0.j],\n       [ 0.00000000e+00+0.j,  1.00000000e+00+0.j,  1.12231405e-03+0.j,\n         2.37190083e-03+0.j,  2.32831286e+00+0.j,  8.95470268e+01+0.j,\n         2.50000000e+02+0.j,  2.50000000e+02+0.j,  1.00000000e+00+0.j,\n         0.00000000e+00+0.j,  1.00000000e+00+0.j, -3.60000000e+02+0.j,\n         3.60000000e+02+0.j, -3.00000000e+01+0.j, -2.07935891e-11+0.j,\n         3.09678062e+01+0.j, -4.67239774e-01+0.j,  0.00000000e+00+0.j,\n         0.00000000e+00+0.j,  0.00000000e+00+0.j,  0.00000000e+00+0.j,\n         0.00000000e+00+0.j,  0.00000000e+00+0.j]])"
     },
     "execution_count": 32,
     "metadata": {},
     "output_type": "execute_result"
    }
   ],
   "source": [
    "ppc['branch']"
   ],
   "metadata": {
    "collapsed": false
   }
  },
  {
   "cell_type": "code",
   "execution_count": 33,
   "outputs": [
    {
     "data": {
      "text/plain": "array([89.54702675+0.j, 89.54702675+0.j])"
     },
     "execution_count": 33,
     "metadata": {},
     "output_type": "execute_result"
    }
   ],
   "source": [
    "branch[:, RATE_A]"
   ],
   "metadata": {
    "collapsed": false
   }
  },
  {
   "cell_type": "code",
   "execution_count": 34,
   "outputs": [],
   "source": [
    " ## find branches with flow limits\n",
    "il = find((branch[:, RATE_A] != 0) & (branch[:, RATE_A] < 1e10))\n",
    "nl2 = len(il)           ## number of constrained lines"
   ],
   "metadata": {
    "collapsed": false
   }
  },
  {
   "cell_type": "code",
   "execution_count": 35,
   "outputs": [
    {
     "data": {
      "text/plain": "array([0, 1])"
     },
     "execution_count": 35,
     "metadata": {},
     "output_type": "execute_result"
    }
   ],
   "source": [
    "il"
   ],
   "metadata": {
    "collapsed": false
   }
  },
  {
   "cell_type": "code",
   "execution_count": 61,
   "outputs": [
    {
     "name": "stdout",
     "output_type": "stream",
     "text": [
      "Set parameter NonConvex to value 2\n"
     ]
    },
    {
     "ename": "GurobiError",
     "evalue": "Unable to retrieve attribute 'X'",
     "output_type": "error",
     "traceback": [
      "\u001B[0;31m---------------------------------------------------------------------------\u001B[0m",
      "\u001B[0;31mGurobiError\u001B[0m                               Traceback (most recent call last)",
      "Cell \u001B[0;32mIn[61], line 66\u001B[0m\n\u001B[1;32m     63\u001B[0m     \u001B[38;5;28mprint\u001B[39m(\u001B[38;5;124mf\u001B[39m\u001B[38;5;124m'\u001B[39m\u001B[38;5;124mPg: \u001B[39m\u001B[38;5;132;01m{\u001B[39;00mPg_star\u001B[38;5;132;01m}\u001B[39;00m\u001B[38;5;124m; Qg: \u001B[39m\u001B[38;5;132;01m{\u001B[39;00mQg_star\u001B[38;5;132;01m}\u001B[39;00m\u001B[38;5;124m; opt obj: \u001B[39m\u001B[38;5;132;01m{\u001B[39;00moptimized_obj\u001B[38;5;132;01m}\u001B[39;00m\u001B[38;5;124m'\u001B[39m)\n\u001B[1;32m     64\u001B[0m     \u001B[38;5;28mprint\u001B[39m(\u001B[38;5;124mf\u001B[39m\u001B[38;5;124m'\u001B[39m\u001B[38;5;124mVe: \u001B[39m\u001B[38;5;132;01m{\u001B[39;00mV_re\u001B[38;5;241m.\u001B[39mX\u001B[38;5;132;01m}\u001B[39;00m\u001B[38;5;124m; Vim: \u001B[39m\u001B[38;5;132;01m{\u001B[39;00mV_im\u001B[38;5;241m.\u001B[39mX\u001B[38;5;132;01m}\u001B[39;00m\u001B[38;5;124m; Pd: \u001B[39m\u001B[38;5;132;01m{\u001B[39;00mPd\u001B[38;5;132;01m}\u001B[39;00m\u001B[38;5;124m'\u001B[39m)\n\u001B[0;32m---> 66\u001B[0m \u001B[43moptimize_OPF\u001B[49m\u001B[43m(\u001B[49m\u001B[43mp_load\u001B[49m\u001B[38;5;241;43m=\u001B[39;49m\u001B[38;5;241;43m10\u001B[39;49m\u001B[43m)\u001B[49m\n",
      "Cell \u001B[0;32mIn[61], line 60\u001B[0m, in \u001B[0;36moptimize_OPF\u001B[0;34m(p_load)\u001B[0m\n\u001B[1;32m     57\u001B[0m \u001B[38;5;66;03m# calculate the optimization\u001B[39;00m\n\u001B[1;32m     58\u001B[0m model\u001B[38;5;241m.\u001B[39moptimize()\n\u001B[0;32m---> 60\u001B[0m Pg_star, Qg_star \u001B[38;5;241m=\u001B[39m \u001B[43mPg\u001B[49m\u001B[38;5;241;43m.\u001B[39;49m\u001B[43mX\u001B[49m, Qg\u001B[38;5;241m.\u001B[39mX\n\u001B[1;32m     61\u001B[0m optimized_obj \u001B[38;5;241m=\u001B[39m np\u001B[38;5;241m.\u001B[39marray([\u001B[38;5;241m1\u001B[39m, \u001B[38;5;241m1.5\u001B[39m])\u001B[38;5;129m@Pg_star\u001B[39m\n\u001B[1;32m     63\u001B[0m \u001B[38;5;28mprint\u001B[39m(\u001B[38;5;124mf\u001B[39m\u001B[38;5;124m'\u001B[39m\u001B[38;5;124mPg: \u001B[39m\u001B[38;5;132;01m{\u001B[39;00mPg_star\u001B[38;5;132;01m}\u001B[39;00m\u001B[38;5;124m; Qg: \u001B[39m\u001B[38;5;132;01m{\u001B[39;00mQg_star\u001B[38;5;132;01m}\u001B[39;00m\u001B[38;5;124m; opt obj: \u001B[39m\u001B[38;5;132;01m{\u001B[39;00moptimized_obj\u001B[38;5;132;01m}\u001B[39;00m\u001B[38;5;124m'\u001B[39m)\n",
      "File \u001B[0;32msrc/gurobipy/mvar.pxi:296\u001B[0m, in \u001B[0;36mgurobipy.MVar.__getattr__\u001B[0;34m()\u001B[0m\n",
      "File \u001B[0;32msrc/gurobipy/mvar.pxi:557\u001B[0m, in \u001B[0;36mgurobipy.MVar.getAttr\u001B[0;34m()\u001B[0m\n",
      "File \u001B[0;32msrc/gurobipy/attrutil.pxi:148\u001B[0m, in \u001B[0;36mgurobipy.__gettypedattrlist\u001B[0;34m()\u001B[0m\n",
      "\u001B[0;31mGurobiError\u001B[0m: Unable to retrieve attribute 'X'"
     ]
    }
   ],
   "source": [
    "# Parameters\n",
    "# obtain the complex load\n",
    "Pd = bus[:, PD]\n",
    "Qd = bus[:, QD]\n",
    "# slack_v = net.ext_grid['vm_pu']\n",
    "\n",
    "\n",
    "def optimize_OPF(p_load):\n",
    "    Pd = p_load\n",
    "    Qd = 0\n",
    "\n",
    "    lb_update = -1e4\n",
    "\n",
    "    # obtain the range of voltage; the range is from the setting\n",
    "    V_range = 0.1\n",
    "    V_ll,V_uu = 1.0-V_range, 1.0+V_range\n",
    "\n",
    "    # create the model; set the model type: NonConvex.\n",
    "    model = gp.Model(\"PowerGeneration\");model.setParam('NonConvex', 2)\n",
    "    model.setParam(\"LogToConsole\", 0)\n",
    "\n",
    "    # creat variables for the model; the numbers in the following codes should be replaced by parameters\n",
    "    V_re = model.addMVar(3, lb=[-1.05,-1.05,-1.05], ub=[1.05,1.05,1.05], vtype=GRB.CONTINUOUS, name='V real')\n",
    "    V_im = model.addMVar(3, lb=[-1.05,-1.05,-1.05],ub=[1.05,1.05,1.05], vtype=GRB.CONTINUOUS, name='V imag')\n",
    "    Pg = model.addMVar(2, lb=0, ub=[105,105], vtype=GRB.CONTINUOUS, name='Pg')\n",
    "    Qg = model.addMVar(2, lb=[0,0], ub=[105,105], vtype=GRB.CONTINUOUS, name='Qg')\n",
    "    temp1 = model.addMVar(3, lb=lb_update, vtype=GRB.CONTINUOUS, name='Temp 1')\n",
    "    temp2 = model.addMVar(3, lb=lb_update, vtype=GRB.CONTINUOUS, name='Temp 2')\n",
    "    Pg_net = model.addMVar(3, lb=lb_update, vtype=GRB.CONTINUOUS, name='Pg net')  # the number of buses, too\n",
    "    Qg_net = model.addMVar(3, lb=lb_update, vtype=GRB.CONTINUOUS, name='Qg net')\n",
    "\n",
    "\n",
    "    # the prameters of branches\n",
    "    G = np.real(Ybus)\n",
    "    B = np.imag(Ybus)\n",
    "\n",
    "\n",
    "    # Constraints; insert the formulas\n",
    "    Temp_c1 = model.addConstr(G@V_re - B@V_im == temp1, 'Temp Constr 1')\n",
    "    Temp_c2 = model.addConstr(G @ V_im + B @ V_re == temp2, 'Temp Constr 2')\n",
    "    Pg_net_c = model.addConstr(Cg @ Pg - Pd == Pg_net, 'Pg net Constr')\n",
    "    Qg_net_c = model.addConstr(Cg @ Qg - Qd == Qg_net, 'Qg net Constr')\n",
    "    # print(f'Pd:{Pd}\\n Qd:{Qd}')\n",
    "    CVL_CPL = model.addConstrs((V_re[i] * temp1[i] *baseMVA+ V_im[i] * temp2[i]*baseMVA == Pg_net[i]  for i in range(nb)), 'Cvl P')  # break into different parts\n",
    "    CVL_CPL_Q = model.addConstrs((V_im[i] * temp1[i] *baseMVA - V_re[i] * temp2[i]*baseMVA == Qg_net[i] for i in range(nb)), 'Cvl Q')\n",
    "\n",
    "\n",
    "    V_slack = model.addConstr(V_re[2]==1.05, 'V slack real')\n",
    "    V_slack_a = model.addConstr(V_im[2]==0, 'V slack imag')\n",
    "\n",
    "    V_upper = model.addConstrs((V_re[i]**2 + V_im[i]**2 <= V_uu**2 for i in [0,1]), 'V upper bound')  # 对 range 起始值的处理，是处理树\n",
    "    V_lower = model.addConstrs((V_re[i]**2 + V_im[i]**2 >= V_ll**2 for i in [0,1]), 'V lower bound')\n",
    "\n",
    "\n",
    "    model.setObjective(np.array([1, 1.5])@Pg, GRB.MINIMIZE)\n",
    "\n",
    "    # calculate the optimization\n",
    "    model.optimize()\n",
    "\n",
    "    Pg_star, Qg_star = Pg.X, Qg.X\n",
    "    optimized_obj = np.array([1, 1.5])@Pg_star\n",
    "\n",
    "    print(f'Pg: {Pg_star}; Qg: {Qg_star}; opt obj: {optimized_obj}')\n",
    "    print(f'Ve: {V_re.X}; Vim: {V_im.X}; Pd: {Pd}')\n",
    "\n",
    "optimize_OPF(p_load=10)"
   ],
   "metadata": {
    "collapsed": false
   }
  },
  {
   "cell_type": "code",
   "execution_count": 63,
   "outputs": [
    {
     "name": "stdout",
     "output_type": "stream",
     "text": [
      "is: 1\n",
      "Set parameter NonConvex to value 2\n",
      "Pg: [6.22860716e+01 4.07898426e-09]; Qg: [3.24055798e-07 6.05166723e-02]; opt obj: 62.28607160732677\n",
      "Ve: [0.97499994 1.00190234 1.05      ]; Vim: [-0.14023559 -0.09415038  0.        ]; Pd: 20\n",
      "is: 2\n",
      "Set parameter NonConvex to value 2\n",
      "Pg: [6.55357121e+01 4.13649559e-09]; Qg: [2.93413792e-07 6.04500085e-01]; opt obj: 65.53571208780662\n",
      "Ve: [0.97063098 0.99949776 1.05      ]; Vim: [-0.14746118 -0.09923221  0.        ]; Pd: 21\n",
      "is: 3\n",
      "Set parameter NonConvex to value 2\n",
      "Pg: [6.88000726e+01 4.19668922e-09]; Qg: [2.75717463e-07 1.17947890e+00]; opt obj: 68.80007264467707\n",
      "Ve: [0.96619588 0.99707745 1.05      ]; Vim: [-0.15470486 -0.1043473   0.        ]; Pd: 22\n",
      "is: 4\n",
      "Set parameter NonConvex to value 2\n",
      "Pg: [7.20794429e+01 4.25977120e-09]; Qg: [2.59383472e-07 1.78606293e+00]; opt obj: 72.07944291549555\n",
      "Ve: [0.96169363 0.9946411  1.05      ]; Vim: [-0.1619662  -0.10949629  0.        ]; Pd: 23\n",
      "is: 5\n",
      "Set parameter NonConvex to value 2\n",
      "Pg: [7.53741212e+01 4.32595471e-09]; Qg: [2.44010433e-07 2.42488022e+00]; opt obj: 75.37412120241623\n",
      "Ve: [0.95712318 0.99218839 1.05      ]; Vim: [-0.16924478 -0.11467986  0.        ]; Pd: 24\n",
      "is: 6\n",
      "Set parameter NonConvex to value 2\n",
      "Pg: [7.86844148e+01 4.39547776e-09]; Qg: [2.29489821e-07 3.09657773e+00]; opt obj: 78.68441480057032\n",
      "Ve: [0.9524835  0.98971898 1.05      ]; Vim: [-0.17654012 -0.1198987   0.        ]; Pd: 25\n",
      "is: 7\n",
      "Set parameter NonConvex to value 2\n",
      "Pg: [8.20106403e+01 4.46859616e-09]; Qg: [2.15772793e-07 3.80182203e+00]; opt obj: 82.0106403407184\n",
      "Ve: [0.94777352 0.98723255 1.05      ]; Vim: [-0.18385175 -0.12515354  0.        ]; Pd: 26\n",
      "is: 8\n",
      "Set parameter NonConvex to value 2\n",
      "Pg: [8.53531241e+01 4.76019935e-09]; Qg: [2.20543742e-07 4.54130006e+00]; opt obj: 85.35312414694995\n",
      "Ve: [0.9429922  0.98472874 1.05      ]; Vim: [-0.19117916 -0.1304451   0.        ]; Pd: 27\n",
      "is: 9\n",
      "Set parameter NonConvex to value 2\n",
      "Pg: [8.87122026e+01 4.81467666e-09]; Qg: [2.04861592e-07 5.31572001e+00]; opt obj: 88.71220260880513\n",
      "Ve: [0.93813848 0.98220719 1.05      ]; Vim: [-0.19852183 -0.13577415  0.        ]; Pd: 28\n",
      "is: 10\n",
      "Set parameter NonConvex to value 2\n",
      "Pg: [9.20882226e+01 4.87760587e-09]; Qg: [1.90655478e-07 6.12581195e+00]; opt obj: 92.08822257173907\n",
      "Ve: [0.9332113  0.97966753 1.05      ]; Vim: [-0.2058792  -0.14114146  0.        ]; Pd: 29\n",
      "is: 11\n",
      "Set parameter NonConvex to value 2\n",
      "Pg: [95.48154054  0.        ]; Qg: [0.         6.97232855]; opt obj: 95.48154053611744\n",
      "Ve: [0.9282096  0.97710938 1.05      ]; Vim: [-0.2132507  -0.14654786  0.        ]; Pd: 30\n",
      "is: 12\n",
      "Set parameter NonConvex to value 2\n",
      "Pg: [9.88925291e+01 5.01499997e-09]; Qg: [1.65170626e-07 7.85604735e+00]; opt obj: 98.8925291111573\n",
      "Ve: [0.92313232 0.97453235 1.05      ]; Vim: [-0.22063574 -0.15199417  0.        ]; Pd: 31\n",
      "is: 13\n",
      "Set parameter NonConvex to value 2\n",
      "Pg: [1.02321565e+02 5.00152453e-09]; Qg: [1.48784156e-07 8.77776879e+00]; opt obj: 102.32156539623486\n",
      "Ve: [0.91797841 0.97193602 1.05      ]; Vim: [-0.22803369 -0.15748125  0.        ]; Pd: 32\n",
      "is: 14\n",
      "Set parameter NonConvex to value 2\n",
      "Pg: [105.           0.65409223]; Qg: [6.65432104e-08 9.49176326e+00]; opt obj: 105.98113834661622\n",
      "Ve: [0.91374783 0.970142   1.05      ]; Vim: [-0.23377778 -0.16127275  0.        ]; Pd: 33\n",
      "is: 15\n",
      "Set parameter NonConvex to value 2\n",
      "Pg: [105.           3.59540119]; Qg: [0.         9.36625131]; opt obj: 110.39310178322799\n",
      "Ve: [0.91298021 0.97121087 1.05      ]; Vim: [-0.2337098 -0.1590138  0.       ]; Pd: 34\n",
      "is: 16\n",
      "Set parameter NonConvex to value 2\n",
      "Pg: [105.           6.54156915]; Qg: [0.         9.25098186]; opt obj: 114.81235372195003\n",
      "Ve: [0.9122085  0.97227974 1.05      ]; Vim: [-0.23364486 -0.15675485  0.        ]; Pd: 35\n",
      "is: 17\n",
      "Set parameter NonConvex to value 2\n",
      "Pg: [105.           9.49260936]; Qg: [0.         9.14598454]; opt obj: 119.23891403883216\n",
      "Ve: [0.91143263 0.97334861 1.05      ]; Vim: [-0.23358299 -0.15449589  0.        ]; Pd: 36\n",
      "is: 18\n",
      "Set parameter NonConvex to value 2\n",
      "Pg: [105.          12.44853669]; Qg: [0.        9.0512932]; opt obj: 123.67280503046695\n",
      "Ve: [0.91065255 0.97441748 1.05      ]; Vim: [-0.23352418 -0.15223694  0.        ]; Pd: 37\n",
      "is: 19\n",
      "Set parameter NonConvex to value 2\n",
      "Pg: [105.          15.40936817]; Qg: [0.         8.96694421]; opt obj: 128.11405225281493\n",
      "Ve: [0.90986819 0.97548635 1.05      ]; Vim: [-0.23346845 -0.14997799  0.        ]; Pd: 38\n",
      "is: 20\n",
      "Set parameter NonConvex to value 2\n",
      "Pg: [105.          18.37511929]; Qg: [0.         8.89296939]; opt obj: 132.56267894057677\n",
      "Ve: [0.90907948 0.97655522 1.05      ]; Vim: [-0.23341581 -0.14771903  0.        ]; Pd: 39\n",
      "is: 21\n",
      "Set parameter NonConvex to value 2\n",
      "Pg: [104.99999999  21.34580729]; Qg: [8.11357701e-08 8.82940311e+00]; opt obj: 137.0187109338145\n",
      "Ve: [0.90828635 0.97762409 1.05      ]; Vim: [-0.23336626 -0.14546008  0.        ]; Pd: 40\n",
      "is: 22\n",
      "Set parameter NonConvex to value 2\n",
      "Pg: [105.          24.32144723]; Qg: [0.         8.77628186]; opt obj: 141.48217084772185\n",
      "Ve: [0.90748873 0.97869296 1.05      ]; Vim: [-0.23331981 -0.14320113  0.        ]; Pd: 41\n",
      "is: 23\n",
      "Set parameter NonConvex to value 2\n",
      "Pg: [104.99999999  27.3020578 ]; Qg: [7.42395068e-08 8.73364198e+00]; opt obj: 145.95308669213185\n",
      "Ve: [0.90668655 0.97976183 1.05      ]; Vim: [-0.23327649 -0.14094217  0.        ]; Pd: 42\n",
      "is: 24\n",
      "Set parameter NonConvex to value 2\n",
      "Pg: [104.99999999  30.28765506]; Qg: [7.11993691e-08 8.70151896e+00]; opt obj: 150.43148258992485\n",
      "Ve: [0.90587974 0.9808307  1.05      ]; Vim: [-0.23323628 -0.13868322  0.        ]; Pd: 43\n",
      "is: 25\n",
      "Set parameter NonConvex to value 2\n",
      "Pg: [104.99999999  33.27825692]; Qg: [6.81914765e-08 8.67995026e+00]; opt obj: 154.91738536970288\n",
      "Ve: [0.90506822 0.98189957 1.05      ]; Vim: [-0.23319922 -0.13642427  0.        ]; Pd: 44\n",
      "is: 26\n",
      "Set parameter NonConvex to value 2\n",
      "Pg: [104.99999999  36.27388116]; Qg: [6.53494054e-08 8.66897364e+00]; opt obj: 159.41082174078548\n",
      "Ve: [0.90425191 0.98296844 1.05      ]; Vim: [-0.23316531 -0.13416531  0.        ]; Pd: 45\n",
      "is: 27\n",
      "Set parameter NonConvex to value 2\n",
      "Pg: [104.99999999  39.27454592]; Qg: [6.26618416e-08 8.66862752e+00]; opt obj: 163.91181887412012\n",
      "Ve: [0.90343075 0.98403731 1.05      ]; Vim: [-0.23313456 -0.13190636  0.        ]; Pd: 46\n",
      "is: 28\n",
      "Set parameter NonConvex to value 2\n",
      "Pg: [104.99999999  42.28026961]; Qg: [6.01182917e-08 8.67895097e+00]; opt obj: 168.42040441610789\n",
      "Ve: [0.90260464 0.98510618 1.05      ]; Vim: [-0.23310698 -0.12964741  0.        ]; Pd: 47\n",
      "is: 29\n",
      "Set parameter NonConvex to value 2\n",
      "Pg: [104.99999999  45.29107101]; Qg: [5.77090157e-08 8.69998378e+00]; opt obj: 172.93660650292048\n",
      "Ve: [0.90177351 0.98617505 1.05      ]; Vim: [-0.23308259 -0.12738845  0.        ]; Pd: 48\n",
      "is: 30\n",
      "Set parameter NonConvex to value 2\n",
      "Pg: [104.99999999  48.30696919]; Qg: [5.54253406e-08 8.73176644e+00]; opt obj: 177.46045377533844\n",
      "Ve: [0.90093727 0.98724392 1.05      ]; Vim: [-0.2330614 -0.1251295  0.       ]; Pd: 49\n"
     ]
    }
   ],
   "source": [
    "i = 0\n",
    "for p in range(20, 50):\n",
    "    i+=1\n",
    "    p_load = p\n",
    "    print(f'is: {i}')\n",
    "    optimize_OPF(p_load)"
   ],
   "metadata": {
    "collapsed": false
   }
  },
  {
   "cell_type": "code",
   "execution_count": 57,
   "outputs": [
    {
     "data": {
      "text/plain": "array([30.,  0.,  0.])"
     },
     "execution_count": 57,
     "metadata": {},
     "output_type": "execute_result"
    }
   ],
   "source": [
    "Pd"
   ],
   "metadata": {
    "collapsed": false
   }
  },
  {
   "cell_type": "code",
   "execution_count": 58,
   "outputs": [
    {
     "data": {
      "text/plain": "array([0., 0., 0.])"
     },
     "execution_count": 58,
     "metadata": {},
     "output_type": "execute_result"
    }
   ],
   "source": [
    "Qd"
   ],
   "metadata": {
    "collapsed": false
   }
  },
  {
   "cell_type": "code",
   "execution_count": 41,
   "outputs": [
    {
     "data": {
      "text/plain": "array([1.1025, 1.0404, 1.0404, 1.0404])"
     },
     "execution_count": 41,
     "metadata": {},
     "output_type": "execute_result"
    }
   ],
   "source": [
    "llv = ll[vv[\"i1\"][\"Vm\"]:vv[\"iN\"][\"Vm\"]]**2\n",
    "uuv = uu[vv[\"i1\"][\"Vm\"]:vv[\"iN\"][\"Vm\"]]**2\n",
    "uuv"
   ],
   "metadata": {
    "collapsed": false
   }
  },
  {
   "cell_type": "code",
   "execution_count": 42,
   "outputs": [
    {
     "name": "stdout",
     "output_type": "stream",
     "text": [
      "  (0, 0)\t(162.99668368338897-343.3133709444148j)\n",
      "  (1, 0)\t(-162.99668368338897+344.47752737211067j)\n",
      "  (0, 1)\t(-162.99668368338897+344.47752737211067j)\n",
      "  (3, 1)\t(-285.24419644593075+602.8356729011938j)\n",
      "  (1, 1)\t(611.2375638127087-1288.7971825456257j)\n",
      "  (2, 1)\t(-162.99668368338897+344.47752737211067j)\n",
      "  (2, 2)\t(391.19204084013353-824.7503689598727j)\n",
      "  (1, 2)\t(-162.99668368338897+344.47752737211067j)\n",
      "  (3, 2)\t(-228.19535715674456+482.268538320955j)\n",
      "  (3, 3)\t(513.4395536026753-1083.607438672254j)\n",
      "  (2, 3)\t(-228.19535715674456+482.268538320955j)\n",
      "  (1, 3)\t(-285.24419644593075+602.8356729011938j)\n"
     ]
    }
   ],
   "source": [
    "print(Ybus)"
   ],
   "metadata": {
    "collapsed": false
   }
  },
  {
   "cell_type": "code",
   "execution_count": 43,
   "outputs": [
    {
     "data": {
      "text/plain": "array([1000.,   80.,  100.])"
     },
     "execution_count": 43,
     "metadata": {},
     "output_type": "execute_result"
    }
   ],
   "source": [
    "Pg_lower, Pg_upper = ll[vv[\"i1\"][\"Pg\"]:vv[\"iN\"][\"Pg\"]], uu[vv[\"i1\"][\"Pg\"]:vv[\"iN\"][\"Pg\"]]\n",
    "Pg_upper"
   ],
   "metadata": {
    "collapsed": false
   }
  },
  {
   "cell_type": "code",
   "execution_count": 43,
   "outputs": [],
   "source": [],
   "metadata": {
    "collapsed": false
   }
  },
  {
   "cell_type": "code",
   "execution_count": 44,
   "outputs": [
    {
     "data": {
      "text/plain": "array([ 0., 60., 70., 25.])"
     },
     "execution_count": 44,
     "metadata": {},
     "output_type": "execute_result"
    }
   ],
   "source": [
    "Pd = bus[:, PD]\n",
    "Pd"
   ],
   "metadata": {
    "collapsed": false
   }
  },
  {
   "cell_type": "code",
   "execution_count": 45,
   "outputs": [
    {
     "data": {
      "text/plain": "1"
     },
     "execution_count": 45,
     "metadata": {},
     "output_type": "execute_result"
    }
   ],
   "source": [
    "baseMVA"
   ],
   "metadata": {
    "collapsed": false
   }
  },
  {
   "cell_type": "code",
   "execution_count": 46,
   "outputs": [
    {
     "name": "stdout",
     "output_type": "stream",
     "text": [
      "Set parameter NonConvex to value 2\n",
      "ipol: [0 1 2]\n"
     ]
    },
    {
     "ename": "GurobiError",
     "evalue": "Index 8 out of range for attribute 'X'",
     "output_type": "error",
     "traceback": [
      "\u001B[0;31m---------------------------------------------------------------------------\u001B[0m",
      "\u001B[0;31mGurobiError\u001B[0m                               Traceback (most recent call last)",
      "Cell \u001B[0;32mIn[46], line 85\u001B[0m\n\u001B[1;32m     81\u001B[0m \u001B[38;5;66;03m# calculate the optimization\u001B[39;00m\n\u001B[1;32m     82\u001B[0m \u001B[38;5;66;03m# model.optimize()\u001B[39;00m\n\u001B[1;32m     83\u001B[0m model\u001B[38;5;241m.\u001B[39mX[:\u001B[38;5;241m14\u001B[39m]\n\u001B[0;32m---> 85\u001B[0m Pg_star, Qg_star \u001B[38;5;241m=\u001B[39m \u001B[43mPg\u001B[49m\u001B[38;5;241;43m.\u001B[39;49m\u001B[43mX\u001B[49m, Qg\u001B[38;5;241m.\u001B[39mX\n\u001B[1;32m     86\u001B[0m optimized_obj \u001B[38;5;241m=\u001B[39m gencost[ipol, First_Or_Con]\u001B[38;5;129m@Pg_star\u001B[39m\n",
      "File \u001B[0;32msrc/gurobipy/mvar.pxi:296\u001B[0m, in \u001B[0;36mgurobipy.MVar.__getattr__\u001B[0;34m()\u001B[0m\n",
      "File \u001B[0;32msrc/gurobipy/mvar.pxi:557\u001B[0m, in \u001B[0;36mgurobipy.MVar.getAttr\u001B[0;34m()\u001B[0m\n",
      "File \u001B[0;32msrc/gurobipy/attrutil.pxi:148\u001B[0m, in \u001B[0;36mgurobipy.__gettypedattrlist\u001B[0;34m()\u001B[0m\n",
      "\u001B[0;31mGurobiError\u001B[0m: Index 8 out of range for attribute 'X'"
     ]
    }
   ],
   "source": [
    "# Parameters\n",
    "# obtain the complex load\n",
    "Pd = bus[:, PD]\n",
    "Qd = bus[:, QD]\n",
    "slack_v = net.ext_grid['vm_pu']\n",
    "\n",
    "lb_update = -1e4\n",
    "\n",
    "# obtain the range of voltage; the range is from the setting\n",
    "V_range = v_max - 1\n",
    "V_ll,V_uu = 1.0-V_range, 1.0+V_range\n",
    "\n",
    "# obtain the power range\n",
    "Pg_lower, Pg_upper = ll[vv[\"i1\"][\"Pg\"]:vv[\"iN\"][\"Pg\"]], uu[vv[\"i1\"][\"Pg\"]:vv[\"iN\"][\"Pg\"]]*baseMVA\n",
    "Qg_lower, Qg_upper = ll[vv[\"i1\"][\"Qg\"]:vv[\"iN\"][\"Qg\"]], uu[vv[\"i1\"][\"Qg\"]:vv[\"iN\"][\"Qg\"]]*baseMVA\n",
    "\n",
    "# the dimension of the OPF\n",
    "nb = bus.shape[0]          ## number of buses\n",
    "nl = branch.shape[0]       ## number of branches\n",
    "\n",
    "ineq_idx = 0\n",
    "\n",
    "# create the model; set the model type: NonConvex.\n",
    "model = gp.Model(\"PowerGeneration\");model.setParam('NonConvex', 2)\n",
    "\n",
    "# creat variables for the model; the numbers in the following codes should be replaced by parameters\n",
    "V_re = model.addMVar(nb, lb=lb_update, vtype=GRB.CONTINUOUS, name='V real')\n",
    "V_im = model.addMVar(nb, lb=lb_update, vtype=GRB.CONTINUOUS, name='V imag')\n",
    "Pg = model.addMVar(ngon, lb=Pg_lower, ub=Pg_upper, vtype=GRB.CONTINUOUS, name='Pg')\n",
    "Qg = model.addMVar(ngon, lb=Qg_lower, ub=Qg_upper, vtype=GRB.CONTINUOUS, name='Qg')\n",
    "temp1 = model.addMVar(nb, lb=lb_update, vtype=GRB.CONTINUOUS, name='Temp 1')\n",
    "temp2 = model.addMVar(nb, lb=lb_update, vtype=GRB.CONTINUOUS, name='Temp 2')\n",
    "Pg_net = model.addMVar(nb, lb=lb_update, vtype=GRB.CONTINUOUS, name='Pg net')  # the number of buses, too\n",
    "Qg_net = model.addMVar(nb, lb=lb_update, vtype=GRB.CONTINUOUS, name='Qg net')\n",
    "Line_temp_1 = model.addMVar(nl, lb=lb_update, vtype=GRB.CONTINUOUS, name='Line temp 1')    # the shape should be line number\n",
    "Line_temp_2 = model.addMVar(nl, lb=lb_update, vtype=GRB.CONTINUOUS, name='Line temp 2')    # the shape should be line number\n",
    "Line_temp_3 = model.addMVar(nl, lb=lb_update, vtype=GRB.CONTINUOUS, name='Line temp 3')    # the shape should be line number\n",
    "Line_temp_4 = model.addMVar(nl, lb=lb_update, vtype=GRB.CONTINUOUS, name='Line temp 4')    # the shape should be line number\n",
    "\n",
    "# the prameters of branches\n",
    "G = np.real(Ybus)\n",
    "B = np.imag(Ybus)\n",
    "# the parameters for currents in branches\n",
    "G_yf, B_yf = np.real(Yf), np.imag(Yf)\n",
    "G_yt, B_yt = np.real(Yt), np.imag(Yt)\n",
    "\n",
    "# Constraints; insert the formulas\n",
    "Temp_c1 = model.addConstr(G@V_re - B@V_im == temp1, 'Temp Constr 1')\n",
    "Temp_c2 = model.addConstr(G @ V_im + B @ V_re == temp2, 'Temp Constr 2')\n",
    "Pg_net_c = model.addConstr(Cg @ Pg - Pd == Pg_net, 'Pg net Constr')\n",
    "Qg_net_c = model.addConstr(Cg @ Qg - Qd == Qg_net, 'Qg net Constr')\n",
    "# print(f'Pd:{Pd}\\n Qd:{Qd}')\n",
    "CVL_CPL = model.addConstrs((V_re[i] * temp1[i] *baseMVA+ V_im[i] * temp2[i]*baseMVA == Pg_net[i]  for i in range(nb)), 'Cvl P')  # break into different parts\n",
    "CVL_CPL_Q = model.addConstrs((V_im[i] * temp1[i] *baseMVA - V_re[i] * temp2[i]*baseMVA == Qg_net[i] for i in range(nb)), 'Cvl Q')\n",
    "\n",
    "# the constraints of voltages on all buses; set the constraint for slack bus, then give the upper and lower constraints for other buses\n",
    "V_slack = model.addConstr(V_re[0]==slack_v, 'V slack real')\n",
    "V_slack_a = model.addConstr(V_im[0]==0, 'V slack imag')\n",
    "# the upper&lower constraints for buses except for the slack bus\n",
    "V_upper = model.addConstrs((V_re[i]**2 + V_im[i]**2 <= V_uu**2 for i in range(1,nb-ineq_idx)), 'V upper bound')  # 对 range 起始值的处理，是处理树状分层搜索的突破口；有一\"减\"，对应的有一\"加\"。\n",
    "# if ineq_idx != 0:\n",
    "#     V_upper = model.addConstrs((V_re[i]**2 + V_im[i]**2 == V_uu**2 for i in range(ineq_idx,nb)), 'V upper bound')\n",
    "#\n",
    "V_lower = model.addConstrs((V_re[i]**2 + V_im[i]**2 >= V_ll**2 for i in range(1,nb)), 'V lower bound')\n",
    "\n",
    "# Yf * W * Yf; the number is equal to that of the lines/branches\n",
    "Line_temp_c_1 = model.addConstr(G_yf@V_re - B_yf@V_im == Line_temp_1, 'Branch Con 1')\n",
    "Line_temp_c_2 = model.addConstr(G_yf @ V_im + B_yf @ V_re == Line_temp_2, 'Branch Con 2')\n",
    "Line_temp_c_3 = model.addConstr(G_yt@V_re - B_yt@V_im == Line_temp_3, 'Branch Con 3')\n",
    "Line_temp_c_4 = model.addConstr(G_yt @ V_im + B_yt @ V_re == Line_temp_4, 'Branch Con 4')\n",
    "# 下式左侧是否应该乘上baseMVA\n",
    "Line_c_1 = model.addConstrs((Line_temp_1[i]**2 + Line_temp_2[i]**2 <= np.real(flow_max[i]) for i in range(nl)), 'Branch Con 1') # p.u.\n",
    "Line_c_2 = model.addConstrs((Line_temp_3[i]**2 + Line_temp_4[i]**2 <= np.real(flow_max[i]) for i in range(nl)), 'Branch Con 2') # p.u.\n",
    "\n",
    "# set the objective of the model\n",
    "print('ipol:', ipol)\n",
    "# The \"gencost\" changes with different cases. Keep in Mind!\n",
    "# model.setObjective(gencost[ipol, First_Or_Con]@Pg**2+gencost[ipol, First_Or_Con+1]@Pg, GRB.MINIMIZE)\n",
    "model.setObjective(gencost[ipol, First_Or_Con]@Pg, GRB.MINIMIZE)\n",
    "\n",
    "# calculate the optimization\n",
    "# model.optimize()\n",
    "model.X[:14]\n",
    "\n",
    "Pg_star, Qg_star = Pg.X, Qg.X\n",
    "optimized_obj = gencost[ipol, First_Or_Con]@Pg_star\n"
   ],
   "metadata": {
    "collapsed": false
   }
  },
  {
   "cell_type": "code",
   "execution_count": null,
   "outputs": [],
   "source": [
    "len(model.getVars())\n",
    "len(model.getConstrs())"
   ],
   "metadata": {
    "collapsed": false
   }
  },
  {
   "cell_type": "code",
   "execution_count": null,
   "outputs": [],
   "source": [
    "print(Pg)"
   ],
   "metadata": {
    "collapsed": false
   }
  },
  {
   "cell_type": "code",
   "execution_count": null,
   "outputs": [],
   "source": [
    "net.res_bus"
   ],
   "metadata": {
    "collapsed": false
   }
  },
  {
   "cell_type": "code",
   "execution_count": null,
   "outputs": [],
   "source": [
    "m = gp.Model(\"model\")\n",
    "# x = m.addMVar(shape=(10), name=\"x\")\n",
    "y = m.addMVar(shape=(5),lb=np.array([-1,-2,-3,-4,-5]), name=\"y\")\n",
    "\n",
    "A = np.ones(5)\n",
    "\n",
    "m.addConstrs((y[i] >=np.array([-1,-2,-3,-4,-5])[i] for i in range(5)), name=\"const\")\n",
    "m.setObjective(A@Y_.real)\n",
    "m.optimize()"
   ],
   "metadata": {
    "collapsed": false
   }
  },
  {
   "cell_type": "code",
   "execution_count": null,
   "outputs": [],
   "source": [
    "m.X"
   ],
   "metadata": {
    "collapsed": false
   }
  },
  {
   "cell_type": "code",
   "execution_count": null,
   "outputs": [],
   "source": [
    "for v in m.getVars():\n",
    "    print(v.varName, v.x)"
   ],
   "metadata": {
    "collapsed": false
   }
  },
  {
   "cell_type": "code",
   "execution_count": null,
   "outputs": [],
   "source": [],
   "metadata": {
    "collapsed": false
   }
  },
  {
   "cell_type": "code",
   "execution_count": null,
   "outputs": [],
   "source": [
    "n = 3\n",
    "p = 3\n",
    "np.random.seed(1)\n",
    "C = np.random.randn(n, n)\n",
    "A = []\n",
    "b = []\n",
    "for i in range(p):\n",
    "    A.append(np.random.randn(n, n))\n",
    "    b.append(np.random.randn())\n",
    "\n",
    "print(f'A ;{A};\\n b : {b}')"
   ],
   "metadata": {
    "collapsed": false
   }
  },
  {
   "cell_type": "code",
   "execution_count": null,
   "outputs": [],
   "source": [
    "# Define and solve the CVXPY problem.\n",
    "# Create a symmetric matrix variable\n",
    "X = cp.Variable((n,n), symmetric=True)\n",
    "# The operator >> denotes matrix inequality.\n",
    "constraints = [X >> 0]\n",
    "constraints += [\n",
    "    cp.trace(A[i] @ X) == b[i] for i in range(p)\n",
    "]\n",
    "prob = cp.Problem(cp.Minimize(cp.trace(C @ X)),\n",
    "                  constraints)\n",
    "prob.solve()\n",
    "# Print result.\n",
    "print(\"The optimal value is\", prob.value)\n",
    "print(\"A solution X is\")\n",
    "print(X.value)"
   ],
   "metadata": {
    "collapsed": false
   }
  },
  {
   "cell_type": "code",
   "execution_count": null,
   "outputs": [],
   "source": [],
   "metadata": {
    "collapsed": false
   }
  },
  {
   "cell_type": "code",
   "execution_count": null,
   "outputs": [],
   "source": [],
   "metadata": {
    "collapsed": false
   }
  }
 ],
 "metadata": {
  "kernelspec": {
   "display_name": "Python 3",
   "language": "python",
   "name": "python3"
  },
  "language_info": {
   "codemirror_mode": {
    "name": "ipython",
    "version": 2
   },
   "file_extension": ".py",
   "mimetype": "text/x-python",
   "name": "python",
   "nbconvert_exporter": "python",
   "pygments_lexer": "ipython2",
   "version": "2.7.6"
  }
 },
 "nbformat": 4,
 "nbformat_minor": 0
}
