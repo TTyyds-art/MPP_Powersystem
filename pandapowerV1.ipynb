{
 "cells": [
  {
   "cell_type": "code",
   "execution_count": 1,
   "metadata": {
    "collapsed": true
   },
   "outputs": [
    {
     "data": {
      "text/plain": "0"
     },
     "execution_count": 1,
     "metadata": {},
     "output_type": "execute_result"
    }
   ],
   "source": [
    "import pandapower as pp\n",
    "net = pp.create_empty_network()\n",
    "b1 = pp.create_bus(net, vn_kv=20.)\n",
    "b2 = pp.create_bus(net, vn_kv=20.)\n",
    "pp.create_line(net, from_bus=b1, to_bus=b2, length_km=25.5, std_type=\"NAYY 4x50 SE\")\n",
    "pp.create_ext_grid(net,  bus=b1)\n",
    "pp.create_load(net, bus=b2, p_mw=1.)\n"
   ]
  },
  {
   "cell_type": "code",
   "execution_count": 3,
   "outputs": [
    {
     "name": "stderr",
     "output_type": "stream",
     "text": [
      "no costs are given - overall generated power is minimized\n"
     ]
    }
   ],
   "source": [
    "_,a = pp.runopp(net)"
   ],
   "metadata": {
    "collapsed": false
   }
  },
  {
   "cell_type": "code",
   "execution_count": 4,
   "outputs": [
    {
     "name": "stdout",
     "output_type": "stream",
     "text": [
      "0    1.000000\n",
      "1    0.958848\n",
      "Name: vm_pu, dtype: float64\n",
      "0    24.971812\n",
      "Name: loading_percent, dtype: float64\n"
     ]
    }
   ],
   "source": [
    "print(net.res_bus.vm_pu)\n",
    "print(net.res_line.loading_percent)"
   ],
   "metadata": {
    "collapsed": false
   }
  },
  {
   "cell_type": "code",
   "execution_count": 4,
   "outputs": [
    {
     "data": {
      "text/plain": "{'baseMVA': 1,\n 'version': 2,\n 'bus': array([[ 0.00000000e+00,  3.00000000e+00,  0.00000000e+00,\n          0.00000000e+00,  0.00000000e+00,  0.00000000e+00,\n          1.00000000e+00,  1.00000000e+00,  0.00000000e+00,\n          2.00000000e+01,  1.00000000e+00,  1.00000000e+00,\n          1.00000000e+00,  1.00000000e+00, -1.65699247e-21,\n          1.29553506e+07,  1.29553505e+07],\n        [ 1.00000000e+00,  1.00000000e+00,  1.00000000e+00,\n          0.00000000e+00,  0.00000000e+00,  0.00000000e+00,\n          1.00000000e+00,  9.58847731e-01, -1.07277159e+00,\n          2.00000000e+01,  1.00000000e+00,  2.00000000e+00,\n          0.00000000e+00,  1.09280332e+00, -2.71253605e-02,\n          0.00000000e+00,  0.00000000e+00]]),\n 'branch': array([[ 0.00000000e+00+0.j,  1.00000000e+00+0.j,  4.09275000e-02+0.j,\n          5.29125000e-03+0.j,  6.72929146e-01+0.j,  0.00000000e+00+0.j,\n          2.50000000e+02+0.j,  2.50000000e+02+0.j,  1.00000000e+00+0.j,\n          0.00000000e+00+0.j,  1.00000000e+00+0.j, -3.60000000e+02+0.j,\n          3.60000000e+02+0.j,  1.04877582e+00+0.j, -6.39500483e-01+0.j,\n         -1.00000000e+00+0.j, -4.40619763e-16+0.j,  0.00000000e+00+0.j,\n          0.00000000e+00+0.j,  0.00000000e+00+0.j,  0.00000000e+00+0.j,\n          0.00000000e+00+0.j,  0.00000000e+00+0.j]]),\n 'gen': array([[ 0.00000000e+00,  1.04877582e+00, -6.39500483e-01,\n          1.00000000e+09, -1.00000000e+09,  1.00000000e+00,\n          1.00000000e+00,  1.00000000e+00,  1.00000000e+09,\n         -1.00000000e+09,  0.00000000e+00,  0.00000000e+00,\n          0.00000000e+00,  0.00000000e+00,  0.00000000e+00,\n          0.00000000e+00,  0.00000000e+00,  0.00000000e+00,\n          0.00000000e+00,  0.00000000e+00,  0.00000000e+00,\n          0.00000000e+00,  0.00000000e+00,  0.00000000e+00,\n          0.00000000e+00,  1.00000000e+00]]),\n 'internal': {'Ybus': array([], dtype=complex128),\n  'Yf': array([], dtype=complex128),\n  'Yt': array([], dtype=complex128),\n  'branch_is': array([ True]),\n  'gen_is': array([ True]),\n  'DLF': array([], dtype=complex128),\n  'buses_ord_bfs_nets': array([], dtype=float64),\n  'ref_gens': array([0])},\n 'gencost': array([], dtype=float64),\n 'success': True,\n 'et': 0.1816844479762949,\n 'obj': 1.0487758179258733,\n 'internal_gencost': array([[2., 0., 0., 2., 1., 0.]])}"
     },
     "execution_count": 4,
     "metadata": {},
     "output_type": "execute_result"
    }
   ],
   "source": [
    "net[\"_ppc_opf\"]"
   ],
   "metadata": {
    "collapsed": false
   }
  },
  {
   "cell_type": "code",
   "execution_count": 5,
   "outputs": [],
   "source": [
    "import pandapower as pp\n",
    "net = pp.create_empty_network()\n",
    "\n",
    "# create buses\n",
    "bus1 = pp.create_bus(net, vn_kv=110.)\n",
    "bus2 = pp.create_bus(net, vn_kv=110.)\n",
    "bus3 = pp.create_bus(net, vn_kv=110.)\n",
    "bus4 = pp.create_bus(net, vn_kv=110.)\n",
    "# bus5 = pp.create_bus(net, vn_kv=110.)\n",
    "\n",
    "# create 110 kV lines\n",
    "pp.create_line(net, bus2, bus3, length_km=70., std_type='149-AL1/24-ST1A 110.0')\n",
    "pp.create_line(net, bus3, bus4, length_km=50., std_type=\"149-AL1/24-ST1A 110.0\")\n",
    "pp.create_line(net, bus4, bus2, length_km=40., std_type=\"149-AL1/24-ST1A 110.0\")\n",
    "pp.create_line(net, bus1, bus2, length_km=70., std_type='149-AL1/24-ST1A 110.0')\n",
    "\n",
    "# create loads\n",
    "pp.create_load(net, bus2, p_mw=60., controllable=False)\n",
    "pp.create_load(net, bus3, p_mw=70., controllable=False)\n",
    "pp.create_load(net, bus4, p_mw=25., controllable=False)\n",
    "\n",
    "# create generators\n",
    "eg = pp.create_ext_grid(net, bus1, min_p_mw=0, max_p_mw=1000, vm_pu=1.05)\n",
    "g0 = pp.create_gen(net, bus3, p_mw=80, min_p_mw=0, max_p_mw=80, vm_pu=1.00, controllable=True)\n",
    "g1 = pp.create_gen(net, bus4, p_mw=100, min_p_mw=0, max_p_mw=100, vm_pu=1.00, controllable=True)\n",
    "\n",
    "\n",
    "costeg = pp.create_poly_cost(net, 0, 'ext_grid', cp1_eur_per_mw=20)\n",
    "costgen1 = pp.create_poly_cost(net, 0, 'gen', cp1_eur_per_mw=10)\n",
    "costgen2 = pp.create_poly_cost(net, 1, 'gen', cp1_eur_per_mw=10)"
   ],
   "metadata": {
    "collapsed": false
   }
  },
  {
   "cell_type": "code",
   "execution_count": 6,
   "outputs": [],
   "source": [
    "net.bus[\"min_vm_pu\"] = 0.98\n",
    "net.bus[\"max_vm_pu\"] = 1.02\n",
    "net.line[\"max_loading_percent\"] = 50"
   ],
   "metadata": {
    "collapsed": false
   }
  },
  {
   "cell_type": "code",
   "execution_count": 7,
   "outputs": [],
   "source": [
    "om,ppopt = pp.runopp(net, delta=1e-16)   # solve the OPF problem"
   ],
   "metadata": {
    "collapsed": false
   }
  },
  {
   "cell_type": "code",
   "execution_count": 8,
   "outputs": [
    {
     "data": {
      "text/plain": "{'baseMVA': 1,\n 'version': 2,\n 'bus': array([[ 0.00000000e+00,  3.00000000e+00,  0.00000000e+00,\n          0.00000000e+00,  0.00000000e+00,  0.00000000e+00,\n          1.00000000e+00,  1.05000000e+00,  0.00000000e+00,\n          1.10000000e+02,  1.00000000e+00,  1.05000000e+00,\n          1.05000000e+00,  1.08190002e+01,  2.18039840e-21,\n          0.00000000e+00,  1.65497357e+02],\n        [ 1.00000000e+00,  1.00000000e+00,  6.00000000e+01,\n          0.00000000e+00,  0.00000000e+00,  0.00000000e+00,\n          1.00000000e+00,  1.01080187e+00,  1.05599499e+00,\n          1.10000000e+02,  1.00000000e+00,  1.02000000e+00,\n          9.80000000e-01,  1.06350842e+01,  7.04471675e-03,\n          0.00000000e+00,  0.00000000e+00],\n        [ 2.00000000e+00,  2.00000000e+00,  7.00000000e+01,\n          0.00000000e+00,  0.00000000e+00,  0.00000000e+00,\n          1.00000000e+00,  1.01999500e+00,  3.77402105e+00,\n          1.10000000e+02,  1.00000000e+00,  1.02000000e+00,\n          9.80000000e-01,  1.01637537e+01, -2.69314107e-22,\n          1.61174439e+01,  0.00000000e+00],\n        [ 3.00000000e+00,  2.00000000e+00,  2.50000000e+01,\n          0.00000000e+00,  0.00000000e+00,  0.00000000e+00,\n          1.00000000e+00,  1.01999964e+00,  4.75539067e+00,\n          1.10000000e+02,  1.00000000e+00,  1.02000000e+00,\n          9.80000000e-01,  1.00000021e+01, -2.41426645e-21,\n          1.86123389e+02,  0.00000000e+00]]),\n 'branch': array([[ 1.00000000e+00+0.j,  2.00000000e+00+0.j,  1.12231405e-03+0.j,\n          2.37190083e-03+0.j,  2.32831286e+00+0.j,  4.47735134e+01+0.j,\n          2.50000000e+02+0.j,  2.50000000e+02+0.j,  1.00000000e+00+0.j,\n          0.00000000e+00+0.j,  1.00000000e+00+0.j, -3.60000000e+02+0.j,\n          3.60000000e+02+0.j, -1.81675549e+01+0.j,  3.97820737e+00+0.j,\n          1.85594449e+01+0.j, -5.55060515e+00+0.j,  0.00000000e+00+0.j,\n          0.00000000e+00+0.j,  0.00000000e+00+0.j,  0.00000000e+00+0.j,\n          0.00000000e+00+0.j,  0.00000000e+00+0.j],\n        [ 2.00000000e+00+0.j,  3.00000000e+00+0.j,  8.01652893e-04+0.j,\n          1.69421488e-03+0.j,  1.66308061e+00+0.j,  4.47735134e+01+0.j,\n          2.50000000e+02+0.j,  2.50000000e+02+0.j,  1.00000000e+00+0.j,\n          0.00000000e+00+0.j,  1.00000000e+00+0.j, -3.60000000e+02+0.j,\n          3.60000000e+02+0.j, -8.55986787e+00+0.j,  3.27243410e+00+0.j,\n          8.62951677e+00+0.j, -4.85549795e+00+0.j,  0.00000000e+00+0.j,\n          0.00000000e+00+0.j,  0.00000000e+00+0.j,  0.00000000e+00+0.j,\n          0.00000000e+00+0.j,  0.00000000e+00+0.j],\n        [ 3.00000000e+00+0.j,  1.00000000e+00+0.j,  6.41322314e-04+0.j,\n          1.35537190e-03+0.j,  1.33046449e+00+0.j,  4.47735134e+01+0.j,\n          2.50000000e+02+0.j,  2.50000000e+02+0.j,  1.00000000e+00+0.j,\n          0.00000000e+00+0.j,  1.00000000e+00+0.j, -3.60000000e+02+0.j,\n          3.60000000e+02+0.j,  4.33913734e+01+0.j, -1.27167026e+01+0.j,\n         -4.21416434e+01+0.j,  1.39860963e+01+0.j,  0.00000000e+00+0.j,\n          0.00000000e+00+0.j,  0.00000000e+00+0.j,  0.00000000e+00+0.j,\n          0.00000000e+00+0.j,  0.00000000e+00+0.j],\n        [ 0.00000000e+00+0.j,  1.00000000e+00+0.j,  1.12231405e-03+0.j,\n          2.37190083e-03+0.j,  2.32831286e+00+0.j,  4.47735134e+01+0.j,\n          2.50000000e+02+0.j,  2.50000000e+02+0.j,  1.00000000e+00+0.j,\n          0.00000000e+00+0.j,  1.00000000e+00+0.j, -3.60000000e+02+0.j,\n          3.60000000e+02+0.j,  7.41540309e-06+0.j,  1.61448552e+01+0.j,\n          3.09198455e-01+0.j, -1.79643037e+01+0.j,  0.00000000e+00+0.j,\n          0.00000000e+00+0.j,  0.00000000e+00+0.j,  0.00000000e+00+0.j,\n          0.00000000e+00+0.j,  0.00000000e+00+0.j]]),\n 'gen': array([[ 0.00000000e+00,  7.37457879e-06,  1.61448552e+01,\n          1.00000000e+09, -1.00000000e+09,  1.05000000e+00,\n          1.00000000e+00,  1.00000000e+00,  1.00000000e+03,\n         -1.00000000e-16,  0.00000000e+00,  0.00000000e+00,\n          0.00000000e+00,  0.00000000e+00,  0.00000000e+00,\n          0.00000000e+00,  0.00000000e+00,  0.00000000e+00,\n          0.00000000e+00,  0.00000000e+00,  0.00000000e+00,\n          0.00000000e+00,  9.18099982e+00,  0.00000000e+00,\n          0.00000000e+00,  1.00000000e+00],\n        [ 2.00000000e+00,  7.99995768e+01, -2.27817257e+00,\n          1.00000000e+09, -1.00000000e+09,  1.01999500e+00,\n                     nan,  1.00000000e+00,  8.00000000e+01,\n         -1.00000000e-16,  0.00000000e+00,  0.00000000e+00,\n          0.00000000e+00,  0.00000000e+00,  0.00000000e+00,\n          0.00000000e+00,  0.00000000e+00,  0.00000000e+00,\n          0.00000000e+00,  0.00000000e+00,  0.00000000e+00,\n          1.63754592e-01,  0.00000000e+00,  0.00000000e+00,\n          0.00000000e+00,  0.00000000e+00],\n        [ 3.00000000e+00,  7.70208900e+01, -1.75722004e+01,\n          1.00000000e+09, -1.00000000e+09,  1.01999964e+00,\n                     nan,  1.00000000e+00,  1.00000000e+02,\n         -1.00000000e-16,  0.00000000e+00,  0.00000000e+00,\n          0.00000000e+00,  0.00000000e+00,  0.00000000e+00,\n          0.00000000e+00,  0.00000000e+00,  0.00000000e+00,\n          0.00000000e+00,  0.00000000e+00,  0.00000000e+00,\n          0.00000000e+00,  0.00000000e+00,  0.00000000e+00,\n          0.00000000e+00,  0.00000000e+00]]),\n 'internal': {'Ybus': array([], dtype=complex128),\n  'Yf': array([], dtype=complex128),\n  'Yt': array([], dtype=complex128),\n  'branch_is': array([ True,  True,  True,  True]),\n  'gen_is': array([ True,  True,  True]),\n  'DLF': array([], dtype=complex128),\n  'buses_ord_bfs_nets': array([], dtype=float64),\n  'ref_gens': array([0])},\n 'gencost': array([], dtype=float64),\n 'success': True,\n 'et': 0.6138237749983091,\n 'obj': 1570.2048160492504,\n 'internal_gencost': array([[ 2.,  0.,  0.,  2., 20.,  0.],\n        [ 2.,  0.,  0.,  2., 10.,  0.],\n        [ 2.,  0.,  0.,  2., 10.,  0.]])}"
     },
     "execution_count": 8,
     "metadata": {},
     "output_type": "execute_result"
    }
   ],
   "source": [
    "net[\"_ppc_opf\"]"
   ],
   "metadata": {
    "collapsed": false
   }
  },
  {
   "cell_type": "code",
   "execution_count": null,
   "outputs": [],
   "source": [],
   "metadata": {
    "collapsed": false
   }
  }
 ],
 "metadata": {
  "kernelspec": {
   "display_name": "Python 3",
   "language": "python",
   "name": "python3"
  },
  "language_info": {
   "codemirror_mode": {
    "name": "ipython",
    "version": 2
   },
   "file_extension": ".py",
   "mimetype": "text/x-python",
   "name": "python",
   "nbconvert_exporter": "python",
   "pygments_lexer": "ipython2",
   "version": "2.7.6"
  }
 },
 "nbformat": 4,
 "nbformat_minor": 0
}
