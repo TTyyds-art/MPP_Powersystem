{
 "cells": [
  {
   "cell_type": "code",
   "execution_count": 1,
   "metadata": {
    "collapsed": true,
    "pycharm": {
     "name": "#%%\n"
    }
   },
   "outputs": [],
   "source": [
    "import gurobipy as gp\n",
    "from gurobipy import GRB\n",
    "import numpy as np"
   ]
  },
  {
   "cell_type": "code",
   "execution_count": 4,
   "outputs": [
    {
     "data": {
      "text/plain": "<MVar (5,)>\narray([<gurobi.Var *Awaiting Model Update*>,\n       <gurobi.Var *Awaiting Model Update*>,\n       <gurobi.Var *Awaiting Model Update*>,\n       <gurobi.Var *Awaiting Model Update*>,\n       <gurobi.Var *Awaiting Model Update*>])"
     },
     "execution_count": 4,
     "metadata": {},
     "output_type": "execute_result"
    }
   ],
   "source": [
    "m = gp.Model(\"model\")\n",
    "\n",
    "x = m.addMVar(shape=(5), lb=1, name='x')\n",
    "x_1 = m.addMVar(shape=(2, 4),lb=0, name='second line.')\n",
    "\n",
    "param = np.arange(10).reshape(2,5)\n",
    "param_1 = np.arange(2, 10).reshape(2,4)\n",
    "rhs = np.array([4,5])\n",
    "mask = [1, 0, 0, 0, 1]\n",
    "\n",
    "x_masked = x[mask]\n",
    "y = param@x\n",
    "y_1 = param_1[1]@x_1[1]\n",
    "c = np.append(y, y_1)\n",
    "# m.addConstr(y<=np.array([0,0]))\n",
    "# m.addConstr(y[0]<=10)\n",
    "# m.addConstr(y[1]>=2)\n",
    "m.addConstr(y_1<=10)\n",
    "m.addConstr(y_1>=2)\n",
    "# y_1\n",
    "x_masked"
   ],
   "metadata": {
    "collapsed": false,
    "pycharm": {
     "name": "#%%\n"
    }
   }
  },
  {
   "cell_type": "code",
   "execution_count": 15,
   "outputs": [
    {
     "ename": "TypeError",
     "evalue": "can't multiply sequence by non-int of type 'MLinExpr'",
     "output_type": "error",
     "traceback": [
      "\u001B[0;31m---------------------------------------------------------------------------\u001B[0m",
      "\u001B[0;31mTypeError\u001B[0m                                 Traceback (most recent call last)",
      "Cell \u001B[0;32mIn[15], line 3\u001B[0m\n\u001B[1;32m      1\u001B[0m m \u001B[38;5;241m=\u001B[39m [\u001B[38;5;28;01mFalse\u001B[39;00m, \u001B[38;5;28;01mFalse\u001B[39;00m,\u001B[38;5;28;01mFalse\u001B[39;00m,\u001B[38;5;28;01mFalse\u001B[39;00m,\u001B[38;5;28;01mFalse\u001B[39;00m]\n\u001B[1;32m      2\u001B[0m m \u001B[38;5;241m=\u001B[39m [\u001B[38;5;241m1\u001B[39m,\u001B[38;5;241m1\u001B[39m,\u001B[38;5;241m1\u001B[39m,\u001B[38;5;241m2\u001B[39m,\u001B[38;5;241m3\u001B[39m]\n\u001B[0;32m----> 3\u001B[0m \u001B[43mx\u001B[49m\u001B[38;5;241;43m*\u001B[39;49m\u001B[43mm\u001B[49m\n",
      "File \u001B[0;32msrc/gurobipy/mvar.pxi:322\u001B[0m, in \u001B[0;36mgurobipy.MVar.__mul__\u001B[0;34m()\u001B[0m\n",
      "\u001B[0;31mTypeError\u001B[0m: can't multiply sequence by non-int of type 'MLinExpr'"
     ]
    }
   ],
   "source": [
    "m = [False, False,False,False,False]\n",
    "# m = [1,1,1,2,3]\n",
    "x*m\n",
    "# m"
   ],
   "metadata": {
    "collapsed": false,
    "pycharm": {
     "name": "#%%\n"
    }
   }
  },
  {
   "cell_type": "code",
   "execution_count": 51,
   "outputs": [
    {
     "name": "stdout",
     "output_type": "stream",
     "text": [
      "Gurobi Optimizer version 10.0.1 build v10.0.1rc0 (linux64)\n",
      "\n",
      "CPU model: Intel(R) Core(TM) i5-10600KF CPU @ 4.10GHz, instruction set [SSE2|AVX|AVX2]\n",
      "Thread count: 8 physical cores, 8 logical processors, using up to 8 threads\n",
      "\n",
      "Optimize a model with 2 rows, 13 columns and 8 nonzeros\n",
      "Coefficient statistics:\n",
      "  Matrix range     [6e+00, 9e+00]\n",
      "  Objective range  [1e+00, 1e+00]\n",
      "  Bounds range     [1e+00, 1e+00]\n",
      "  RHS range        [2e+00, 1e+01]\n",
      "Iteration    Objective       Primal Inf.    Dual Inf.      Time\n",
      "       0    1.5555556e+30   2.444444e+30   1.555556e+00      0s\n",
      "       3    1.6666667e+00   0.000000e+00   0.000000e+00      0s\n",
      "\n",
      "Solved in 3 iterations and 0.00 seconds (0.00 work units)\n",
      "Optimal objective  1.666666667e+00\n"
     ]
    }
   ],
   "source": [
    "m.setObjective(x_1[1].sum(), GRB.MAXIMIZE)\n",
    "m.optimize()"
   ],
   "metadata": {
    "collapsed": false,
    "pycharm": {
     "name": "#%%\n"
    }
   }
  },
  {
   "cell_type": "code",
   "execution_count": 52,
   "outputs": [
    {
     "data": {
      "text/plain": "array([[0.        , 0.        , 0.        , 0.        ],\n       [1.66666667, 0.        , 0.        , 0.        ]])"
     },
     "execution_count": 52,
     "metadata": {},
     "output_type": "execute_result"
    }
   ],
   "source": [
    "x_1.X"
   ],
   "metadata": {
    "collapsed": false,
    "pycharm": {
     "name": "#%%\n"
    }
   }
  },
  {
   "cell_type": "code",
   "execution_count": 17,
   "outputs": [
    {
     "data": {
      "text/plain": "5"
     },
     "execution_count": 17,
     "metadata": {},
     "output_type": "execute_result"
    }
   ],
   "source": [
    "x.shape[0]"
   ],
   "metadata": {
    "collapsed": false,
    "pycharm": {
     "name": "#%%\n"
    }
   }
  },
  {
   "cell_type": "code",
   "execution_count": 34,
   "outputs": [
    {
     "name": "stdout",
     "output_type": "stream",
     "text": [
      "Gurobi Optimizer version 10.0.1 build v10.0.1rc0 (linux64)\n",
      "\n",
      "CPU model: Intel(R) Core(TM) i5-10600KF CPU @ 4.10GHz, instruction set [SSE2|AVX|AVX2]\n",
      "Thread count: 8 physical cores, 8 logical processors, using up to 8 threads\n",
      "\n",
      "Optimize a model with 3 rows, 3 columns and 3 nonzeros\n",
      "Model fingerprint: 0x52627a0d\n",
      "Coefficient statistics:\n",
      "  Matrix range     [1e+00, 1e+00]\n",
      "  Objective range  [0e+00, 0e+00]\n",
      "  Bounds range     [1e+04, 1e+04]\n",
      "  RHS range        [1e+01, 2e+01]\n",
      "Presolve removed 3 rows and 3 columns\n",
      "Presolve time: 0.00s\n",
      "Presolve: All rows and columns removed\n",
      "Iteration    Objective       Primal Inf.    Dual Inf.      Time\n",
      "       0   -0.0000000e+00   0.000000e+00   0.000000e+00      0s\n",
      "\n",
      "Solved in 0 iterations and 0.01 seconds (0.00 work units)\n",
      "Optimal objective -0.000000000e+00\n"
     ]
    }
   ],
   "source": [
    "F_Pg = np.array([20, 10, 10]).reshape([3,1])\n",
    "# F_Pg = np.ones((1,3))\n",
    "\n",
    "model = gp.Model(\"PowerGeneration\")\n",
    "mu_dG_dPg = model.addMVar((1, 3), lb=-1e4, vtype=GRB.CONTINUOUS, name='μ.T x 等式约束对Pg的导数')\n",
    "dL_dPg = model.addConstr(F_Pg + mu_dG_dPg.T  == 0, 'd Largane/dPg = 0' )\n",
    "model.setObjective(0, GRB.MAXIMIZE)\n",
    "model.optimize()"
   ],
   "metadata": {
    "collapsed": false,
    "pycharm": {
     "name": "#%%\n"
    }
   }
  },
  {
   "cell_type": "code",
   "execution_count": null,
   "outputs": [],
   "source": [],
   "metadata": {
    "collapsed": false,
    "pycharm": {
     "name": "#%%\n"
    }
   }
  }
 ],
 "metadata": {
  "kernelspec": {
   "display_name": "Python 3",
   "language": "python",
   "name": "python3"
  },
  "language_info": {
   "codemirror_mode": {
    "name": "ipython",
    "version": 2
   },
   "file_extension": ".py",
   "mimetype": "text/x-python",
   "name": "python",
   "nbconvert_exporter": "python",
   "pygments_lexer": "ipython2",
   "version": "2.7.6"
  }
 },
 "nbformat": 4,
 "nbformat_minor": 0
}