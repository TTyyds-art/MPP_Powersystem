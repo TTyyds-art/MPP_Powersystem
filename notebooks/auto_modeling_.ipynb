{
 "cells": [
  {
   "cell_type": "code",
   "execution_count": 3,
   "outputs": [],
   "source": [
    "import os.path\n",
    "import pandapower.networks as pn\n",
    "import pandapower as pp\n",
    "import pandas as pd\n",
    "import gurobipy as gp\n",
    "from gurobipy import GRB\n",
    "from numpy import flatnonzero as find, ones, zeros, Inf, pi, exp, conj, r_, arange, array\n",
    "from pypower_.makeYbus import makeYbus\n",
    "from pypower_.idx_brch import F_BUS, T_BUS, RATE_A, PF, QF, PT, QT, MU_SF, MU_ST\n",
    "from pypower_.idx_gen import GEN_BUS, PG, QG\n",
    "from pypower_.idx_cost import MODEL, PW_LINEAR, NCOST, POLYNOMIAL\n",
    "from pypower_.totcost import totcost\n",
    "from pypower_.makeSbus import makeSbus\n",
    "from pypower_.idx_bus import BUS_TYPE, REF, VM, VA, MU_VMAX, MU_VMIN, LAM_P, LAM_Q\n",
    "import cvxpy as cp\n",
    "import numpy as np\n",
    "from scipy.sparse import csr_matrix as sparse\n",
    "from pypower_.idx_bus import PD, QD\n",
    "from pypower_.idx_gen import GEN_BUS, PG, QG, GEN_STATUS"
   ],
   "metadata": {
    "collapsed": false,
    "pycharm": {
     "name": "#%%\n"
    }
   }
  },
  {
   "cell_type": "code",
   "execution_count": 2,
   "outputs": [
    {
     "name": "stdout",
     "output_type": "stream",
     "text": [
      "['/home/huzuntao', '/home/huzuntao/.conda/envs/nvenv/lib/python39.zip', '/home/huzuntao/.conda/envs/nvenv/lib/python3.9', '/home/huzuntao/.conda/envs/nvenv/lib/python3.9/lib-dynload', '', '/home/huzuntao/.conda/envs/nvenv/lib/python3.9/site-packages']\n",
      "<module 'posixpath' from '/home/huzuntao/.conda/envs/nvenv/lib/python3.9/posixpath.py'>\n"
     ]
    }
   ],
   "source": [
    "import sys, os\n",
    "print(sys.path)\n",
    "print(os.path)\n",
    "path_current = '/home/huzuntao/PycharmProjects/MPP_Powersystem/'\n",
    "path_ = os.getcwd()\n",
    "if path_current not in sys.path:\n",
    "    sys.path.insert(1, '/home/huzuntao/PycharmProjects/MPP_Powersystem/')\n",
    "elif path_ not in sys.path:\n",
    "    sys.path.insert(1, path_)\n"
   ],
   "metadata": {
    "collapsed": false,
    "pycharm": {
     "name": "#%%\n"
    }
   }
  },
  {
   "cell_type": "code",
   "execution_count": 4,
   "outputs": [
    {
     "name": "stderr",
     "output_type": "stream",
     "text": [
      "/home/huzuntao/.conda/envs/nvenv/lib/python3.9/site-packages/pandapower/auxiliary.py:268: FutureWarning: iteritems is deprecated and will be removed in a future version. Use .items instead.\n",
      "  for item, dtype in list(dtypes.iteritems()):\n",
      "/home/huzuntao/.conda/envs/nvenv/lib/python3.9/site-packages/pandapower/auxiliary.py:268: FutureWarning: iteritems is deprecated and will be removed in a future version. Use .items instead.\n",
      "  for item, dtype in list(dtypes.iteritems()):\n",
      "/home/huzuntao/.conda/envs/nvenv/lib/python3.9/site-packages/pandapower/auxiliary.py:268: FutureWarning: iteritems is deprecated and will be removed in a future version. Use .items instead.\n",
      "  for item, dtype in list(dtypes.iteritems()):\n",
      "/home/huzuntao/.conda/envs/nvenv/lib/python3.9/site-packages/pandapower/auxiliary.py:268: FutureWarning: iteritems is deprecated and will be removed in a future version. Use .items instead.\n",
      "  for item, dtype in list(dtypes.iteritems()):\n",
      "/home/huzuntao/.conda/envs/nvenv/lib/python3.9/site-packages/pandapower/auxiliary.py:268: FutureWarning: iteritems is deprecated and will be removed in a future version. Use .items instead.\n",
      "  for item, dtype in list(dtypes.iteritems()):\n",
      "/home/huzuntao/.conda/envs/nvenv/lib/python3.9/site-packages/pandapower/auxiliary.py:268: FutureWarning: iteritems is deprecated and will be removed in a future version. Use .items instead.\n",
      "  for item, dtype in list(dtypes.iteritems()):\n",
      "/home/huzuntao/.conda/envs/nvenv/lib/python3.9/site-packages/pandapower/auxiliary.py:268: FutureWarning: iteritems is deprecated and will be removed in a future version. Use .items instead.\n",
      "  for item, dtype in list(dtypes.iteritems()):\n",
      "/home/huzuntao/.conda/envs/nvenv/lib/python3.9/site-packages/pandapower/auxiliary.py:268: FutureWarning: iteritems is deprecated and will be removed in a future version. Use .items instead.\n",
      "  for item, dtype in list(dtypes.iteritems()):\n",
      "/home/huzuntao/.conda/envs/nvenv/lib/python3.9/site-packages/pandapower/auxiliary.py:268: FutureWarning: iteritems is deprecated and will be removed in a future version. Use .items instead.\n",
      "  for item, dtype in list(dtypes.iteritems()):\n",
      "/home/huzuntao/.conda/envs/nvenv/lib/python3.9/site-packages/pandapower/auxiliary.py:268: FutureWarning: iteritems is deprecated and will be removed in a future version. Use .items instead.\n",
      "  for item, dtype in list(dtypes.iteritems()):\n",
      "/home/huzuntao/.conda/envs/nvenv/lib/python3.9/site-packages/pandapower/auxiliary.py:268: FutureWarning: iteritems is deprecated and will be removed in a future version. Use .items instead.\n",
      "  for item, dtype in list(dtypes.iteritems()):\n",
      "/home/huzuntao/.conda/envs/nvenv/lib/python3.9/site-packages/pandapower/auxiliary.py:268: FutureWarning: iteritems is deprecated and will be removed in a future version. Use .items instead.\n",
      "  for item, dtype in list(dtypes.iteritems()):\n",
      "/home/huzuntao/.conda/envs/nvenv/lib/python3.9/site-packages/pandapower/auxiliary.py:268: FutureWarning: iteritems is deprecated and will be removed in a future version. Use .items instead.\n",
      "  for item, dtype in list(dtypes.iteritems()):\n",
      "/home/huzuntao/.conda/envs/nvenv/lib/python3.9/site-packages/pandapower/auxiliary.py:268: FutureWarning: iteritems is deprecated and will be removed in a future version. Use .items instead.\n",
      "  for item, dtype in list(dtypes.iteritems()):\n",
      "/home/huzuntao/.conda/envs/nvenv/lib/python3.9/site-packages/pandapower/auxiliary.py:268: FutureWarning: iteritems is deprecated and will be removed in a future version. Use .items instead.\n",
      "  for item, dtype in list(dtypes.iteritems()):\n",
      "/home/huzuntao/.conda/envs/nvenv/lib/python3.9/site-packages/pandapower/auxiliary.py:268: FutureWarning: iteritems is deprecated and will be removed in a future version. Use .items instead.\n",
      "  for item, dtype in list(dtypes.iteritems()):\n",
      "/home/huzuntao/.conda/envs/nvenv/lib/python3.9/site-packages/pandapower/auxiliary.py:268: FutureWarning: iteritems is deprecated and will be removed in a future version. Use .items instead.\n",
      "  for item, dtype in list(dtypes.iteritems()):\n"
     ]
    }
   ],
   "source": [
    "import pandapower as pp\n",
    "net = pp.create_empty_network()\n",
    "\n",
    "# create buses\n",
    "bus1 = pp.create_bus(net, vn_kv=110.)\n",
    "bus2 = pp.create_bus(net, vn_kv=110.)\n",
    "bus3 = pp.create_bus(net, vn_kv=110.)\n",
    "bus4 = pp.create_bus(net, vn_kv=110.)\n",
    "# bus5 = pp.create_bus(net, vn_kv=110.)\n",
    "\n",
    "# create 110 kV lines\n",
    "pp.create_line(net, bus2, bus3, length_km=70., std_type='149-AL1/24-ST1A 110.0')\n",
    "pp.create_line(net, bus3, bus4, length_km=50., std_type=\"149-AL1/24-ST1A 110.0\")\n",
    "pp.create_line(net, bus4, bus2, length_km=40., std_type=\"149-AL1/24-ST1A 110.0\")\n",
    "pp.create_line(net, bus1, bus2, length_km=70., std_type='149-AL1/24-ST1A 110.0')\n",
    "\n",
    "# create loads\n",
    "pp.create_load(net, bus2, p_mw=60., controllable=False)\n",
    "pp.create_load(net, bus3, p_mw=70., controllable=False)\n",
    "pp.create_load(net, bus4, p_mw=25., controllable=False)\n",
    "\n",
    "# create generators\n",
    "eg = pp.create_ext_grid(net, bus1, min_p_mw=0, max_p_mw=1000, vm_pu=1.05)\n",
    "g0 = pp.create_gen(net, bus3, p_mw=80, min_p_mw=0, max_p_mw=80, vm_pu=1.00, controllable=True)\n",
    "g1 = pp.create_gen(net, bus4, p_mw=100, min_p_mw=0, max_p_mw=100, vm_pu=1.00, controllable=True)\n",
    "\n",
    "\n",
    "costeg = pp.create_poly_cost(net, 0, 'ext_grid', cp1_eur_per_mw=20)\n",
    "costgen1 = pp.create_poly_cost(net, 0, 'gen', cp1_eur_per_mw=10)\n",
    "costgen2 = pp.create_poly_cost(net, 1, 'gen', cp1_eur_per_mw=10)"
   ],
   "metadata": {
    "collapsed": false,
    "pycharm": {
     "name": "#%%\n"
    }
   }
  },
  {
   "cell_type": "markdown",
   "source": [
    "![xx -w50](grid2GUROBI.png)"
   ],
   "metadata": {
    "collapsed": false,
    "pycharm": {
     "name": "#%% md\n"
    }
   }
  },
  {
   "cell_type": "markdown",
   "source": [],
   "metadata": {
    "collapsed": false,
    "pycharm": {
     "name": "#%% md\n"
    }
   }
  },
  {
   "cell_type": "code",
   "execution_count": 5,
   "outputs": [
    {
     "data": {
      "text/plain": "   element        et  cp0_eur  cp1_eur_per_mw  cp2_eur_per_mw2  cq0_eur  \\\n0        0  ext_grid      0.0            20.0              0.0      0.0   \n1        0       gen      0.0            10.0              0.0      0.0   \n2        1       gen      0.0            10.0              0.0      0.0   \n\n   cq1_eur_per_mvar  cq2_eur_per_mvar2  \n0               0.0                0.0  \n1               0.0                0.0  \n2               0.0                0.0  ",
      "text/html": "<div>\n<style scoped>\n    .dataframe tbody tr th:only-of-type {\n        vertical-align: middle;\n    }\n\n    .dataframe tbody tr th {\n        vertical-align: top;\n    }\n\n    .dataframe thead th {\n        text-align: right;\n    }\n</style>\n<table border=\"1\" class=\"dataframe\">\n  <thead>\n    <tr style=\"text-align: right;\">\n      <th></th>\n      <th>element</th>\n      <th>et</th>\n      <th>cp0_eur</th>\n      <th>cp1_eur_per_mw</th>\n      <th>cp2_eur_per_mw2</th>\n      <th>cq0_eur</th>\n      <th>cq1_eur_per_mvar</th>\n      <th>cq2_eur_per_mvar2</th>\n    </tr>\n  </thead>\n  <tbody>\n    <tr>\n      <th>0</th>\n      <td>0</td>\n      <td>ext_grid</td>\n      <td>0.0</td>\n      <td>20.0</td>\n      <td>0.0</td>\n      <td>0.0</td>\n      <td>0.0</td>\n      <td>0.0</td>\n    </tr>\n    <tr>\n      <th>1</th>\n      <td>0</td>\n      <td>gen</td>\n      <td>0.0</td>\n      <td>10.0</td>\n      <td>0.0</td>\n      <td>0.0</td>\n      <td>0.0</td>\n      <td>0.0</td>\n    </tr>\n    <tr>\n      <th>2</th>\n      <td>1</td>\n      <td>gen</td>\n      <td>0.0</td>\n      <td>10.0</td>\n      <td>0.0</td>\n      <td>0.0</td>\n      <td>0.0</td>\n      <td>0.0</td>\n    </tr>\n  </tbody>\n</table>\n</div>"
     },
     "execution_count": 5,
     "metadata": {},
     "output_type": "execute_result"
    }
   ],
   "source": [
    "net.bus[\"min_vm_pu\"] = 0.98\n",
    "net.bus[\"max_vm_pu\"] = 1.02\n",
    "net.line[\"max_loading_percent\"] = 50\n",
    "# net.sn_mva = 100\n",
    "# net = pp.networks.case14()\n",
    "# net.gen['vm_pu'] = 1.0\n",
    "# net.bus[\"min_vm_pu\"] = 0.95\n",
    "# net.bus[\"max_vm_pu\"] = 1.05\n",
    "# net.poly_cost[:,3] = 0\n",
    "# net.poly_cost['cp2_eur_per_mw2'] = 0\n",
    "net.poly_cost"
   ],
   "metadata": {
    "collapsed": false,
    "pycharm": {
     "name": "#%%\n"
    }
   }
  },
  {
   "cell_type": "code",
   "execution_count": 7,
   "outputs": [],
   "source": [
    "om,ppopt,_ = pp.runopp(net, delta=1e-16)   # solve the OPF problem"
   ],
   "metadata": {
    "collapsed": false,
    "pycharm": {
     "name": "#%%\n"
    }
   }
  },
  {
   "cell_type": "code",
   "execution_count": 8,
   "outputs": [
    {
     "name": "stdout",
     "output_type": "stream",
     "text": [
      "        p_mw     q_mvar  va_degree     vm_pu\n",
      "0  79.999577  -2.278173   3.774021  1.019995\n",
      "1  77.020890 -17.572200   4.755391  1.020000\n"
     ]
    }
   ],
   "source": [
    "# net = pp.networks.case57()\n",
    "print(net.res_gen)    # output the results of two generators\n",
    "# net.gen"
   ],
   "metadata": {
    "collapsed": false,
    "pycharm": {
     "name": "#%%\n"
    }
   }
  },
  {
   "cell_type": "code",
   "execution_count": 14,
   "outputs": [
    {
     "name": "stdout",
     "output_type": "stream",
     "text": [
      "       p_mw     q_mvar\n",
      "0  0.000007  16.144855\n"
     ]
    },
    {
     "data": {
      "text/plain": "0    1.05\nName: vm_pu, dtype: float64"
     },
     "execution_count": 14,
     "metadata": {},
     "output_type": "execute_result"
    }
   ],
   "source": [
    "print(net.res_ext_grid)\n",
    "net.ext_grid['vm_pu']"
   ],
   "metadata": {
    "collapsed": false,
    "pycharm": {
     "name": "#%%\n"
    }
   }
  },
  {
   "cell_type": "code",
   "execution_count": 15,
   "outputs": [
    {
     "data": {
      "text/plain": "1570.2048160492504"
     },
     "execution_count": 15,
     "metadata": {},
     "output_type": "execute_result"
    }
   ],
   "source": [
    "# the total cost of generation\n",
    "net.res_cost"
   ],
   "metadata": {
    "collapsed": false,
    "pycharm": {
     "name": "#%%\n"
    }
   }
  },
  {
   "cell_type": "code",
   "execution_count": 16,
   "outputs": [
    {
     "data": {
      "text/plain": "{'baseMVA': 1,\n 'version': 2,\n 'bus': array([[ 0.00000000e+00,  3.00000000e+00,  0.00000000e+00,\n          0.00000000e+00,  0.00000000e+00,  0.00000000e+00,\n          1.00000000e+00,  1.05000000e+00,  0.00000000e+00,\n          1.10000000e+02,  1.00000000e+00,  1.05000000e+00,\n          1.05000000e+00,  1.08190002e+01,  2.18039840e-21,\n          0.00000000e+00,  1.65497357e+02],\n        [ 1.00000000e+00,  1.00000000e+00,  6.00000000e+01,\n          0.00000000e+00,  0.00000000e+00,  0.00000000e+00,\n          1.00000000e+00,  1.01080187e+00,  1.05599499e+00,\n          1.10000000e+02,  1.00000000e+00,  1.02000000e+00,\n          9.80000000e-01,  1.06350842e+01,  7.04471675e-03,\n          0.00000000e+00,  0.00000000e+00],\n        [ 2.00000000e+00,  2.00000000e+00,  7.00000000e+01,\n          0.00000000e+00,  0.00000000e+00,  0.00000000e+00,\n          1.00000000e+00,  1.01999500e+00,  3.77402105e+00,\n          1.10000000e+02,  1.00000000e+00,  1.02000000e+00,\n          9.80000000e-01,  1.01637537e+01, -2.69314107e-22,\n          1.61174439e+01,  0.00000000e+00],\n        [ 3.00000000e+00,  2.00000000e+00,  2.50000000e+01,\n          0.00000000e+00,  0.00000000e+00,  0.00000000e+00,\n          1.00000000e+00,  1.01999964e+00,  4.75539067e+00,\n          1.10000000e+02,  1.00000000e+00,  1.02000000e+00,\n          9.80000000e-01,  1.00000021e+01, -2.41426645e-21,\n          1.86123389e+02,  0.00000000e+00]]),\n 'branch': array([[ 1.00000000e+00+0.j,  2.00000000e+00+0.j,  1.12231405e-03+0.j,\n          2.37190083e-03+0.j,  2.32831286e+00+0.j,  4.47735134e+01+0.j,\n          2.50000000e+02+0.j,  2.50000000e+02+0.j,  1.00000000e+00+0.j,\n          0.00000000e+00+0.j,  1.00000000e+00+0.j, -3.60000000e+02+0.j,\n          3.60000000e+02+0.j, -1.81675549e+01+0.j,  3.97820737e+00+0.j,\n          1.85594449e+01+0.j, -5.55060515e+00+0.j,  0.00000000e+00+0.j,\n          0.00000000e+00+0.j,  0.00000000e+00+0.j,  0.00000000e+00+0.j,\n          0.00000000e+00+0.j,  0.00000000e+00+0.j],\n        [ 2.00000000e+00+0.j,  3.00000000e+00+0.j,  8.01652893e-04+0.j,\n          1.69421488e-03+0.j,  1.66308061e+00+0.j,  4.47735134e+01+0.j,\n          2.50000000e+02+0.j,  2.50000000e+02+0.j,  1.00000000e+00+0.j,\n          0.00000000e+00+0.j,  1.00000000e+00+0.j, -3.60000000e+02+0.j,\n          3.60000000e+02+0.j, -8.55986787e+00+0.j,  3.27243410e+00+0.j,\n          8.62951677e+00+0.j, -4.85549795e+00+0.j,  0.00000000e+00+0.j,\n          0.00000000e+00+0.j,  0.00000000e+00+0.j,  0.00000000e+00+0.j,\n          0.00000000e+00+0.j,  0.00000000e+00+0.j],\n        [ 3.00000000e+00+0.j,  1.00000000e+00+0.j,  6.41322314e-04+0.j,\n          1.35537190e-03+0.j,  1.33046449e+00+0.j,  4.47735134e+01+0.j,\n          2.50000000e+02+0.j,  2.50000000e+02+0.j,  1.00000000e+00+0.j,\n          0.00000000e+00+0.j,  1.00000000e+00+0.j, -3.60000000e+02+0.j,\n          3.60000000e+02+0.j,  4.33913734e+01+0.j, -1.27167026e+01+0.j,\n         -4.21416434e+01+0.j,  1.39860963e+01+0.j,  0.00000000e+00+0.j,\n          0.00000000e+00+0.j,  0.00000000e+00+0.j,  0.00000000e+00+0.j,\n          0.00000000e+00+0.j,  0.00000000e+00+0.j],\n        [ 0.00000000e+00+0.j,  1.00000000e+00+0.j,  1.12231405e-03+0.j,\n          2.37190083e-03+0.j,  2.32831286e+00+0.j,  4.47735134e+01+0.j,\n          2.50000000e+02+0.j,  2.50000000e+02+0.j,  1.00000000e+00+0.j,\n          0.00000000e+00+0.j,  1.00000000e+00+0.j, -3.60000000e+02+0.j,\n          3.60000000e+02+0.j,  7.41540309e-06+0.j,  1.61448552e+01+0.j,\n          3.09198455e-01+0.j, -1.79643037e+01+0.j,  0.00000000e+00+0.j,\n          0.00000000e+00+0.j,  0.00000000e+00+0.j,  0.00000000e+00+0.j,\n          0.00000000e+00+0.j,  0.00000000e+00+0.j]]),\n 'gen': array([[ 0.00000000e+00,  7.37457879e-06,  1.61448552e+01,\n          1.00000000e+09, -1.00000000e+09,  1.05000000e+00,\n          1.00000000e+00,  1.00000000e+00,  1.00000000e+03,\n         -1.00000000e-16,  0.00000000e+00,  0.00000000e+00,\n          0.00000000e+00,  0.00000000e+00,  0.00000000e+00,\n          0.00000000e+00,  0.00000000e+00,  0.00000000e+00,\n          0.00000000e+00,  0.00000000e+00,  0.00000000e+00,\n          0.00000000e+00,  9.18099982e+00,  0.00000000e+00,\n          0.00000000e+00,  1.00000000e+00],\n        [ 2.00000000e+00,  7.99995768e+01, -2.27817257e+00,\n          1.00000000e+09, -1.00000000e+09,  1.01999500e+00,\n                     nan,  1.00000000e+00,  8.00000000e+01,\n         -1.00000000e-16,  0.00000000e+00,  0.00000000e+00,\n          0.00000000e+00,  0.00000000e+00,  0.00000000e+00,\n          0.00000000e+00,  0.00000000e+00,  0.00000000e+00,\n          0.00000000e+00,  0.00000000e+00,  0.00000000e+00,\n          1.63754592e-01,  0.00000000e+00,  0.00000000e+00,\n          0.00000000e+00,  0.00000000e+00],\n        [ 3.00000000e+00,  7.70208900e+01, -1.75722004e+01,\n          1.00000000e+09, -1.00000000e+09,  1.01999964e+00,\n                     nan,  1.00000000e+00,  1.00000000e+02,\n         -1.00000000e-16,  0.00000000e+00,  0.00000000e+00,\n          0.00000000e+00,  0.00000000e+00,  0.00000000e+00,\n          0.00000000e+00,  0.00000000e+00,  0.00000000e+00,\n          0.00000000e+00,  0.00000000e+00,  0.00000000e+00,\n          0.00000000e+00,  0.00000000e+00,  0.00000000e+00,\n          0.00000000e+00,  0.00000000e+00]]),\n 'internal': {'Ybus': array([], dtype=complex128),\n  'Yf': array([], dtype=complex128),\n  'Yt': array([], dtype=complex128),\n  'branch_is': array([ True,  True,  True,  True]),\n  'gen_is': array([ True,  True,  True]),\n  'DLF': array([], dtype=complex128),\n  'buses_ord_bfs_nets': array([], dtype=float64),\n  'ref_gens': array([0])},\n 'gencost': array([[ 2.,  0.,  0.,  2., 20.,  0.],\n        [ 2.,  0.,  0.,  2., 10.,  0.],\n        [ 2.,  0.,  0.,  2., 10.,  0.]]),\n 'om': \n VARIABLES               name       i1       iN        N\n =========              ------    -----    -----   ------\n               0:          Va        0        4        4\n               1:          Vm        4        8        4\n               2:          Pg        8       11        3\n               3:          Qg       11       14        3\n   var['NS'] = 4                  var['N'] = 14\n \n \n NON-LINEAR CONSTRAINTS  name       i1       iN        N\n ====================== ------    -----    -----   ------\n               0:        Pmis        0        4        4\n               1:        Qmis        4        8        4\n               2:          Sf        8       12        4\n               3:          St       12       16        4\n      nln.NS = 4                     nln.N = 16\n \n \n LINEAR CONSTRAINTS      name       i1       iN        N\n ==================     ------    -----    -----   ------\n               0:         PQh        0        0        0\n               1:         PQl        0        0        0\n               2:          vl        0        0        0\n               3:         ang        0        0        0\n      lin.NS = 4                      lin.N = 0\n \n COSTS  :  <none>\n   userdata = \n {'Apqdata': {'h': array([], dtype=float64), 'l': array([], dtype=float64), 'ipql': array([], dtype=int64), 'ipqh': array([], dtype=int64)}, 'iang': array([], dtype=int64)},\n 'x': array([ 0.00000000e+00,  1.84305895e-02,  6.58690933e-02,  8.29972244e-02,\n         1.05000000e+00,  1.01080187e+00,  1.01999500e+00,  1.01999964e+00,\n         7.37457879e-06,  7.99995768e+01,  7.70208900e+01,  1.61448552e+01,\n        -2.27817257e+00, -1.75722004e+01]),\n 'mu': {'var': {'l': array([  0.        ,   0.        ,   0.        ,   0.        ,\n          165.49735743,   0.        ,   0.        ,   0.        ,\n            9.18099982,   0.        ,   0.        ,   0.        ,\n            0.        ,   0.        ]),\n   'u': array([7.19991340e-12, 0.00000000e+00, 0.00000000e+00, 0.00000000e+00,\n          0.00000000e+00, 0.00000000e+00, 1.61174439e+01, 1.86123389e+02,\n          0.00000000e+00, 1.63754592e-01, 0.00000000e+00, 0.00000000e+00,\n          0.00000000e+00, 0.00000000e+00])},\n  'nln': {'l': array([0.00000000e+00, 0.00000000e+00, 0.00000000e+00, 0.00000000e+00,\n          0.00000000e+00, 0.00000000e+00, 2.69314107e-22, 2.41426645e-21,\n          0.00000000e+00, 0.00000000e+00, 0.00000000e+00, 0.00000000e+00,\n          0.00000000e+00, 0.00000000e+00, 0.00000000e+00, 0.00000000e+00]),\n   'u': array([1.08190002e+01, 1.06350842e+01, 1.01637537e+01, 1.00000021e+01,\n          2.18039840e-21, 7.04471675e-03, 0.00000000e+00, 0.00000000e+00,\n          0.00000000e+00, 0.00000000e+00, 0.00000000e+00, 0.00000000e+00,\n          0.00000000e+00, 0.00000000e+00, 0.00000000e+00, 0.00000000e+00])},\n  'lin': {'l': array([], dtype=float64), 'u': array([], dtype=float64)}},\n 'f': 1570.2048160492504,\n 'var': {'val': {'Va': array([0.        , 0.01843059, 0.06586909, 0.08299722]),\n   'Vm': array([1.05      , 1.01080187, 1.019995  , 1.01999964]),\n   'Pg': array([7.37457879e-06, 7.99995768e+01, 7.70208900e+01]),\n   'Qg': array([ 16.14485516,  -2.27817257, -17.57220036])},\n  'mu': {'l': {'Va': array([0., 0., 0., 0.]),\n    'Vm': array([165.49735743,   0.        ,   0.        ,   0.        ]),\n    'Pg': array([9.18099982, 0.        , 0.        ]),\n    'Qg': array([0., 0., 0.])},\n   'u': {'Va': array([7.1999134e-12, 0.0000000e+00, 0.0000000e+00, 0.0000000e+00]),\n    'Vm': array([  0.        ,   0.        ,  16.11744386, 186.12338905]),\n    'Pg': array([0.        , 0.16375459, 0.        ]),\n    'Qg': array([0., 0., 0.])}}},\n 'lin': {'mu': {'l': {}, 'u': {}}},\n 'nln': {'mu': {'l': {'Pmis': array([0., 0., 0., 0.]),\n    'Qmis': array([0.00000000e+00, 0.00000000e+00, 2.69314107e-22, 2.41426645e-21]),\n    'Sf': array([0., 0., 0., 0.]),\n    'St': array([0., 0., 0., 0.])},\n   'u': {'Pmis': array([10.81900025, 10.63508424, 10.16375375, 10.00000206]),\n    'Qmis': array([2.18039840e-21, 7.04471675e-03, 0.00000000e+00, 0.00000000e+00]),\n    'Sf': array([0., 0., 0., 0.]),\n    'St': array([0., 0., 0., 0.])}}},\n 'et': 0.7051476629999343,\n 'success': True,\n 'raw': {'xr': array([ 0.00000000e+00,  1.84305895e-02,  6.58690933e-02,  8.29972244e-02,\n          1.05000000e+00,  1.01080187e+00,  1.01999500e+00,  1.01999964e+00,\n          7.37457879e-06,  7.99995768e+01,  7.70208900e+01,  1.61448552e+01,\n         -2.27817257e+00, -1.75722004e+01]),\n  'pimul': array([-1.08190002e+01, -1.06350842e+01, -1.01637537e+01, -1.00000021e+01,\n         -2.18039840e-21, -7.04471675e-03,  2.69314107e-22,  2.41426645e-21,\n          0.00000000e+00,  0.00000000e+00,  0.00000000e+00,  0.00000000e+00,\n          0.00000000e+00,  0.00000000e+00,  0.00000000e+00,  0.00000000e+00,\n         -7.19991340e-12,  0.00000000e+00,  0.00000000e+00,  0.00000000e+00,\n          1.65497357e+02,  0.00000000e+00, -1.61174439e+01, -1.86123389e+02,\n          9.18099982e+00, -1.63754592e-01,  0.00000000e+00,  0.00000000e+00,\n          0.00000000e+00,  0.00000000e+00]),\n  'info': True,\n  'output': {'iterations': 24,\n   'hist': [{'feascond': 4.914426736151794e-07,\n     'gradcond': 14484.589026047473,\n     'compcond': 11976080.821065385,\n     'costcond': 0.0,\n     'gamma': 1,\n     'stepsize': 0,\n     'obj': 10900.0,\n     'alphap': 0,\n     'alphad': 0},\n    {'feascond': 5.745101069320726e-08,\n     'gradcond': 466.51140116205664,\n     'compcond': 37654149.99032457,\n     'costcond': 0.38320154216264174,\n     'gamma': 12128269.913335342,\n     'stepsize': 475.06862099674447,\n     'obj': 2891.0877688007877,\n     'alphap': 0.8828572524532868,\n     'alphad': 0.4744430131134208},\n    {'feascond': 5.742986103529532e-08,\n     'gradcond': 47.021255477547825,\n     'compcond': 31221622.28710593,\n     'costcond': 0.008108375199762045,\n     'gamma': 12128060.91606325,\n     'stepsize': 14850874.262472369,\n     'obj': 2995.613545163288,\n     'alphap': 5.9376017355962245e-06,\n     'alphad': 2.8915559975963755e-05},\n    {'feascond': 7.066726693666632e-07,\n     'gradcond': 7.542615046644935,\n     'compcond': 28940164.9580851,\n     'costcond': 0.009131641190110796,\n     'gamma': 12127447.28873436,\n     'stepsize': 1755532.3562422532,\n     'obj': 3114.2848251030628,\n     'alphap': 5.579719852247516e-05,\n     'alphad': 5.894353709222983e-05},\n    {'feascond': 1.5006010849648847e-06,\n     'gradcond': 5.169073590451028,\n     'compcond': 32608738.847595345,\n     'costcond': 0.012814998459188902,\n     'gamma': 12124316.560622254,\n     'stepsize': 150921.5753443871,\n     'obj': 2946.225285276003,\n     'alphap': 0.0007955268946701777,\n     'alphad': 0.0002947123602193902},\n    {'feascond': 1.1725465650724239e-06,\n     'gradcond': 0.6316272821108698,\n     'compcond': 28602083.668367796,\n     'costcond': 0.0034287954957909045,\n     'gamma': 12089475.28854843,\n     'stepsize': 358414.9920767149,\n     'obj': 2901.8353263303543,\n     'alphap': 0.000587011820610943,\n     'alphad': 0.0033087607305874304},\n    {'feascond': 6.174147845635055e-07,\n     'gradcond': 0.5213244121476083,\n     'compcond': 4376715.912684533,\n     'costcond': 0.02559026525685901,\n     'gamma': 1383284.848259856,\n     'stepsize': 9842.184839607158,\n     'obj': 2571.673938029246,\n     'alphap': 0.010822195852678239,\n     'alphad': 1},\n    {'feascond': 5.958936418439981e-09,\n     'gradcond': 0.19681364819479202,\n     'compcond': 1115566.626440861,\n     'costcond': 0.04601284912476864,\n     'gamma': 304698.970738342,\n     'stepsize': 76.8922983277858,\n     'obj': 1993.2154018729204,\n     'alphap': 1,\n     'alphad': 0.7872931946042412},\n    {'feascond': 1.1098095775064718e-10,\n     'gradcond': 0.726801347777854,\n     'compcond': 172774.67861237287,\n     'costcond': 0.0044767891911104245,\n     'gamma': 47514.03179019362,\n     'stepsize': 10.591344201393772,\n     'obj': 1939.5243047951567,\n     'alphap': 1,\n     'alphad': 1},\n    {'feascond': 6.122065193357983e-12,\n     'gradcond': 0.37077830940223316,\n     'compcond': 18789.195227768883,\n     'costcond': 0.0004075290701962132,\n     'gamma': 5109.854116083343,\n     'stepsize': 2.7082144045578143,\n     'obj': 1934.6586015566386,\n     'alphap': 1,\n     'alphad': 1},\n    {'feascond': 2.272115548819223e-12,\n     'gradcond': 0.23872289494436374,\n     'compcond': 1863.3600266037731,\n     'costcond': 0.00028888954733663486,\n     'gamma': 500.1814190370368,\n     'stepsize': 1.8221894562862557,\n     'obj': 1931.2108034356174,\n     'alphap': 1,\n     'alphad': 1},\n    {'feascond': 2.4153893205650484e-12,\n     'gradcond': 0.2098159331530026,\n     'compcond': 186.12785811271186,\n     'costcond': 0.000353310245214396,\n     'gamma': 49.36486855520156,\n     'stepsize': 1.8824097794268584,\n     'obj': 1926.995384420951,\n     'alphap': 1,\n     'alphad': 1},\n    {'feascond': 1.8998827902858536e-12,\n     'gradcond': 0.1895652984277542,\n     'compcond': 18.638513468583916,\n     'costcond': 0.00032386090027720243,\n     'gamma': 4.8884261248025025,\n     'stepsize': 1.6913350921904375,\n     'obj': 1923.1326969581505,\n     'alphap': 1,\n     'alphad': 1},\n    {'feascond': 1.5753971768017816e-12,\n     'gradcond': 0.17122192473146106,\n     'compcond': 1.867944856466818,\n     'costcond': 0.0002941229774946163,\n     'gamma': 0.484984615082256,\n     'stepsize': 1.5337514372988483,\n     'obj': 1919.6258296682577,\n     'alphap': 1,\n     'alphad': 1},\n    {'feascond': 1.2918372670872481e-12,\n     'gradcond': 0.1513550401623167,\n     'compcond': 0.18727188757967753,\n     'costcond': 0.0002760104044260498,\n     'gamma': 0.04818065934555692,\n     'stepsize': 1.3893855304469116,\n     'obj': 1916.3358889224037,\n     'alphap': 1,\n     'alphad': 1},\n    {'feascond': 1.1575339506858625e-12,\n     'gradcond': 0.11270408724694342,\n     'compcond': 0.018751896296858275,\n     'costcond': 0.0003552443116333891,\n     'gamma': 0.004788656173219146,\n     'stepsize': 1.3234168919146194,\n     'obj': 1912.1026783823513,\n     'alphap': 1,\n     'alphad': 1},\n    {'feascond': 4.768722947319523e-12,\n     'gradcond': 0.09015049090377451,\n     'compcond': 0.0018481482291178096,\n     'costcond': 0.0014614458587888226,\n     'gamma': 0.00047321507893043036,\n     'stepsize': 2.4951023758121202,\n     'obj': 1894.693785253562,\n     'alphap': 1,\n     'alphad': 1},\n    {'feascond': 1.0941129590499558e-09,\n     'gradcond': 0.055046858024449793,\n     'compcond': 0.0006866150325387945,\n     'costcond': 0.02188395703065884,\n     'gamma': 0.00020799628757941054,\n     'stepsize': 32.77766581873836,\n     'obj': 1634.3908175642284,\n     'alphap': 1,\n     'alphad': 0.5640876099899857},\n    {'feascond': 3.773088396413222e-08,\n     'gradcond': 0.016345572167960197,\n     'compcond': 0.00010037070394191469,\n     'costcond': 0.005275736467144156,\n     'gamma': 3.103879415151584e-05,\n     'stepsize': 14.758134302180988,\n     'obj': 1573.0108376549977,\n     'alphap': 0.9143672652603675,\n     'alphad': 0.9402374692266559},\n    {'feascond': 1.3750134243967194e-08,\n     'gradcond': 0.011064771156603825,\n     'compcond': 1.6839341732226066e-05,\n     'costcond': 0.0001686485223907647,\n     'gamma': 5.177642347829187e-06,\n     'stepsize': 5.441430359589929,\n     'obj': 1571.059066477615,\n     'alphap': 0.5513744863554716,\n     'alphad': 1},\n    {'feascond': 2.9788043565258876e-11,\n     'gradcond': 0.0017657152532132491,\n     'compcond': 4.117813712174416e-06,\n     'costcond': 9.519569440147006e-06,\n     'gamma': 1.2625578574835191e-06,\n     'stepsize': 5.297394465024968,\n     'obj': 1571.1692179778943,\n     'alphap': 1,\n     'alphad': 0.9353644766725451},\n    {'feascond': 4.1323887475010283e-11,\n     'gradcond': 0.0018518403193043083,\n     'compcond': 8.941787799877498e-07,\n     'costcond': 6.320422070661055e-05,\n     'gamma': 2.7529964720505495e-07,\n     'stepsize': 6.956419636481985,\n     'obj': 1570.4378712448076,\n     'alphap': 1,\n     'alphad': 0.9691836101861417},\n    {'feascond': 2.2694127718938105e-12,\n     'gradcond': 0.0006058314664959863,\n     'compcond': 2.1222897360017228e-07,\n     'costcond': 1.9384108764941206e-05,\n     'gamma': 6.608846429191101e-08,\n     'stepsize': 1.4551103887310228,\n     'obj': 1570.2135886186536,\n     'alphap': 1,\n     'alphad': 0.658889891560109},\n    {'feascond': 5.2444574913926145e-15,\n     'gradcond': 1.109793019859986e-06,\n     'compcond': 2.1753216641998447e-08,\n     'costcond': 4.810257771010768e-07,\n     'gamma': 6.776413280894756e-09,\n     'stepsize': 0.1320633182251802,\n     'obj': 1570.2080230476708,\n     'alphap': 1,\n     'alphad': 1},\n    {'feascond': 1.5189072641765682e-15,\n     'gradcond': 1.101999469029975e-08,\n     'compcond': 2.190438418527823e-09,\n     'costcond': 2.771772481572474e-07,\n     'gamma': 6.824022498106239e-10,\n     'stepsize': 0.04457945374829941,\n     'obj': 1570.2048160492504,\n     'alphap': 1,\n     'alphad': 1}],\n   'message': 'Converged',\n   'alg': 560}}}"
     },
     "execution_count": 16,
     "metadata": {},
     "output_type": "execute_result"
    }
   ],
   "source": [
    "# the key variable, which represents the information of the OPF problem\n",
    "om.get_ppc()"
   ],
   "metadata": {
    "collapsed": false,
    "pycharm": {
     "name": "#%%\n"
    }
   }
  },
  {
   "cell_type": "code",
   "execution_count": 17,
   "outputs": [],
   "source": [
    "## unpack data\n",
    "ppc = om.get_ppc()\n",
    "baseMVA, bus, gen, branch, gencost = \\\n",
    "    ppc[\"baseMVA\"], ppc[\"bus\"], ppc[\"gen\"], ppc[\"branch\"], ppc[\"gencost\"]\n",
    "vv, _, _, _ = om.get_idx()\n",
    "\n",
    "## problem dimensions\n",
    "nb = bus.shape[0]          ## number of buses\n",
    "nl = branch.shape[0]       ## number of branches\n",
    "ny = om.getN('var', 'y')   ## number of piece-wise linear costs, 'y' is a part of p-w linear costs\n",
    "\n",
    "## bounds on optimization vars\n",
    "x0, xmin, xmax = om.getv()"
   ],
   "metadata": {
    "collapsed": false,
    "pycharm": {
     "name": "#%%\n"
    }
   }
  },
  {
   "cell_type": "code",
   "execution_count": null,
   "outputs": [],
   "source": [],
   "metadata": {
    "collapsed": false,
    "pycharm": {
     "name": "#%%\n"
    }
   }
  },
  {
   "cell_type": "code",
   "execution_count": 18,
   "outputs": [
    {
     "name": "stderr",
     "output_type": "stream",
     "text": [
      "/home/ubuntu-h/PycharmProjects/scientificProject/pypower_/makeYbus.py:49: ComplexWarning: Casting complex values to real discards the imaginary part\n",
      "  tap[i] = branch[i, TAP]  ## assign non-zero tap ratios\n",
      "/home/ubuntu-h/anaconda3/envs/scientificProject/lib/python3.10/site-packages/scipy/sparse/_coo.py:160: ComplexWarning: Casting complex values to real discards the imaginary part\n",
      "  self.col = np.array(col, copy=copy, dtype=idx_dtype)\n"
     ]
    }
   ],
   "source": [
    "## build admittance matrices\n",
    "Ybus, Yf, Yt = makeYbus(baseMVA, bus, branch)"
   ],
   "metadata": {
    "collapsed": false,
    "pycharm": {
     "name": "#%%\n"
    }
   }
  },
  {
   "cell_type": "code",
   "execution_count": 57,
   "outputs": [
    {
     "name": "stdout",
     "output_type": "stream",
     "text": [
      "ll\"[ 0.00000000e+00 -1.57079633e+00 -1.57079633e+00 -1.57079633e+00\n",
      "  1.05000000e+00  9.80000000e-01  9.80000000e-01  9.80000000e-01\n",
      " -1.00000000e-16 -1.00000000e-16 -1.00000000e-16 -1.00000000e+02\n",
      " -1.00000000e+02 -1.00000000e+02];\n",
      " uu:[   0.            1.57079633    1.57079633    1.57079633    1.05\n",
      "    1.02          1.02          1.02       1000.           80.\n",
      "  100.          100.          100.          100.        ]\n"
     ]
    }
   ],
   "source": [
    "## Set the lower and upper bound for all variables\n",
    "ll, uu = xmin.copy(), xmax.copy()\n",
    "# print(f'll : {ll}; uu : {uu}')\n",
    "ll[xmin == -Inf] = -1e10   ## replace Inf with numerical proxies\n",
    "uu[xmax ==  Inf] =  1e10\n",
    "Va_refs = bus[bus[:, BUS_TYPE]  == REF, VA] * (pi / 180)\n",
    "# print(f\"Va_refs: {Va_refs}\")\n",
    "ll[vv[\"i1\"][\"Va\"]:vv[\"iN\"][\"Va\"]] = -np.ones_like(bus[:, VA]) * (pi / 2) # Va lower bound 赋值\n",
    "uu[vv[\"i1\"][\"Va\"]:vv[\"iN\"][\"Va\"]] = np.ones_like(bus[:, VA]) * (pi / 2) # Va upper bound 赋值\n",
    "## deal with the Va_refs\n",
    "ll[vv[\"i1\"][\"Va\"]:vv[\"iN\"][\"Va\"]][bus[:, BUS_TYPE]  == REF] = Va_refs  # Va_refs lower bound 赋值\n",
    "uu[vv[\"i1\"][\"Va\"]:vv[\"iN\"][\"Va\"]][bus[:, BUS_TYPE]  == REF] = Va_refs # Va_refs upper bound 赋值\n",
    "## deal with reactive power, whose ll and uu is 1e9\n",
    "ll[ll<-1e4] = -100\n",
    "uu[uu>1e4] = 100\n",
    "v_max = uu[vv[\"i1\"][\"Vm\"]:vv[\"iN\"][\"Vm\"]][-1]\n",
    "print(f'll\"{ll};\\n uu:{uu}')"
   ],
   "metadata": {
    "collapsed": false,
    "pycharm": {
     "name": "#%%\n"
    }
   }
  },
  {
   "cell_type": "code",
   "execution_count": 20,
   "outputs": [
    {
     "data": {
      "text/plain": "array([1.05, 1.  , 1.  , 1.  ])"
     },
     "execution_count": 20,
     "metadata": {},
     "output_type": "execute_result"
    }
   ],
   "source": [
    "x0[vv[\"i1\"][\"Vm\"]:vv[\"iN\"][\"Vm\"]]"
   ],
   "metadata": {
    "collapsed": false,
    "pycharm": {
     "name": "#%%\n"
    }
   }
  },
  {
   "cell_type": "code",
   "execution_count": 21,
   "outputs": [
    {
     "data": {
      "text/plain": "array([1.05, 1.02, 1.02, 1.02])"
     },
     "execution_count": 21,
     "metadata": {},
     "output_type": "execute_result"
    }
   ],
   "source": [
    "uu[vv[\"i1\"][\"Vm\"]:vv[\"iN\"][\"Vm\"]]"
   ],
   "metadata": {
    "collapsed": false,
    "pycharm": {
     "name": "#%%\n"
    }
   }
  },
  {
   "cell_type": "code",
   "execution_count": 22,
   "outputs": [
    {
     "data": {
      "text/plain": "array([1.05      , 1.01080187, 1.019995  , 1.01999964])"
     },
     "execution_count": 22,
     "metadata": {},
     "output_type": "execute_result"
    }
   ],
   "source": [
    "bus[:, VM] # 赋值"
   ],
   "metadata": {
    "collapsed": false,
    "pycharm": {
     "name": "#%%\n"
    }
   }
  },
  {
   "cell_type": "code",
   "execution_count": 23,
   "outputs": [],
   "source": [
    "x0[vv[\"i1\"][\"Vm\"]:vv[\"iN\"][\"Vm\"]] = bus[:, VM] # 赋值"
   ],
   "metadata": {
    "collapsed": false,
    "pycharm": {
     "name": "#%%\n"
    }
   }
  },
  {
   "cell_type": "code",
   "execution_count": 24,
   "outputs": [],
   "source": [
    "Va_refs = bus[bus[:, BUS_TYPE]  == REF, VA] * (pi / 180)\n",
    "x0[vv[\"i1\"][\"Va\"]:vv[\"iN\"][\"Va\"]] = bus[:, VA] * (pi / 180) # 赋值"
   ],
   "metadata": {
    "collapsed": false,
    "pycharm": {
     "name": "#%%\n"
    }
   }
  },
  {
   "cell_type": "code",
   "execution_count": 25,
   "outputs": [],
   "source": [
    "## 赋值\n",
    "x0[vv[\"i1\"][\"Pg\"]:vv[\"iN\"][\"Pg\"]] = gen[:,PG]\n",
    "x0[vv[\"i1\"][\"Qg\"]:vv[\"iN\"][\"Qg\"]] = gen[:,QG]"
   ],
   "metadata": {
    "collapsed": false,
    "pycharm": {
     "name": "#%%\n"
    }
   }
  },
  {
   "cell_type": "markdown",
   "source": [
    "\n",
    "### 不能处理piecewise linear 的cost, 因为没有引入那个函数，（大约在这个位置）"
   ],
   "metadata": {
    "collapsed": false,
    "pycharm": {
     "name": "#%% md\n"
    }
   }
  },
  {
   "cell_type": "markdown",
   "source": [
    "\n",
    "### 处理cost fun"
   ],
   "metadata": {
    "collapsed": false,
    "pycharm": {
     "name": "#%% md\n"
    }
   }
  },
  {
   "cell_type": "code",
   "execution_count": 26,
   "outputs": [],
   "source": [
    "## grab Pg & Qg\n",
    "Pg = x0[vv[\"i1\"][\"Pg\"]:vv[\"iN\"][\"Pg\"]]  ## active generation in p.u.\n",
    "Qg = x0[vv[\"i1\"][\"Qg\"]:vv[\"iN\"][\"Qg\"]]  ## reactive generation in p.u.\n",
    "\n",
    "##----- evaluate objective function -----\n",
    "## polynomial cost of P and Q\n",
    "# use totcost only on polynomial cost in the minimization problem formulation, pwl cost is the sum of the y variables.\n",
    "ipol = find(gencost[:, MODEL] == POLYNOMIAL)   ## poly MW and MVAr costs\n",
    "xx = r_[ Pg, Qg ] * baseMVA\n",
    "if len(ipol)>0:\n",
    "    f = sum( totcost(gencost[ipol, :], xx[ipol]) )  ## cost of poly P or Q\n",
    "else:\n",
    "    f = 0"
   ],
   "metadata": {
    "collapsed": false,
    "pycharm": {
     "name": "#%%\n"
    }
   }
  },
  {
   "cell_type": "code",
   "execution_count": 27,
   "outputs": [
    {
     "data": {
      "text/plain": "array([7.37457879e-06, 7.99995768e+01, 7.70208900e+01])"
     },
     "execution_count": 27,
     "metadata": {},
     "output_type": "execute_result"
    }
   ],
   "source": [
    "Pg"
   ],
   "metadata": {
    "collapsed": false,
    "pycharm": {
     "name": "#%%\n"
    }
   }
  },
  {
   "cell_type": "code",
   "execution_count": 28,
   "outputs": [
    {
     "data": {
      "text/plain": "array([7.37457879e-06, 7.99995768e+01, 7.70208900e+01])"
     },
     "execution_count": 28,
     "metadata": {},
     "output_type": "execute_result"
    }
   ],
   "source": [
    "xx[ipol]"
   ],
   "metadata": {
    "collapsed": false,
    "pycharm": {
     "name": "#%%\n"
    }
   }
  },
  {
   "cell_type": "code",
   "execution_count": 29,
   "outputs": [
    {
     "name": "stdout",
     "output_type": "stream",
     "text": [
      "(array([20., 10., 10.]), array([20., 10., 10.]))\n"
     ]
    }
   ],
   "source": [
    "First_Or_Con = 4\n",
    "print(f\"{gencost[ipol, First_Or_Con], gencost[:, First_Or_Con]}\")"
   ],
   "metadata": {
    "collapsed": false,
    "pycharm": {
     "name": "#%%\n"
    }
   }
  },
  {
   "cell_type": "code",
   "execution_count": 30,
   "outputs": [
    {
     "data": {
      "text/plain": "array([[ 2.,  0.,  0.,  2., 20.,  0.],\n       [ 2.,  0.,  0.,  2., 10.,  0.],\n       [ 2.,  0.,  0.,  2., 10.,  0.]])"
     },
     "execution_count": 30,
     "metadata": {},
     "output_type": "execute_result"
    }
   ],
   "source": [
    "gencost"
   ],
   "metadata": {
    "collapsed": false,
    "pycharm": {
     "name": "#%%\n"
    }
   }
  },
  {
   "cell_type": "markdown",
   "source": [
    "### 处理约束部分"
   ],
   "metadata": {
    "collapsed": false,
    "pycharm": {
     "name": "#%% md\n"
    }
   }
  },
  {
   "cell_type": "code",
   "execution_count": 31,
   "outputs": [],
   "source": [
    "## grab Pg & Qg\n",
    "Pg = x0[vv[\"i1\"][\"Pg\"]:vv[\"iN\"][\"Pg\"]]  ## active generation in p.u.\n",
    "Qg = x0[vv[\"i1\"][\"Qg\"]:vv[\"iN\"][\"Qg\"]]  ## reactive generation in p.u."
   ],
   "metadata": {
    "collapsed": false,
    "pycharm": {
     "name": "#%%\n"
    }
   }
  },
  {
   "cell_type": "code",
   "execution_count": 32,
   "outputs": [],
   "source": [
    "## put Pg & Qg back in gen\n",
    "gen[:, PG] = Pg * baseMVA  ## active generation in MW\n",
    "gen[:, QG] = Qg * baseMVA  ## reactive generation in MVAr"
   ],
   "metadata": {
    "collapsed": false,
    "pycharm": {
     "name": "#%%\n"
    }
   }
  },
  {
   "cell_type": "code",
   "execution_count": 33,
   "outputs": [],
   "source": [
    "\n",
    "on = find(gen[:, GEN_STATUS] > 0)      ## which generators are on?\n",
    "gbus = gen[on, GEN_BUS]                   ## what buses are they at?\n",
    "\n",
    "## form net complex bus power injection vector\n",
    "nb = bus.shape[0]\n",
    "ngon = on.shape[0]\n",
    "## connection matrix, element i, j is 1 if gen on(j) at bus i is ON\n",
    "Cg = sparse((ones(ngon), (gbus, range(ngon))), (nb, ngon))\n",
    "\n",
    "## power injected by gens plus power injected by loads converted to p.u.\n",
    "Sbus = ( Cg * (gen[on, PG] + 1j * gen[on, QG]) - (bus[:, PD] + 1j * bus[:, QD]) ) / baseMVA\n",
    "# Sbus = makeSbus(baseMVA, bus, gen) ## net injected power in p.u."
   ],
   "metadata": {
    "collapsed": false,
    "pycharm": {
     "name": "#%%\n"
    }
   }
  },
  {
   "cell_type": "code",
   "execution_count": 34,
   "outputs": [
    {
     "data": {
      "text/plain": "array([ 7.37457879e-06+16.14485516j, -6.00000000e+01 +0.j        ,\n        9.99957682e+00 -2.27817257j,  5.20208900e+01-17.57220036j])"
     },
     "execution_count": 34,
     "metadata": {},
     "output_type": "execute_result"
    }
   ],
   "source": [
    "Sbus"
   ],
   "metadata": {
    "collapsed": false,
    "pycharm": {
     "name": "#%%\n"
    }
   }
  },
  {
   "cell_type": "code",
   "execution_count": 35,
   "outputs": [
    {
     "data": {
      "text/plain": "array([1.05      +0.j        , 1.01063019+0.01862862j,\n       1.01778305+0.06713757j, 1.0164885 +0.08455998j])"
     },
     "execution_count": 35,
     "metadata": {},
     "output_type": "execute_result"
    }
   ],
   "source": [
    "## reconstruct V\n",
    "Va = x0[vv[\"i1\"][\"Va\"]:vv[\"iN\"][\"Va\"]]\n",
    "Vm = x0[vv[\"i1\"][\"Vm\"]:vv[\"iN\"][\"Vm\"]]\n",
    "V = Vm * exp(1j * Va)\n",
    "V"
   ],
   "metadata": {
    "collapsed": false,
    "pycharm": {
     "name": "#%%\n"
    }
   }
  },
  {
   "cell_type": "code",
   "execution_count": 36,
   "outputs": [
    {
     "data": {
      "text/plain": "array([0.        , 0.01843059, 0.06586909, 0.08299722])"
     },
     "execution_count": 36,
     "metadata": {},
     "output_type": "execute_result"
    }
   ],
   "source": [
    "Va"
   ],
   "metadata": {
    "collapsed": false,
    "pycharm": {
     "name": "#%%\n"
    }
   }
  },
  {
   "cell_type": "code",
   "execution_count": 37,
   "outputs": [
    {
     "data": {
      "text/plain": "      vm_pu  va_degree       p_mw     q_mvar      lam_p         lam_q\n0  1.050000   0.000000  -0.000007 -16.144855  10.819000  2.180398e-21\n1  1.010802   1.055995  60.000000   0.000000  10.635084  7.044717e-03\n2  1.019995   3.774021  -9.999577   2.278173  10.163754 -2.693141e-22\n3  1.020000   4.755391 -52.020890  17.572200  10.000002 -2.414266e-21",
      "text/html": "<div>\n<style scoped>\n    .dataframe tbody tr th:only-of-type {\n        vertical-align: middle;\n    }\n\n    .dataframe tbody tr th {\n        vertical-align: top;\n    }\n\n    .dataframe thead th {\n        text-align: right;\n    }\n</style>\n<table border=\"1\" class=\"dataframe\">\n  <thead>\n    <tr style=\"text-align: right;\">\n      <th></th>\n      <th>vm_pu</th>\n      <th>va_degree</th>\n      <th>p_mw</th>\n      <th>q_mvar</th>\n      <th>lam_p</th>\n      <th>lam_q</th>\n    </tr>\n  </thead>\n  <tbody>\n    <tr>\n      <th>0</th>\n      <td>1.050000</td>\n      <td>0.000000</td>\n      <td>-0.000007</td>\n      <td>-16.144855</td>\n      <td>10.819000</td>\n      <td>2.180398e-21</td>\n    </tr>\n    <tr>\n      <th>1</th>\n      <td>1.010802</td>\n      <td>1.055995</td>\n      <td>60.000000</td>\n      <td>0.000000</td>\n      <td>10.635084</td>\n      <td>7.044717e-03</td>\n    </tr>\n    <tr>\n      <th>2</th>\n      <td>1.019995</td>\n      <td>3.774021</td>\n      <td>-9.999577</td>\n      <td>2.278173</td>\n      <td>10.163754</td>\n      <td>-2.693141e-22</td>\n    </tr>\n    <tr>\n      <th>3</th>\n      <td>1.020000</td>\n      <td>4.755391</td>\n      <td>-52.020890</td>\n      <td>17.572200</td>\n      <td>10.000002</td>\n      <td>-2.414266e-21</td>\n    </tr>\n  </tbody>\n</table>\n</div>"
     },
     "execution_count": 37,
     "metadata": {},
     "output_type": "execute_result"
    }
   ],
   "source": [
    "net.res_bus"
   ],
   "metadata": {
    "collapsed": false,
    "pycharm": {
     "name": "#%%\n"
    }
   }
  },
  {
   "cell_type": "code",
   "execution_count": 38,
   "outputs": [],
   "source": [
    "## evaluate power flow equations\n",
    "mis = V * conj(Ybus * V) - Sbus"
   ],
   "metadata": {
    "collapsed": false,
    "pycharm": {
     "name": "#%%\n"
    }
   }
  },
  {
   "cell_type": "code",
   "execution_count": 39,
   "outputs": [
    {
     "data": {
      "text/plain": "array([[ 1.00000000e+00+0.j,  2.00000000e+00+0.j,  1.12231405e-03+0.j,\n         2.37190083e-03+0.j,  2.32831286e+00+0.j,  4.47735134e+01+0.j,\n         2.50000000e+02+0.j,  2.50000000e+02+0.j,  1.00000000e+00+0.j,\n         0.00000000e+00+0.j,  1.00000000e+00+0.j, -3.60000000e+02+0.j,\n         3.60000000e+02+0.j, -1.81675549e+01+0.j,  3.97820737e+00+0.j,\n         1.85594449e+01+0.j, -5.55060515e+00+0.j,  0.00000000e+00+0.j,\n         0.00000000e+00+0.j,  0.00000000e+00+0.j,  0.00000000e+00+0.j,\n         0.00000000e+00+0.j,  0.00000000e+00+0.j],\n       [ 2.00000000e+00+0.j,  3.00000000e+00+0.j,  8.01652893e-04+0.j,\n         1.69421488e-03+0.j,  1.66308061e+00+0.j,  4.47735134e+01+0.j,\n         2.50000000e+02+0.j,  2.50000000e+02+0.j,  1.00000000e+00+0.j,\n         0.00000000e+00+0.j,  1.00000000e+00+0.j, -3.60000000e+02+0.j,\n         3.60000000e+02+0.j, -8.55986787e+00+0.j,  3.27243410e+00+0.j,\n         8.62951677e+00+0.j, -4.85549795e+00+0.j,  0.00000000e+00+0.j,\n         0.00000000e+00+0.j,  0.00000000e+00+0.j,  0.00000000e+00+0.j,\n         0.00000000e+00+0.j,  0.00000000e+00+0.j],\n       [ 3.00000000e+00+0.j,  1.00000000e+00+0.j,  6.41322314e-04+0.j,\n         1.35537190e-03+0.j,  1.33046449e+00+0.j,  4.47735134e+01+0.j,\n         2.50000000e+02+0.j,  2.50000000e+02+0.j,  1.00000000e+00+0.j,\n         0.00000000e+00+0.j,  1.00000000e+00+0.j, -3.60000000e+02+0.j,\n         3.60000000e+02+0.j,  4.33913734e+01+0.j, -1.27167026e+01+0.j,\n        -4.21416434e+01+0.j,  1.39860963e+01+0.j,  0.00000000e+00+0.j,\n         0.00000000e+00+0.j,  0.00000000e+00+0.j,  0.00000000e+00+0.j,\n         0.00000000e+00+0.j,  0.00000000e+00+0.j],\n       [ 0.00000000e+00+0.j,  1.00000000e+00+0.j,  1.12231405e-03+0.j,\n         2.37190083e-03+0.j,  2.32831286e+00+0.j,  4.47735134e+01+0.j,\n         2.50000000e+02+0.j,  2.50000000e+02+0.j,  1.00000000e+00+0.j,\n         0.00000000e+00+0.j,  1.00000000e+00+0.j, -3.60000000e+02+0.j,\n         3.60000000e+02+0.j,  7.41540309e-06+0.j,  1.61448552e+01+0.j,\n         3.09198455e-01+0.j, -1.79643037e+01+0.j,  0.00000000e+00+0.j,\n         0.00000000e+00+0.j,  0.00000000e+00+0.j,  0.00000000e+00+0.j,\n         0.00000000e+00+0.j,  0.00000000e+00+0.j]])"
     },
     "execution_count": 39,
     "metadata": {},
     "output_type": "execute_result"
    }
   ],
   "source": [
    "ppc['branch']"
   ],
   "metadata": {
    "collapsed": false,
    "pycharm": {
     "name": "#%%\n"
    }
   }
  },
  {
   "cell_type": "code",
   "execution_count": 40,
   "outputs": [
    {
     "data": {
      "text/plain": "array([44.77351338+0.j, 44.77351338+0.j, 44.77351338+0.j, 44.77351338+0.j])"
     },
     "execution_count": 40,
     "metadata": {},
     "output_type": "execute_result"
    }
   ],
   "source": [
    "branch[:, RATE_A]"
   ],
   "metadata": {
    "collapsed": false,
    "pycharm": {
     "name": "#%%\n"
    }
   }
  },
  {
   "cell_type": "code",
   "execution_count": 41,
   "outputs": [],
   "source": [
    " ## find branches with flow limits\n",
    "il = find((branch[:, RATE_A] != 0) & (branch[:, RATE_A] < 1e10))\n",
    "nl2 = len(il)           ## number of constrained lines"
   ],
   "metadata": {
    "collapsed": false,
    "pycharm": {
     "name": "#%%\n"
    }
   }
  },
  {
   "cell_type": "code",
   "execution_count": 42,
   "outputs": [
    {
     "data": {
      "text/plain": "array([0, 1, 2, 3])"
     },
     "execution_count": 42,
     "metadata": {},
     "output_type": "execute_result"
    }
   ],
   "source": [
    "il"
   ],
   "metadata": {
    "collapsed": false,
    "pycharm": {
     "name": "#%%\n"
    }
   }
  },
  {
   "cell_type": "code",
   "execution_count": 43,
   "outputs": [
    {
     "name": "stdout",
     "output_type": "stream",
     "text": [
      "flow_max: [2004.6675+0.j 2004.6675+0.j 2004.6675+0.j 2004.6675+0.j]\n"
     ]
    }
   ],
   "source": [
    "## 不等式约束： 线电压的功率\n",
    "ppopt = {}\n",
    "il = find(branch[:, RATE_A] < 1e10)\n",
    "nl2 = len(il)           ## number of constrained lines\n",
    "if any(net.line['max_i_ka']) > 0:\n",
    "    ppopt['OPF_FLOW_LIM'] = 2\n",
    "\n",
    "if nl2 > 0:\n",
    "    flow_max = (branch[il, RATE_A] / baseMVA)**2\n",
    "    flow_max[flow_max == 0] = 1e5\n",
    "    print(f\"flow_max: {flow_max}\")\n",
    "    if ppopt['OPF_FLOW_LIM'] == 2:      ## current magnitude limit, |I|\n",
    "        If = Yf * V\n",
    "        It = Yt * V\n",
    "        h = r_[ If * conj(If) - flow_max,     ## branch I limits (from bus)\n",
    "                It * conj(It) - flow_max ].real    ## branch I limits (to bus)\n",
    "    else:\n",
    "        ## compute branch power flows\n",
    "        ## complex power injected at \"from\" bus (p.u.)\n",
    "        Sf = V[ branch[il, F_BUS].astype(int) ] * conj(Yf * V)\n",
    "        ## complex power injected at \"to\" bus (p.u.)\n",
    "        St = V[ branch[il, T_BUS].astype(int) ] * conj(Yt * V)\n",
    "        if ppopt['OPF_FLOW_LIM'] == 1:   ## active power limit, P (Pan Wei)\n",
    "            h = r_[ Sf.real**2 - flow_max,   ## branch P limits (from bus)\n",
    "                    St.real**2 - flow_max ]  ## branch P limits (to bus)\n",
    "        else:                ## apparent power limit, |S|\n",
    "            h = r_[ Sf * conj(Sf) - flow_max, ## branch S limits (from bus)\n",
    "                    St * conj(St) - flow_max ].real  ## branch S limits (to bus)\n",
    "else:\n",
    "    h = zeros((0,1))"
   ],
   "metadata": {
    "collapsed": false,
    "pycharm": {
     "name": "#%%\n"
    }
   }
  },
  {
   "cell_type": "code",
   "execution_count": 44,
   "outputs": [
    {
     "data": {
      "text/plain": "array([-1666.13439383, -1923.94759733,   -39.53172446, -1768.24450864,\n       -1643.97363903, -1910.43019769,   -75.05058409, -1688.71823828])"
     },
     "execution_count": 44,
     "metadata": {},
     "output_type": "execute_result"
    }
   ],
   "source": [
    "## first, the equality constraints (power flow)\n",
    "# g = r_[ mis.real,            ## active power mismatch for all buses\n",
    "#         mis.imag ]           ## reactive power mismatch for all buses\n",
    "\n",
    "## then, the inequality constraints (branch flow limits)\n",
    "h"
   ],
   "metadata": {
    "collapsed": false,
    "pycharm": {
     "name": "#%%\n"
    }
   }
  },
  {
   "cell_type": "code",
   "execution_count": 45,
   "outputs": [
    {
     "data": {
      "text/plain": "array([-1.78978229e+01 -4.26626785j, -8.16269557e+00 -3.75370533j,\n        4.13605714e+01+15.95114122j,  7.06228866e-06-15.37605253j])"
     },
     "execution_count": 45,
     "metadata": {},
     "output_type": "execute_result"
    }
   ],
   "source": [
    "If"
   ],
   "metadata": {
    "collapsed": false,
    "pycharm": {
     "name": "#%%\n"
    }
   }
  },
  {
   "cell_type": "code",
   "execution_count": 46,
   "outputs": [
    {
     "data": {
      "text/plain": "array([2004.6675+0.j, 2004.6675+0.j, 2004.6675+0.j, 2004.6675+0.j])"
     },
     "execution_count": 46,
     "metadata": {},
     "output_type": "execute_result"
    }
   ],
   "source": [
    "flow_max"
   ],
   "metadata": {
    "collapsed": false,
    "pycharm": {
     "name": "#%%\n"
    }
   }
  },
  {
   "cell_type": "code",
   "execution_count": 47,
   "outputs": [
    {
     "data": {
      "text/plain": "   p_from_mw  q_from_mvar    p_to_mw  q_to_mvar     pl_mw   ql_mvar  \\\n0 -18.167555     3.978207  18.559445  -5.550605  0.391890 -1.572398   \n1  -8.559868     3.272434   8.629517  -4.855498  0.069649 -1.583064   \n2  43.391373   -12.716703 -42.141643  13.986096  1.249730  1.269394   \n3   0.000007    16.144855   0.309198 -17.964304  0.309206 -1.819449   \n\n   i_from_ka   i_to_ka      i_ka  vm_from_pu  va_from_degree  vm_to_pu  \\\n0   0.096571  0.099682  0.099682    1.010802        1.055995  1.019995   \n1   0.047156  0.050952  0.050952    1.019995        3.774021  1.020000   \n2   0.232671  0.230559  0.232671    1.020000        4.755391  1.010802   \n3   0.080703  0.093294  0.093294    1.050000        0.000000  1.010802   \n\n   va_to_degree  loading_percent  \n0      3.774021        21.208903  \n1      4.755391        10.840773  \n2      1.055995        49.504549  \n3      1.055995        19.849862  ",
      "text/html": "<div>\n<style scoped>\n    .dataframe tbody tr th:only-of-type {\n        vertical-align: middle;\n    }\n\n    .dataframe tbody tr th {\n        vertical-align: top;\n    }\n\n    .dataframe thead th {\n        text-align: right;\n    }\n</style>\n<table border=\"1\" class=\"dataframe\">\n  <thead>\n    <tr style=\"text-align: right;\">\n      <th></th>\n      <th>p_from_mw</th>\n      <th>q_from_mvar</th>\n      <th>p_to_mw</th>\n      <th>q_to_mvar</th>\n      <th>pl_mw</th>\n      <th>ql_mvar</th>\n      <th>i_from_ka</th>\n      <th>i_to_ka</th>\n      <th>i_ka</th>\n      <th>vm_from_pu</th>\n      <th>va_from_degree</th>\n      <th>vm_to_pu</th>\n      <th>va_to_degree</th>\n      <th>loading_percent</th>\n    </tr>\n  </thead>\n  <tbody>\n    <tr>\n      <th>0</th>\n      <td>-18.167555</td>\n      <td>3.978207</td>\n      <td>18.559445</td>\n      <td>-5.550605</td>\n      <td>0.391890</td>\n      <td>-1.572398</td>\n      <td>0.096571</td>\n      <td>0.099682</td>\n      <td>0.099682</td>\n      <td>1.010802</td>\n      <td>1.055995</td>\n      <td>1.019995</td>\n      <td>3.774021</td>\n      <td>21.208903</td>\n    </tr>\n    <tr>\n      <th>1</th>\n      <td>-8.559868</td>\n      <td>3.272434</td>\n      <td>8.629517</td>\n      <td>-4.855498</td>\n      <td>0.069649</td>\n      <td>-1.583064</td>\n      <td>0.047156</td>\n      <td>0.050952</td>\n      <td>0.050952</td>\n      <td>1.019995</td>\n      <td>3.774021</td>\n      <td>1.020000</td>\n      <td>4.755391</td>\n      <td>10.840773</td>\n    </tr>\n    <tr>\n      <th>2</th>\n      <td>43.391373</td>\n      <td>-12.716703</td>\n      <td>-42.141643</td>\n      <td>13.986096</td>\n      <td>1.249730</td>\n      <td>1.269394</td>\n      <td>0.232671</td>\n      <td>0.230559</td>\n      <td>0.232671</td>\n      <td>1.020000</td>\n      <td>4.755391</td>\n      <td>1.010802</td>\n      <td>1.055995</td>\n      <td>49.504549</td>\n    </tr>\n    <tr>\n      <th>3</th>\n      <td>0.000007</td>\n      <td>16.144855</td>\n      <td>0.309198</td>\n      <td>-17.964304</td>\n      <td>0.309206</td>\n      <td>-1.819449</td>\n      <td>0.080703</td>\n      <td>0.093294</td>\n      <td>0.093294</td>\n      <td>1.050000</td>\n      <td>0.000000</td>\n      <td>1.010802</td>\n      <td>1.055995</td>\n      <td>19.849862</td>\n    </tr>\n  </tbody>\n</table>\n</div>"
     },
     "execution_count": 47,
     "metadata": {},
     "output_type": "execute_result"
    }
   ],
   "source": [
    "net.res_line"
   ],
   "metadata": {
    "collapsed": false,
    "pycharm": {
     "name": "#%%\n"
    }
   }
  },
  {
   "cell_type": "code",
   "execution_count": 48,
   "outputs": [
    {
     "data": {
      "text/plain": "array([1.1025, 1.0404, 1.0404, 1.0404])"
     },
     "execution_count": 48,
     "metadata": {},
     "output_type": "execute_result"
    }
   ],
   "source": [
    "llv = ll[vv[\"i1\"][\"Vm\"]:vv[\"iN\"][\"Vm\"]]**2\n",
    "uuv = uu[vv[\"i1\"][\"Vm\"]:vv[\"iN\"][\"Vm\"]]**2\n",
    "uuv"
   ],
   "metadata": {
    "collapsed": false,
    "pycharm": {
     "name": "#%%\n"
    }
   }
  },
  {
   "cell_type": "code",
   "execution_count": 49,
   "outputs": [
    {
     "name": "stdout",
     "output_type": "stream",
     "text": [
      "  (0, 0)\t(162.99668368338897-343.3133709444148j)\n",
      "  (1, 0)\t(-162.99668368338897+344.47752737211067j)\n",
      "  (0, 1)\t(-162.99668368338897+344.47752737211067j)\n",
      "  (3, 1)\t(-285.24419644593075+602.8356729011938j)\n",
      "  (1, 1)\t(611.2375638127087-1288.7971825456257j)\n",
      "  (2, 1)\t(-162.99668368338897+344.47752737211067j)\n",
      "  (2, 2)\t(391.19204084013353-824.7503689598727j)\n",
      "  (1, 2)\t(-162.99668368338897+344.47752737211067j)\n",
      "  (3, 2)\t(-228.19535715674456+482.268538320955j)\n",
      "  (3, 3)\t(513.4395536026753-1083.607438672254j)\n",
      "  (2, 3)\t(-228.19535715674456+482.268538320955j)\n",
      "  (1, 3)\t(-285.24419644593075+602.8356729011938j)\n"
     ]
    }
   ],
   "source": [
    "print(Ybus)"
   ],
   "metadata": {
    "collapsed": false,
    "pycharm": {
     "name": "#%%\n"
    }
   }
  },
  {
   "cell_type": "code",
   "execution_count": 50,
   "outputs": [
    {
     "data": {
      "text/plain": "array([1000.,   80.,  100.])"
     },
     "execution_count": 50,
     "metadata": {},
     "output_type": "execute_result"
    }
   ],
   "source": [
    "Pg_lower, Pg_upper = ll[vv[\"i1\"][\"Pg\"]:vv[\"iN\"][\"Pg\"]], uu[vv[\"i1\"][\"Pg\"]:vv[\"iN\"][\"Pg\"]]\n",
    "Pg_upper"
   ],
   "metadata": {
    "collapsed": false,
    "pycharm": {
     "name": "#%%\n"
    }
   }
  },
  {
   "cell_type": "code",
   "execution_count": 50,
   "outputs": [],
   "source": [],
   "metadata": {
    "collapsed": false,
    "pycharm": {
     "name": "#%%\n"
    }
   }
  },
  {
   "cell_type": "code",
   "execution_count": 51,
   "outputs": [
    {
     "data": {
      "text/plain": "array([ 0., 60., 70., 25.])"
     },
     "execution_count": 51,
     "metadata": {},
     "output_type": "execute_result"
    }
   ],
   "source": [
    "Pd = bus[:, PD]\n",
    "Pd"
   ],
   "metadata": {
    "collapsed": false,
    "pycharm": {
     "name": "#%%\n"
    }
   }
  },
  {
   "cell_type": "code",
   "execution_count": 52,
   "outputs": [
    {
     "data": {
      "text/plain": "1"
     },
     "execution_count": 52,
     "metadata": {},
     "output_type": "execute_result"
    }
   ],
   "source": [
    "baseMVA"
   ],
   "metadata": {
    "collapsed": false,
    "pycharm": {
     "name": "#%%\n"
    }
   }
  },
  {
   "cell_type": "code",
   "execution_count": 75,
   "outputs": [
    {
     "name": "stdout",
     "output_type": "stream",
     "text": [
      "Set parameter NonConvex to value 2\n",
      "ipol: [0 1 2]\n",
      "Gurobi Optimizer version 10.0.1 build v10.0.1rc0 (linux64)\n",
      "\n",
      "CPU model: Intel(R) Core(TM) i5-10600KF CPU @ 4.10GHz, instruction set [SSE2|AVX|AVX2]\n",
      "Thread count: 8 physical cores, 8 logical processors, using up to 8 threads\n",
      "\n",
      "Optimize a model with 34 rows, 46 columns and 152 nonzeros\n",
      "Model fingerprint: 0x47ad00e0\n",
      "Model has 22 quadratic constraints\n",
      "Coefficient statistics:\n",
      "  Matrix range     [1e+00, 1e+03]\n",
      "  QMatrix range    [1e+00, 1e+00]\n",
      "  QLMatrix range   [1e+00, 1e+00]\n",
      "  Objective range  [1e+01, 2e+01]\n",
      "  Bounds range     [1e-16, 1e+04]\n",
      "  RHS range        [1e+00, 7e+01]\n",
      "  QRHS range       [1e+00, 2e+03]\n",
      "Presolve removed 4 rows and 4 columns\n",
      "\n",
      "Continuous model is non-convex -- solving as a MIP\n",
      "\n",
      "Presolve removed 12 rows and 14 columns\n",
      "Presolve time: 0.00s\n",
      "Presolved: 85 rows, 50 columns, 292 nonzeros\n",
      "Presolved model has 11 quadratic constraint(s)\n",
      "Presolved model has 18 bilinear constraint(s)\n",
      "Variable types: 50 continuous, 0 integer (0 binary)\n",
      "\n",
      "Root relaxation: objective 1.394932e+03, 37 iterations, 0.00 seconds (0.00 work units)\n",
      "\n",
      "    Nodes    |    Current Node    |     Objective Bounds      |     Work\n",
      " Expl Unexpl |  Obj  Depth IntInf | Incumbent    BestBd   Gap | It/Node Time\n",
      "\n",
      "     0     0 1394.93241    0   12          - 1394.93241      -     -    0s\n",
      "H    0     0                    1570.2045375 1394.93241  11.2%     -    0s\n",
      "     0     0 1453.14263    0   12 1570.20454 1453.14263  7.46%     -    0s\n",
      "     0     0 1474.41488    0   13 1570.20454 1474.41488  6.10%     -    0s\n",
      "     0     0 1477.30653    0   13 1570.20454 1477.30653  5.92%     -    0s\n",
      "     0     0 1478.02950    0   12 1570.20454 1478.02950  5.87%     -    0s\n",
      "     0     0 1494.39635    0   13 1570.20454 1494.39635  4.83%     -    0s\n",
      "     0     0 1497.65365    0   12 1570.20454 1497.65365  4.62%     -    0s\n",
      "     0     0 1497.71247    0   12 1570.20454 1497.71247  4.62%     -    0s\n",
      "     0     0 1513.67634    0   12 1570.20454 1513.67634  3.60%     -    0s\n",
      "     0     0 1515.38394    0   12 1570.20454 1515.38394  3.49%     -    0s\n",
      "     0     0 1517.20010    0   12 1570.20454 1517.20010  3.38%     -    0s\n",
      "     0     0 1517.29432    0   12 1570.20454 1517.29432  3.37%     -    0s\n",
      "     0     0 1518.82038    0   12 1570.20454 1518.82038  3.27%     -    0s\n",
      "     0     0 1519.31549    0   12 1570.20454 1519.31549  3.24%     -    0s\n",
      "     0     0 1519.32251    0   12 1570.20454 1519.32251  3.24%     -    0s\n",
      "     0     0 1543.65294    0   10 1570.20454 1543.65294  1.69%     -    0s\n",
      "     0     2 1543.65294    0   10 1570.20454 1543.65294  1.69%     -    0s\n",
      "\n",
      "Cutting planes:\n",
      "  RLT: 7\n",
      "\n",
      "Explored 70 nodes (359 simplex iterations) in 0.10 seconds (0.02 work units)\n",
      "Thread count was 8 (of 8 available processors)\n",
      "\n",
      "Solution count 1: 1570.2 \n",
      "\n",
      "Optimal solution found (tolerance 1.00e-04)\n",
      "Best objective 1.570204537494e+03, best bound 1.570119750315e+03, gap 0.0054%\n"
     ]
    }
   ],
   "source": [
    "# Parameters\n",
    "# obtain the complex load\n",
    "Pd = bus[:, PD]\n",
    "Qd = bus[:, QD]\n",
    "slack_v = net.ext_grid['vm_pu']\n",
    "\n",
    "lb_update = -1e4\n",
    "\n",
    "# obtain the range of voltage; the range is from the setting\n",
    "V_range = v_max - 1\n",
    "V_ll,V_uu = 1.0-V_range, 1.0+V_range\n",
    "\n",
    "# obtain the power range\n",
    "Pg_lower, Pg_upper = ll[vv[\"i1\"][\"Pg\"]:vv[\"iN\"][\"Pg\"]], uu[vv[\"i1\"][\"Pg\"]:vv[\"iN\"][\"Pg\"]]*baseMVA\n",
    "Qg_lower, Qg_upper = ll[vv[\"i1\"][\"Qg\"]:vv[\"iN\"][\"Qg\"]], uu[vv[\"i1\"][\"Qg\"]:vv[\"iN\"][\"Qg\"]]*baseMVA\n",
    "\n",
    "# the dimension of the OPF\n",
    "nb = bus.shape[0]          ## number of buses\n",
    "nl = branch.shape[0]       ## number of branches\n",
    "\n",
    "ineq_idx = 0\n",
    "\n",
    "# create the model; set the model type: NonConvex.\n",
    "model = gp.Model(\"PowerGeneration\");model.setParam('NonConvex', 2)\n",
    "\n",
    "# creat variables for the model; the numbers in the following codes should be replaced by parameters\n",
    "V_re = model.addMVar(nb, lb=lb_update, vtype=GRB.CONTINUOUS, name='V real')\n",
    "V_im = model.addMVar(nb, lb=lb_update, vtype=GRB.CONTINUOUS, name='V imag')\n",
    "Pg = model.addMVar(ngon, lb=Pg_lower, ub=Pg_upper, vtype=GRB.CONTINUOUS, name='Pg')\n",
    "Qg = model.addMVar(ngon, lb=Qg_lower, ub=Qg_upper, vtype=GRB.CONTINUOUS, name='Qg')\n",
    "temp1 = model.addMVar(nb, lb=lb_update, vtype=GRB.CONTINUOUS, name='Temp 1')\n",
    "temp2 = model.addMVar(nb, lb=lb_update, vtype=GRB.CONTINUOUS, name='Temp 2')\n",
    "Pg_net = model.addMVar(nb, lb=lb_update, vtype=GRB.CONTINUOUS, name='Pg net')  # the number of buses, too\n",
    "Qg_net = model.addMVar(nb, lb=lb_update, vtype=GRB.CONTINUOUS, name='Qg net')\n",
    "Line_temp_1 = model.addMVar(nl, lb=lb_update, vtype=GRB.CONTINUOUS, name='Line temp 1')    # the shape should be line number\n",
    "Line_temp_2 = model.addMVar(nl, lb=lb_update, vtype=GRB.CONTINUOUS, name='Line temp 2')    # the shape should be line number\n",
    "Line_temp_3 = model.addMVar(nl, lb=lb_update, vtype=GRB.CONTINUOUS, name='Line temp 3')    # the shape should be line number\n",
    "Line_temp_4 = model.addMVar(nl, lb=lb_update, vtype=GRB.CONTINUOUS, name='Line temp 4')    # the shape should be line number\n",
    "\n",
    "# the prameters of branches\n",
    "G = np.real(Ybus)\n",
    "B = np.imag(Ybus)\n",
    "# the parameters for currents in branches\n",
    "G_yf, B_yf = np.real(Yf), np.imag(Yf)\n",
    "G_yt, B_yt = np.real(Yt), np.imag(Yt)\n",
    "\n",
    "# Constraints; insert the formulas\n",
    "Temp_c1 = model.addConstr(G@V_re - B@V_im == temp1, 'Temp Constr 1')\n",
    "Temp_c2 = model.addConstr(G @ V_im + B @ V_re == temp2, 'Temp Constr 2')\n",
    "Pg_net_c = model.addConstr(Cg @ Pg - Pd == Pg_net, 'Pg net Constr')\n",
    "Qg_net_c = model.addConstr(Cg @ Qg - Qd == Qg_net, 'Qg net Constr')\n",
    "# print(f'Pd:{Pd}\\n Qd:{Qd}')\n",
    "CVL_CPL = model.addConstrs((V_re[i] * temp1[i] *baseMVA+ V_im[i] * temp2[i]*baseMVA == Pg_net[i]  for i in range(nb)), 'Cvl P')  # break into different parts\n",
    "CVL_CPL_Q = model.addConstrs((V_im[i] * temp1[i] *baseMVA - V_re[i] * temp2[i]*baseMVA == Qg_net[i] for i in range(nb)), 'Cvl Q')\n",
    "\n",
    "# the constraints of voltages on all buses; set the constraint for slack bus, then give the upper and lower constraints for other buses\n",
    "V_slack = model.addConstr(V_re[0]==slack_v, 'V slack real')\n",
    "V_slack_a = model.addConstr(V_im[0]==0, 'V slack imag')\n",
    "# the upper&lower constraints for buses except for the slack bus\n",
    "V_upper = model.addConstrs((V_re[i]**2 + V_im[i]**2 <= V_uu**2 for i in range(1,nb-ineq_idx)), 'V upper bound')  # 对 range 起始值的处理，是处理树状分层搜索的突破口；有一\"减\"，对应的有一\"加\"。\n",
    "# if ineq_idx != 0:\n",
    "#     V_upper = model.addConstrs((V_re[i]**2 + V_im[i]**2 == V_uu**2 for i in range(ineq_idx,nb)), 'V upper bound')\n",
    "#\n",
    "V_lower = model.addConstrs((V_re[i]**2 + V_im[i]**2 >= V_ll**2 for i in range(1,nb)), 'V lower bound')\n",
    "\n",
    "# Yf * W * Yf; the number is equal to that of the lines/branches\n",
    "Line_temp_c_1 = model.addConstr(G_yf@V_re - B_yf@V_im == Line_temp_1, 'Branch Con 1')\n",
    "Line_temp_c_2 = model.addConstr(G_yf @ V_im + B_yf @ V_re == Line_temp_2, 'Branch Con 2')\n",
    "Line_temp_c_3 = model.addConstr(G_yt@V_re - B_yt@V_im == Line_temp_3, 'Branch Con 3')\n",
    "Line_temp_c_4 = model.addConstr(G_yt @ V_im + B_yt @ V_re == Line_temp_4, 'Branch Con 4')\n",
    "# 下式左侧是否应该乘上baseMVA\n",
    "Line_c_1 = model.addConstrs((Line_temp_1[i]**2 + Line_temp_2[i]**2 <= np.real(flow_max[i]) for i in range(nl)), 'Branch Con 1') # p.u.\n",
    "Line_c_2 = model.addConstrs((Line_temp_3[i]**2 + Line_temp_4[i]**2 <= np.real(flow_max[i]) for i in range(nl)), 'Branch Con 2') # p.u.\n",
    "\n",
    "# set the objective of the model\n",
    "print('ipol:', ipol)\n",
    "# The \"gencost\" changes with different cases. Keep in Mind!\n",
    "# model.setObjective(gencost[ipol, First_Or_Con]@Pg**2+gencost[ipol, First_Or_Con+1]@Pg, GRB.MINIMIZE)\n",
    "model.setObjective(gencost[ipol, First_Or_Con]@Pg, GRB.MINIMIZE)\n",
    "\n",
    "# calculate the optimization\n",
    "# model.optimize()\n",
    "model.X[:14]\n",
    "\n",
    "Pg_star, Qg_star = Pg.X, Qg.X\n",
    "optimized_obj = gencost[ipol, First_Or_Con]@Pg_star\n"
   ],
   "metadata": {
    "collapsed": false,
    "pycharm": {
     "name": "#%%\n"
    }
   }
  },
  {
   "cell_type": "code",
   "execution_count": 83,
   "outputs": [
    {
     "data": {
      "text/plain": "34"
     },
     "execution_count": 83,
     "metadata": {},
     "output_type": "execute_result"
    }
   ],
   "source": [
    "len(model.getVars())\n",
    "len(model.getConstrs())"
   ],
   "metadata": {
    "collapsed": false,
    "pycharm": {
     "name": "#%%\n"
    }
   }
  },
  {
   "cell_type": "code",
   "execution_count": 55,
   "outputs": [
    {
     "name": "stdout",
     "output_type": "stream",
     "text": [
      "[7.37457879e-06 7.99995768e+01 7.70208900e+01]\n"
     ]
    }
   ],
   "source": [
    "print(Pg)"
   ],
   "metadata": {
    "collapsed": false,
    "pycharm": {
     "name": "#%%\n"
    }
   }
  },
  {
   "cell_type": "code",
   "execution_count": 56,
   "outputs": [
    {
     "data": {
      "text/plain": "      vm_pu  va_degree       p_mw     q_mvar      lam_p         lam_q\n0  1.050000   0.000000  -0.000007 -16.144855  10.819000  2.180398e-21\n1  1.010802   1.055995  60.000000   0.000000  10.635084  7.044717e-03\n2  1.019995   3.774021  -9.999577   2.278173  10.163754 -2.693141e-22\n3  1.020000   4.755391 -52.020890  17.572200  10.000002 -2.414266e-21",
      "text/html": "<div>\n<style scoped>\n    .dataframe tbody tr th:only-of-type {\n        vertical-align: middle;\n    }\n\n    .dataframe tbody tr th {\n        vertical-align: top;\n    }\n\n    .dataframe thead th {\n        text-align: right;\n    }\n</style>\n<table border=\"1\" class=\"dataframe\">\n  <thead>\n    <tr style=\"text-align: right;\">\n      <th></th>\n      <th>vm_pu</th>\n      <th>va_degree</th>\n      <th>p_mw</th>\n      <th>q_mvar</th>\n      <th>lam_p</th>\n      <th>lam_q</th>\n    </tr>\n  </thead>\n  <tbody>\n    <tr>\n      <th>0</th>\n      <td>1.050000</td>\n      <td>0.000000</td>\n      <td>-0.000007</td>\n      <td>-16.144855</td>\n      <td>10.819000</td>\n      <td>2.180398e-21</td>\n    </tr>\n    <tr>\n      <th>1</th>\n      <td>1.010802</td>\n      <td>1.055995</td>\n      <td>60.000000</td>\n      <td>0.000000</td>\n      <td>10.635084</td>\n      <td>7.044717e-03</td>\n    </tr>\n    <tr>\n      <th>2</th>\n      <td>1.019995</td>\n      <td>3.774021</td>\n      <td>-9.999577</td>\n      <td>2.278173</td>\n      <td>10.163754</td>\n      <td>-2.693141e-22</td>\n    </tr>\n    <tr>\n      <th>3</th>\n      <td>1.020000</td>\n      <td>4.755391</td>\n      <td>-52.020890</td>\n      <td>17.572200</td>\n      <td>10.000002</td>\n      <td>-2.414266e-21</td>\n    </tr>\n  </tbody>\n</table>\n</div>"
     },
     "execution_count": 56,
     "metadata": {},
     "output_type": "execute_result"
    }
   ],
   "source": [
    "net.res_bus"
   ],
   "metadata": {
    "collapsed": false,
    "pycharm": {
     "name": "#%%\n"
    }
   }
  },
  {
   "cell_type": "code",
   "execution_count": 85,
   "outputs": [
    {
     "ename": "TypeError",
     "evalue": "unsupported operand type(s) for *: 'MLinExpr' and 'complex'",
     "output_type": "error",
     "traceback": [
      "\u001B[0;31m---------------------------------------------------------------------------\u001B[0m",
      "\u001B[0;31mTypeError\u001B[0m                                 Traceback (most recent call last)",
      "Cell \u001B[0;32mIn[85], line 4\u001B[0m\n\u001B[1;32m      2\u001B[0m \u001B[38;5;66;03m# x = m.addMVar(shape=(10), name=\"x\")\u001B[39;00m\n\u001B[1;32m      3\u001B[0m y \u001B[38;5;241m=\u001B[39m m\u001B[38;5;241m.\u001B[39maddMVar(shape\u001B[38;5;241m=\u001B[39m(\u001B[38;5;241m5\u001B[39m),lb\u001B[38;5;241m=\u001B[39mnp\u001B[38;5;241m.\u001B[39marray([\u001B[38;5;241m-\u001B[39m\u001B[38;5;241m1\u001B[39m,\u001B[38;5;241m-\u001B[39m\u001B[38;5;241m2\u001B[39m,\u001B[38;5;241m-\u001B[39m\u001B[38;5;241m3\u001B[39m,\u001B[38;5;241m-\u001B[39m\u001B[38;5;241m4\u001B[39m,\u001B[38;5;241m-\u001B[39m\u001B[38;5;241m5\u001B[39m]), name\u001B[38;5;241m=\u001B[39m\u001B[38;5;124m\"\u001B[39m\u001B[38;5;124my\u001B[39m\u001B[38;5;124m\"\u001B[39m)\n\u001B[0;32m----> 4\u001B[0m Y_ \u001B[38;5;241m=\u001B[39m y \u001B[38;5;241m+\u001B[39m \u001B[38;5;241;43m1\u001B[39;49m\u001B[43mj\u001B[49m\u001B[38;5;241;43m*\u001B[39;49m\u001B[43my\u001B[49m\n\u001B[1;32m      5\u001B[0m A \u001B[38;5;241m=\u001B[39m np\u001B[38;5;241m.\u001B[39mones(\u001B[38;5;241m5\u001B[39m)\n\u001B[1;32m      7\u001B[0m \u001B[38;5;66;03m# m.addConstrs((y[i] >=np.array([-1,-2,-3,-4,-5])[i] for i in range(5)), name=\"const\")\u001B[39;00m\n",
      "File \u001B[0;32msrc/gurobipy/mvar.pxi:381\u001B[0m, in \u001B[0;36mgurobipy.MVar.__rmul__\u001B[0;34m()\u001B[0m\n",
      "File \u001B[0;32msrc/gurobipy/mlinexpr.pxi:1749\u001B[0m, in \u001B[0;36mgurobipy.MLinExpr.__rmul__\u001B[0;34m()\u001B[0m\n",
      "\u001B[0;31mTypeError\u001B[0m: unsupported operand type(s) for *: 'MLinExpr' and 'complex'"
     ]
    }
   ],
   "source": [
    "m = gp.Model(\"model\")\n",
    "# x = m.addMVar(shape=(10), name=\"x\")\n",
    "y = m.addMVar(shape=(5),lb=np.array([-1,-2,-3,-4,-5]), name=\"y\")\n",
    "\n",
    "A = np.ones(5)\n",
    "\n",
    "m.addConstrs((y[i] >=np.array([-1,-2,-3,-4,-5])[i] for i in range(5)), name=\"const\")\n",
    "m.setObjective(A@Y_.real)\n",
    "m.optimize()"
   ],
   "metadata": {
    "collapsed": false,
    "pycharm": {
     "name": "#%%\n"
    }
   }
  },
  {
   "cell_type": "code",
   "execution_count": 59,
   "outputs": [
    {
     "ename": "NameError",
     "evalue": "name 'm' is not defined",
     "output_type": "error",
     "traceback": [
      "\u001B[0;31m---------------------------------------------------------------------------\u001B[0m",
      "\u001B[0;31mNameError\u001B[0m                                 Traceback (most recent call last)",
      "Cell \u001B[0;32mIn[59], line 1\u001B[0m\n\u001B[0;32m----> 1\u001B[0m \u001B[43mm\u001B[49m\u001B[38;5;241m.\u001B[39mX\n",
      "\u001B[0;31mNameError\u001B[0m: name 'm' is not defined"
     ]
    }
   ],
   "source": [
    "m.X"
   ],
   "metadata": {
    "collapsed": false,
    "pycharm": {
     "name": "#%%\n"
    }
   }
  },
  {
   "cell_type": "code",
   "execution_count": 296,
   "outputs": [
    {
     "name": "stdout",
     "output_type": "stream",
     "text": [
      "y[0] -1.0\n",
      "y[1] -2.0\n",
      "y[2] -3.0\n",
      "y[3] -4.0\n",
      "y[4] -5.0\n"
     ]
    }
   ],
   "source": [
    "for v in m.getVars():\n",
    "    print(v.varName, v.x)"
   ],
   "metadata": {
    "collapsed": false,
    "pycharm": {
     "name": "#%%\n"
    }
   }
  },
  {
   "cell_type": "code",
   "execution_count": 296,
   "outputs": [],
   "source": [],
   "metadata": {
    "collapsed": false,
    "pycharm": {
     "name": "#%%\n"
    }
   }
  },
  {
   "cell_type": "code",
   "execution_count": 297,
   "outputs": [
    {
     "name": "stdout",
     "output_type": "stream",
     "text": [
      "A ;[array([[-0.24937038,  1.46210794, -2.06014071],\n",
      "       [-0.3224172 , -0.38405435,  1.13376944],\n",
      "       [-1.09989127, -0.17242821, -0.87785842]]), array([[ 0.58281521, -1.10061918,  1.14472371],\n",
      "       [ 0.90159072,  0.50249434,  0.90085595],\n",
      "       [-0.68372786, -0.12289023, -0.93576943]]), array([[ 0.53035547, -0.69166075, -0.39675353],\n",
      "       [-0.6871727 , -0.84520564, -0.67124613],\n",
      "       [-0.0126646 , -1.11731035,  0.2344157 ]])];\n",
      " b : [0.04221374671559283, -0.2678880796260159, 1.6598021771098705]\n"
     ]
    }
   ],
   "source": [
    "n = 3\n",
    "p = 3\n",
    "np.random.seed(1)\n",
    "C = np.random.randn(n, n)\n",
    "A = []\n",
    "b = []\n",
    "for i in range(p):\n",
    "    A.append(np.random.randn(n, n))\n",
    "    b.append(np.random.randn())\n",
    "\n",
    "print(f'A ;{A};\\n b : {b}')"
   ],
   "metadata": {
    "collapsed": false,
    "pycharm": {
     "name": "#%%\n"
    }
   }
  },
  {
   "cell_type": "code",
   "execution_count": 298,
   "outputs": [
    {
     "name": "stdout",
     "output_type": "stream",
     "text": [
      "The optimal value is 2.654347058555727\n",
      "A solution X is\n",
      "[[ 1.60805504 -0.59770125 -0.69575821]\n",
      " [-0.59770125  0.22228555  0.24689067]\n",
      " [-0.69575821  0.24689067  1.39679134]]\n"
     ]
    }
   ],
   "source": [
    "# Define and solve the CVXPY problem.\n",
    "# Create a symmetric matrix variable\n",
    "X = cp.Variable((n,n), symmetric=True)\n",
    "# The operator >> denotes matrix inequality.\n",
    "constraints = [X >> 0]\n",
    "constraints += [\n",
    "    cp.trace(A[i] @ X) == b[i] for i in range(p)\n",
    "]\n",
    "prob = cp.Problem(cp.Minimize(cp.trace(C @ X)),\n",
    "                  constraints)\n",
    "prob.solve()\n",
    "# Print result.\n",
    "print(\"The optimal value is\", prob.value)\n",
    "print(\"A solution X is\")\n",
    "print(X.value)"
   ],
   "metadata": {
    "collapsed": false,
    "pycharm": {
     "name": "#%%\n"
    }
   }
  },
  {
   "cell_type": "code",
   "execution_count": 298,
   "outputs": [],
   "source": [],
   "metadata": {
    "collapsed": false,
    "pycharm": {
     "name": "#%%\n"
    }
   }
  },
  {
   "cell_type": "code",
   "execution_count": 298,
   "outputs": [],
   "source": [],
   "metadata": {
    "collapsed": false,
    "pycharm": {
     "name": "#%%\n"
    }
   }
  }
 ],
 "metadata": {
  "kernelspec": {
   "name": "nvenv",
   "language": "python",
   "display_name": "nvenv"
  },
  "language_info": {
   "codemirror_mode": {
    "name": "ipython",
    "version": 2
   },
   "file_extension": ".py",
   "mimetype": "text/x-python",
   "name": "python",
   "nbconvert_exporter": "python",
   "pygments_lexer": "ipython2",
   "version": "2.7.6"
  }
 },
 "nbformat": 4,
 "nbformat_minor": 0
}