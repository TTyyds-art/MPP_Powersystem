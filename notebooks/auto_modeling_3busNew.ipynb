{
 "cells": [
  {
   "cell_type": "code",
   "execution_count": 1,
   "outputs": [
    {
     "name": "stderr",
     "output_type": "stream",
     "text": [
      "/home/huzuntao/PycharmProjects/MPP_Powersystem/venv/lib/python3.8/site-packages/numba/core/errors.py:175: UserWarning: Insufficiently recent colorama version found. Numba requires colorama >= 0.3.9\n",
      "  warnings.warn(msg)\n"
     ]
    }
   ],
   "source": [
    "import os.path\n",
    "import pandapower.networks as pn\n",
    "import pandapower as pp\n",
    "import pandas as pd\n",
    "import gurobipy as gp\n",
    "from gurobipy import GRB\n",
    "from numpy import flatnonzero as find, ones, zeros, Inf, pi, exp, conj, r_, arange, array\n",
    "from pypower_.makeYbus import makeYbus\n",
    "from pypower_.idx_brch import F_BUS, T_BUS, RATE_A, PF, QF, PT, QT, MU_SF, MU_ST\n",
    "from pypower_.idx_gen import GEN_BUS, PG, QG\n",
    "from pypower_.idx_cost import MODEL, PW_LINEAR, NCOST, POLYNOMIAL\n",
    "from pypower_.totcost import totcost\n",
    "from pypower_.makeSbus import makeSbus\n",
    "from pypower_.idx_bus import BUS_TYPE, REF, VM, VA, MU_VMAX, MU_VMIN, LAM_P, LAM_Q\n",
    "import cvxpy as cp\n",
    "import numpy as np\n",
    "from scipy.sparse import csr_matrix as sparse\n",
    "from pypower_.idx_bus import PD, QD\n",
    "from pypower_.idx_gen import GEN_BUS, PG, QG, GEN_STATUS"
   ],
   "metadata": {
    "collapsed": false
   }
  },
  {
   "cell_type": "code",
   "execution_count": 2,
   "outputs": [
    {
     "name": "stdout",
     "output_type": "stream",
     "text": [
      "['/home/huzuntao/PycharmProjects/MPP_Powersystem/notebooks', '/home/huzuntao/PycharmProjects/MPP_Powersystem', '/usr/lib/python38.zip', '/usr/lib/python3.8', '/usr/lib/python3.8/lib-dynload', '', '/home/huzuntao/PycharmProjects/MPP_Powersystem/venv/lib/python3.8/site-packages', '/usr/lib/python3.8/site-packages', '/usr/local/lib/python3.8/dist-packages', '/usr/lib/python3/dist-packages']\n",
      "<module 'posixpath' from '/usr/lib/python3.8/posixpath.py'>\n"
     ]
    }
   ],
   "source": [
    "import sys\n",
    "print(sys.path)\n",
    "print(os.path)\n",
    "path_current = '/home/ubuntu-h/PycharmProjects/scientificProject'\n",
    "if path_current not in sys.path:\n",
    "    sys.path.insert(1, '/home/ubuntu-h/PycharmProjects/scientificProject')"
   ],
   "metadata": {
    "collapsed": false
   }
  },
  {
   "cell_type": "code",
   "execution_count": 3,
   "outputs": [],
   "source": [
    "import pandapower as pp\n",
    "net = pp.create_empty_network()\n",
    "\n",
    "# # create buses\n",
    "# bus1 = pp.create_bus(net, vn_kv=110.)\n",
    "# bus2 = pp.create_bus(net, vn_kv=110.)\n",
    "# bus3 = pp.create_bus(net, vn_kv=110.)\n",
    "# # bus4 = pp.create_bus(net, vn_kv=110.)\n",
    "# # bus5 = pp.create_bus(net, vn_kv=110.)\n",
    "#\n",
    "# # create 110 kV lines\n",
    "# pp.create_line(net, bus2, bus3, length_km=70., std_type='149-AL1/24-ST1A 110.0')\n",
    "# # pp.create_line(net, bus3, bus4, length_km=50., std_type=\"149-AL1/24-ST1A 110.0\")\n",
    "# # pp.create_line(net, bus4, bus2, length_km=40., std_type=\"149-AL1/24-ST1A 110.0\")\n",
    "# pp.create_line(net, bus1, bus2, length_km=70., std_type='149-AL1/24-ST1A 110.0')\n",
    "#\n",
    "# # create loads\n",
    "# pp.create_load(net, bus1, p_mw=30., controllable=False)\n",
    "# # pp.create_load(net, bus3, p_mw=70., controllable=False)\n",
    "# # pp.create_load(net, bus4, p_mw=25., controllable=False)\n",
    "#\n",
    "# # create generators\n",
    "# eg = pp.create_ext_grid(net, bus3, min_p_mw=0, max_p_mw=1000, vm_pu=1.05)\n",
    "# g0 = pp.create_gen(net, bus2, p_mw=80, min_p_mw=0, max_p_mw=50, vm_pu=1.00, controllable=True)\n",
    "# # g1 = pp.create_gen(net, bus4, p_mw=100, min_p_mw=0, max_p_mw=100, vm_pu=1.00, controllable=True)\n",
    "#\n",
    "#\n",
    "# costeg = pp.create_poly_cost(net, 0, 'ext_grid', cp1_eur_per_mw=20)\n",
    "# costgen1 = pp.create_poly_cost(net, 0, 'gen', cp1_eur_per_mw=10)\n",
    "# costgen2 = pp.create_poly_cost(net, 1, 'gen', cp1_eur_per_mw=10)\n",
    "\n",
    "bus1 = pp.create_bus(net, vn_kv=110.)\n",
    "bus2 = pp.create_bus(net, vn_kv=110.)\n",
    "bus3 = pp.create_bus(net, vn_kv=110.)\n",
    "# bus4 = pp.create_bus(net, vn_kv=110.)\n",
    "# bus5 = pp.create_bus(net, vn_kv=110.)\n",
    "\n",
    "# create 110 kV lines\n",
    "pp.create_line(net, bus2, bus3, length_km=90., std_type='149-AL1/24-ST1A 110.0')\n",
    "# pp.create_line(net, bus3, bus4, length_km=50., std_type=\"149-AL1/24-ST1A 110.0\")\n",
    "# pp.create_line(net, bus4, bus2, length_km=40., std_type=\"149-AL1/24-ST1A 110.0\")\n",
    "pp.create_line(net, bus1, bus2, length_km=70., std_type='149-AL1/24-ST1A 110.0')\n",
    "\n",
    "# create loads\n",
    "pp.create_load(net, bus2, p_mw=50., controllable=False)\n",
    "# pp.create_load(net, bus3, p_mw=70., controllable=False)\n",
    "# pp.create_load(net, bus4, p_mw=25., controllable=False)\n",
    "\n",
    "# create generators\n",
    "eg = pp.create_ext_grid(net, bus1, min_p_mw=0, max_p_mw=1000, vm_pu=1.05)\n",
    "g0 = pp.create_gen(net, bus3, p_mw=50, min_p_mw=0, max_p_mw=50, vm_pu=1.00, controllable=True)\n",
    "# g1 = pp.create_gen(net, bus4, p_mw=50, min_p_mw=0, max_p_mw=50, vm_pu=1.00, controllable=True)\n",
    "\n",
    "\n",
    "costeg = pp.create_poly_cost(net, 0, 'ext_grid', cp1_eur_per_mw=20)\n",
    "costgen1 = pp.create_poly_cost(net, 0, 'gen', cp1_eur_per_mw=10)\n",
    "costgen2 = pp.create_poly_cost(net, 1, 'gen', cp1_eur_per_mw=10)\n",
    "\n",
    "net.bus[\"min_vm_pu\"] = 0.96\n",
    "net.bus[\"max_vm_pu\"] = 1.04\n",
    "net.line[\"max_loading_percent\"] = 100"
   ],
   "metadata": {
    "collapsed": false
   }
  },
  {
   "cell_type": "markdown",
   "source": [
    "![xx -w50](grid2GUROBI.png)"
   ],
   "metadata": {
    "collapsed": false
   }
  },
  {
   "cell_type": "markdown",
   "source": [],
   "metadata": {
    "collapsed": false
   }
  },
  {
   "cell_type": "code",
   "execution_count": 4,
   "outputs": [
    {
     "data": {
      "text/plain": "   element        et  cp0_eur  cp1_eur_per_mw  cp2_eur_per_mw2  cq0_eur  \\\n0        0  ext_grid      0.0            20.0              0.0      0.0   \n1        0       gen      0.0            10.0              0.0      0.0   \n2        1       gen      0.0            10.0              0.0      0.0   \n\n   cq1_eur_per_mvar  cq2_eur_per_mvar2  \n0               0.0                0.0  \n1               0.0                0.0  \n2               0.0                0.0  ",
      "text/html": "<div>\n<style scoped>\n    .dataframe tbody tr th:only-of-type {\n        vertical-align: middle;\n    }\n\n    .dataframe tbody tr th {\n        vertical-align: top;\n    }\n\n    .dataframe thead th {\n        text-align: right;\n    }\n</style>\n<table border=\"1\" class=\"dataframe\">\n  <thead>\n    <tr style=\"text-align: right;\">\n      <th></th>\n      <th>element</th>\n      <th>et</th>\n      <th>cp0_eur</th>\n      <th>cp1_eur_per_mw</th>\n      <th>cp2_eur_per_mw2</th>\n      <th>cq0_eur</th>\n      <th>cq1_eur_per_mvar</th>\n      <th>cq2_eur_per_mvar2</th>\n    </tr>\n  </thead>\n  <tbody>\n    <tr>\n      <th>0</th>\n      <td>0</td>\n      <td>ext_grid</td>\n      <td>0.0</td>\n      <td>20.0</td>\n      <td>0.0</td>\n      <td>0.0</td>\n      <td>0.0</td>\n      <td>0.0</td>\n    </tr>\n    <tr>\n      <th>1</th>\n      <td>0</td>\n      <td>gen</td>\n      <td>0.0</td>\n      <td>10.0</td>\n      <td>0.0</td>\n      <td>0.0</td>\n      <td>0.0</td>\n      <td>0.0</td>\n    </tr>\n    <tr>\n      <th>2</th>\n      <td>1</td>\n      <td>gen</td>\n      <td>0.0</td>\n      <td>10.0</td>\n      <td>0.0</td>\n      <td>0.0</td>\n      <td>0.0</td>\n      <td>0.0</td>\n    </tr>\n  </tbody>\n</table>\n</div>"
     },
     "execution_count": 4,
     "metadata": {},
     "output_type": "execute_result"
    }
   ],
   "source": [
    "net.line[\"max_loading_percent\"] = 100\n",
    "# net.sn_mva = 100\n",
    "# net = pp.networks.case14()\n",
    "# net.gen['vm_pu'] = 1.0\n",
    "# net.bus[\"min_vm_pu\"] = 0.95\n",
    "# net.bus[\"max_vm_pu\"] = 1.05\n",
    "# net.poly_cost[:,3] = 0\n",
    "# net.poly_cost['cp2_eur_per_mw2'] = 0\n",
    "net.poly_cost"
   ],
   "metadata": {
    "collapsed": false
   }
  },
  {
   "cell_type": "code",
   "execution_count": 5,
   "outputs": [],
   "source": [
    "om,ppopt = pp.runopp(net, delta=1e-16)   # solve the OPF problem"
   ],
   "metadata": {
    "collapsed": false
   }
  },
  {
   "cell_type": "code",
   "execution_count": 6,
   "outputs": [
    {
     "name": "stdout",
     "output_type": "stream",
     "text": [
      "        p_mw   q_mvar  va_degree  vm_pu\n",
      "0  49.999981 -11.4693   9.541393   1.04\n"
     ]
    },
    {
     "data": {
      "text/plain": "   name  bus  p_mw  vm_pu  sn_mva  min_q_mvar  max_q_mvar  scaling  slack  \\\n0  None    2  50.0    1.0     NaN         NaN         NaN      1.0  False   \n\n   in_service  slack_weight  type  controllable  min_p_mw  max_p_mw  \\\n0        True           0.0  None          True       0.0      50.0   \n\n   power_station_trafo  \n0                  NaN  ",
      "text/html": "<div>\n<style scoped>\n    .dataframe tbody tr th:only-of-type {\n        vertical-align: middle;\n    }\n\n    .dataframe tbody tr th {\n        vertical-align: top;\n    }\n\n    .dataframe thead th {\n        text-align: right;\n    }\n</style>\n<table border=\"1\" class=\"dataframe\">\n  <thead>\n    <tr style=\"text-align: right;\">\n      <th></th>\n      <th>name</th>\n      <th>bus</th>\n      <th>p_mw</th>\n      <th>vm_pu</th>\n      <th>sn_mva</th>\n      <th>min_q_mvar</th>\n      <th>max_q_mvar</th>\n      <th>scaling</th>\n      <th>slack</th>\n      <th>in_service</th>\n      <th>slack_weight</th>\n      <th>type</th>\n      <th>controllable</th>\n      <th>min_p_mw</th>\n      <th>max_p_mw</th>\n      <th>power_station_trafo</th>\n    </tr>\n  </thead>\n  <tbody>\n    <tr>\n      <th>0</th>\n      <td>None</td>\n      <td>2</td>\n      <td>50.0</td>\n      <td>1.0</td>\n      <td>NaN</td>\n      <td>NaN</td>\n      <td>NaN</td>\n      <td>1.0</td>\n      <td>False</td>\n      <td>True</td>\n      <td>0.0</td>\n      <td>None</td>\n      <td>True</td>\n      <td>0.0</td>\n      <td>50.0</td>\n      <td>NaN</td>\n    </tr>\n  </tbody>\n</table>\n</div>"
     },
     "execution_count": 6,
     "metadata": {},
     "output_type": "execute_result"
    }
   ],
   "source": [
    "# net = pp.networks.case57()\n",
    "print(net.res_gen)    # output the results of two generators\n",
    "net.gen"
   ],
   "metadata": {
    "collapsed": false
   }
  },
  {
   "cell_type": "code",
   "execution_count": 7,
   "outputs": [
    {
     "name": "stdout",
     "output_type": "stream",
     "text": [
      "       p_mw     q_mvar\n",
      "0  3.706462  13.673431\n"
     ]
    },
    {
     "data": {
      "text/plain": "0    1.05\nName: vm_pu, dtype: float64"
     },
     "execution_count": 7,
     "metadata": {},
     "output_type": "execute_result"
    }
   ],
   "source": [
    "print(net.res_ext_grid)\n",
    "net.ext_grid['vm_pu']"
   ],
   "metadata": {
    "collapsed": false
   }
  },
  {
   "cell_type": "code",
   "execution_count": 8,
   "outputs": [
    {
     "data": {
      "text/plain": "574.1290514078155"
     },
     "execution_count": 8,
     "metadata": {},
     "output_type": "execute_result"
    }
   ],
   "source": [
    "# the total cost of generation\n",
    "net.res_cost"
   ],
   "metadata": {
    "collapsed": false
   }
  },
  {
   "cell_type": "code",
   "execution_count": 9,
   "outputs": [
    {
     "data": {
      "text/plain": "{'baseMVA': 1,\n 'version': 2,\n 'bus': array([[ 0.00000000e+00,  3.00000000e+00,  0.00000000e+00,\n          0.00000000e+00,  0.00000000e+00,  0.00000000e+00,\n          1.00000000e+00,  1.05000000e+00,  0.00000000e+00,\n          1.10000000e+02,  1.00000000e+00,  1.05000000e+00,\n          1.05000000e+00,  1.99999635e+01,  3.70893752e-21,\n          0.00000000e+00,  2.11577135e+02],\n        [ 1.00000000e+00,  1.00000000e+00,  5.00000000e+01,\n          0.00000000e+00,  0.00000000e+00,  0.00000000e+00,\n          1.00000000e+00,  1.01227994e+00,  4.30977831e-01,\n          1.10000000e+02,  1.00000000e+00,  1.04000000e+00,\n          9.60000000e-01,  1.99209142e+01,  1.35379538e-01,\n          0.00000000e+00,  0.00000000e+00],\n        [ 2.00000000e+00,  2.00000000e+00,  0.00000000e+00,\n          0.00000000e+00,  0.00000000e+00,  0.00000000e+00,\n          1.00000000e+00,  1.03999961e+00,  9.54139328e+00,\n          1.10000000e+02,  1.00000000e+00,  1.04000000e+00,\n          9.60000000e-01,  1.70312868e+01, -3.11104631e-21,\n          3.48904328e+02,  0.00000000e+00]]),\n 'branch': array([[ 1.00000000e+00+0.j,  2.00000000e+00+0.j,  1.44297521e-03+0.j,\n          3.04958678e-03+0.j,  2.99354510e+00+0.j,  8.95470268e+01+0.j,\n          2.50000000e+02+0.j,  2.50000000e+02+0.j,  1.00000000e+00+0.j,\n          0.00000000e+00+0.j,  1.00000000e+00+0.j, -3.60000000e+02+0.j,\n          3.60000000e+02+0.j, -4.65352523e+01+0.j,  1.56389975e+01+0.j,\n          4.99999807e+01+0.j, -1.14693001e+01+0.j,  0.00000000e+00+0.j,\n          0.00000000e+00+0.j,  0.00000000e+00+0.j,  0.00000000e+00+0.j,\n          0.00000000e+00+0.j,  0.00000000e+00+0.j],\n        [ 0.00000000e+00+0.j,  1.00000000e+00+0.j,  1.12231405e-03+0.j,\n          2.37190083e-03+0.j,  2.32831286e+00+0.j,  8.95470268e+01+0.j,\n          2.50000000e+02+0.j,  2.50000000e+02+0.j,  1.00000000e+00+0.j,\n          0.00000000e+00+0.j,  1.00000000e+00+0.j, -3.60000000e+02+0.j,\n          3.60000000e+02+0.j,  3.70646222e+00+0.j,  1.36734315e+01+0.j,\n         -3.46474770e+00+0.j, -1.56389975e+01+0.j,  0.00000000e+00+0.j,\n          0.00000000e+00+0.j,  0.00000000e+00+0.j,  0.00000000e+00+0.j,\n          0.00000000e+00+0.j,  0.00000000e+00+0.j]]),\n 'gen': array([[ 0.00000000e+00,  3.70646221e+00,  1.36734315e+01,\n          1.00000000e+09, -1.00000000e+09,  1.05000000e+00,\n          1.00000000e+00,  1.00000000e+00,  1.00000000e+03,\n         -1.00000000e-16,  0.00000000e+00,  0.00000000e+00,\n          0.00000000e+00,  0.00000000e+00,  0.00000000e+00,\n          0.00000000e+00,  0.00000000e+00,  0.00000000e+00,\n          0.00000000e+00,  0.00000000e+00,  0.00000000e+00,\n          0.00000000e+00,  0.00000000e+00,  0.00000000e+00,\n          0.00000000e+00,  1.00000000e+00],\n        [ 2.00000000e+00,  4.99999807e+01, -1.14693001e+01,\n          1.00000000e+09, -1.00000000e+09,  1.03999961e+00,\n                     nan,  1.00000000e+00,  5.00000000e+01,\n         -1.00000000e-16,  0.00000000e+00,  0.00000000e+00,\n          0.00000000e+00,  0.00000000e+00,  0.00000000e+00,\n          0.00000000e+00,  0.00000000e+00,  0.00000000e+00,\n          0.00000000e+00,  0.00000000e+00,  0.00000000e+00,\n          7.03128947e+00,  0.00000000e+00,  0.00000000e+00,\n          0.00000000e+00,  0.00000000e+00]]),\n 'internal': {'Ybus': array([], dtype=complex128),\n  'Yf': array([], dtype=complex128),\n  'Yt': array([], dtype=complex128),\n  'branch_is': array([ True,  True]),\n  'gen_is': array([ True,  True]),\n  'DLF': array([], dtype=complex128),\n  'buses_ord_bfs_nets': array([], dtype=float64),\n  'ref_gens': array([0])},\n 'gencost': array([[ 2.,  0.,  0.,  2., 20.,  0.],\n        [ 2.,  0.,  0.,  2., 10.,  0.]]),\n 'om': \n VARIABLES               name       i1       iN        N\n =========              ------    -----    -----   ------\n               0:          Va        0        3        3\n               1:          Vm        3        6        3\n               2:          Pg        6        8        2\n               3:          Qg        8       10        2\n   var['NS'] = 4                  var['N'] = 10\n \n \n NON-LINEAR CONSTRAINTS  name       i1       iN        N\n ====================== ------    -----    -----   ------\n               0:        Pmis        0        3        3\n               1:        Qmis        3        6        3\n               2:          Sf        6        8        2\n               3:          St        8       10        2\n      nln.NS = 4                     nln.N = 10\n \n \n LINEAR CONSTRAINTS      name       i1       iN        N\n ==================     ------    -----    -----   ------\n               0:         PQh        0        0        0\n               1:         PQl        0        0        0\n               2:          vl        0        0        0\n               3:         ang        0        0        0\n      lin.NS = 4                      lin.N = 0\n \n COSTS  :  <none>\n   userdata = \n {'Apqdata': {'h': array([], dtype=float64), 'l': array([], dtype=float64), 'ipql': array([], dtype=int64), 'ipqh': array([], dtype=int64)}, 'iang': array([], dtype=int64)},\n 'x': array([ 0.00000000e+00,  7.52198215e-03,  1.66528728e-01,  1.05000000e+00,\n         1.01227994e+00,  1.03999961e+00,  3.70646221e+00,  4.99999807e+01,\n         1.36734315e+01, -1.14693001e+01]),\n 'mu': {'var': {'l': array([3.32637085e-12, 0.00000000e+00, 0.00000000e+00, 2.11577135e+02,\n          0.00000000e+00, 0.00000000e+00, 0.00000000e+00, 0.00000000e+00,\n          0.00000000e+00, 0.00000000e+00]),\n   'u': array([  0.        ,   0.        ,   0.        ,   0.        ,\n            0.        , 348.90432757,   0.        ,   7.03128947,\n            0.        ,   0.        ])},\n  'nln': {'l': array([0.00000000e+00, 0.00000000e+00, 0.00000000e+00, 0.00000000e+00,\n          0.00000000e+00, 3.11104631e-21, 0.00000000e+00, 0.00000000e+00,\n          0.00000000e+00, 0.00000000e+00]),\n   'u': array([1.99999635e+01, 1.99209142e+01, 1.70312868e+01, 3.70893752e-21,\n          1.35379538e-01, 0.00000000e+00, 0.00000000e+00, 0.00000000e+00,\n          0.00000000e+00, 0.00000000e+00])},\n  'lin': {'l': array([], dtype=float64), 'u': array([], dtype=float64)}},\n 'f': 574.1290514078155,\n 'var': {'val': {'Va': array([0.        , 0.00752198, 0.16652873]),\n   'Vm': array([1.05      , 1.01227994, 1.03999961]),\n   'Pg': array([ 3.70646221, 49.99998071]),\n   'Qg': array([ 13.67343146, -11.46930012])},\n  'mu': {'l': {'Va': array([3.32637085e-12, 0.00000000e+00, 0.00000000e+00]),\n    'Vm': array([211.57713481,   0.        ,   0.        ]),\n    'Pg': array([0., 0.]),\n    'Qg': array([0., 0.])},\n   'u': {'Va': array([0., 0., 0.]),\n    'Vm': array([  0.        ,   0.        , 348.90432757]),\n    'Pg': array([0.        , 7.03128947]),\n    'Qg': array([0., 0.])}}},\n 'lin': {'mu': {'l': {}, 'u': {}}},\n 'nln': {'mu': {'l': {'Pmis': array([0., 0., 0.]),\n    'Qmis': array([0.00000000e+00, 0.00000000e+00, 3.11104631e-21]),\n    'Sf': array([0., 0.]),\n    'St': array([0., 0.])},\n   'u': {'Pmis': array([19.99996351, 19.92091424, 17.03128676]),\n    'Qmis': array([3.70893752e-21, 1.35379538e-01, 0.00000000e+00]),\n    'Sf': array([0., 0.]),\n    'St': array([0., 0.])}}},\n 'et': 0.7042894240003079,\n 'success': True,\n 'raw': {'xr': array([ 0.00000000e+00,  7.52198215e-03,  1.66528728e-01,  1.05000000e+00,\n          1.01227994e+00,  1.03999961e+00,  3.70646221e+00,  4.99999807e+01,\n          1.36734315e+01, -1.14693001e+01]),\n  'pimul': array([-1.99999635e+01, -1.99209142e+01, -1.70312868e+01, -3.70893752e-21,\n         -1.35379538e-01,  3.11104631e-21,  0.00000000e+00,  0.00000000e+00,\n          0.00000000e+00,  0.00000000e+00,  3.32637085e-12,  0.00000000e+00,\n          0.00000000e+00,  2.11577135e+02,  0.00000000e+00, -3.48904328e+02,\n          0.00000000e+00, -7.03128947e+00,  0.00000000e+00,  0.00000000e+00]),\n  'info': True,\n  'output': {'iterations': 18,\n   'hist': [{'feascond': 4.914426736151794e-07,\n     'gradcond': 14484.589026047473,\n     'compcond': 7984096.601180857,\n     'costcond': 0.0,\n     'gamma': 1,\n     'stepsize': 0,\n     'obj': 10250.0,\n     'alphap': 0,\n     'alphad': 0},\n    {'feascond': 1.3806614529481717e-09,\n     'gradcond': 139.16481349402005,\n     'compcond': 62041359.335983776,\n     'costcond': 0.46636403379446484,\n     'gamma': 12098176.591157265,\n     'stepsize': 470.0068200276389,\n     'obj': 806.1283156620863,\n     'alphap': 1,\n     'alphad': 0.5160767428007819},\n    {'feascond': 1.3891266280643782e-09,\n     'gradcond': 0.041812485245976756,\n     'compcond': 5477559.918400645,\n     'costcond': 0.0035191833228864584,\n     'gamma': 1214624.9211150855,\n     'stepsize': 70418.41918535312,\n     'obj': 844.1570622155355,\n     'alphap': 0.00020691618275136474,\n     'alphad': 1},\n    {'feascond': 1.0543313360187269e-11,\n     'gradcond': 0.04360968215292322,\n     'compcond': 713513.4725976324,\n     'costcond': 0.0023477865421660388,\n     'gamma': 162048.82218989317,\n     'stepsize': 2.959649392637913,\n     'obj': 869.6168282273399,\n     'alphap': 1,\n     'alphad': 0.9775265589920423},\n    {'feascond': 1.7353937451825963e-12,\n     'gradcond': 0.03762446925928511,\n     'compcond': 71708.86899487942,\n     'costcond': 0.00015381780178713996,\n     'gamma': 16210.13061897129,\n     'stepsize': 0.7917202210871931,\n     'obj': 867.9448876605534,\n     'alphap': 1,\n     'alphad': 1},\n    {'feascond': 5.277933372744784e-12,\n     'gradcond': 0.03224702519430836,\n     'compcond': 7171.385096514652,\n     'costcond': 0.000149173124246736,\n     'gamma': 1613.7266598919086,\n     'stepsize': 1.3436648579863222,\n     'obj': 866.3236823675197,\n     'alphap': 1,\n     'alphad': 1},\n    {'feascond': 1.1752291014374363e-12,\n     'gradcond': 0.023170793745187022,\n     'compcond': 718.5730061914494,\n     'costcond': 0.00012550529266642878,\n     'gamma': 161.0660856397609,\n     'stepsize': 0.6456949480660135,\n     'obj': 864.959901233556,\n     'alphap': 1,\n     'alphad': 1},\n    {'feascond': 2.2663054326123813e-12,\n     'gradcond': 0.028602464224341956,\n     'compcond': 72.01247978642255,\n     'costcond': 0.00011638733171090348,\n     'gamma': 16.081835955785532,\n     'stepsize': 0.880404303354386,\n     'obj': 863.6953575415056,\n     'alphap': 1,\n     'alphad': 1},\n    {'feascond': 1.114479537544697e-12,\n     'gradcond': 0.025215533311714156,\n     'compcond': 7.2155293138593075,\n     'costcond': 0.00010239761582121588,\n     'gamma': 1.606106671091746,\n     'stepsize': 0.6215532151966959,\n     'obj': 862.5829410378852,\n     'alphap': 1,\n     'alphad': 1},\n    {'feascond': 1.1790368522965006e-12,\n     'gradcond': 0.023352978301535012,\n     'compcond': 0.7231515411052972,\n     'costcond': 0.00010001287934398342,\n     'gamma': 0.16044668480277202,\n     'stepsize': 0.6375103082108166,\n     'obj': 861.4965428408392,\n     'alphap': 1,\n     'alphad': 1},\n    {'feascond': 1.0531706178150165e-12,\n     'gradcond': 0.01916726547736672,\n     'compcond': 0.07264229539354632,\n     'costcond': 0.00017467947895095635,\n     'gamma': 0.016028925277759863,\n     'stepsize': 0.6375796186285743,\n     'obj': 859.5992622841082,\n     'alphap': 1,\n     'alphad': 1},\n    {'feascond': 4.26815988542343e-12,\n     'gradcond': 0.02654515483068275,\n     'compcond': 0.007485099518305742,\n     'costcond': 0.0010266822796771858,\n     'gamma': 0.0015998648663334604,\n     'stepsize': 1.864613372910269,\n     'obj': 848.4499041571256,\n     'alphap': 1,\n     'alphad': 1},\n    {'feascond': 3.5163730827568587e-10,\n     'gradcond': 0.01860100459516125,\n     'compcond': 0.002855622646440074,\n     'costcond': 0.010222492131798148,\n     'gamma': 0.0005422968662746355,\n     'stepsize': 16.713656869749446,\n     'obj': 737.5517103696731,\n     'alphap': 1,\n     'alphad': 0.7277024046190883},\n    {'feascond': 8.416405655552512e-10,\n     'gradcond': 0.01429817479779366,\n     'compcond': 0.00024165576988005748,\n     'costcond': 0.014004608892900294,\n     'gamma': 7.252642155497467e-05,\n     'stepsize': 25.592945598917034,\n     'obj': 587.1764981986532,\n     'alphap': 1,\n     'alphad': 1},\n    {'feascond': 2.699819644749087e-10,\n     'gradcond': 0.0011800151661933364,\n     'compcond': 4.154702767228289e-05,\n     'costcond': 0.001327822940252306,\n     'gamma': 1.324307637543168e-05,\n     'stepsize': 5.770225276348278,\n     'obj': 573.118602371845,\n     'alphap': 0.6952576654601992,\n     'alphad': 0.99247743935754},\n    {'feascond': 2.5046026006822004e-11,\n     'gradcond': 0.00022900642729169654,\n     'compcond': 4.214821659145027e-06,\n     'costcond': 0.00011028351553240668,\n     'gamma': 1.3428244010978892e-06,\n     'stepsize': 2.718038214747643,\n     'obj': 574.2846430614557,\n     'alphap': 1,\n     'alphad': 1},\n    {'feascond': 4.39759879365787e-14,\n     'gradcond': 1.5397285819890344e-07,\n     'compcond': 4.2560361875700186e-07,\n     'costcond': 1.2148810234815799e-05,\n     'gamma': 1.3565617254897293e-07,\n     'stepsize': 0.1403712690413918,\n     'obj': 574.1561780839581,\n     'alphap': 1,\n     'alphad': 1},\n    {'feascond': 2.6795668224095176e-16,\n     'gradcond': 5.901948013925456e-10,\n     'compcond': 4.256713367638729e-08,\n     'costcond': 2.3347038429638757e-06,\n     'gamma': 1.3568222727669662e-08,\n     'stepsize': 0.009475086675016228,\n     'obj': 574.1314905608931,\n     'alphap': 1,\n     'alphad': 1},\n    {'feascond': 2.2654002785438192e-18,\n     'gradcond': 4.590176346168627e-12,\n     'compcond': 4.256768947000383e-09,\n     'costcond': 2.3067171802702665e-07,\n     'gamma': 1.3568445886730598e-09,\n     'stepsize': 0.000873898664907375,\n     'obj': 574.1290514078155,\n     'alphap': 1,\n     'alphad': 1}],\n   'message': 'Converged',\n   'alg': 560}}}"
     },
     "execution_count": 9,
     "metadata": {},
     "output_type": "execute_result"
    }
   ],
   "source": [
    "# the key variable, which represents the information of the OPF problem\n",
    "om.get_ppc()"
   ],
   "metadata": {
    "collapsed": false
   }
  },
  {
   "cell_type": "code",
   "execution_count": 10,
   "outputs": [],
   "source": [
    "## unpack data\n",
    "ppc = om.get_ppc()\n",
    "baseMVA, bus, gen, branch, gencost = \\\n",
    "    ppc[\"baseMVA\"], ppc[\"bus\"], ppc[\"gen\"], ppc[\"branch\"], ppc[\"gencost\"]\n",
    "vv, _, _, _ = om.get_idx()\n",
    "\n",
    "## problem dimensions\n",
    "nb = bus.shape[0]          ## number of buses\n",
    "nl = branch.shape[0]       ## number of branches\n",
    "ny = om.getN('var', 'y')   ## number of piece-wise linear costs, 'y' is a part of p-w linear costs\n",
    "\n",
    "## bounds on optimization vars\n",
    "x0, xmin, xmax = om.getv()"
   ],
   "metadata": {
    "collapsed": false
   }
  },
  {
   "cell_type": "code",
   "execution_count": 10,
   "outputs": [],
   "source": [],
   "metadata": {
    "collapsed": false
   }
  },
  {
   "cell_type": "code",
   "execution_count": 11,
   "outputs": [
    {
     "name": "stderr",
     "output_type": "stream",
     "text": [
      "/home/huzuntao/PycharmProjects/MPP_Powersystem/pypower_/makeYbus.py:49: ComplexWarning: Casting complex values to real discards the imaginary part\n",
      "  tap[i] = branch[i, TAP]  ## assign non-zero tap ratios\n",
      "/usr/local/lib/python3.8/dist-packages/scipy/sparse/_coo.py:159: ComplexWarning: Casting complex values to real discards the imaginary part\n",
      "  self.col = np.array(col, copy=copy, dtype=idx_dtype)\n"
     ]
    }
   ],
   "source": [
    "## build admittance matrices\n",
    "Ybus, Yf, Yt = makeYbus(baseMVA, bus, branch)"
   ],
   "metadata": {
    "collapsed": false
   }
  },
  {
   "cell_type": "code",
   "execution_count": 12,
   "outputs": [
    {
     "name": "stdout",
     "output_type": "stream",
     "text": [
      "ll\"[ 0.00000000e+00 -1.57079633e+00 -1.57079633e+00  1.05000000e+00\n",
      "  9.60000000e-01  9.60000000e-01 -1.00000000e-16 -1.00000000e-16\n",
      " -1.00000000e+02 -1.00000000e+02];\n",
      " uu:[   0.            1.57079633    1.57079633    1.05          1.04\n",
      "    1.04       1000.           50.          100.          100.        ]\n"
     ]
    }
   ],
   "source": [
    "## Set the lower and upper bound for all variables\n",
    "ll, uu = xmin.copy(), xmax.copy()\n",
    "# print(f'll : {ll}; uu : {uu}')\n",
    "ll[xmin == -Inf] = -1e10   ## replace Inf with numerical proxies\n",
    "uu[xmax ==  Inf] =  1e10\n",
    "Va_refs = bus[bus[:, BUS_TYPE]  == REF, VA] * (pi / 180)\n",
    "# print(f\"Va_refs: {Va_refs}\")\n",
    "ll[vv[\"i1\"][\"Va\"]:vv[\"iN\"][\"Va\"]] = -np.ones_like(bus[:, VA]) * (pi / 2) # Va lower bound 赋值\n",
    "uu[vv[\"i1\"][\"Va\"]:vv[\"iN\"][\"Va\"]] = np.ones_like(bus[:, VA]) * (pi / 2) # Va upper bound 赋值\n",
    "## deal with the Va_refs\n",
    "ll[vv[\"i1\"][\"Va\"]:vv[\"iN\"][\"Va\"]][bus[:, BUS_TYPE]  == REF] = Va_refs  # Va_refs lower bound 赋值\n",
    "uu[vv[\"i1\"][\"Va\"]:vv[\"iN\"][\"Va\"]][bus[:, BUS_TYPE]  == REF] = Va_refs # Va_refs upper bound 赋值\n",
    "## deal with reactive power, whose ll and uu is 1e9\n",
    "ll[ll<-1e4] = -100\n",
    "uu[uu>1e4] = 100\n",
    "v_max = uu[vv[\"i1\"][\"Vm\"]:vv[\"iN\"][\"Vm\"]][-1]\n",
    "print(f'll\"{ll};\\n uu:{uu}')"
   ],
   "metadata": {
    "collapsed": false
   }
  },
  {
   "cell_type": "code",
   "execution_count": 13,
   "outputs": [
    {
     "data": {
      "text/plain": "array([1.05, 1.  , 1.  ])"
     },
     "execution_count": 13,
     "metadata": {},
     "output_type": "execute_result"
    }
   ],
   "source": [
    "x0[vv[\"i1\"][\"Vm\"]:vv[\"iN\"][\"Vm\"]]"
   ],
   "metadata": {
    "collapsed": false
   }
  },
  {
   "cell_type": "code",
   "execution_count": 14,
   "outputs": [
    {
     "data": {
      "text/plain": "array([1.05, 1.04, 1.04])"
     },
     "execution_count": 14,
     "metadata": {},
     "output_type": "execute_result"
    }
   ],
   "source": [
    "uu[vv[\"i1\"][\"Vm\"]:vv[\"iN\"][\"Vm\"]]"
   ],
   "metadata": {
    "collapsed": false
   }
  },
  {
   "cell_type": "code",
   "execution_count": 15,
   "outputs": [
    {
     "data": {
      "text/plain": "array([1.05      , 1.01227994, 1.03999961])"
     },
     "execution_count": 15,
     "metadata": {},
     "output_type": "execute_result"
    }
   ],
   "source": [
    "bus[:, VM] # 赋值"
   ],
   "metadata": {
    "collapsed": false
   }
  },
  {
   "cell_type": "code",
   "execution_count": 16,
   "outputs": [],
   "source": [
    "x0[vv[\"i1\"][\"Vm\"]:vv[\"iN\"][\"Vm\"]] = bus[:, VM] # 赋值"
   ],
   "metadata": {
    "collapsed": false
   }
  },
  {
   "cell_type": "code",
   "execution_count": 17,
   "outputs": [],
   "source": [
    "Va_refs = bus[bus[:, BUS_TYPE]  == REF, VA] * (pi / 180)\n",
    "x0[vv[\"i1\"][\"Va\"]:vv[\"iN\"][\"Va\"]] = bus[:, VA] * (pi / 180) # 赋值"
   ],
   "metadata": {
    "collapsed": false
   }
  },
  {
   "cell_type": "code",
   "execution_count": 18,
   "outputs": [],
   "source": [
    "## 赋值\n",
    "x0[vv[\"i1\"][\"Pg\"]:vv[\"iN\"][\"Pg\"]] = gen[:,PG]\n",
    "x0[vv[\"i1\"][\"Qg\"]:vv[\"iN\"][\"Qg\"]] = gen[:,QG]"
   ],
   "metadata": {
    "collapsed": false
   }
  },
  {
   "cell_type": "markdown",
   "source": [
    "\n",
    "### 不能处理piecewise linear 的cost, 因为没有引入那个函数，（大约在这个位置）"
   ],
   "metadata": {
    "collapsed": false
   }
  },
  {
   "cell_type": "markdown",
   "source": [
    "\n",
    "### 处理cost fun"
   ],
   "metadata": {
    "collapsed": false
   }
  },
  {
   "cell_type": "code",
   "execution_count": 19,
   "outputs": [],
   "source": [
    "## grab Pg & Qg\n",
    "Pg = x0[vv[\"i1\"][\"Pg\"]:vv[\"iN\"][\"Pg\"]]  ## active generation in p.u.\n",
    "Qg = x0[vv[\"i1\"][\"Qg\"]:vv[\"iN\"][\"Qg\"]]  ## reactive generation in p.u.\n",
    "\n",
    "##----- evaluate objective function -----\n",
    "## polynomial cost of P and Q\n",
    "# use totcost only on polynomial cost in the minimization problem formulation, pwl cost is the sum of the y variables.\n",
    "ipol = find(gencost[:, MODEL] == POLYNOMIAL)   ## poly MW and MVAr costs\n",
    "xx = r_[ Pg, Qg ] * baseMVA\n",
    "if len(ipol)>0:\n",
    "    f = sum( totcost(gencost[ipol, :], xx[ipol]) )  ## cost of poly P or Q\n",
    "else:\n",
    "    f = 0"
   ],
   "metadata": {
    "collapsed": false
   }
  },
  {
   "cell_type": "code",
   "execution_count": 20,
   "outputs": [
    {
     "data": {
      "text/plain": "array([ 3.70646221, 49.99998071])"
     },
     "execution_count": 20,
     "metadata": {},
     "output_type": "execute_result"
    }
   ],
   "source": [
    "Pg"
   ],
   "metadata": {
    "collapsed": false
   }
  },
  {
   "cell_type": "code",
   "execution_count": 21,
   "outputs": [
    {
     "data": {
      "text/plain": "array([ 3.70646221, 49.99998071])"
     },
     "execution_count": 21,
     "metadata": {},
     "output_type": "execute_result"
    }
   ],
   "source": [
    "xx[ipol]"
   ],
   "metadata": {
    "collapsed": false
   }
  },
  {
   "cell_type": "code",
   "execution_count": 22,
   "outputs": [
    {
     "name": "stdout",
     "output_type": "stream",
     "text": [
      "(array([20., 10.]), array([20., 10.]))\n"
     ]
    }
   ],
   "source": [
    "First_Or_Con = 4\n",
    "print(f\"{gencost[ipol, First_Or_Con], gencost[:, First_Or_Con]}\")"
   ],
   "metadata": {
    "collapsed": false
   }
  },
  {
   "cell_type": "code",
   "execution_count": 23,
   "outputs": [
    {
     "data": {
      "text/plain": "array([[ 2.,  0.,  0.,  2., 20.,  0.],\n       [ 2.,  0.,  0.,  2., 10.,  0.]])"
     },
     "execution_count": 23,
     "metadata": {},
     "output_type": "execute_result"
    }
   ],
   "source": [
    "gencost"
   ],
   "metadata": {
    "collapsed": false
   }
  },
  {
   "cell_type": "markdown",
   "source": [
    "### 处理约束部分"
   ],
   "metadata": {
    "collapsed": false
   }
  },
  {
   "cell_type": "code",
   "execution_count": 24,
   "outputs": [],
   "source": [
    "## grab Pg & Qg\n",
    "Pg = x0[vv[\"i1\"][\"Pg\"]:vv[\"iN\"][\"Pg\"]]  ## active generation in p.u.\n",
    "Qg = x0[vv[\"i1\"][\"Qg\"]:vv[\"iN\"][\"Qg\"]]  ## reactive generation in p.u."
   ],
   "metadata": {
    "collapsed": false
   }
  },
  {
   "cell_type": "code",
   "execution_count": 25,
   "outputs": [],
   "source": [
    "## put Pg & Qg back in gen\n",
    "gen[:, PG] = Pg * baseMVA  ## active generation in MW\n",
    "gen[:, QG] = Qg * baseMVA  ## reactive generation in MVAr"
   ],
   "metadata": {
    "collapsed": false
   }
  },
  {
   "cell_type": "code",
   "execution_count": 26,
   "outputs": [],
   "source": [
    "\n",
    "on = find(gen[:, GEN_STATUS] > 0)      ## which generators are on?\n",
    "gbus = gen[on, GEN_BUS]                   ## what buses are they at?\n",
    "\n",
    "## form net complex bus power injection vector\n",
    "nb = bus.shape[0]\n",
    "ngon = on.shape[0]\n",
    "## connection matrix, element i, j is 1 if gen on(j) at bus i is ON\n",
    "Cg = sparse((ones(ngon), (gbus, range(ngon))), (nb, ngon))\n",
    "\n",
    "## power injected by gens plus power injected by loads converted to p.u.\n",
    "Sbus = ( Cg * (gen[on, PG] + 1j * gen[on, QG]) - (bus[:, PD] + 1j * bus[:, QD]) ) / baseMVA\n",
    "# Sbus = makeSbus(baseMVA, bus, gen) ## net injected power in p.u."
   ],
   "metadata": {
    "collapsed": false
   }
  },
  {
   "cell_type": "code",
   "execution_count": 27,
   "outputs": [
    {
     "data": {
      "text/plain": "array([  3.70646221+13.67343146j, -50.         +0.j        ,\n        49.99998071-11.46930012j])"
     },
     "execution_count": 27,
     "metadata": {},
     "output_type": "execute_result"
    }
   ],
   "source": [
    "Sbus"
   ],
   "metadata": {
    "collapsed": false
   }
  },
  {
   "cell_type": "code",
   "execution_count": 28,
   "outputs": [
    {
     "data": {
      "text/plain": "array([1.05      +0.j        , 1.0122513 +0.00761428j,\n       1.02561237+0.17239044j])"
     },
     "execution_count": 28,
     "metadata": {},
     "output_type": "execute_result"
    }
   ],
   "source": [
    "## reconstruct V\n",
    "Va = x0[vv[\"i1\"][\"Va\"]:vv[\"iN\"][\"Va\"]]\n",
    "Vm = x0[vv[\"i1\"][\"Vm\"]:vv[\"iN\"][\"Vm\"]]\n",
    "V = Vm * exp(1j * Va)\n",
    "V"
   ],
   "metadata": {
    "collapsed": false
   }
  },
  {
   "cell_type": "code",
   "execution_count": 29,
   "outputs": [
    {
     "data": {
      "text/plain": "array([0.        , 0.00752198, 0.16652873])"
     },
     "execution_count": 29,
     "metadata": {},
     "output_type": "execute_result"
    }
   ],
   "source": [
    "Va"
   ],
   "metadata": {
    "collapsed": false
   }
  },
  {
   "cell_type": "code",
   "execution_count": 30,
   "outputs": [
    {
     "data": {
      "text/plain": "     vm_pu  va_degree       p_mw     q_mvar      lam_p         lam_q\n0  1.05000   0.000000  -3.706462 -13.673431  19.999964  3.708938e-21\n1  1.01228   0.430978  50.000000   0.000000  19.920914  1.353795e-01\n2  1.04000   9.541393 -49.999981  11.469300  17.031287 -3.111046e-21",
      "text/html": "<div>\n<style scoped>\n    .dataframe tbody tr th:only-of-type {\n        vertical-align: middle;\n    }\n\n    .dataframe tbody tr th {\n        vertical-align: top;\n    }\n\n    .dataframe thead th {\n        text-align: right;\n    }\n</style>\n<table border=\"1\" class=\"dataframe\">\n  <thead>\n    <tr style=\"text-align: right;\">\n      <th></th>\n      <th>vm_pu</th>\n      <th>va_degree</th>\n      <th>p_mw</th>\n      <th>q_mvar</th>\n      <th>lam_p</th>\n      <th>lam_q</th>\n    </tr>\n  </thead>\n  <tbody>\n    <tr>\n      <th>0</th>\n      <td>1.05000</td>\n      <td>0.000000</td>\n      <td>-3.706462</td>\n      <td>-13.673431</td>\n      <td>19.999964</td>\n      <td>3.708938e-21</td>\n    </tr>\n    <tr>\n      <th>1</th>\n      <td>1.01228</td>\n      <td>0.430978</td>\n      <td>50.000000</td>\n      <td>0.000000</td>\n      <td>19.920914</td>\n      <td>1.353795e-01</td>\n    </tr>\n    <tr>\n      <th>2</th>\n      <td>1.04000</td>\n      <td>9.541393</td>\n      <td>-49.999981</td>\n      <td>11.469300</td>\n      <td>17.031287</td>\n      <td>-3.111046e-21</td>\n    </tr>\n  </tbody>\n</table>\n</div>"
     },
     "execution_count": 30,
     "metadata": {},
     "output_type": "execute_result"
    }
   ],
   "source": [
    "net.res_bus"
   ],
   "metadata": {
    "collapsed": false
   }
  },
  {
   "cell_type": "code",
   "execution_count": 31,
   "outputs": [],
   "source": [
    "## evaluate power flow equations\n",
    "mis = V * conj(Ybus * V) - Sbus"
   ],
   "metadata": {
    "collapsed": false
   }
  },
  {
   "cell_type": "code",
   "execution_count": 32,
   "outputs": [
    {
     "data": {
      "text/plain": "array([[ 1.00000000e+00+0.j,  2.00000000e+00+0.j,  1.44297521e-03+0.j,\n         3.04958678e-03+0.j,  2.99354510e+00+0.j,  8.95470268e+01+0.j,\n         2.50000000e+02+0.j,  2.50000000e+02+0.j,  1.00000000e+00+0.j,\n         0.00000000e+00+0.j,  1.00000000e+00+0.j, -3.60000000e+02+0.j,\n         3.60000000e+02+0.j, -4.65352523e+01+0.j,  1.56389975e+01+0.j,\n         4.99999807e+01+0.j, -1.14693001e+01+0.j,  0.00000000e+00+0.j,\n         0.00000000e+00+0.j,  0.00000000e+00+0.j,  0.00000000e+00+0.j,\n         0.00000000e+00+0.j,  0.00000000e+00+0.j],\n       [ 0.00000000e+00+0.j,  1.00000000e+00+0.j,  1.12231405e-03+0.j,\n         2.37190083e-03+0.j,  2.32831286e+00+0.j,  8.95470268e+01+0.j,\n         2.50000000e+02+0.j,  2.50000000e+02+0.j,  1.00000000e+00+0.j,\n         0.00000000e+00+0.j,  1.00000000e+00+0.j, -3.60000000e+02+0.j,\n         3.60000000e+02+0.j,  3.70646222e+00+0.j,  1.36734315e+01+0.j,\n        -3.46474770e+00+0.j, -1.56389975e+01+0.j,  0.00000000e+00+0.j,\n         0.00000000e+00+0.j,  0.00000000e+00+0.j,  0.00000000e+00+0.j,\n         0.00000000e+00+0.j,  0.00000000e+00+0.j]])"
     },
     "execution_count": 32,
     "metadata": {},
     "output_type": "execute_result"
    }
   ],
   "source": [
    "ppc['branch']"
   ],
   "metadata": {
    "collapsed": false
   }
  },
  {
   "cell_type": "code",
   "execution_count": 33,
   "outputs": [
    {
     "data": {
      "text/plain": "array([89.54702675+0.j, 89.54702675+0.j])"
     },
     "execution_count": 33,
     "metadata": {},
     "output_type": "execute_result"
    }
   ],
   "source": [
    "branch[:, RATE_A]"
   ],
   "metadata": {
    "collapsed": false
   }
  },
  {
   "cell_type": "code",
   "execution_count": 34,
   "outputs": [],
   "source": [
    " ## find branches with flow limits\n",
    "il = find((branch[:, RATE_A] != 0) & (branch[:, RATE_A] < 1e10))\n",
    "nl2 = len(il)           ## number of constrained lines"
   ],
   "metadata": {
    "collapsed": false
   }
  },
  {
   "cell_type": "code",
   "execution_count": 35,
   "outputs": [
    {
     "data": {
      "text/plain": "array([0, 1])"
     },
     "execution_count": 35,
     "metadata": {},
     "output_type": "execute_result"
    }
   ],
   "source": [
    "il"
   ],
   "metadata": {
    "collapsed": false
   }
  },
  {
   "cell_type": "code",
   "execution_count": 36,
   "outputs": [
    {
     "name": "stdout",
     "output_type": "stream",
     "text": [
      "flow_max: [8018.67+0.j 8018.67+0.j]\n"
     ]
    }
   ],
   "source": [
    "## 不等式约束： 线电压的功率\n",
    "ppopt = {}\n",
    "il = find(branch[:, RATE_A] < 1e10)\n",
    "nl2 = len(il)           ## number of constrained lines\n",
    "if any(net.line['max_i_ka']) > 0:\n",
    "    ppopt['OPF_FLOW_LIM'] = 2\n",
    "\n",
    "if nl2 > 0:\n",
    "    flow_max = (branch[il, RATE_A] / baseMVA)**2\n",
    "    flow_max[flow_max == 0] = 1e5\n",
    "    print(f\"flow_max: {flow_max}\")\n",
    "    if ppopt['OPF_FLOW_LIM'] == 2:      ## current magnitude limit, |I|\n",
    "        If = Yf * V\n",
    "        It = Yt * V\n",
    "        h = r_[ If * conj(If) - flow_max,     ## branch I limits (from bus)\n",
    "                It * conj(It) - flow_max ].real    ## branch I limits (to bus)\n",
    "    else:\n",
    "        ## compute branch power flows\n",
    "        ## complex power injected at \"from\" bus (p.u.)\n",
    "        Sf = V[ branch[il, F_BUS].astype(int) ] * conj(Yf * V)\n",
    "        ## complex power injected at \"to\" bus (p.u.)\n",
    "        St = V[ branch[il, T_BUS].astype(int) ] * conj(Yt * V)\n",
    "        if ppopt['OPF_FLOW_LIM'] == 1:   ## active power limit, P (Pan Wei)\n",
    "            h = r_[ Sf.real**2 - flow_max,   ## branch P limits (from bus)\n",
    "                    St.real**2 - flow_max ]  ## branch P limits (to bus)\n",
    "        else:                ## apparent power limit, |S|\n",
    "            h = r_[ Sf * conj(Sf) - flow_max, ## branch S limits (from bus)\n",
    "                    St * conj(St) - flow_max ].real  ## branch S limits (to bus)\n",
    "else:\n",
    "    h = zeros((0,1))"
   ],
   "metadata": {
    "collapsed": false
   }
  },
  {
   "cell_type": "code",
   "execution_count": 37,
   "outputs": [
    {
     "data": {
      "text/plain": "array([-5666.6812893 , -7836.62864855, -5585.65882681, -7768.27471867])"
     },
     "execution_count": 37,
     "metadata": {},
     "output_type": "execute_result"
    }
   ],
   "source": [
    "## first, the equality constraints (power flow)\n",
    "# g = r_[ mis.real,            ## active power mismatch for all buses\n",
    "#         mis.imag ]           ## reactive power mismatch for all buses\n",
    "\n",
    "## then, the inequality constraints (branch flow limits)\n",
    "h"
   ],
   "metadata": {
    "collapsed": false
   }
  },
  {
   "cell_type": "code",
   "execution_count": 38,
   "outputs": [
    {
     "data": {
      "text/plain": "array([-45.85322576-15.79463194j,   3.52996401-13.02231567j])"
     },
     "execution_count": 38,
     "metadata": {},
     "output_type": "execute_result"
    }
   ],
   "source": [
    "If"
   ],
   "metadata": {
    "collapsed": false
   }
  },
  {
   "cell_type": "code",
   "execution_count": 39,
   "outputs": [
    {
     "data": {
      "text/plain": "array([8018.67+0.j, 8018.67+0.j])"
     },
     "execution_count": 39,
     "metadata": {},
     "output_type": "execute_result"
    }
   ],
   "source": [
    "flow_max"
   ],
   "metadata": {
    "collapsed": false
   }
  },
  {
   "cell_type": "code",
   "execution_count": 40,
   "outputs": [
    {
     "data": {
      "text/plain": "   p_from_mw  q_from_mvar    p_to_mw  q_to_mvar     pl_mw   ql_mvar  \\\n0 -46.535252    15.638997  49.999981 -11.469300  3.464728  4.169697   \n1   3.706462    13.673431  -3.464748 -15.638997  0.241715 -1.965566   \n\n   i_from_ka   i_to_ka      i_ka  vm_from_pu  va_from_degree  vm_to_pu  \\\n0   0.254545  0.258892  0.258892     1.01228        0.430978   1.04000   \n1   0.070816  0.083054  0.083054     1.05000        0.000000   1.01228   \n\n   va_to_degree  loading_percent  \n0      9.541393        55.083418  \n1      0.430978        17.671031  ",
      "text/html": "<div>\n<style scoped>\n    .dataframe tbody tr th:only-of-type {\n        vertical-align: middle;\n    }\n\n    .dataframe tbody tr th {\n        vertical-align: top;\n    }\n\n    .dataframe thead th {\n        text-align: right;\n    }\n</style>\n<table border=\"1\" class=\"dataframe\">\n  <thead>\n    <tr style=\"text-align: right;\">\n      <th></th>\n      <th>p_from_mw</th>\n      <th>q_from_mvar</th>\n      <th>p_to_mw</th>\n      <th>q_to_mvar</th>\n      <th>pl_mw</th>\n      <th>ql_mvar</th>\n      <th>i_from_ka</th>\n      <th>i_to_ka</th>\n      <th>i_ka</th>\n      <th>vm_from_pu</th>\n      <th>va_from_degree</th>\n      <th>vm_to_pu</th>\n      <th>va_to_degree</th>\n      <th>loading_percent</th>\n    </tr>\n  </thead>\n  <tbody>\n    <tr>\n      <th>0</th>\n      <td>-46.535252</td>\n      <td>15.638997</td>\n      <td>49.999981</td>\n      <td>-11.469300</td>\n      <td>3.464728</td>\n      <td>4.169697</td>\n      <td>0.254545</td>\n      <td>0.258892</td>\n      <td>0.258892</td>\n      <td>1.01228</td>\n      <td>0.430978</td>\n      <td>1.04000</td>\n      <td>9.541393</td>\n      <td>55.083418</td>\n    </tr>\n    <tr>\n      <th>1</th>\n      <td>3.706462</td>\n      <td>13.673431</td>\n      <td>-3.464748</td>\n      <td>-15.638997</td>\n      <td>0.241715</td>\n      <td>-1.965566</td>\n      <td>0.070816</td>\n      <td>0.083054</td>\n      <td>0.083054</td>\n      <td>1.05000</td>\n      <td>0.000000</td>\n      <td>1.01228</td>\n      <td>0.430978</td>\n      <td>17.671031</td>\n    </tr>\n  </tbody>\n</table>\n</div>"
     },
     "execution_count": 40,
     "metadata": {},
     "output_type": "execute_result"
    }
   ],
   "source": [
    "net.res_line"
   ],
   "metadata": {
    "collapsed": false
   }
  },
  {
   "cell_type": "code",
   "execution_count": 41,
   "outputs": [
    {
     "data": {
      "text/plain": "array([1.1025, 1.0816, 1.0816])"
     },
     "execution_count": 41,
     "metadata": {},
     "output_type": "execute_result"
    }
   ],
   "source": [
    "llv = ll[vv[\"i1\"][\"Vm\"]:vv[\"iN\"][\"Vm\"]]**2\n",
    "uuv = uu[vv[\"i1\"][\"Vm\"]:vv[\"iN\"][\"Vm\"]]**2\n",
    "uuv"
   ],
   "metadata": {
    "collapsed": false
   }
  },
  {
   "cell_type": "code",
   "execution_count": 42,
   "outputs": [
    {
     "name": "stdout",
     "output_type": "stream",
     "text": [
      "  (0, 0)\t(162.99668368338897-343.3133709444148j)\n",
      "  (1, 0)\t(-162.99668368338897+344.47752737211067j)\n",
      "  (0, 1)\t(-162.99668368338897+344.47752737211067j)\n",
      "  (1, 1)\t(289.77188210380257-609.743564128384j)\n",
      "  (2, 1)\t(-126.77519842041363+267.9269657338639j)\n",
      "  (1, 2)\t(-126.77519842041363+267.9269657338639j)\n",
      "  (2, 2)\t(126.77519842041363-266.4301931839692j)\n"
     ]
    }
   ],
   "source": [
    "print(Ybus)"
   ],
   "metadata": {
    "collapsed": false
   }
  },
  {
   "cell_type": "code",
   "execution_count": 43,
   "outputs": [
    {
     "data": {
      "text/plain": "array([1000.,   50.])"
     },
     "execution_count": 43,
     "metadata": {},
     "output_type": "execute_result"
    }
   ],
   "source": [
    "Pg_lower, Pg_upper = ll[vv[\"i1\"][\"Pg\"]:vv[\"iN\"][\"Pg\"]], uu[vv[\"i1\"][\"Pg\"]:vv[\"iN\"][\"Pg\"]]\n",
    "Pg_upper"
   ],
   "metadata": {
    "collapsed": false
   }
  },
  {
   "cell_type": "code",
   "execution_count": 43,
   "outputs": [],
   "source": [],
   "metadata": {
    "collapsed": false
   }
  },
  {
   "cell_type": "code",
   "execution_count": 44,
   "outputs": [
    {
     "data": {
      "text/plain": "array([ 0., 50.,  0.])"
     },
     "execution_count": 44,
     "metadata": {},
     "output_type": "execute_result"
    }
   ],
   "source": [
    "Pd = bus[:, PD]\n",
    "Pd"
   ],
   "metadata": {
    "collapsed": false
   }
  },
  {
   "cell_type": "code",
   "execution_count": 45,
   "outputs": [
    {
     "data": {
      "text/plain": "1"
     },
     "execution_count": 45,
     "metadata": {},
     "output_type": "execute_result"
    }
   ],
   "source": [
    "baseMVA"
   ],
   "metadata": {
    "collapsed": false
   }
  },
  {
   "cell_type": "code",
   "execution_count": 46,
   "outputs": [
    {
     "name": "stdout",
     "output_type": "stream",
     "text": [
      "Set parameter NonConvex to value 2\n",
      "ipol: [0 1]\n",
      "Gurobi Optimizer version 10.0.1 build v10.0.1rc0 (linux64)\n",
      "\n",
      "CPU model: Intel(R) Xeon(R) Gold 6140 CPU @ 2.30GHz, instruction set [SSE2|AVX|AVX2|AVX512]\n",
      "Thread count: 36 physical cores, 72 logical processors, using up to 32 threads\n",
      "\n",
      "Optimize a model with 22 rows, 30 columns and 86 nonzeros\n",
      "Model fingerprint: 0x03c14a1c\n",
      "Model has 14 quadratic constraints\n",
      "Coefficient statistics:\n",
      "  Matrix range     [1e+00, 6e+02]\n",
      "  QMatrix range    [1e+00, 1e+00]\n",
      "  QLMatrix range   [1e+00, 1e+00]\n",
      "  Objective range  [1e+01, 2e+01]\n",
      "  Bounds range     [1e-16, 1e+04]\n",
      "  RHS range        [1e+00, 5e+01]\n",
      "  QRHS range       [9e-01, 8e+03]\n",
      "Presolve removed 4 rows and 4 columns\n",
      "\n",
      "Continuous model is non-convex -- solving as a MIP\n",
      "\n",
      "Presolve removed 12 rows and 14 columns\n",
      "Presolve time: 0.00s\n",
      "Presolved: 52 rows, 28 columns, 160 nonzeros\n",
      "Presolved model has 6 quadratic constraint(s)\n",
      "Presolved model has 12 bilinear constraint(s)\n",
      "Variable types: 28 continuous, 0 integer (0 binary)\n",
      "\n",
      "Root relaxation: objective 4.324402e+02, 25 iterations, 0.00 seconds (0.00 work units)\n",
      "\n",
      "    Nodes    |    Current Node    |     Objective Bounds      |     Work\n",
      " Expl Unexpl |  Obj  Depth IntInf | Incumbent    BestBd   Gap | It/Node Time\n",
      "\n",
      "     0     0  432.44017    0    7          -  432.44017      -     -    0s\n",
      "H    0     0                     574.1287801  432.44017  24.7%     -    0s\n",
      "     0     0  522.07951    0    8  574.12878  522.07951  9.07%     -    0s\n",
      "     0     0  522.09316    0    8  574.12878  522.09316  9.06%     -    0s\n",
      "     0     0  525.53388    0    9  574.12878  525.53388  8.46%     -    0s\n",
      "     0     0  531.32757    0    8  574.12878  531.32757  7.45%     -    0s\n",
      "     0     0  531.32904    0    8  574.12878  531.32904  7.45%     -    0s\n",
      "     0     0  536.17123    0    8  574.12878  536.17123  6.61%     -    0s\n",
      "     0     0  536.21429    0    8  574.12878  536.21429  6.60%     -    0s\n",
      "     0     0  536.30424    0    8  574.12878  536.30424  6.59%     -    0s\n",
      "     0     0  551.99155    0    8  574.12878  551.99155  3.86%     -    0s\n",
      "     0     2  551.99175    0    8  574.12878  551.99175  3.86%     -    0s\n",
      "\n",
      "Cutting planes:\n",
      "  RLT: 3\n",
      "\n",
      "Explored 15 nodes (105 simplex iterations) in 0.09 seconds (0.01 work units)\n",
      "Thread count was 32 (of 72 available processors)\n",
      "\n",
      "Solution count 1: 574.129 \n",
      "\n",
      "Optimal solution found (tolerance 1.00e-04)\n",
      "Best objective 5.741287800644e+02, best bound 5.741061537648e+02, gap 0.0039%\n"
     ]
    }
   ],
   "source": [
    "# Parameters\n",
    "# obtain the complex load\n",
    "Pd = bus[:, PD]\n",
    "Qd = bus[:, QD]\n",
    "slack_v = net.ext_grid['vm_pu']\n",
    "\n",
    "lb_update = -1e4\n",
    "\n",
    "# obtain the range of voltage; the range is from the setting\n",
    "V_range = v_max - 1\n",
    "V_ll,V_uu = 1.0-V_range, 1.0+V_range\n",
    "\n",
    "# obtain the power range\n",
    "Pg_lower, Pg_upper = ll[vv[\"i1\"][\"Pg\"]:vv[\"iN\"][\"Pg\"]], uu[vv[\"i1\"][\"Pg\"]:vv[\"iN\"][\"Pg\"]]*baseMVA\n",
    "Qg_lower, Qg_upper = ll[vv[\"i1\"][\"Qg\"]:vv[\"iN\"][\"Qg\"]], uu[vv[\"i1\"][\"Qg\"]:vv[\"iN\"][\"Qg\"]]*baseMVA\n",
    "\n",
    "# the dimension of the OPF\n",
    "nb = bus.shape[0]          ## number of buses\n",
    "nl = branch.shape[0]       ## number of branches\n",
    "\n",
    "ineq_idx = 0\n",
    "\n",
    "# create the model; set the model type: NonConvex.\n",
    "model = gp.Model(\"PowerGeneration\");model.setParam('NonConvex', 2)\n",
    "\n",
    "# creat variables for the model; the numbers in the following codes should be replaced by parameters\n",
    "V_re = model.addMVar(nb, lb=lb_update, vtype=GRB.CONTINUOUS, name='V real')\n",
    "V_im = model.addMVar(nb, lb=lb_update, vtype=GRB.CONTINUOUS, name='V imag')\n",
    "Pg = model.addMVar(ngon, lb=Pg_lower, ub=Pg_upper, vtype=GRB.CONTINUOUS, name='Pg')\n",
    "Qg = model.addMVar(ngon, lb=Qg_lower, ub=Qg_upper, vtype=GRB.CONTINUOUS, name='Qg')\n",
    "temp1 = model.addMVar(nb, lb=lb_update, vtype=GRB.CONTINUOUS, name='Temp 1')\n",
    "temp2 = model.addMVar(nb, lb=lb_update, vtype=GRB.CONTINUOUS, name='Temp 2')\n",
    "Pg_net = model.addMVar(nb, lb=lb_update, vtype=GRB.CONTINUOUS, name='Pg net')  # the number of buses, too\n",
    "Qg_net = model.addMVar(nb, lb=lb_update, vtype=GRB.CONTINUOUS, name='Qg net')\n",
    "Line_temp_1 = model.addMVar(nl, lb=lb_update, vtype=GRB.CONTINUOUS, name='Line temp 1')    # the shape should be line number\n",
    "Line_temp_2 = model.addMVar(nl, lb=lb_update, vtype=GRB.CONTINUOUS, name='Line temp 2')    # the shape should be line number\n",
    "Line_temp_3 = model.addMVar(nl, lb=lb_update, vtype=GRB.CONTINUOUS, name='Line temp 3')    # the shape should be line number\n",
    "Line_temp_4 = model.addMVar(nl, lb=lb_update, vtype=GRB.CONTINUOUS, name='Line temp 4')    # the shape should be line number\n",
    "\n",
    "# the prameters of branches\n",
    "G = np.real(Ybus)\n",
    "B = np.imag(Ybus)\n",
    "# the parameters for currents in branches\n",
    "G_yf, B_yf = np.real(Yf), np.imag(Yf)\n",
    "G_yt, B_yt = np.real(Yt), np.imag(Yt)\n",
    "\n",
    "# Constraints; insert the formulas\n",
    "Temp_c1 = model.addConstr(G@V_re - B@V_im == temp1, 'Temp Constr 1')\n",
    "Temp_c2 = model.addConstr(G @ V_im + B @ V_re == temp2, 'Temp Constr 2')\n",
    "Pg_net_c = model.addConstr(Cg @ Pg - Pd == Pg_net, 'Pg net Constr')\n",
    "Qg_net_c = model.addConstr(Cg @ Qg - Qd == Qg_net, 'Qg net Constr')\n",
    "# print(f'Pd:{Pd}\\n Qd:{Qd}')\n",
    "CVL_CPL = model.addConstrs((V_re[i] * temp1[i] *baseMVA+ V_im[i] * temp2[i]*baseMVA == Pg_net[i]  for i in range(nb)), 'Cvl P')  # break into different parts\n",
    "CVL_CPL_Q = model.addConstrs((V_im[i] * temp1[i] *baseMVA - V_re[i] * temp2[i]*baseMVA == Qg_net[i] for i in range(nb)), 'Cvl Q')\n",
    "\n",
    "# the constraints of voltages on all buses; set the constraint for slack bus, then give the upper and lower constraints for other buses\n",
    "V_slack = model.addConstr(V_re[0]==slack_v, 'V slack real')\n",
    "V_slack_a = model.addConstr(V_im[0]==0, 'V slack imag')\n",
    "# the upper&lower constraints for buses except for the slack bus\n",
    "V_upper = model.addConstrs((V_re[i]**2 + V_im[i]**2 <= V_uu**2 for i in range(1,nb-ineq_idx)), 'V upper bound')  # 对 range 起始值的处理，是处理树状分层搜索的突破口；有一\"减\"，对应的有一\"加\"。\n",
    "# if ineq_idx != 0:\n",
    "#     V_upper = model.addConstrs((V_re[i]**2 + V_im[i]**2 == V_uu**2 for i in range(ineq_idx,nb)), 'V upper bound')\n",
    "#\n",
    "V_lower = model.addConstrs((V_re[i]**2 + V_im[i]**2 >= V_ll**2 for i in range(1,nb)), 'V lower bound')\n",
    "\n",
    "# Yf * W * Yf; the number is equal to that of the lines/branches\n",
    "Line_temp_c_1 = model.addConstr(G_yf@V_re - B_yf@V_im == Line_temp_1, 'Branch Con 1')\n",
    "Line_temp_c_2 = model.addConstr(G_yf @ V_im + B_yf @ V_re == Line_temp_2, 'Branch Con 2')\n",
    "Line_temp_c_3 = model.addConstr(G_yt@V_re - B_yt@V_im == Line_temp_3, 'Branch Con 3')\n",
    "Line_temp_c_4 = model.addConstr(G_yt @ V_im + B_yt @ V_re == Line_temp_4, 'Branch Con 4')\n",
    "# 下式左侧是否应该乘上baseMVA\n",
    "Line_c_1 = model.addConstrs((Line_temp_1[i]**2 + Line_temp_2[i]**2 <= np.real(flow_max[i]) for i in range(nl)), 'Branch Con 1') # p.u.\n",
    "Line_c_2 = model.addConstrs((Line_temp_3[i]**2 + Line_temp_4[i]**2 <= np.real(flow_max[i]) for i in range(nl)), 'Branch Con 2') # p.u.\n",
    "\n",
    "# set the objective of the model\n",
    "print('ipol:', ipol)\n",
    "# The \"gencost\" changes with different cases. Keep in Mind!\n",
    "# model.setObjective(gencost[ipol, First_Or_Con]@Pg**2+gencost[ipol, First_Or_Con+1]@Pg, GRB.MINIMIZE)\n",
    "model.setObjective(gencost[ipol, First_Or_Con]@Pg, GRB.MINIMIZE)\n",
    "\n",
    "# calculate the optimization\n",
    "model.optimize()\n",
    "model.X[:14]\n",
    "\n",
    "Pg_star, Qg_star = Pg.X, Qg.X\n",
    "optimized_obj = gencost[ipol, First_Or_Con]@Pg_star\n"
   ],
   "metadata": {
    "collapsed": false
   }
  },
  {
   "cell_type": "code",
   "execution_count": 47,
   "outputs": [
    {
     "data": {
      "text/plain": "22"
     },
     "execution_count": 47,
     "metadata": {},
     "output_type": "execute_result"
    }
   ],
   "source": [
    "len(model.getVars())\n",
    "len(model.getConstrs())"
   ],
   "metadata": {
    "collapsed": false
   }
  },
  {
   "cell_type": "code",
   "execution_count": 48,
   "outputs": [
    {
     "name": "stdout",
     "output_type": "stream",
     "text": [
      "<MVar (2,)>\n",
      "array([<gurobi.Var Pg[0] (value 3.706439003337366)>,\n",
      "       <gurobi.Var Pg[1] (value 49.999999999765286)>])\n"
     ]
    }
   ],
   "source": [
    "print(Pg)"
   ],
   "metadata": {
    "collapsed": false
   }
  },
  {
   "cell_type": "code",
   "execution_count": 49,
   "outputs": [
    {
     "data": {
      "text/plain": "     vm_pu  va_degree       p_mw     q_mvar      lam_p         lam_q\n0  1.05000   0.000000  -3.706462 -13.673431  19.999964  3.708938e-21\n1  1.01228   0.430978  50.000000   0.000000  19.920914  1.353795e-01\n2  1.04000   9.541393 -49.999981  11.469300  17.031287 -3.111046e-21",
      "text/html": "<div>\n<style scoped>\n    .dataframe tbody tr th:only-of-type {\n        vertical-align: middle;\n    }\n\n    .dataframe tbody tr th {\n        vertical-align: top;\n    }\n\n    .dataframe thead th {\n        text-align: right;\n    }\n</style>\n<table border=\"1\" class=\"dataframe\">\n  <thead>\n    <tr style=\"text-align: right;\">\n      <th></th>\n      <th>vm_pu</th>\n      <th>va_degree</th>\n      <th>p_mw</th>\n      <th>q_mvar</th>\n      <th>lam_p</th>\n      <th>lam_q</th>\n    </tr>\n  </thead>\n  <tbody>\n    <tr>\n      <th>0</th>\n      <td>1.05000</td>\n      <td>0.000000</td>\n      <td>-3.706462</td>\n      <td>-13.673431</td>\n      <td>19.999964</td>\n      <td>3.708938e-21</td>\n    </tr>\n    <tr>\n      <th>1</th>\n      <td>1.01228</td>\n      <td>0.430978</td>\n      <td>50.000000</td>\n      <td>0.000000</td>\n      <td>19.920914</td>\n      <td>1.353795e-01</td>\n    </tr>\n    <tr>\n      <th>2</th>\n      <td>1.04000</td>\n      <td>9.541393</td>\n      <td>-49.999981</td>\n      <td>11.469300</td>\n      <td>17.031287</td>\n      <td>-3.111046e-21</td>\n    </tr>\n  </tbody>\n</table>\n</div>"
     },
     "execution_count": 49,
     "metadata": {},
     "output_type": "execute_result"
    }
   ],
   "source": [
    "net.res_bus"
   ],
   "metadata": {
    "collapsed": false
   }
  },
  {
   "cell_type": "code",
   "execution_count": 50,
   "outputs": [
    {
     "ename": "NameError",
     "evalue": "name 'Y_' is not defined",
     "output_type": "error",
     "traceback": [
      "\u001B[0;31m---------------------------------------------------------------------------\u001B[0m",
      "\u001B[0;31mNameError\u001B[0m                                 Traceback (most recent call last)",
      "Cell \u001B[0;32mIn[50], line 8\u001B[0m\n\u001B[1;32m      5\u001B[0m A \u001B[38;5;241m=\u001B[39m np\u001B[38;5;241m.\u001B[39mones(\u001B[38;5;241m5\u001B[39m)\n\u001B[1;32m      7\u001B[0m m\u001B[38;5;241m.\u001B[39maddConstrs((y[i] \u001B[38;5;241m>\u001B[39m\u001B[38;5;241m=\u001B[39mnp\u001B[38;5;241m.\u001B[39marray([\u001B[38;5;241m-\u001B[39m\u001B[38;5;241m1\u001B[39m,\u001B[38;5;241m-\u001B[39m\u001B[38;5;241m2\u001B[39m,\u001B[38;5;241m-\u001B[39m\u001B[38;5;241m3\u001B[39m,\u001B[38;5;241m-\u001B[39m\u001B[38;5;241m4\u001B[39m,\u001B[38;5;241m-\u001B[39m\u001B[38;5;241m5\u001B[39m])[i] \u001B[38;5;28;01mfor\u001B[39;00m i \u001B[38;5;129;01min\u001B[39;00m \u001B[38;5;28mrange\u001B[39m(\u001B[38;5;241m5\u001B[39m)), name\u001B[38;5;241m=\u001B[39m\u001B[38;5;124m\"\u001B[39m\u001B[38;5;124mconst\u001B[39m\u001B[38;5;124m\"\u001B[39m)\n\u001B[0;32m----> 8\u001B[0m m\u001B[38;5;241m.\u001B[39msetObjective(A\u001B[38;5;129m@Y_\u001B[39m\u001B[38;5;241m.\u001B[39mreal)\n\u001B[1;32m      9\u001B[0m m\u001B[38;5;241m.\u001B[39moptimize()\n",
      "\u001B[0;31mNameError\u001B[0m: name 'Y_' is not defined"
     ]
    }
   ],
   "source": [
    "m = gp.Model(\"model\")\n",
    "# x = m.addMVar(shape=(10), name=\"x\")\n",
    "y = m.addMVar(shape=(5),lb=np.array([-1,-2,-3,-4,-5]), name=\"y\")\n",
    "\n",
    "A = np.ones(5)\n",
    "\n",
    "m.addConstrs((y[i] >=np.array([-1,-2,-3,-4,-5])[i] for i in range(5)), name=\"const\")\n",
    "m.setObjective(A@Y_.real)\n",
    "m.optimize()"
   ],
   "metadata": {
    "collapsed": false
   }
  },
  {
   "cell_type": "code",
   "execution_count": null,
   "outputs": [],
   "source": [
    "m.X"
   ],
   "metadata": {
    "collapsed": false
   }
  },
  {
   "cell_type": "code",
   "execution_count": null,
   "outputs": [],
   "source": [
    "for v in m.getVars():\n",
    "    print(v.varName, v.x)"
   ],
   "metadata": {
    "collapsed": false
   }
  },
  {
   "cell_type": "code",
   "execution_count": null,
   "outputs": [],
   "source": [],
   "metadata": {
    "collapsed": false
   }
  },
  {
   "cell_type": "code",
   "execution_count": null,
   "outputs": [],
   "source": [
    "n = 3\n",
    "p = 3\n",
    "np.random.seed(1)\n",
    "C = np.random.randn(n, n)\n",
    "A = []\n",
    "b = []\n",
    "for i in range(p):\n",
    "    A.append(np.random.randn(n, n))\n",
    "    b.append(np.random.randn())\n",
    "\n",
    "print(f'A ;{A};\\n b : {b}')"
   ],
   "metadata": {
    "collapsed": false
   }
  },
  {
   "cell_type": "code",
   "execution_count": null,
   "outputs": [],
   "source": [
    "# Define and solve the CVXPY problem.\n",
    "# Create a symmetric matrix variable\n",
    "X = cp.Variable((n,n), symmetric=True)\n",
    "# The operator >> denotes matrix inequality.\n",
    "constraints = [X >> 0]\n",
    "constraints += [\n",
    "    cp.trace(A[i] @ X) == b[i] for i in range(p)\n",
    "]\n",
    "prob = cp.Problem(cp.Minimize(cp.trace(C @ X)),\n",
    "                  constraints)\n",
    "prob.solve()\n",
    "# Print result.\n",
    "print(\"The optimal value is\", prob.value)\n",
    "print(\"A solution X is\")\n",
    "print(X.value)"
   ],
   "metadata": {
    "collapsed": false
   }
  },
  {
   "cell_type": "code",
   "execution_count": null,
   "outputs": [],
   "source": [],
   "metadata": {
    "collapsed": false
   }
  },
  {
   "cell_type": "code",
   "execution_count": null,
   "outputs": [],
   "source": [],
   "metadata": {
    "collapsed": false
   }
  }
 ],
 "metadata": {
  "kernelspec": {
   "display_name": "Python 3",
   "language": "python",
   "name": "python3"
  },
  "language_info": {
   "codemirror_mode": {
    "name": "ipython",
    "version": 2
   },
   "file_extension": ".py",
   "mimetype": "text/x-python",
   "name": "python",
   "nbconvert_exporter": "python",
   "pygments_lexer": "ipython2",
   "version": "2.7.6"
  }
 },
 "nbformat": 4,
 "nbformat_minor": 0
}
