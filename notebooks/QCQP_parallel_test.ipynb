{
 "cells": [
  {
   "cell_type": "code",
   "execution_count": null,
   "metadata": {
    "collapsed": true,
    "pycharm": {
     "name": "#%%\n"
    }
   },
   "outputs": [],
   "source": [
    "import sys, os\n",
    "import time\n",
    "from pathos.multiprocessing import ProcessingPool as Pool\n",
    "from random import shuffle\n",
    "from typing import List\n",
    "\n",
    "path_current = '/home/ubuntu-h/PycharmProjects/scientificProject'\n",
    "path_ = os.getcwd()\n",
    "if path_current not in sys.path:\n",
    "    sys.path.insert(1, '/home/ubuntu-h/PycharmProjects/scientificProject')\n",
    "elif path_ not in sys.path:\n",
    "    sys.path.insert(1, path_)\n",
    "\n",
    "from PPOPT_main.PPOPT_main.src.ppopt.mpQCQP_program import MPQCQP_Program\n",
    "from PPOPT_main.PPOPT_main.src.ppopt.mp_solvers.solver_utils import generate_children_sets, CombinationTester\n",
    "from PPOPT_main.PPOPT_main.src.ppopt.solution import Solution\n",
    "from PPOPT_main.PPOPT_main.src.ppopt.utils.mpqp_utils import gen_cr_from_active_set\n",
    "from PPOPT_main.PPOPT_main.src.ppopt.utils.general_utils import num_cpu_cores"
   ]
  },
  {
   "cell_type": "code",
   "execution_count": null,
   "outputs": [],
   "source": [
    "import pandapower as pp\n",
    "net = pp.create_empty_network()\n",
    "\n",
    "# create buses\n",
    "bus1 = pp.create_bus(net, vn_kv=110.)\n",
    "bus2 = pp.create_bus(net, vn_kv=110.)\n",
    "bus3 = pp.create_bus(net, vn_kv=110.)\n",
    "# bus4 = pp.create_bus(net, vn_kv=110.)\n",
    "# bus5 = pp.create_bus(net, vn_kv=110.)\n",
    "\n",
    "# create 110 kV lines\n",
    "pp.create_line(net, bus2, bus3, length_km=90., std_type='149-AL1/24-ST1A 110.0')\n",
    "# pp.create_line(net, bus3, bus4, length_km=50., std_type=\"149-AL1/24-ST1A 110.0\")\n",
    "# pp.create_line(net, bus4, bus2, length_km=40., std_type=\"149-AL1/24-ST1A 110.0\")\n",
    "pp.create_line(net, bus1, bus2, length_km=70., std_type='149-AL1/24-ST1A 110.0')\n",
    "\n",
    "# create loads\n",
    "pp.create_load(net, bus2, p_mw=60., controllable=False)\n",
    "# pp.create_load(net, bus3, p_mw=70., controllable=False)\n",
    "# pp.create_load(net, bus4, p_mw=25., controllable=False)\n",
    "\n",
    "# create generators\n",
    "eg = pp.create_ext_grid(net, bus1, min_p_mw=0, max_p_mw=1000, vm_pu=1.05)\n",
    "g0 = pp.create_gen(net, bus3, p_mw=80, min_p_mw=0, max_p_mw=80, vm_pu=1.00, controllable=True)\n",
    "# g1 = pp.create_gen(net, bus4, p_mw=50, min_p_mw=0, max_p_mw=50, vm_pu=1.00, controllable=True)\n",
    "\n",
    "\n",
    "costeg = pp.create_poly_cost(net, 0, 'ext_grid', cp1_eur_per_mw=20)\n",
    "costgen1 = pp.create_poly_cost(net, 0, 'gen', cp1_eur_per_mw=10)\n",
    "costgen2 = pp.create_poly_cost(net, 1, 'gen', cp1_eur_per_mw=10)\n",
    "\n",
    "net.bus[\"min_vm_pu\"] = 0.96\n",
    "net.bus[\"max_vm_pu\"] = 1.04\n",
    "net.line[\"max_loading_percent\"] = 100\n",
    "# net.sn_mva = 100\n",
    "# net = pp.networks.case14()\n",
    "# net.gen['vm_pu'] = 1.0\n",
    "# net.bus[\"min_vm_pu\"] = 0.95\n",
    "# net.bus[\"max_vm_pu\"] = 1.05\n",
    "# net.poly_cost[:,3] = 0\n",
    "# net.poly_cost['cp2_eur_per_mw2'] = 0\n",
    "net.poly_cost"
   ],
   "metadata": {
    "collapsed": false,
    "pycharm": {
     "name": "#%%\n"
    }
   }
  },
  {
   "cell_type": "code",
   "execution_count": null,
   "outputs": [],
   "source": [
    "my_QCQP = MPQCQP_Program(net=net)"
   ],
   "metadata": {
    "collapsed": false,
    "pycharm": {
     "name": "#%%\n"
    }
   }
  },
  {
   "cell_type": "code",
   "execution_count": null,
   "outputs": [],
   "source": [
    "n_constrs = my_QCQP.num_constraints()\n",
    "n_eq = my_QCQP.num_equality_constraints()\n",
    "n_theta = my_QCQP.num_t() # correct\n",
    "n_variables = my_QCQP.num_x()\n",
    "print(f'There are {n_constrs} constraints, where {n_eq} are equalities;'\n",
    "      f'\\nThere are {n_variables} variables and {n_theta} parameters.')"
   ],
   "metadata": {
    "collapsed": false,
    "pycharm": {
     "name": "#%%\n"
    }
   }
  },
  {
   "cell_type": "code",
   "execution_count": null,
   "outputs": [],
   "source": [
    "# https://www.sciencedirect.com/science/article/pii/S0005109811003190\n",
    "# solve the MPQCQP, based on mpqp_combinational in PPOPT_main\n",
    "\n",
    "program = my_QCQP\n"
   ],
   "metadata": {
    "collapsed": false,
    "pycharm": {
     "name": "#%%\n"
    }
   }
  },
  {
   "cell_type": "code",
   "execution_count": null,
   "outputs": [],
   "source": [
    "# 现在是第一层，一共20个不等式约束， 每个不等式约束为一个根节点\n",
    "# len(root_node)"
   ],
   "metadata": {
    "collapsed": false,
    "pycharm": {
     "name": "#%%\n"
    }
   }
  },
  {
   "cell_type": "code",
   "execution_count": null,
   "outputs": [],
   "source": [
    "# max_depth   # 这个最大深度的公式和excel"
   ],
   "metadata": {
    "collapsed": false,
    "pycharm": {
     "name": "#%%\n"
    }
   }
  },
  {
   "cell_type": "code",
   "execution_count": null,
   "outputs": [],
   "source": [
    "\n",
    "def check_child_feasibility(program: MPQCQP_Program, set_list: List[List[int]], combination_checker: CombinationTester) -> List[List[int]]:\n",
    "    \"\"\"\n",
    "    Checks the feasibility of a list of active set combinations, if infeasible add to the combination checker and returns all feasible active set combinations\n",
    "\n",
    "    :param program: An MPQP Program\n",
    "    :param set_list: The list of active sets\n",
    "    :param combination_checker: The combination checker that prunes\n",
    "    :return: The list of all feasible active sets\n",
    "    \"\"\"\n",
    "    output = list()\n",
    "    for child in set_list:\n",
    "        if program.check_feasibility(child):\n",
    "            output.append(child)\n",
    "        else:\n",
    "            combination_checker.add_combo(child)\n",
    "\n",
    "    return output\n",
    "\n",
    "\n",
    "\n",
    "def full_process(program: MPQCQP_Program, active_set: List[int], murder_list, gen_children):\n",
    "    \"\"\"\n",
    "\n",
    "    This is the fundamental building block of the parallel combinatorial algorithm, here we branch off of a known feasible active set combination\\\\\n",
    "    and then\n",
    "\n",
    "\n",
    "    :param program: A multiparametric program\n",
    "    :param active_set: the active set combination that we are expanding on\n",
    "    :param murder_list: the list containing all previously found\n",
    "    :param gen_children: A boolean flag, that determines if we should generate the children subsets\n",
    "    :return: a list of the following form [Optional[CriticalRegion], pruned active set combination,Possibly Feasible Active set combinations]\n",
    "    \"\"\"\n",
    "    t_set = (*active_set,)\n",
    "\n",
    "    return_list = [None, set(), list()]\n",
    "\n",
    "    is_feasible_ = program.check_feasibility(active_set)\n",
    "\n",
    "    if not is_feasible_:\n",
    "        return_list[1].add(t_set)\n",
    "        return return_list\n",
    "\n",
    "    is_optimal_ = program.check_optimality(active_set)  # is_optimal(program, equality_indices)\n",
    "\n",
    "    if not is_optimal_:\n",
    "        if gen_children:\n",
    "            return_list[2] = generate_children_sets(active_set, program.num_constraints(), murder_list)\n",
    "        return return_list\n",
    "\n",
    "    sol_local = is_optimal_\n",
    "    return_list[0] = sol_local\n",
    "\n",
    "    if return_list[0] is None:    # TODO 即使满足最优性，也会出现cr是None的情况，后期要处理。return_list[0]本来是CR，被改了\n",
    "        return_list[1].add(t_set)\n",
    "        return return_list\n",
    "\n",
    "    if gen_children:\n",
    "        return_list[2] = generate_children_sets(active_set, program.num_constraints(), murder_list)\n",
    "\n",
    "    return return_list\n",
    "\n",
    "\n",
    "save = []\n",
    "start = time.time()\n",
    "\n",
    "num_cores = num_cpu_cores()\n",
    "\n",
    "print(f'Spawned threads across {num_cores}')\n",
    "\n",
    "pool = Pool(num_cores)\n",
    "\n",
    "murder_list = CombinationTester()\n",
    "to_check = list()\n",
    "\n",
    "solution = Solution(program, [])\n",
    "\n",
    "max_depth = max(program.num_x(), program.num_t()) - len(program.equality_indices)\n",
    "# breath first to optimize the elimination\n",
    "\n",
    "root_node = generate_children_sets(program.equality_indices, program.num_constraints(), murder_list)\n",
    "\n",
    "to_check.extend(root_node)\n",
    "\n",
    "for i in range(max_depth):\n",
    "# if there are no other active sets to check break out of loop\n",
    "# print(len(to_check))\n",
    "    print(f'Time at depth test {i + 1}, {time.time() - start}')\n",
    "    print(f'Number of active sets to be considered is {len(to_check)}')\n",
    "\n",
    "    depth_time = time.time()\n",
    "\n",
    "    gen_children = i + 1 != max_depth\n",
    "\n",
    "    f = lambda x: full_process(program, x, murder_list, gen_children)\n",
    "\n",
    "    future_list = list()\n",
    "\n",
    "    shuffle(to_check)\n",
    "\n",
    "    outputs = pool.map(f, to_check)\n",
    "\n",
    "    print(f'Time to run all tasks in parallel {time.time() - depth_time}')\n",
    "    depth_time = time.time()\n",
    "\n",
    "    if i + 1 == max_depth:  # 如果达到最大深度，将所有的CR加入到solution中\n",
    "        for output in outputs:\n",
    "            if output[0] is not None:\n",
    "                save.append(output[0]) # 已经将CR改成sol_local了，所以放到save中\n",
    "                # solution.add_region(output[0])\n",
    "        break\n",
    "\n",
    "    for output in outputs:\n",
    "        murder_list.add_combos(output[1])\n",
    "        future_list.extend(output[2])\n",
    "        if output[0] is not None:\n",
    "            save.append(output[0]) # 已经将CR改成sol_local了，所以放到save中\n",
    "            # solution.add_region(output[0])\n",
    "\n",
    "    print(f'Time to process all depth outputs {time.time() - depth_time}')\n",
    "\n",
    "    to_check = future_list\n",
    "\n",
    "    # If there are not more active sets to check we are done\n",
    "    if len(to_check) == 0:\n",
    "        break\n",
    "\n",
    "# we never actually tested the program base active set\n",
    "if program.check_feasibility(program.equality_indices):\n",
    "    sol_ = program.check_optimality(program.equality_indices)\n",
    "    if sol_:\n",
    "        save.append(sol_) # 已经将CR改成sol_了，所以放到save中\n",
    "        # region = gen_cr_from_active_set(program, program.equality_indices)\n",
    "        # if region is not None:\n",
    "        #     solution.add_region(region)\n",
    "\n",
    "pool.clear()\n",
    "\n",
    "end_time = time.time()\n",
    "print(\"耗时: {:.2f}秒\".format(end_time - start))\n",
    "\n",
    "print('--'*60)\n",
    "\n",
    "for element in save:\n",
    "    print('**'*60)\n",
    "    for key, values in element.items():\n",
    "    # if isinstance(values, List):\n",
    "\n",
    "        print(f\"The {key}: {values}\")\n",
    "print(f\"Number of Save is {len(save)}\")"
   ],
   "metadata": {
    "collapsed": false,
    "pycharm": {
     "name": "#%%\n"
    }
   }
  },
  {
   "cell_type": "code",
   "execution_count": null,
   "outputs": [],
   "source": [
    "# for element in save:\n",
    "#     print('**'*60)\n",
    "#     for key, values in element.items():\n",
    "#     # if isinstance(values, List):\n",
    "#\n",
    "#         print(f\"The {key}: {values}\")"
   ],
   "metadata": {
    "collapsed": false,
    "pycharm": {
     "name": "#%%\n"
    }
   }
  },
  {
   "cell_type": "code",
   "execution_count": null,
   "outputs": [],
   "source": [
    "# feasible_sets = [0, 1, 2, 3, 4, 5, 6, 7, 8, 9, 10, 11, 12, 13, 14, 15, 16, 17, 18, 19, 20, 21, 22, 23, 24, 25, 26, 27, 31]\n",
    "# # feasible_sets.append(43)\n",
    "# # for child_set in feasible_sets:\n",
    "#\n",
    "#     # soln = check_optimality(program, equality_indices=child_set)\n",
    "#     # The active set is optimal try to build a critical region\n",
    "#\n",
    "#     # print(f\"Child set: {child_set}\")\n",
    "#     # if soln is not None:\n",
    "# print('--'*50)\n",
    "# sol =  program.check_optimality(feasible_sets)\n",
    "# if sol is not None:\n",
    "#     print(f\"Sol is; {sol}\")\n",
    "#     # critical_region = 1\n",
    "#     #\n",
    "#     # # critical_region = gen_cr_from_active_set(program, child_set)  #\n",
    "#     # # Check the dimensions of the critical region\n",
    "#     # if critical_region is not None:\n",
    "#     #     solution.add_region(critical_region)\n",
    "#\n",
    "#     # propagate sets\n",
    "#\n",
    "#     # if i + 1 != max_depth:\n",
    "#     #     future_sets.extend(generate_children_sets(child_set, program.num_constraints(), murder_list))"
   ],
   "metadata": {
    "collapsed": false,
    "pycharm": {
     "name": "#%%\n"
    }
   }
  },
  {
   "cell_type": "code",
   "execution_count": null,
   "outputs": [],
   "source": [
    "program.num_equality_constraints()\n"
   ],
   "metadata": {
    "collapsed": false,
    "pycharm": {
     "name": "#%%\n"
    }
   }
  },
  {
   "cell_type": "code",
   "execution_count": null,
   "outputs": [],
   "source": [],
   "metadata": {
    "collapsed": false,
    "pycharm": {
     "name": "#%%\n"
    }
   }
  }
 ],
 "metadata": {
  "kernelspec": {
   "display_name": "Python 3",
   "language": "python",
   "name": "python3"
  },
  "language_info": {
   "codemirror_mode": {
    "name": "ipython",
    "version": 2
   },
   "file_extension": ".py",
   "mimetype": "text/x-python",
   "name": "python",
   "nbconvert_exporter": "python",
   "pygments_lexer": "ipython2",
   "version": "2.7.6"
  }
 },
 "nbformat": 4,
 "nbformat_minor": 0
}