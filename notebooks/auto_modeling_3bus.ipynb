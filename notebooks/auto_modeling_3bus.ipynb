{
 "cells": [
  {
   "cell_type": "code",
   "execution_count": 1,
   "outputs": [
    {
     "name": "stderr",
     "output_type": "stream",
     "text": [
      "/home/huzuntao/PycharmProjects/MPP_Powersystem/venv/lib/python3.8/site-packages/numba/core/errors.py:175: UserWarning: Insufficiently recent colorama version found. Numba requires colorama >= 0.3.9\n",
      "  warnings.warn(msg)\n"
     ]
    }
   ],
   "source": [
    "import os.path\n",
    "import pandapower.networks as pn\n",
    "import pandapower as pp\n",
    "import pandas as pd\n",
    "import sympy as sym\n",
    "import gurobipy as gp\n",
    "from gurobipy import GRB\n",
    "from numpy import flatnonzero as find, ones, zeros, Inf, pi, exp, conj, r_, arange, array\n",
    "from pypower_.makeYbus import makeYbus\n",
    "from pypower_.idx_brch import F_BUS, T_BUS, RATE_A, PF, QF, PT, QT, MU_SF, MU_ST\n",
    "from pypower_.idx_gen import GEN_BUS, PG, QG\n",
    "from pypower_.idx_cost import MODEL, PW_LINEAR, NCOST, POLYNOMIAL\n",
    "from pypower_.totcost import totcost\n",
    "from pypower_.makeSbus import makeSbus\n",
    "from pypower_.idx_bus import BUS_TYPE, REF, VM, VA, MU_VMAX, MU_VMIN, LAM_P, LAM_Q\n",
    "import cvxpy as cp\n",
    "import numpy as np\n",
    "from scipy.sparse import csr_matrix as sparse\n",
    "from pypower_.idx_bus import PD, QD\n",
    "from pypower_.idx_gen import GEN_BUS, PG, QG, GEN_STATUS"
   ],
   "metadata": {
    "collapsed": false
   }
  },
  {
   "cell_type": "code",
   "execution_count": 2,
   "outputs": [
    {
     "name": "stdout",
     "output_type": "stream",
     "text": [
      "['/home/huzuntao/PycharmProjects/MPP_Powersystem/notebooks', '/home/huzuntao/PycharmProjects/MPP_Powersystem', '/usr/lib/python38.zip', '/usr/lib/python3.8', '/usr/lib/python3.8/lib-dynload', '', '/home/huzuntao/PycharmProjects/MPP_Powersystem/venv/lib/python3.8/site-packages', '/usr/lib/python3.8/site-packages', '/usr/local/lib/python3.8/dist-packages', '/usr/lib/python3/dist-packages']\n",
      "<module 'posixpath' from '/usr/lib/python3.8/posixpath.py'>\n"
     ]
    }
   ],
   "source": [
    "import sys\n",
    "print(sys.path)\n",
    "print(os.path)\n",
    "path_current = '/home/ubuntu-h/PycharmProjects/scientificProject'\n",
    "if path_current not in sys.path:\n",
    "    sys.path.insert(1, '/home/ubuntu-h/PycharmProjects/scientificProject')"
   ],
   "metadata": {
    "collapsed": false
   }
  },
  {
   "cell_type": "code",
   "execution_count": 3,
   "outputs": [],
   "source": [
    "import pandapower as pp\n",
    "net = pp.create_empty_network()\n",
    "\n",
    "# create buses\n",
    "# bus1 = pp.create_bus(net, vn_kv=110.)\n",
    "# bus2 = pp.create_bus(net, vn_kv=110.)\n",
    "# bus3 = pp.create_bus(net, vn_kv=110.)\n",
    "# # bus4 = pp.create_bus(net, vn_kv=110.)\n",
    "# # bus5 = pp.create_bus(net, vn_kv=110.)\n",
    "#\n",
    "# # create 110 kV lines\n",
    "# pp.create_line(net, bus2, bus3, length_km=70., std_type='149-AL1/24-ST1A 110.0')\n",
    "# # pp.create_line(net, bus3, bus4, length_km=50., std_type=\"149-AL1/24-ST1A 110.0\")\n",
    "# # pp.create_line(net, bus4, bus2, length_km=40., std_type=\"149-AL1/24-ST1A 110.0\")\n",
    "# pp.create_line(net, bus1, bus2, length_km=70., std_type='149-AL1/24-ST1A 110.0')\n",
    "#\n",
    "# # create loads\n",
    "# pp.create_load(net, bus1, p_mw=30., controllable=False)\n",
    "# # pp.create_load(net, bus3, p_mw=70., controllable=False)\n",
    "# # pp.create_load(net, bus4, p_mw=25., controllable=False)\n",
    "#\n",
    "# # create generators\n",
    "# eg = pp.create_ext_grid(net, bus3, min_p_mw=0, max_p_mw=1000, vm_pu=1.05)\n",
    "# g0 = pp.create_gen(net, bus2, p_mw=80, min_p_mw=0, max_p_mw=50, vm_pu=1.00, controllable=True)\n",
    "# # g1 = pp.create_gen(net, bus4, p_mw=100, min_p_mw=0, max_p_mw=100, vm_pu=1.00, controllable=True)\n",
    "#\n",
    "#\n",
    "# costeg = pp.create_poly_cost(net, 0, 'ext_grid', cp1_eur_per_mw=20)\n",
    "# costgen1 = pp.create_poly_cost(net, 0, 'gen', cp1_eur_per_mw=10)\n",
    "# costgen2 = pp.create_poly_cost(net, 1, 'gen', cp1_eur_per_mw=10)\n",
    "\n",
    "bus1 = pp.create_bus(net, vn_kv=110.)\n",
    "bus2 = pp.create_bus(net, vn_kv=110.)\n",
    "bus3 = pp.create_bus(net, vn_kv=110.)\n",
    "# bus4 = pp.create_bus(net, vn_kv=110.)\n",
    "# bus5 = pp.create_bus(net, vn_kv=110.)\n",
    "\n",
    "# create 110 kV lines\n",
    "pp.create_line(net, bus2, bus3, length_km=90., std_type='149-AL1/24-ST1A 110.0')\n",
    "# pp.create_line(net, bus3, bus4, length_km=50., std_type=\"149-AL1/24-ST1A 110.0\")\n",
    "# pp.create_line(net, bus4, bus2, length_km=40., std_type=\"149-AL1/24-ST1A 110.0\")\n",
    "pp.create_line(net, bus1, bus2, length_km=70., std_type='149-AL1/24-ST1A 110.0')\n",
    "\n",
    "# create loads\n",
    "pp.create_load(net, bus2, p_mw=50., controllable=False)\n",
    "# pp.create_load(net, bus3, p_mw=70., controllable=False)\n",
    "# pp.create_load(net, bus4, p_mw=25., controllable=False)\n",
    "\n",
    "# create generators\n",
    "eg = pp.create_ext_grid(net, bus3, min_p_mw=0, max_p_mw=50, vm_pu=1.05)\n",
    "g0 = pp.create_gen(net, bus1, p_mw=50, min_p_mw=0, max_p_mw=50, vm_pu=1.00, controllable=True)\n",
    "# g1 = pp.create_gen(net, bus4, p_mw=50, min_p_mw=0, max_p_mw=50, vm_pu=1.00, controllable=True)\n",
    "\n",
    "\n",
    "costeg = pp.create_poly_cost(net, 0, 'ext_grid', cp1_eur_per_mw=20)\n",
    "costgen1 = pp.create_poly_cost(net, 0, 'gen', cp1_eur_per_mw=10)\n",
    "costgen2 = pp.create_poly_cost(net, 1, 'gen', cp1_eur_per_mw=10)\n",
    "\n",
    "net.bus[\"min_vm_pu\"] = 0.96\n",
    "net.bus[\"max_vm_pu\"] = 1.04\n",
    "net.line[\"max_loading_percent\"] = 100"
   ],
   "metadata": {
    "collapsed": false
   }
  },
  {
   "cell_type": "markdown",
   "source": [
    "![xx -w50](grid2GUROBI.png)"
   ],
   "metadata": {
    "collapsed": false
   }
  },
  {
   "cell_type": "markdown",
   "source": [],
   "metadata": {
    "collapsed": false
   }
  },
  {
   "cell_type": "code",
   "execution_count": 4,
   "outputs": [
    {
     "data": {
      "text/plain": "   element        et  cp0_eur  cp1_eur_per_mw  cp2_eur_per_mw2  cq0_eur  \\\n0        0  ext_grid      0.0            20.0              0.0      0.0   \n1        0       gen      0.0            10.0              0.0      0.0   \n2        1       gen      0.0            10.0              0.0      0.0   \n\n   cq1_eur_per_mvar  cq2_eur_per_mvar2  \n0               0.0                0.0  \n1               0.0                0.0  \n2               0.0                0.0  ",
      "text/html": "<div>\n<style scoped>\n    .dataframe tbody tr th:only-of-type {\n        vertical-align: middle;\n    }\n\n    .dataframe tbody tr th {\n        vertical-align: top;\n    }\n\n    .dataframe thead th {\n        text-align: right;\n    }\n</style>\n<table border=\"1\" class=\"dataframe\">\n  <thead>\n    <tr style=\"text-align: right;\">\n      <th></th>\n      <th>element</th>\n      <th>et</th>\n      <th>cp0_eur</th>\n      <th>cp1_eur_per_mw</th>\n      <th>cp2_eur_per_mw2</th>\n      <th>cq0_eur</th>\n      <th>cq1_eur_per_mvar</th>\n      <th>cq2_eur_per_mvar2</th>\n    </tr>\n  </thead>\n  <tbody>\n    <tr>\n      <th>0</th>\n      <td>0</td>\n      <td>ext_grid</td>\n      <td>0.0</td>\n      <td>20.0</td>\n      <td>0.0</td>\n      <td>0.0</td>\n      <td>0.0</td>\n      <td>0.0</td>\n    </tr>\n    <tr>\n      <th>1</th>\n      <td>0</td>\n      <td>gen</td>\n      <td>0.0</td>\n      <td>10.0</td>\n      <td>0.0</td>\n      <td>0.0</td>\n      <td>0.0</td>\n      <td>0.0</td>\n    </tr>\n    <tr>\n      <th>2</th>\n      <td>1</td>\n      <td>gen</td>\n      <td>0.0</td>\n      <td>10.0</td>\n      <td>0.0</td>\n      <td>0.0</td>\n      <td>0.0</td>\n      <td>0.0</td>\n    </tr>\n  </tbody>\n</table>\n</div>"
     },
     "execution_count": 4,
     "metadata": {},
     "output_type": "execute_result"
    }
   ],
   "source": [
    "# net.bus[\"min_vm_pu\"] = 0.98\n",
    "# net.bus[\"max_vm_pu\"] = 1.02\n",
    "net.line[\"max_loading_percent\"] = 100\n",
    "# net.sn_mva = 100\n",
    "# net = pp.networks.case14()\n",
    "# net.gen['vm_pu'] = 1.0\n",
    "# net.bus[\"min_vm_pu\"] = 0.95\n",
    "# net.bus[\"max_vm_pu\"] = 1.05\n",
    "# net.poly_cost[:,3] = 0\n",
    "# net.poly_cost['cp2_eur_per_mw2'] = 0\n",
    "net.poly_cost"
   ],
   "metadata": {
    "collapsed": false
   }
  },
  {
   "cell_type": "code",
   "execution_count": 5,
   "outputs": [],
   "source": [
    "om,ppopt = pp.runopp(net, delta=1e-16)   # solve the OPF problem"
   ],
   "metadata": {
    "collapsed": false
   }
  },
  {
   "cell_type": "code",
   "execution_count": 6,
   "outputs": [
    {
     "name": "stdout",
     "output_type": "stream",
     "text": [
      "        p_mw    q_mvar  va_degree  vm_pu\n",
      "0  49.999987 -9.549766   7.409511   1.04\n"
     ]
    },
    {
     "data": {
      "text/plain": "   name  bus  p_mw  vm_pu  sn_mva  min_q_mvar  max_q_mvar  scaling  slack  \\\n0  None    0  50.0    1.0     NaN         NaN         NaN      1.0  False   \n\n   in_service  slack_weight  type  controllable  min_p_mw  max_p_mw  \\\n0        True           0.0  None          True       0.0      50.0   \n\n   power_station_trafo  \n0                  NaN  ",
      "text/html": "<div>\n<style scoped>\n    .dataframe tbody tr th:only-of-type {\n        vertical-align: middle;\n    }\n\n    .dataframe tbody tr th {\n        vertical-align: top;\n    }\n\n    .dataframe thead th {\n        text-align: right;\n    }\n</style>\n<table border=\"1\" class=\"dataframe\">\n  <thead>\n    <tr style=\"text-align: right;\">\n      <th></th>\n      <th>name</th>\n      <th>bus</th>\n      <th>p_mw</th>\n      <th>vm_pu</th>\n      <th>sn_mva</th>\n      <th>min_q_mvar</th>\n      <th>max_q_mvar</th>\n      <th>scaling</th>\n      <th>slack</th>\n      <th>in_service</th>\n      <th>slack_weight</th>\n      <th>type</th>\n      <th>controllable</th>\n      <th>min_p_mw</th>\n      <th>max_p_mw</th>\n      <th>power_station_trafo</th>\n    </tr>\n  </thead>\n  <tbody>\n    <tr>\n      <th>0</th>\n      <td>None</td>\n      <td>0</td>\n      <td>50.0</td>\n      <td>1.0</td>\n      <td>NaN</td>\n      <td>NaN</td>\n      <td>NaN</td>\n      <td>1.0</td>\n      <td>False</td>\n      <td>True</td>\n      <td>0.0</td>\n      <td>None</td>\n      <td>True</td>\n      <td>0.0</td>\n      <td>50.0</td>\n      <td>NaN</td>\n    </tr>\n  </tbody>\n</table>\n</div>"
     },
     "execution_count": 6,
     "metadata": {},
     "output_type": "execute_result"
    }
   ],
   "source": [
    "# net = pp.networks.case57()\n",
    "print(net.res_gen)    # output the results of two generators\n",
    "net.gen"
   ],
   "metadata": {
    "collapsed": false
   }
  },
  {
   "cell_type": "code",
   "execution_count": 7,
   "outputs": [
    {
     "name": "stdout",
     "output_type": "stream",
     "text": [
      "       p_mw    q_mvar\n",
      "0  2.851905  9.940032\n"
     ]
    },
    {
     "data": {
      "text/plain": "0    1.05\nName: vm_pu, dtype: float64"
     },
     "execution_count": 7,
     "metadata": {},
     "output_type": "execute_result"
    }
   ],
   "source": [
    "print(net.res_ext_grid)\n",
    "net.ext_grid['vm_pu']"
   ],
   "metadata": {
    "collapsed": false
   }
  },
  {
   "cell_type": "code",
   "execution_count": 8,
   "outputs": [
    {
     "data": {
      "text/plain": "557.0379610412584"
     },
     "execution_count": 8,
     "metadata": {},
     "output_type": "execute_result"
    }
   ],
   "source": [
    "# the total cost of generation\n",
    "net.res_cost"
   ],
   "metadata": {
    "collapsed": false
   }
  },
  {
   "cell_type": "code",
   "execution_count": 9,
   "outputs": [
    {
     "data": {
      "text/plain": "{'baseMVA': 1,\n 'version': 2,\n 'bus': array([[ 0.00000000e+00,  2.00000000e+00,  0.00000000e+00,\n          0.00000000e+00,  0.00000000e+00,  0.00000000e+00,\n          1.00000000e+00,  1.03999965e+00,  7.40951077e+00,\n          1.10000000e+02,  1.00000000e+00,  1.04000000e+00,\n          9.60000000e-01,  1.76706565e+01, -1.92365137e-21,\n          2.85851760e+02,  0.00000000e+00],\n        [ 1.00000000e+00,  1.00000000e+00,  5.00000000e+01,\n          0.00000000e+00,  0.00000000e+00,  0.00000000e+00,\n          1.00000000e+00,  1.01244732e+00,  4.32646488e-01,\n          1.10000000e+02,  1.00000000e+00,  1.04000000e+00,\n          9.60000000e-01,  1.98981272e+01,  8.74482757e-02,\n          0.00000000e+00,  0.00000000e+00],\n        [ 2.00000000e+00,  3.00000000e+00,  0.00000000e+00,\n          0.00000000e+00,  0.00000000e+00,  0.00000000e+00,\n          1.00000000e+00,  1.05000000e+00,  0.00000000e+00,\n          1.10000000e+02,  1.00000000e+00,  1.05000000e+00,\n          1.05000000e+00,  1.99999668e+01,  2.00214766e-21,\n          0.00000000e+00,  1.79633162e+02]]),\n 'branch': array([[ 1.00000000e+00+0.j,  2.00000000e+00+0.j,  1.44297521e-03+0.j,\n          3.04958678e-03+0.j,  2.99354510e+00+0.j,  8.95470268e+01+0.j,\n          2.50000000e+02+0.j,  2.50000000e+02+0.j,  1.00000000e+00+0.j,\n          0.00000000e+00+0.j,  1.00000000e+00+0.j, -3.60000000e+02+0.j,\n          3.60000000e+02+0.j, -2.66544126e+00+0.j, -1.27304181e+01+0.j,\n          2.85190462e+00+0.j,  9.94003228e+00+0.j,  0.00000000e+00+0.j,\n          0.00000000e+00+0.j,  0.00000000e+00+0.j,  0.00000000e+00+0.j,\n          0.00000000e+00+0.j,  0.00000000e+00+0.j],\n        [ 0.00000000e+00+0.j,  1.00000000e+00+0.j,  1.12231405e-03+0.j,\n          2.37190083e-03+0.j,  2.32831286e+00+0.j,  8.95470268e+01+0.j,\n          2.50000000e+02+0.j,  2.50000000e+02+0.j,  1.00000000e+00+0.j,\n          0.00000000e+00+0.j,  1.00000000e+00+0.j, -3.60000000e+02+0.j,\n          3.60000000e+02+0.j,  4.99999869e+01+0.j, -9.54976553e+00+0.j,\n         -4.73345587e+01+0.j,  1.27304181e+01+0.j,  0.00000000e+00+0.j,\n          0.00000000e+00+0.j,  0.00000000e+00+0.j,  0.00000000e+00+0.j,\n          0.00000000e+00+0.j,  0.00000000e+00+0.j]]),\n 'gen': array([[ 2.00000000e+00,  2.85190462e+00,  9.94003228e+00,\n          1.00000000e+09, -1.00000000e+09,  1.05000000e+00,\n          1.00000000e+00,  1.00000000e+00,  5.00000000e+01,\n         -1.00000000e-16,  0.00000000e+00,  0.00000000e+00,\n          0.00000000e+00,  0.00000000e+00,  0.00000000e+00,\n          0.00000000e+00,  0.00000000e+00,  0.00000000e+00,\n          0.00000000e+00,  0.00000000e+00,  0.00000000e+00,\n          0.00000000e+00,  0.00000000e+00,  0.00000000e+00,\n          0.00000000e+00,  1.00000000e+00],\n        [ 0.00000000e+00,  4.99999869e+01, -9.54976553e+00,\n          1.00000000e+09, -1.00000000e+09,  1.03999965e+00,\n                     nan,  1.00000000e+00,  5.00000000e+01,\n         -1.00000000e-16,  0.00000000e+00,  0.00000000e+00,\n          0.00000000e+00,  0.00000000e+00,  0.00000000e+00,\n          0.00000000e+00,  0.00000000e+00,  0.00000000e+00,\n          0.00000000e+00,  0.00000000e+00,  0.00000000e+00,\n          7.67065853e+00,  0.00000000e+00,  0.00000000e+00,\n          0.00000000e+00,  0.00000000e+00]]),\n 'internal': {'Ybus': array([], dtype=complex128),\n  'Yf': array([], dtype=complex128),\n  'Yt': array([], dtype=complex128),\n  'branch_is': array([ True,  True]),\n  'gen_is': array([ True,  True]),\n  'DLF': array([], dtype=complex128),\n  'buses_ord_bfs_nets': array([], dtype=float64),\n  'ref_gens': array([0])},\n 'gencost': array([[ 2.,  0.,  0.,  2., 20.,  0.],\n        [ 2.,  0.,  0.,  2., 10.,  0.]]),\n 'om': \n VARIABLES               name       i1       iN        N\n =========              ------    -----    -----   ------\n               0:          Va        0        3        3\n               1:          Vm        3        6        3\n               2:          Pg        6        8        2\n               3:          Qg        8       10        2\n   var['NS'] = 4                  var['N'] = 10\n \n \n NON-LINEAR CONSTRAINTS  name       i1       iN        N\n ====================== ------    -----    -----   ------\n               0:        Pmis        0        3        3\n               1:        Qmis        3        6        3\n               2:          Sf        6        8        2\n               3:          St        8       10        2\n      nln.NS = 4                     nln.N = 10\n \n \n LINEAR CONSTRAINTS      name       i1       iN        N\n ==================     ------    -----    -----   ------\n               0:         PQh        0        0        0\n               1:         PQl        0        0        0\n               2:          vl        0        0        0\n               3:         ang        0        0        0\n      lin.NS = 4                      lin.N = 0\n \n COSTS  :  <none>\n   userdata = \n {'Apqdata': {'h': array([], dtype=float64), 'l': array([], dtype=float64), 'ipql': array([], dtype=int64), 'ipqh': array([], dtype=int64)}, 'iang': array([], dtype=int64)},\n 'x': array([ 1.29320359e-01,  7.55110571e-03,  0.00000000e+00,  1.03999965e+00,\n         1.01244732e+00,  1.05000000e+00,  2.85190462e+00,  4.99999869e+01,\n         9.94003228e+00, -9.54976553e+00]),\n 'mu': {'var': {'l': array([0.00000000e+00, 0.00000000e+00, 3.33721161e-12, 0.00000000e+00,\n          0.00000000e+00, 1.79633162e+02, 0.00000000e+00, 0.00000000e+00,\n          0.00000000e+00, 0.00000000e+00]),\n   'u': array([  0.        ,   0.        ,   0.        , 285.85175969,\n            0.        ,   0.        ,   0.        ,   7.67065853,\n            0.        ,   0.        ])},\n  'nln': {'l': array([0.00000000e+00, 0.00000000e+00, 0.00000000e+00, 1.92365137e-21,\n          0.00000000e+00, 0.00000000e+00, 0.00000000e+00, 0.00000000e+00,\n          0.00000000e+00, 0.00000000e+00]),\n   'u': array([1.76706565e+01, 1.98981272e+01, 1.99999668e+01, 0.00000000e+00,\n          8.74482757e-02, 2.00214766e-21, 0.00000000e+00, 0.00000000e+00,\n          0.00000000e+00, 0.00000000e+00])},\n  'lin': {'l': array([], dtype=float64), 'u': array([], dtype=float64)}},\n 'f': 557.0379610412584,\n 'var': {'val': {'Va': array([0.12932036, 0.00755111, 0.        ]),\n   'Vm': array([1.03999965, 1.01244732, 1.05      ]),\n   'Pg': array([ 2.85190462, 49.99998687]),\n   'Qg': array([ 9.94003228, -9.54976553])},\n  'mu': {'l': {'Va': array([0.00000000e+00, 0.00000000e+00, 3.33721161e-12]),\n    'Vm': array([  0.        ,   0.        , 179.63316172]),\n    'Pg': array([0., 0.]),\n    'Qg': array([0., 0.])},\n   'u': {'Va': array([0., 0., 0.]),\n    'Vm': array([285.85175969,   0.        ,   0.        ]),\n    'Pg': array([0.        , 7.67065853]),\n    'Qg': array([0., 0.])}}},\n 'lin': {'mu': {'l': {}, 'u': {}}},\n 'nln': {'mu': {'l': {'Pmis': array([0., 0., 0.]),\n    'Qmis': array([1.92365137e-21, 0.00000000e+00, 0.00000000e+00]),\n    'Sf': array([0., 0.]),\n    'St': array([0., 0.])},\n   'u': {'Pmis': array([17.67065652, 19.89812719, 19.99996679]),\n    'Qmis': array([0.00000000e+00, 8.74482757e-02, 2.00214766e-21]),\n    'Sf': array([0., 0.]),\n    'St': array([0., 0.])}}},\n 'et': 0.5167768070241436,\n 'success': True,\n 'raw': {'xr': array([ 1.29320359e-01,  7.55110571e-03,  0.00000000e+00,  1.03999965e+00,\n          1.01244732e+00,  1.05000000e+00,  2.85190462e+00,  4.99999869e+01,\n          9.94003228e+00, -9.54976553e+00]),\n  'pimul': array([-1.76706565e+01, -1.98981272e+01, -1.99999668e+01,  1.92365137e-21,\n         -8.74482757e-02, -2.00214766e-21,  0.00000000e+00,  0.00000000e+00,\n          0.00000000e+00,  0.00000000e+00,  0.00000000e+00,  0.00000000e+00,\n          3.33721161e-12, -2.85851760e+02,  0.00000000e+00,  1.79633162e+02,\n          0.00000000e+00, -7.67065853e+00,  0.00000000e+00,  0.00000000e+00]),\n  'info': True,\n  'output': {'iterations': 17,\n   'hist': [{'feascond': 4.366124003531805e-08,\n     'gradcond': 8747.93076188975,\n     'compcond': 153847374.3838565,\n     'costcond': 0.0,\n     'gamma': 1,\n     'stepsize': 0,\n     'obj': 749.9999999999999,\n     'alphap': 0,\n     'alphad': 0},\n    {'feascond': 1.2727462016068778e-09,\n     'gradcond': 622.7754204359856,\n     'compcond': 14239142.318948638,\n     'costcond': 0.004085287660185661,\n     'gamma': 2668599.4961510557,\n     'stepsize': 11.177157385598601,\n     'obj': 793.9168423469958,\n     'alphap': 1,\n     'alphad': 0.8932568929109502},\n    {'feascond': 1.4011011517266093e-09,\n     'gradcond': 0.8572869183097136,\n     'compcond': 1414326.9082950358,\n     'costcond': 0.00765330622416422,\n     'gamma': 263399.51783256046,\n     'stepsize': 330985.2813311088,\n     'obj': 711.3076913943505,\n     'alphap': 3.782732312859203e-05,\n     'alphad': 1},\n    {'feascond': 7.76417900466407e-12,\n     'gradcond': 0.08445965392164781,\n     'compcond': 177523.08963226975,\n     'costcond': 0.0027549485497508413,\n     'gamma': 33326.231966789455,\n     'stepsize': 2.837299100919485,\n     'obj': 740.8167929846925,\n     'alphap': 1,\n     'alphad': 0.9878193280066229},\n    {'feascond': 8.026334081719882e-13,\n     'gradcond': 0.023978555524591855,\n     'compcond': 18007.630783749817,\n     'costcond': 0.0003630174532578937,\n     'gamma': 3339.069681159752,\n     'stepsize': 0.6329258977028935,\n     'obj': 744.7158969427913,\n     'alphap': 1,\n     'alphad': 1},\n    {'feascond': 3.1277229367439117e-12,\n     'gradcond': 0.030362338841119843,\n     'compcond': 1819.518383981216,\n     'costcond': 0.00036571721381925705,\n     'gamma': 333.34480467928864,\n     'stepsize': 1.114300505891089,\n     'obj': 748.6454245039007,\n     'alphap': 1,\n     'alphad': 1},\n    {'feascond': 4.94141792154478e-13,\n     'gradcond': 0.019169615755802866,\n     'compcond': 183.55487917929753,\n     'costcond': 0.0002813714812870437,\n     'gamma': 33.30088054071357,\n     'stepsize': 0.49898682039691916,\n     'obj': 751.6697867888226,\n     'alphap': 1,\n     'alphad': 1},\n    {'feascond': 1.1616296428214714e-12,\n     'gradcond': 0.024263055736400554,\n     'compcond': 18.520163899178808,\n     'costcond': 0.00028575404219756347,\n     'gamma': 3.32769874981975,\n     'stepsize': 0.718926506619856,\n     'obj': 754.7421198907709,\n     'alphap': 1,\n     'alphad': 1},\n    {'feascond': 3.6951473308343766e-13,\n     'gradcond': 0.018499076965931494,\n     'compcond': 1.8659058178929266,\n     'costcond': 0.00023631584994505107,\n     'gamma': 0.33252450178124876,\n     'stepsize': 0.4709090323785589,\n     'obj': 757.2836359157727,\n     'alphap': 1,\n     'alphad': 1},\n    {'feascond': 5.359243288359109e-13,\n     'gradcond': 0.01607346924180143,\n     'compcond': 0.18770168768931964,\n     'costcond': 0.00019063740729440538,\n     'gamma': 0.033235750140806,\n     'stepsize': 0.4828573180300395,\n     'obj': 759.3343765776543,\n     'alphap': 1,\n     'alphad': 1},\n    {'feascond': 8.138176740071483e-13,\n     'gradcond': 0.012897212997289739,\n     'compcond': 0.018649401095451188,\n     'costcond': 0.00014203798885119697,\n     'gamma': 0.0033225350145353557,\n     'stepsize': 0.5564718920916281,\n     'obj': 757.8061423614276,\n     'alphap': 1,\n     'alphad': 1},\n    {'feascond': 3.2823730383863404e-11,\n     'gradcond': 0.021676276292457258,\n     'compcond': 0.002006502695078498,\n     'costcond': 0.0030842079029846157,\n     'gamma': 0.0003998110115807925,\n     'stepsize': 5.221306368010719,\n     'obj': 724.62683163838,\n     'alphap': 1,\n     'alphad': 0.9776774595217413},\n    {'feascond': 8.799684583949595e-10,\n     'gradcond': 0.014480651847492539,\n     'compcond': 0.0001684811229889323,\n     'costcond': 0.015488635639882035,\n     'gamma': 5.205658625793486e-05,\n     'stepsize': 26.05173766075123,\n     'obj': 558.5169942694307,\n     'alphap': 1,\n     'alphad': 1},\n    {'feascond': 2.921638377520919e-10,\n     'gradcond': 0.0011123303681690431,\n     'compcond': 2.8160934051786967e-05,\n     'costcond': 0.0003701724788665524,\n     'gamma': 8.976283966447745e-06,\n     'stepsize': 3.7477200156364283,\n     'obj': 554.6085218605074,\n     'alphap': 0.6667409814374328,\n     'alphad': 1},\n    {'feascond': 2.440538735406832e-11,\n     'gradcond': 0.000231740004754691,\n     'compcond': 3.1453530262727557e-06,\n     'costcond': 0.0002282140295125817,\n     'gamma': 1.0023012324258536e-06,\n     'stepsize': 2.639004821720453,\n     'obj': 557.017231601209,\n     'alphap': 1,\n     'alphad': 0.9772715587708266},\n    {'feascond': 5.379894218732972e-15,\n     'gradcond': 8.946894141562136e-08,\n     'compcond': 3.160717573539443e-07,\n     'costcond': 3.83984436635686e-06,\n     'gamma': 1.0074531293119704e-07,\n     'stepsize': 0.06306363604191662,\n     'obj': 557.0577689043513,\n     'alphap': 1,\n     'alphad': 1},\n    {'feascond': 1.9907125507841526e-16,\n     'gradcond': 9.207953169834716e-10,\n     'compcond': 3.16125758107735e-08,\n     'costcond': 1.7046918255923617e-06,\n     'gamma': 1.0076482677179857e-08,\n     'stepsize': 0.007963446042151188,\n     'obj': 557.0397723742703,\n     'alphap': 1,\n     'alphad': 1},\n    {'feascond': 1.9825332269899416e-18,\n     'gradcond': 8.554644844483343e-12,\n     'compcond': 3.1613116626745384e-09,\n     'costcond': 1.7157584426781826e-07,\n     'gamma': 1.007667833016362e-09,\n     'stepsize': 0.0007949221433700234,\n     'obj': 557.0379610412584,\n     'alphap': 1,\n     'alphad': 1}],\n   'message': 'Converged',\n   'alg': 560}}}"
     },
     "execution_count": 9,
     "metadata": {},
     "output_type": "execute_result"
    }
   ],
   "source": [
    "# the key variable, which represents the information of the OPF problem\n",
    "om.get_ppc()"
   ],
   "metadata": {
    "collapsed": false
   }
  },
  {
   "cell_type": "code",
   "execution_count": 10,
   "outputs": [],
   "source": [
    "## unpack data\n",
    "ppc = om.get_ppc()\n",
    "baseMVA, bus, gen, branch, gencost = \\\n",
    "    ppc[\"baseMVA\"], ppc[\"bus\"], ppc[\"gen\"], ppc[\"branch\"], ppc[\"gencost\"]\n",
    "vv, _, _, _ = om.get_idx()\n",
    "\n",
    "## problem dimensions\n",
    "nb = bus.shape[0]          ## number of buses\n",
    "nl = branch.shape[0]       ## number of branches\n",
    "ny = om.getN('var', 'y')   ## number of piece-wise linear costs, 'y' is a part of p-w linear costs\n",
    "\n",
    "## bounds on optimization vars\n",
    "x0, xmin, xmax = om.getv()"
   ],
   "metadata": {
    "collapsed": false
   }
  },
  {
   "cell_type": "code",
   "execution_count": 10,
   "outputs": [],
   "source": [],
   "metadata": {
    "collapsed": false
   }
  },
  {
   "cell_type": "code",
   "execution_count": 11,
   "outputs": [
    {
     "name": "stderr",
     "output_type": "stream",
     "text": [
      "/home/huzuntao/PycharmProjects/MPP_Powersystem/pypower_/makeYbus.py:49: ComplexWarning: Casting complex values to real discards the imaginary part\n",
      "  tap[i] = branch[i, TAP]  ## assign non-zero tap ratios\n",
      "/usr/local/lib/python3.8/dist-packages/scipy/sparse/_coo.py:159: ComplexWarning: Casting complex values to real discards the imaginary part\n",
      "  self.col = np.array(col, copy=copy, dtype=idx_dtype)\n"
     ]
    },
    {
     "data": {
      "text/plain": "matrix([[ 162.99668368-343.31337094j, -162.99668368+344.47752737j,\n            0.          +0.j        ],\n        [-162.99668368+344.47752737j,  289.7718821 -609.74356413j,\n         -126.77519842+267.92696573j],\n        [   0.          +0.j        , -126.77519842+267.92696573j,\n          126.77519842-266.43019318j]])"
     },
     "execution_count": 11,
     "metadata": {},
     "output_type": "execute_result"
    }
   ],
   "source": [
    "## build admittance matrices\n",
    "Ybus, Yf, Yt = makeYbus(baseMVA, bus, branch)\n",
    "Ybus.todense()"
   ],
   "metadata": {
    "collapsed": false
   }
  },
  {
   "cell_type": "code",
   "execution_count": 12,
   "outputs": [
    {
     "name": "stdout",
     "output_type": "stream",
     "text": [
      "ll\"[-1.57079633e+00 -1.57079633e+00  0.00000000e+00  9.60000000e-01\n",
      "  9.60000000e-01  1.05000000e+00 -1.00000000e-16 -1.00000000e-16\n",
      " -1.00000000e+02 -1.00000000e+02];\n",
      " uu:[  1.57079633   1.57079633   0.           1.04         1.04\n",
      "   1.05        50.          50.         100.         100.        ]\n"
     ]
    }
   ],
   "source": [
    "## Set the lower and upper bound for all variables\n",
    "ll, uu = xmin.copy(), xmax.copy()\n",
    "# print(f'll : {ll}; uu : {uu}')\n",
    "ll[xmin == -Inf] = -1e10   ## replace Inf with numerical proxies\n",
    "uu[xmax ==  Inf] =  1e10\n",
    "Va_refs = bus[bus[:, BUS_TYPE]  == REF, VA] * (pi / 180)\n",
    "# print(f\"Va_refs: {Va_refs}\")\n",
    "ll[vv[\"i1\"][\"Va\"]:vv[\"iN\"][\"Va\"]] = -np.ones_like(bus[:, VA]) * (pi / 2) # Va lower bound 赋值\n",
    "uu[vv[\"i1\"][\"Va\"]:vv[\"iN\"][\"Va\"]] = np.ones_like(bus[:, VA]) * (pi / 2) # Va upper bound 赋值\n",
    "## deal with the Va_refs\n",
    "ll[vv[\"i1\"][\"Va\"]:vv[\"iN\"][\"Va\"]][bus[:, BUS_TYPE]  == REF] = Va_refs  # Va_refs lower bound 赋值\n",
    "uu[vv[\"i1\"][\"Va\"]:vv[\"iN\"][\"Va\"]][bus[:, BUS_TYPE]  == REF] = Va_refs # Va_refs upper bound 赋值\n",
    "## deal with reactive power, whose ll and uu is 1e9\n",
    "ll[ll<-1e4] = -100\n",
    "uu[uu>1e4] = 100\n",
    "v_max = uu[vv[\"i1\"][\"Vm\"]:vv[\"iN\"][\"Vm\"]][-1]\n",
    "print(f'll\"{ll};\\n uu:{uu}')"
   ],
   "metadata": {
    "collapsed": false
   }
  },
  {
   "cell_type": "code",
   "execution_count": 13,
   "outputs": [
    {
     "data": {
      "text/plain": "array([1.  , 1.  , 1.05])"
     },
     "execution_count": 13,
     "metadata": {},
     "output_type": "execute_result"
    }
   ],
   "source": [
    "x0[vv[\"i1\"][\"Vm\"]:vv[\"iN\"][\"Vm\"]]"
   ],
   "metadata": {
    "collapsed": false
   }
  },
  {
   "cell_type": "code",
   "execution_count": 14,
   "outputs": [
    {
     "data": {
      "text/plain": "array([1.04, 1.04, 1.05])"
     },
     "execution_count": 14,
     "metadata": {},
     "output_type": "execute_result"
    }
   ],
   "source": [
    "uu[vv[\"i1\"][\"Vm\"]:vv[\"iN\"][\"Vm\"]]"
   ],
   "metadata": {
    "collapsed": false
   }
  },
  {
   "cell_type": "code",
   "execution_count": 15,
   "outputs": [
    {
     "data": {
      "text/plain": "array([1.03999965, 1.01244732, 1.05      ])"
     },
     "execution_count": 15,
     "metadata": {},
     "output_type": "execute_result"
    }
   ],
   "source": [
    "bus[:, VM] # 赋值"
   ],
   "metadata": {
    "collapsed": false
   }
  },
  {
   "cell_type": "code",
   "execution_count": 16,
   "outputs": [],
   "source": [
    "x0[vv[\"i1\"][\"Vm\"]:vv[\"iN\"][\"Vm\"]] = bus[:, VM] # 赋值"
   ],
   "metadata": {
    "collapsed": false
   }
  },
  {
   "cell_type": "code",
   "execution_count": 17,
   "outputs": [],
   "source": [
    "Va_refs = bus[bus[:, BUS_TYPE]  == REF, VA] * (pi / 180)\n",
    "x0[vv[\"i1\"][\"Va\"]:vv[\"iN\"][\"Va\"]] = bus[:, VA] * (pi / 180) # 赋值"
   ],
   "metadata": {
    "collapsed": false
   }
  },
  {
   "cell_type": "code",
   "execution_count": 18,
   "outputs": [],
   "source": [
    "## 赋值\n",
    "x0[vv[\"i1\"][\"Pg\"]:vv[\"iN\"][\"Pg\"]] = gen[:,PG]\n",
    "x0[vv[\"i1\"][\"Qg\"]:vv[\"iN\"][\"Qg\"]] = gen[:,QG]"
   ],
   "metadata": {
    "collapsed": false
   }
  },
  {
   "cell_type": "markdown",
   "source": [
    "\n",
    "### 不能处理piecewise linear 的cost, 因为没有引入那个函数，（大约在这个位置）"
   ],
   "metadata": {
    "collapsed": false
   }
  },
  {
   "cell_type": "markdown",
   "source": [
    "\n",
    "### 处理cost fun"
   ],
   "metadata": {
    "collapsed": false
   }
  },
  {
   "cell_type": "code",
   "execution_count": 19,
   "outputs": [],
   "source": [
    "## grab Pg & Qg\n",
    "Pg = x0[vv[\"i1\"][\"Pg\"]:vv[\"iN\"][\"Pg\"]]  ## active generation in p.u.\n",
    "Qg = x0[vv[\"i1\"][\"Qg\"]:vv[\"iN\"][\"Qg\"]]  ## reactive generation in p.u.\n",
    "\n",
    "##----- evaluate objective function -----\n",
    "## polynomial cost of P and Q\n",
    "# use totcost only on polynomial cost in the minimization problem formulation, pwl cost is the sum of the y variables.\n",
    "ipol = find(gencost[:, MODEL] == POLYNOMIAL)   ## poly MW and MVAr costs\n",
    "xx = r_[ Pg, Qg ] * baseMVA\n",
    "if len(ipol)>0:\n",
    "    f = sum( totcost(gencost[ipol, :], xx[ipol]) )  ## cost of poly P or Q\n",
    "else:\n",
    "    f = 0"
   ],
   "metadata": {
    "collapsed": false
   }
  },
  {
   "cell_type": "code",
   "execution_count": 20,
   "outputs": [
    {
     "data": {
      "text/plain": "array([ 2.85190462, 49.99998687])"
     },
     "execution_count": 20,
     "metadata": {},
     "output_type": "execute_result"
    }
   ],
   "source": [
    "Pg"
   ],
   "metadata": {
    "collapsed": false
   }
  },
  {
   "cell_type": "code",
   "execution_count": 21,
   "outputs": [
    {
     "data": {
      "text/plain": "array([ 2.85190462, 49.99998687])"
     },
     "execution_count": 21,
     "metadata": {},
     "output_type": "execute_result"
    }
   ],
   "source": [
    "xx[ipol]"
   ],
   "metadata": {
    "collapsed": false
   }
  },
  {
   "cell_type": "code",
   "execution_count": 22,
   "outputs": [
    {
     "name": "stdout",
     "output_type": "stream",
     "text": [
      "(array([20., 10.]), array([20., 10.]))\n"
     ]
    }
   ],
   "source": [
    "First_Or_Con = 4\n",
    "print(f\"{gencost[ipol, First_Or_Con], gencost[:, First_Or_Con]}\")"
   ],
   "metadata": {
    "collapsed": false
   }
  },
  {
   "cell_type": "code",
   "execution_count": 23,
   "outputs": [
    {
     "data": {
      "text/plain": "array([[ 2.,  0.,  0.,  2., 20.,  0.],\n       [ 2.,  0.,  0.,  2., 10.,  0.]])"
     },
     "execution_count": 23,
     "metadata": {},
     "output_type": "execute_result"
    }
   ],
   "source": [
    "gencost"
   ],
   "metadata": {
    "collapsed": false
   }
  },
  {
   "cell_type": "markdown",
   "source": [
    "### 处理约束部分"
   ],
   "metadata": {
    "collapsed": false
   }
  },
  {
   "cell_type": "code",
   "execution_count": 24,
   "outputs": [],
   "source": [
    "## grab Pg & Qg\n",
    "Pg = x0[vv[\"i1\"][\"Pg\"]:vv[\"iN\"][\"Pg\"]]  ## active generation in p.u.\n",
    "Qg = x0[vv[\"i1\"][\"Qg\"]:vv[\"iN\"][\"Qg\"]]  ## reactive generation in p.u."
   ],
   "metadata": {
    "collapsed": false
   }
  },
  {
   "cell_type": "code",
   "execution_count": 25,
   "outputs": [],
   "source": [
    "## put Pg & Qg back in gen\n",
    "gen[:, PG] = Pg * baseMVA  ## active generation in MW\n",
    "gen[:, QG] = Qg * baseMVA  ## reactive generation in MVAr"
   ],
   "metadata": {
    "collapsed": false
   }
  },
  {
   "cell_type": "code",
   "execution_count": 26,
   "outputs": [],
   "source": [
    "\n",
    "on = find(gen[:, GEN_STATUS] > 0)      ## which generators are on?\n",
    "gbus = gen[on, GEN_BUS]                   ## what buses are they at?\n",
    "\n",
    "## form net complex bus power injection vector\n",
    "nb = bus.shape[0]\n",
    "ngon = on.shape[0]\n",
    "## connection matrix, element i, j is 1 if gen on(j) at bus i is ON\n",
    "Cg = sparse((ones(ngon), (gbus, range(ngon))), (nb, ngon))\n",
    "\n",
    "## power injected by gens plus power injected by loads converted to p.u.\n",
    "Sbus = ( Cg * (gen[on, PG] + 1j * gen[on, QG]) - (bus[:, PD] + 1j * bus[:, QD]) ) / baseMVA\n",
    "# Sbus = makeSbus(baseMVA, bus, gen) ## net injected power in p.u."
   ],
   "metadata": {
    "collapsed": false
   }
  },
  {
   "cell_type": "code",
   "execution_count": 27,
   "outputs": [
    {
     "data": {
      "text/plain": "array([ 49.99998687-9.54976553j, -50.        +0.j        ,\n         2.85190462+9.94003228j])"
     },
     "execution_count": 27,
     "metadata": {},
     "output_type": "execute_result"
    }
   ],
   "source": [
    "Sbus"
   ],
   "metadata": {
    "collapsed": false
   }
  },
  {
   "cell_type": "code",
   "execution_count": 28,
   "outputs": [
    {
     "data": {
      "text/plain": "array([1.03131541+0.13411857j, 1.01241846+0.00764502j,\n       1.05      +0.j        ])"
     },
     "execution_count": 28,
     "metadata": {},
     "output_type": "execute_result"
    }
   ],
   "source": [
    "## reconstruct V\n",
    "Va = x0[vv[\"i1\"][\"Va\"]:vv[\"iN\"][\"Va\"]]\n",
    "Vm = x0[vv[\"i1\"][\"Vm\"]:vv[\"iN\"][\"Vm\"]]\n",
    "V = Vm * exp(1j * Va)\n",
    "V"
   ],
   "metadata": {
    "collapsed": false
   }
  },
  {
   "cell_type": "code",
   "execution_count": 29,
   "outputs": [
    {
     "data": {
      "text/plain": "array([0.12932036, 0.00755111, 0.        ])"
     },
     "execution_count": 29,
     "metadata": {},
     "output_type": "execute_result"
    }
   ],
   "source": [
    "Va"
   ],
   "metadata": {
    "collapsed": false
   }
  },
  {
   "cell_type": "code",
   "execution_count": 30,
   "outputs": [
    {
     "data": {
      "text/plain": "      vm_pu  va_degree       p_mw    q_mvar      lam_p         lam_q\n0  1.040000   7.409511 -49.999987  9.549766  17.670657 -1.923651e-21\n1  1.012447   0.432646  50.000000  0.000000  19.898127  8.744828e-02\n2  1.050000   0.000000  -2.851905 -9.940032  19.999967  2.002148e-21",
      "text/html": "<div>\n<style scoped>\n    .dataframe tbody tr th:only-of-type {\n        vertical-align: middle;\n    }\n\n    .dataframe tbody tr th {\n        vertical-align: top;\n    }\n\n    .dataframe thead th {\n        text-align: right;\n    }\n</style>\n<table border=\"1\" class=\"dataframe\">\n  <thead>\n    <tr style=\"text-align: right;\">\n      <th></th>\n      <th>vm_pu</th>\n      <th>va_degree</th>\n      <th>p_mw</th>\n      <th>q_mvar</th>\n      <th>lam_p</th>\n      <th>lam_q</th>\n    </tr>\n  </thead>\n  <tbody>\n    <tr>\n      <th>0</th>\n      <td>1.040000</td>\n      <td>7.409511</td>\n      <td>-49.999987</td>\n      <td>9.549766</td>\n      <td>17.670657</td>\n      <td>-1.923651e-21</td>\n    </tr>\n    <tr>\n      <th>1</th>\n      <td>1.012447</td>\n      <td>0.432646</td>\n      <td>50.000000</td>\n      <td>0.000000</td>\n      <td>19.898127</td>\n      <td>8.744828e-02</td>\n    </tr>\n    <tr>\n      <th>2</th>\n      <td>1.050000</td>\n      <td>0.000000</td>\n      <td>-2.851905</td>\n      <td>-9.940032</td>\n      <td>19.999967</td>\n      <td>2.002148e-21</td>\n    </tr>\n  </tbody>\n</table>\n</div>"
     },
     "execution_count": 30,
     "metadata": {},
     "output_type": "execute_result"
    }
   ],
   "source": [
    "net.res_bus"
   ],
   "metadata": {
    "collapsed": false
   }
  },
  {
   "cell_type": "code",
   "execution_count": 31,
   "outputs": [],
   "source": [
    "## evaluate power flow equations\n",
    "mis = V * conj(Ybus * V) - Sbus"
   ],
   "metadata": {
    "collapsed": false
   }
  },
  {
   "cell_type": "code",
   "execution_count": 32,
   "outputs": [
    {
     "data": {
      "text/plain": "array([[ 1.00000000e+00+0.j,  2.00000000e+00+0.j,  1.44297521e-03+0.j,\n         3.04958678e-03+0.j,  2.99354510e+00+0.j,  8.95470268e+01+0.j,\n         2.50000000e+02+0.j,  2.50000000e+02+0.j,  1.00000000e+00+0.j,\n         0.00000000e+00+0.j,  1.00000000e+00+0.j, -3.60000000e+02+0.j,\n         3.60000000e+02+0.j, -2.66544126e+00+0.j, -1.27304181e+01+0.j,\n         2.85190462e+00+0.j,  9.94003228e+00+0.j,  0.00000000e+00+0.j,\n         0.00000000e+00+0.j,  0.00000000e+00+0.j,  0.00000000e+00+0.j,\n         0.00000000e+00+0.j,  0.00000000e+00+0.j],\n       [ 0.00000000e+00+0.j,  1.00000000e+00+0.j,  1.12231405e-03+0.j,\n         2.37190083e-03+0.j,  2.32831286e+00+0.j,  8.95470268e+01+0.j,\n         2.50000000e+02+0.j,  2.50000000e+02+0.j,  1.00000000e+00+0.j,\n         0.00000000e+00+0.j,  1.00000000e+00+0.j, -3.60000000e+02+0.j,\n         3.60000000e+02+0.j,  4.99999869e+01+0.j, -9.54976553e+00+0.j,\n        -4.73345587e+01+0.j,  1.27304181e+01+0.j,  0.00000000e+00+0.j,\n         0.00000000e+00+0.j,  0.00000000e+00+0.j,  0.00000000e+00+0.j,\n         0.00000000e+00+0.j,  0.00000000e+00+0.j]])"
     },
     "execution_count": 32,
     "metadata": {},
     "output_type": "execute_result"
    }
   ],
   "source": [
    "ppc['branch']"
   ],
   "metadata": {
    "collapsed": false
   }
  },
  {
   "cell_type": "code",
   "execution_count": 33,
   "outputs": [
    {
     "data": {
      "text/plain": "array([89.54702675+0.j, 89.54702675+0.j])"
     },
     "execution_count": 33,
     "metadata": {},
     "output_type": "execute_result"
    }
   ],
   "source": [
    "branch[:, RATE_A]"
   ],
   "metadata": {
    "collapsed": false
   }
  },
  {
   "cell_type": "code",
   "execution_count": 34,
   "outputs": [],
   "source": [
    " ## find branches with flow limits\n",
    "il = find((branch[:, RATE_A] != 0) & (branch[:, RATE_A] < 1e10))\n",
    "nl2 = len(il)           ## number of constrained lines"
   ],
   "metadata": {
    "collapsed": false
   }
  },
  {
   "cell_type": "code",
   "execution_count": 35,
   "outputs": [
    {
     "data": {
      "text/plain": "array([0, 1])"
     },
     "execution_count": 35,
     "metadata": {},
     "output_type": "execute_result"
    }
   ],
   "source": [
    "il"
   ],
   "metadata": {
    "collapsed": false
   }
  },
  {
   "cell_type": "code",
   "execution_count": 36,
   "outputs": [],
   "source": [
    "Pg_lower, Pg_upper = ll[vv[\"i1\"][\"Pg\"]:vv[\"iN\"][\"Pg\"]], uu[vv[\"i1\"][\"Pg\"]:vv[\"iN\"][\"Pg\"]]"
   ],
   "metadata": {
    "collapsed": false
   }
  },
  {
   "cell_type": "code",
   "execution_count": 67,
   "outputs": [
    {
     "name": "stdout",
     "output_type": "stream",
     "text": [
      "Set parameter NonConvex to value 2\n",
      "Pg: [50.         11.26309034]; Qg: [-1.86774648 -1.01705257]; opt obj: 66.89463550245667\n",
      "Ve: [0.99783147 1.009404   1.05      ]; Vim: [-0.10713049 -0.08743003  0.        ]; Pd: 20\n"
     ]
    },
    {
     "data": {
      "text/plain": "array([50.        , 11.26309034])"
     },
     "execution_count": 67,
     "metadata": {},
     "output_type": "execute_result"
    }
   ],
   "source": [
    "# Parameters\n",
    "# obtain the complex load\n",
    "Pd = bus[:, PD]\n",
    "Qd = bus[:, QD]\n",
    "flow_max = [8018.67,8018.67]\n",
    "# slack_v = net.ext_grid['vm_pu']\n",
    "Pg_lower, Pg_upper = ll[vv[\"i1\"][\"Pg\"]:vv[\"iN\"][\"Pg\"]], uu[vv[\"i1\"][\"Pg\"]:vv[\"iN\"][\"Pg\"]]*baseMVA\n",
    "Qg_lower, Qg_upper = ll[vv[\"i1\"][\"Qg\"]:vv[\"iN\"][\"Qg\"]], uu[vv[\"i1\"][\"Qg\"]:vv[\"iN\"][\"Qg\"]]*baseMVA\n",
    "\n",
    "def optimize_OPF(p_load):\n",
    "    Pd = p_load\n",
    "    Qd = 0\n",
    "    # Pd = bus[:, PD]\n",
    "    Qd = bus[:, QD]\n",
    "\n",
    "    lb_update = -1e4\n",
    "\n",
    "    # obtain the range of voltage; the range is from the setting\n",
    "    V_range = 0.1\n",
    "    V_ll,V_uu = 1.0-V_range, 1.0+V_range\n",
    "\n",
    "    # create the model; set the model type: NonConvex.\n",
    "    model = gp.Model(\"PowerGeneration\");model.setParam('NonConvex', 2)\n",
    "    model.setParam(\"LogToConsole\", 0)\n",
    "\n",
    "    # creat variables for the model; the numbers in the following codes should be replaced by parameters\n",
    "    V_re = model.addMVar(3, lb=[-1.05,-1.05,-1.05], ub=[1.05,1.05,1.05], vtype=GRB.CONTINUOUS, name='V real')\n",
    "    V_im = model.addMVar(3, lb=[-1.05,-1.05,-1.05],ub=[1.05,1.05,1.05], vtype=GRB.CONTINUOUS, name='V imag')\n",
    "    # Pg = model.addMVar(2, lb=0, ub=[105,105], vtype=GRB.CONTINUOUS, name='Pg')\n",
    "    # Qg = model.addMVar(2, lb=[0,0], ub=[105,105], vtype=GRB.CONTINUOUS, name='Qg')\n",
    "    # temp1 = model.addMVar(3, lb=lb_update, vtype=GRB.CONTINUOUS, name='Temp 1')\n",
    "    # temp2 = model.addMVar(3, lb=lb_update, vtype=GRB.CONTINUOUS, name='Temp 2')\n",
    "    # Pg_net = model.addMVar(3, lb=lb_update, vtype=GRB.CONTINUOUS, name='Pg net')  # the number of buses, too\n",
    "    # Qg_net = model.addMVar(3, lb=lb_update, vtype=GRB.CONTINUOUS, name='Qg net')\n",
    "\n",
    "    Pg = model.addMVar(ngon, lb=Pg_lower, ub=Pg_upper, vtype=GRB.CONTINUOUS, name='Pg')\n",
    "    Qg = model.addMVar(ngon, lb=Qg_lower, ub=Qg_upper, vtype=GRB.CONTINUOUS, name='Qg')\n",
    "    temp1 = model.addMVar(nb, lb=lb_update, vtype=GRB.CONTINUOUS, name='Temp 1')\n",
    "    temp2 = model.addMVar(nb, lb=lb_update, vtype=GRB.CONTINUOUS, name='Temp 2')\n",
    "    Pg_net = model.addMVar(nb, lb=lb_update, vtype=GRB.CONTINUOUS, name='Pg net')  # the number of buses, too\n",
    "    Qg_net = model.addMVar(nb, lb=lb_update, vtype=GRB.CONTINUOUS, name='Qg net')\n",
    "    Line_temp_1 = model.addMVar(nl, lb=lb_update, vtype=GRB.CONTINUOUS, name='Line temp 1')    # the shape should be line number\n",
    "    Line_temp_2 = model.addMVar(nl, lb=lb_update, vtype=GRB.CONTINUOUS, name='Line temp 2')    # the shape should be line number\n",
    "    Line_temp_3 = model.addMVar(nl, lb=lb_update, vtype=GRB.CONTINUOUS, name='Line temp 3')    # the shape should be line number\n",
    "    Line_temp_4 = model.addMVar(nl, lb=lb_update, vtype=GRB.CONTINUOUS, name='Line temp 4')    # the shape should be line number\n",
    "\n",
    "\n",
    "    # the prameters of branches\n",
    "    G = np.real(Ybus)\n",
    "    B = np.imag(Ybus)\n",
    "    # the parameters for currents in branches\n",
    "    G_yf, B_yf = np.real(Yf), np.imag(Yf)\n",
    "    G_yt, B_yt = np.real(Yt), np.imag(Yt)\n",
    "\n",
    "    # Constraints; insert the formulas\n",
    "    Temp_c1 = model.addConstr(G@V_re - B@V_im == temp1, 'Temp Constr 1')\n",
    "    Temp_c2 = model.addConstr(G @ V_im + B @ V_re == temp2, 'Temp Constr 2')\n",
    "    Pg_net_c = model.addConstr(Cg @ Pg - Pd == Pg_net, 'Pg net Constr')\n",
    "    Qg_net_c = model.addConstr(Cg @ Qg - Qd == Qg_net, 'Qg net Constr')\n",
    "    # print(f'Pd:{Pd}\\n Qd:{Qd}')\n",
    "    CVL_CPL = model.addConstrs((V_re[i] * temp1[i] *baseMVA+ V_im[i] * temp2[i]*baseMVA == Pg_net[i]  for i in range(nb)), 'Cvl P')  # break into different parts\n",
    "    CVL_CPL_Q = model.addConstrs((V_im[i] * temp1[i] *baseMVA - V_re[i] * temp2[i]*baseMVA == Qg_net[i] for i in range(nb)), 'Cvl Q')\n",
    "\n",
    "\n",
    "    V_slack = model.addConstr(V_re[2]==1.05, 'V slack real')\n",
    "    V_slack_a = model.addConstr(V_im[2]==0, 'V slack imag')\n",
    "\n",
    "    V_upper = model.addConstrs((V_re[i]**2 + V_im[i]**2 <= V_uu**2 for i in [0,1]), 'V upper bound')  # 对 range 起始值的处理，是处理树\n",
    "    V_lower = model.addConstrs((V_re[i]**2 + V_im[i]**2 >= V_ll**2 for i in [0,1]), 'V lower bound')\n",
    "    # Yf * W * Yf; the number is equal to that of the lines/branches\n",
    "    Line_temp_c_1 = model.addConstr(G_yf@V_re - B_yf@V_im == Line_temp_1, 'Branch Con 1')\n",
    "    Line_temp_c_2 = model.addConstr(G_yf @ V_im + B_yf @ V_re == Line_temp_2, 'Branch Con 2')\n",
    "    Line_temp_c_3 = model.addConstr(G_yt@V_re - B_yt@V_im == Line_temp_3, 'Branch Con 3')\n",
    "    Line_temp_c_4 = model.addConstr(G_yt @ V_im + B_yt @ V_re == Line_temp_4, 'Branch Con 4')\n",
    "    # 下式左侧是否应该乘上baseMVA\n",
    "    Line_c_1 = model.addConstrs((Line_temp_1[i]**2 + Line_temp_2[i]**2 <= np.real(flow_max[i]) for i in range(nl)), 'Branch Con 1') # p.u.\n",
    "    Line_c_2 = model.addConstrs((Line_temp_3[i]**2 + Line_temp_4[i]**2 <= np.real(flow_max[i]) for i in range(nl)), 'Branch Con 2') # p.u.\n",
    "\n",
    "    model.setObjective(np.array([1, 1.5])@Pg, GRB.MINIMIZE)\n",
    "\n",
    "    # calculate the optimization\n",
    "    model.optimize()\n",
    "\n",
    "    Pg_star, Qg_star = Pg.X, Qg.X\n",
    "    optimized_obj = np.array([1, 1.5])@Pg_star\n",
    "\n",
    "    print(f'Pg: {Pg_star}; Qg: {Qg_star}; opt obj: {optimized_obj}')\n",
    "    print(f'Ve: {V_re.X}; Vim: {V_im.X}; Pd: {Pd}')\n",
    "    return Pg_star\n",
    "\n",
    "optimize_OPF(p_load=20)"
   ],
   "metadata": {
    "collapsed": false
   }
  },
  {
   "cell_type": "code",
   "execution_count": 69,
   "outputs": [
    {
     "name": "stdout",
     "output_type": "stream",
     "text": [
      "is: 1\n",
      "Set parameter NonConvex to value 2\n",
      "Pg: [3.12806545e+01 4.02402292e-09]; Qg: [-1.65647815 -1.19776981]; opt obj: 31.280654479327495\n",
      "Ve: [1.0070134  1.00703044 1.05      ]; Vim: [-0.09084915 -0.09085918  0.        ]; Pd: [ 0. 30.  0.]\n",
      "is: 2\n",
      "Set parameter NonConvex to value 2\n",
      "Pg: [3.23715575e+01 4.05760105e-09]; Qg: [-1.56594709 -1.08537882]; opt obj: 32.37155750795423\n",
      "Ve: [1.00549607 1.00526832 1.05      ]; Vim: [-0.0940382  -0.09390315  0.        ]; Pd: [ 0. 31.  0.]\n",
      "is: 3\n",
      "Set parameter NonConvex to value 2\n",
      "Pg: [3.34659311e+01 4.09217387e-09]; Qg: [-1.47190966 -0.96916419]; opt obj: 33.46593112663716\n",
      "Ve: [1.003972   1.00349124 1.05      ]; Vim: [-0.09723959 -0.09695239  0.        ]; Pd: [ 0. 32.  0.]\n",
      "is: 4\n",
      "Set parameter NonConvex to value 2\n",
      "Pg: [3.45638144e+01 4.12778125e-09]; Qg: [-1.37432326 -0.84908575]; opt obj: 34.56381444092764\n",
      "Ve: [1.00244104 1.00169904 1.05      ]; Vim: [-0.10045356 -0.10000693  0.        ]; Pd: [ 0. 33.  0.]\n",
      "is: 5\n",
      "Set parameter NonConvex to value 2\n",
      "Pg: [3.56652475e+01 4.16446853e-09]; Qg: [-1.27314469 -0.72510191]; opt obj: 35.665247502757765\n",
      "Ve: [1.00090306 0.99989152 1.05      ]; Vim: [-0.10368034 -0.10306685  0.        ]; Pd: [ 0. 34.  0.]\n",
      "is: 6\n",
      "Set parameter NonConvex to value 2\n",
      "Pg: [3.67702713e+01 4.20228039e-09]; Qg: [-1.16833014 -0.59716963]; opt obj: 36.770271342748266\n",
      "Ve: [0.99935794 0.99806851 1.05      ]; Vim: [-0.10692018 -0.10613221  0.        ]; Pd: [ 0. 35.  0.]\n",
      "is: 7\n",
      "Set parameter NonConvex to value 2\n",
      "Pg: [3.78789280e+01 4.24126521e-09]; Qg: [-1.05983517 -0.46524439]; opt obj: 37.87892800393081\n",
      "Ve: [0.99780553 0.99622981 1.05      ]; Vim: [-0.11017332 -0.10920306  0.        ]; Pd: [ 0. 36.  0.]\n",
      "is: 8\n",
      "Set parameter NonConvex to value 2\n",
      "Pg: [3.89912606e+01 4.28147664e-09]; Qg: [-0.94761471 -0.32928007]; opt obj: 38.99126057695985\n",
      "Ve: [0.9962457  0.99437525 1.05      ]; Vim: [-0.11344001 -0.11227946  0.        ]; Pd: [ 0. 37.  0.]\n",
      "is: 9\n",
      "Set parameter NonConvex to value 2\n",
      "Pg: [4.01073132e+01 4.31967239e-09]; Qg: [-0.83162302 -0.18922894]; opt obj: 40.10731323689639\n",
      "Ve: [0.99467829 0.99250461 1.05      ]; Vim: [-0.11672053 -0.11536148  0.        ]; Pd: [ 0. 38.  0.]\n",
      "is: 10\n",
      "Set parameter NonConvex to value 2\n",
      "Pg: [4.12271313e+01 4.36294220e-09]; Qg: [-0.71181368 -0.04504157]; opt obj: 41.227131281646834\n",
      "Ve: [0.99310317 0.99061772 1.05      ]; Vim: [-0.12001515 -0.1184492   0.        ]; Pd: [ 0. 39.  0.]\n",
      "is: 11\n",
      "Set parameter NonConvex to value 2\n",
      "Pg: [4.23507612e+01 4.40764338e-09]; Qg: [-0.58813961  0.1033332 ]; opt obj: 42.35076117215582\n",
      "Ve: [0.99152018 0.98871436 1.05      ]; Vim: [-0.12332413 -0.12154267  0.        ]; Pd: [ 0. 40.  0.]\n",
      "is: 12\n",
      "Set parameter NonConvex to value 2\n",
      "Pg: [4.34782506e+01 4.45385243e-09]; Qg: [-0.46055298  0.25594841]; opt obj: 43.47825057444178\n",
      "Ve: [0.98992918 0.98679434 1.05      ]; Vim: [-0.12664778 -0.12464198  0.        ]; Pd: [ 0. 41.  0.]\n",
      "is: 13\n",
      "Set parameter NonConvex to value 2\n",
      "Pg: [4.46096484e+01 4.50165143e-09]; Qg: [-0.32900528  0.41285897]; opt obj: 44.609648403586554\n",
      "Ve: [0.98833001 0.98485744 1.05      ]; Vim: [-0.12998638 -0.12774719  0.        ]; Pd: [ 0. 42.  0.]\n",
      "is: 14\n",
      "Set parameter NonConvex to value 2\n",
      "Pg: [4.57450049e+01 4.55112862e-09]; Qg: [-0.19344721  0.57412178]; opt obj: 45.74500486978875\n",
      "Ve: [0.98672251 0.98290345 1.05      ]; Vim: [-0.13334024 -0.1308584   0.        ]; Pd: [ 0. 43.  0.]\n",
      "is: 15\n",
      "Set parameter NonConvex to value 2\n",
      "Pg: [4.68843715e+01 4.60237899e-09]; Qg: [-0.05382873  0.73979582]; opt obj: 46.88437152659844\n",
      "Ve: [0.98510652 0.98093216 1.05      ]; Vim: [-0.13670968 -0.13397566  0.        ]; Pd: [ 0. 44.  0.]\n",
      "is: 16\n",
      "Set parameter NonConvex to value 2\n",
      "Pg: [4.80278013e+01 4.65550510e-09]; Qg: [0.08990096 0.9099422 ]; opt obj: 48.02780132146283\n",
      "Ve: [0.98348188 0.97894334 1.05      ]; Vim: [-0.14009502 -0.13709908  0.        ]; Pd: [ 0. 45.  0.]\n",
      "is: 17\n",
      "Set parameter NonConvex to value 2\n",
      "Pg: [4.91753486e+01 4.71061931e-09]; Qg: [0.23779351 1.0846243 ]; opt obj: 49.17534864871693\n",
      "Ve: [0.98184841 0.97693678 1.05      ]; Vim: [-0.1434966  -0.14022874  0.        ]; Pd: [ 0. 46.  0.]\n",
      "is: 18\n",
      "Set parameter NonConvex to value 2\n",
      "Pg: [49.99999999  0.28370099]; Qg: [0.3454967  1.21284513]; opt obj: 50.4255514822097\n",
      "Ve: [0.981095   0.97549068 1.05      ]; Vim: [-0.14531743 -0.14247582  0.        ]; Pd: [ 0. 47.  0.]\n",
      "is: 19\n",
      "Set parameter NonConvex to value 2\n",
      "Pg: [49.99999999  1.28549608]; Qg: [0.34062749 1.21874307]; opt obj: 51.928244120312144\n",
      "Ve: [0.98259369 0.97550482 1.05      ]; Vim: [-0.14311501 -0.14248251  0.        ]; Pd: [ 0. 48.  0.]\n",
      "is: 20\n",
      "Set parameter NonConvex to value 2\n",
      "Pg: [49.99999999  2.28960047]; Qg: [0.33276104 1.23241658]; opt obj: 53.43440070137271\n",
      "Ve: [0.98410743 0.97552767 1.05      ]; Vim: [-0.14092115 -0.14249332  0.        ]; Pd: [ 0. 49.  0.]\n",
      "is: 21\n",
      "Set parameter NonConvex to value 2\n",
      "Pg: [49.99999999  3.29601382]; Qg: [0.32191001 1.25385267]; opt obj: 54.94402071775378\n",
      "Ve: [0.98563612 0.97555919 1.05      ]; Vim: [-0.13873591 -0.14250823  0.        ]; Pd: [ 0. 50.  0.]\n",
      "is: 22\n",
      "Set parameter NonConvex to value 2\n",
      "Pg: [49.99999999  4.30473565]; Qg: [0.30808742 1.28303768]; opt obj: 56.45710347022949\n",
      "Ve: [0.98717968 0.97559933 1.05      ]; Vim: [-0.13655932 -0.14252723  0.        ]; Pd: [ 0. 51.  0.]\n",
      "is: 23\n",
      "Set parameter NonConvex to value 2\n",
      "Pg: [49.99999999  5.31576538]; Qg: [0.2913067  1.31995731]; opt obj: 57.97364806947218\n",
      "Ve: [0.98873803 0.97564807 1.05      ]; Vim: [-0.13439141 -0.14255029  0.        ]; Pd: [ 0. 52.  0.]\n",
      "is: 24\n",
      "Set parameter NonConvex to value 2\n",
      "Pg: [49.99999999  6.3291023 ]; Qg: [0.27158162 1.36459666]; opt obj: 59.49365343760068\n",
      "Ve: [0.99031106 0.97570536 1.05      ]; Vim: [-0.13223221 -0.1425774   0.        ]; Pd: [ 0. 53.  0.]\n",
      "is: 25\n",
      "Set parameter NonConvex to value 2\n",
      "Pg: [49.99999999  7.34474554]; Qg: [0.24892633 1.41694019]; opt obj: 61.01711830978669\n",
      "Ve: [0.9918987  0.97577116 1.05      ]; Vim: [-0.13008177 -0.14260853  0.        ]; Pd: [ 0. 54.  0.]\n",
      "is: 26\n",
      "Set parameter NonConvex to value 2\n",
      "Pg: [49.99999999  8.36269416]; Qg: [0.22335531 1.47697176]; opt obj: 62.54404123591803\n",
      "Ve: [0.99350083 0.97584542 1.05      ]; Vim: [-0.1279401  -0.14264367  0.        ]; Pd: [ 0. 55.  0.]\n",
      "is: 27\n",
      "Set parameter NonConvex to value 2\n",
      "Pg: [49.99999999  9.38294706]; Qg: [0.19488342 1.54467465]; opt obj: 64.07442058231781\n",
      "Ve: [0.99511738 0.97592812 1.05      ]; Vim: [-0.12580724 -0.1426828   0.        ]; Pd: [ 0. 56.  0.]\n",
      "is: 28\n",
      "Set parameter NonConvex to value 2\n",
      "Pg: [50.         10.40550303]; Qg: [0.1635258  1.62003155]; opt obj: 65.60825453351502\n",
      "Ve: [0.99674823 0.97601919 1.05      ]; Vim: [-0.12368322 -0.14272589  0.        ]; Pd: [ 0. 57.  0.]\n",
      "is: 29\n",
      "Set parameter NonConvex to value 2\n",
      "Pg: [50.         11.43036073]; Qg: [0.12929794 1.7030246 ]; opt obj: 67.14554109406672\n",
      "Ve: [0.99839329 0.9761186  1.05      ]; Vim: [-0.12156806 -0.14277293  0.        ]; Pd: [ 0. 58.  0.]\n",
      "is: 30\n",
      "Set parameter NonConvex to value 2\n",
      "Pg: [50.         12.45751873]; Qg: [0.09221564 1.79363537]; opt obj: 68.68627809042911\n",
      "Ve: [1.00005246 0.9762263  1.05      ]; Vim: [-0.11946179 -0.14282389  0.        ]; Pd: [ 0. 59.  0.]\n",
      "is: 31\n",
      "Set parameter NonConvex to value 2\n",
      "Pg: [50.         13.48697545]; Qg: [0.052295   1.89184489]; opt obj: 70.23046317287483\n",
      "Ve: [1.00172565 0.97634225 1.05      ]; Vim: [-0.11736443 -0.14287875  0.        ]; Pd: [ 0. 60.  0.]\n",
      "is: 32\n",
      "Set parameter NonConvex to value 2\n",
      "Pg: [50.         14.51872921]; Qg: [0.0095524  1.99763367]; opt obj: 71.77809381745492\n",
      "Ve: [1.00341273 0.97646639 1.05      ]; Vim: [-0.11527599 -0.14293749  0.        ]; Pd: [ 0. 61.  0.]\n",
      "is: 33\n",
      "Set parameter NonConvex to value 2\n",
      "Pg: [50.         15.55277822]; Qg: [-0.03599549  2.11098169]; opt obj: 73.32916732800355\n",
      "Ve: [1.00511362 0.97659867 1.05      ]; Vim: [-0.11319651 -0.14300009  0.        ]; Pd: [ 0. 62.  0.]\n",
      "is: 34\n",
      "Set parameter NonConvex to value 2\n",
      "Pg: [50.         16.58912056]; Qg: [-0.08433172  2.23186844]; opt obj: 74.88368083818267\n",
      "Ve: [1.0068282  0.97673906 1.05      ]; Vim: [-0.11112599 -0.14306652  0.        ]; Pd: [ 0. 63.  0.]\n",
      "is: 35\n",
      "Set parameter NonConvex to value 2\n",
      "Pg: [50.         17.62775421]; Qg: [-0.13543911  2.36027291]; opt obj: 76.44163131356558\n",
      "Ve: [1.00855637 0.9768875  1.05      ]; Vim: [-0.10906446 -0.14313675  0.        ]; Pd: [ 0. 64.  0.]\n",
      "is: 36\n",
      "Set parameter NonConvex to value 2\n",
      "Pg: [50.         18.66867704]; Qg: [-0.18930019  2.49617362]; opt obj: 78.0030155537559\n",
      "Ve: [1.01029803 0.97704393 1.05      ]; Vim: [-0.10701193 -0.14321077  0.        ]; Pd: [ 0. 65.  0.]\n",
      "is: 37\n",
      "Set parameter NonConvex to value 2\n",
      "Pg: [50.        19.7118868]; Qg: [-0.24589729  2.6395486 ]; opt obj: 79.56783019454204\n",
      "Ve: [1.01205305 0.97720831 1.05      ]; Vim: [-0.10496841 -0.14328855  0.        ]; Pd: [ 0. 66.  0.]\n",
      "is: 38\n",
      "Set parameter NonConvex to value 2\n",
      "Pg: [50.         20.75738114]; Qg: [-0.30521246  2.79037545]; opt obj: 81.1360717100823\n",
      "Ve: [1.01382134 0.97738058 1.05      ]; Vim: [-0.10293392 -0.14337006  0.        ]; Pd: [ 0. 67.  0.]\n",
      "is: 39\n",
      "Set parameter NonConvex to value 2\n",
      "Pg: [50.         21.80515761]; Qg: [-0.36722757  2.94863133]; opt obj: 82.70773641512082\n",
      "Ve: [1.01560278 0.97756069 1.05      ]; Vim: [-0.10090847 -0.14345529  0.        ]; Pd: [ 0. 68.  0.]\n",
      "is: 40\n",
      "Set parameter NonConvex to value 2\n",
      "Pg: [50.         22.85521365]; Qg: [-0.43192425  3.11429296]; opt obj: 84.28282046723193\n",
      "Ve: [1.01739726 0.9777486  1.05      ]; Vim: [-0.09889206 -0.1435442   0.        ]; Pd: [ 0. 69.  0.]\n",
      "is: 41\n",
      "Set parameter NonConvex to value 2\n",
      "Pg: [50.         23.90754658]; Qg: [-0.49928396  3.28733665]; opt obj: 85.86131986908939\n",
      "Ve: [1.01920467 0.97794423 1.05      ]; Vim: [-0.09688471 -0.14363677  0.        ]; Pd: [ 0. 70.  0.]\n",
      "is: 42\n",
      "Set parameter NonConvex to value 2\n",
      "Pg: [50.         24.96215365]; Qg: [-0.56928794  3.4677383 ]; opt obj: 87.44323047076121\n",
      "Ve: [1.0210249  0.97814755 1.05      ]; Vim: [-0.09488641 -0.14373297  0.        ]; Pd: [ 0. 71.  0.]\n",
      "is: 43\n",
      "Set parameter NonConvex to value 2\n",
      "Pg: [50.         26.01903198]; Qg: [-0.64191725  3.65547344]; opt obj: 89.02854797202505\n",
      "Ve: [1.02285782 0.97835849 1.05      ]; Vim: [-0.09289719 -0.14383278  0.        ]; Pd: [ 0. 72.  0.]\n",
      "is: 44\n",
      "Set parameter NonConvex to value 2\n",
      "Pg: [50.         27.07817862]; Qg: [-0.7171528   3.85051719]; opt obj: 90.61726792470525\n",
      "Ve: [1.02470334 0.97857701 1.05      ]; Vim: [-0.09091703 -0.14393618  0.        ]; Pd: [ 0. 73.  0.]\n",
      "is: 45\n",
      "Set parameter NonConvex to value 2\n",
      "Pg: [50.         28.13959049]; Qg: [-0.79497529  4.05284434]; opt obj: 92.20938573502679\n",
      "Ve: [1.02656132 0.97880303 1.05      ]; Vim: [-0.08894595 -0.14404313  0.        ]; Pd: [ 0. 74.  0.]\n",
      "is: 46\n",
      "Set parameter NonConvex to value 2\n",
      "Pg: [50.         29.20326445]; Qg: [-0.87536532  4.2624293 ]; opt obj: 93.8048966659867\n",
      "Ve: [1.02843167 0.97903651 1.05      ]; Vim: [-0.08698394 -0.1441536   0.        ]; Pd: [ 0. 75.  0.]\n",
      "is: 47\n",
      "Set parameter NonConvex to value 2\n",
      "Pg: [50.         30.26919723]; Qg: [-0.9583033   4.47924616]; opt obj: 95.40379583973868\n",
      "Ve: [1.03031425 0.9792774  1.05      ]; Vim: [-0.08503101 -0.14426758  0.        ]; Pd: [ 0. 76.  0.]\n",
      "is: 48\n",
      "Set parameter NonConvex to value 2\n",
      "Pg: [50.        31.3373855]; Qg: [-1.04376954  4.70326867]; opt obj: 97.00607823999295\n",
      "Ve: [1.03220895 0.97952562 1.05      ]; Vim: [-0.08308715 -0.14438503  0.        ]; Pd: [ 0. 77.  0.]\n",
      "is: 49\n",
      "Set parameter NonConvex to value 2\n",
      "Pg: [50.         32.40782581]; Qg: [-1.13174419  4.93447025]; opt obj: 98.61173871442382\n",
      "Ve: [1.03411566 0.97978113 1.05      ]; Vim: [-0.08115236 -0.14450594  0.        ]; Pd: [ 0. 78.  0.]\n",
      "is: 50\n",
      "Set parameter NonConvex to value 2\n",
      "Pg: [50.         33.48051465]; Qg: [-1.2222073   5.17282405]; opt obj: 100.22077197708913\n",
      "Ve: [1.03603427 0.98004387 1.05      ]; Vim: [-0.07922664 -0.14463026  0.        ]; Pd: [ 0. 79.  0.]\n",
      "is: 51\n",
      "Set parameter NonConvex to value 2\n",
      "Pg: [50.         34.55544841]; Qg: [-1.3151388   5.41830291]; opt obj: 101.83317261085566\n",
      "Ve: [1.03796464 0.98031378 1.05      ]; Vim: [-0.07730998 -0.14475797  0.        ]; Pd: [ 0. 80.  0.]\n",
      "is: 52\n",
      "Set parameter NonConvex to value 2\n",
      "Pg: [50.         35.63262338]; Qg: [-1.41051853  5.67087937]; opt obj: 103.4489350698313\n",
      "Ve: [1.03990666 0.9805908  1.05      ]; Vim: [-0.07540238 -0.14488904  0.        ]; Pd: [ 0. 81.  0.]\n",
      "is: 53\n",
      "Set parameter NonConvex to value 2\n",
      "Pg: [50.         36.71203579]; Qg: [-1.50832623  5.93052573]; opt obj: 105.06805368180099\n",
      "Ve: [1.04186022 0.98087487 1.05      ]; Vim: [-0.07350383 -0.14502346  0.        ]; Pd: [ 0. 82.  0.]\n",
      "is: 54\n",
      "Set parameter NonConvex to value 2\n",
      "Pg: [50.         37.79368177]; Qg: [-1.60854154  6.19721402]; opt obj: 106.69052265066497\n",
      "Ve: [1.04382519 0.98116593 1.05      ]; Vim: [-0.07161432 -0.14516118  0.        ]; Pd: [ 0. 83.  0.]\n",
      "is: 55\n",
      "Set parameter NonConvex to value 2\n",
      "Pg: [50.         38.87755738]; Qg: [-1.71114402  6.47091599]; opt obj: 108.31633605887876\n",
      "Ve: [1.04580146 0.98146392 1.05      ]; Vim: [-0.06973384 -0.14530218  0.        ]; Pd: [ 0. 84.  0.]\n",
      "is: 56\n",
      "Set parameter NonConvex to value 2\n",
      "Pg: [50.         39.96365858]; Qg: [-1.81611307  6.7516031 ]; opt obj: 109.94548786988895\n",
      "Ve: [1.04778891 0.98176879 1.05      ]; Vim: [-0.06786239 -0.14544644  0.        ]; Pd: [ 0. 85.  0.]\n",
      "is: 57\n",
      "Set parameter NonConvex to value 2\n",
      "Pg: [50.         41.05198129]; Qg: [-1.92341847  7.03923728]; opt obj: 111.57797192969048\n",
      "Ve: [1.04978737 0.98208045 1.05      ]; Vim: [-0.06599991 -0.1455939   0.        ]; Pd: [ 0. 86.  0.]\n",
      "is: 58\n",
      "Set parameter NonConvex to value 2\n",
      "Pg: [50.         42.14285976]; Qg: [-1.66882882  6.98077453]; opt obj: 113.21428964220269\n",
      "Ve: [1.05       0.98134102 1.05      ]; Vim: [-0.0630034  -0.14524403  0.        ]; Pd: [ 0. 87.  0.]\n",
      "is: 59\n",
      "Set parameter NonConvex to value 2\n",
      "Pg: [50.         43.23680668]; Qg: [-1.37086016  6.886636  ]; opt obj: 114.85521001289902\n",
      "Ve: [1.05       0.98047561 1.05      ]; Vim: [-0.05986582 -0.14483454  0.        ]; Pd: [ 0. 88.  0.]\n",
      "is: 60\n",
      "Set parameter NonConvex to value 2\n",
      "Pg: [50.         44.33384453]; Qg: [-1.07259136  6.79870762]; opt obj: 116.50076678403994\n",
      "Ve: [1.05       0.97960933 1.05      ]; Vim: [-0.05672195 -0.14442464  0.        ]; Pd: [ 0. 89.  0.]\n",
      "is: 61\n",
      "Set parameter NonConvex to value 2\n",
      "Pg: [50.         45.43399121]; Qg: [-0.77402224  6.71702688]; opt obj: 118.15098680991849\n",
      "Ve: [1.05       0.97874218 1.05      ]; Vim: [-0.05357178 -0.14401433  0.        ]; Pd: [ 0. 90.  0.]\n",
      "is: 62\n",
      "Set parameter NonConvex to value 2\n",
      "Pg: [50.         46.53726476]; Qg: [-0.47515246  6.64163142]; opt obj: 119.80589714365424\n",
      "Ve: [1.05       0.97787415 1.05      ]; Vim: [-0.05041528 -0.14360361  0.        ]; Pd: [ 0. 91.  0.]\n",
      "is: 63\n",
      "Set parameter NonConvex to value 2\n",
      "Pg: [50.         47.64368336]; Qg: [-0.17598165  6.57255913]; opt obj: 121.46552503881948\n",
      "Ve: [1.05       0.97700525 1.05      ]; Vim: [-0.04725242 -0.14319247  0.        ]; Pd: [ 0. 92.  0.]\n",
      "is: 64\n",
      "Set parameter NonConvex to value 2\n",
      "Pg: [50.        48.7532653]; Qg: [0.12349052 6.50984819]; opt obj: 123.12989795108346\n",
      "Ve: [1.05       0.97613547 1.05      ]; Vim: [-0.04408318 -0.14278091  0.        ]; Pd: [ 0. 93.  0.]\n",
      "is: 65\n",
      "Set parameter NonConvex to value 2\n",
      "Pg: [50.         49.86602903]; Qg: [0.42326441 6.45353709]; opt obj: 124.79904353987034\n",
      "Ve: [1.05       0.97526481 1.05      ]; Vim: [-0.04090752 -0.14236895  0.        ]; Pd: [ 0. 94.  0.]\n"
     ]
    }
   ],
   "source": [
    "i = 0\n",
    "Pg_sta_list = []\n",
    "for p in range(30, 95):\n",
    "    i+=1\n",
    "    p_load = np.array([0.0, p, 0.0])\n",
    "    print(f'is: {i}')\n",
    "    item = optimize_OPF(p_load)\n",
    "    Pg_sta_list.append(item.tolist())"
   ],
   "metadata": {
    "collapsed": false
   }
  },
  {
   "cell_type": "code",
   "execution_count": 70,
   "outputs": [
    {
     "data": {
      "text/plain": "array([31.28065447, 32.3715575 , 33.46593112, 34.56381443, 35.6652475 ,\n       36.77027134, 37.878928  , 38.99126057, 40.10731323, 41.22713128,\n       42.35076117, 43.47825057, 44.6096484 , 45.74500486, 46.88437152,\n       48.02780131, 49.17534864, 49.99999999, 49.99999999, 49.99999999,\n       49.99999999, 49.99999999, 49.99999999, 49.99999999, 49.99999999,\n       49.99999999, 49.99999999, 50.        , 50.        , 50.        ,\n       50.        , 50.        , 50.        , 50.        , 50.        ,\n       50.        , 50.        , 50.        , 50.        , 50.        ,\n       50.        , 50.        , 50.        , 50.        , 50.        ,\n       50.        , 50.        , 50.        , 50.        , 50.        ,\n       50.        , 50.        , 50.        , 50.        , 50.        ,\n       50.        , 50.        , 50.        , 50.        , 50.        ,\n       50.        , 50.        , 50.        , 50.        , 50.        ])"
     },
     "execution_count": 70,
     "metadata": {},
     "output_type": "execute_result"
    }
   ],
   "source": [
    "Pg_np = np.array(Pg_sta_list)\n",
    "Pg_np[:,0]\n"
   ],
   "metadata": {
    "collapsed": false
   }
  },
  {
   "cell_type": "code",
   "execution_count": 71,
   "outputs": [
    {
     "data": {
      "text/plain": "<Figure size 640x480 with 1 Axes>",
      "image/png": "[encoded data removed]"
     },
     "metadata": {},
     "output_type": "display_data"
    }
   ],
   "source": [
    "import matplotlib.pyplot as plt\n",
    "plt.plot(Pg_np[:,0])\n",
    "plt.plot(Pg_np[:,1])\n",
    "plt.ylabel('some numbers')\n",
    "plt.show()"
   ],
   "metadata": {
    "collapsed": false
   }
  },
  {
   "cell_type": "code",
   "execution_count": null,
   "outputs": [
    {
     "name": "stdout",
     "output_type": "stream",
     "text": [
      "V_im1*(162*V_im1 - 162*V_im2 - 343*V_re1 + 344*V_re2) + V_re1*(343*V_im1 - 344*V_im2 + 162*V_re1 - 162*V_re2)\n",
      "Pd + V_im2*(-162*V_im1 + 289*V_im2 + 344*V_re1 - 609*V_re2 + 280.35) + V_re2*(-344*V_im1 + 609*V_im2 - 162*V_re1 + 289*V_re2 - 132.3)\n",
      "-1.0*Pg1 - 280.35*V_im2 - 132.3*V_re2 + 138.915\n"
     ]
    }
   ],
   "source": [
    "# V_re = model.addMVar(3, lb=[-1.05,-1.05,-1.05], ub=[1.05,1.05,1.05], vtype=GRB.CONTINUOUS, name='V real')\n",
    "# V_im = model.addMVar(3, lb=[-1.05,-1.05,-1.05],ub=[1.05,1.05,1.05], vtype=GRB.CONTINUOUS, name='V imag')\n",
    "# Pg = model.addMVar(2, lb=0, ub=[105,105], vtype=GRB.CONTINUOUS, name='Pg')\n",
    "# Qg = model.addMVar(2, lb=[0,0], ub=[105,105], vtype=GRB.CONTINUOUS, name='Qg')\n",
    "\n",
    "# Define the variables and parameters\n",
    "V_re1, V_re2, V_re3 = sym.symbols('V_re1 V_re2 V_re3', real=True)\n",
    "V_im1, V_im2, V_im3 = sym.symbols('V_im1 V_im2 V_im3', real=True)\n",
    "Pg1, Pg2, Pg3 = sym.symbols('Pg1 Pg2 Pg3', real=True)\n",
    "Qg1, Qg2, Qg3 = sym.symbols('Qg1 Qg2 Qg3', real=True)\n",
    "# temp11, temp21 = sym.symbols('temp11 temp21')\n",
    "# temp12, temp22 = sym.symbols('temp12 temp22')\n",
    "# temp13, temp23 = sym.symbols('temp13 temp23')\n",
    "Pg = sym.Matrix(['Pg2', 'Pg3' ])\n",
    "Qg = sym.Matrix(['Qg2', 'Qg3' ])\n",
    "# Pg_net = sym.MatrixSymbol('Pg_net', 3, 1)\n",
    "Pd = sym.Symbol('Pd')\n",
    "# Qg_net = sym.MatrixSymbol('Qg_net', 3, 1)\n",
    "Qd = sym.MatrixSymbol('Qd', 3, 1)\n",
    "\n",
    "# Constraints; insert the formulas\n",
    "# Temp_c1 = model.addConstr(G@V_re - B@V_im == temp1, 'Temp Constr 1')\n",
    "# Temp_c2 = model.addConstr(G @ V_im + B @ V_re == temp2, 'Temp Constr 2')\n",
    "# Pg_net_c = model.addConstr(Cg @ Pg - Pd == Pg_net, 'Pg net Constr')\n",
    "# Qg_net_c = model.addConstr(Cg @ Qg - Qd == Qg_net, 'Qg net Constr')\n",
    "# # print(f'Pd:{Pd}\\n Qd:{Qd}')\n",
    "# CVL_CPL = model.addConstrs((V_re[i] * temp1[i] *baseMVA+ V_im[i] * temp2[i]*baseMVA == Pg_net[i]  for i in range(nb)), 'Cvl P')  # break into different parts\n",
    "# CVL_CPL_Q = model.addConstrs((V_im[i] * temp1[i] *baseMVA - V_re[i] * temp2[i]*baseMVA == Qg_net[i] for i in range(nb)), 'Cvl Q')\n",
    "\n",
    "# Define the quadratic equations\n",
    "\n",
    "G = np.real(Ybus).todense().tolist()\n",
    "B = np.imag(Ybus).todense().tolist()\n",
    "for list in [G, B]:\n",
    "    for i in range(3):\n",
    "        for j in range(3):\n",
    "            list[i][j] = int(list[i][j])\n",
    "# for item in [eq1, eq2, eq3, eq4, eq5, eq6]:\n",
    "#     item.subs({V_re3:1.05, V_im3:0, Pg3:0, Qd:[0,0,0], Pd[1]:0, Pd[2]:0})\n",
    "V_re3, V_im3 = 1.05, 0\n",
    "Pg3 = 0\n",
    "\n",
    "\n",
    "temp11 = G[0][0]*V_re1 + G[0][1]*V_re2 + G[0][2]*V_re3 - (B[0][0]*V_im1 + B[0][1]*V_im2 + B[0][2]*V_im3)\n",
    "temp12 = G[1][0]*V_re1 + G[1][1]*V_re2 + G[1][2]*V_re3 - (B[1][0]*V_im1 + B[1][1]*V_im2 + B[1][2]*V_im3)\n",
    "temp13 = G[2][0]*V_re1 + G[2][1]*V_re2 + G[2][2]*V_re3 - (B[2][0]*V_im1 + B[2][1]*V_im2 + B[2][2]*V_im3)\n",
    "\n",
    "temp21 = G[0][0]*V_im1 + G[0][1]*V_im2 + G[0][2]*V_im3 + (B[0][0]*V_re1 + B[0][1]*V_re2 + B[0][2]*V_re3)\n",
    "temp22 = G[1][0]*V_im1 + G[1][1]*V_im2 + G[1][2]*V_im3 + (B[1][0]*V_re1 + B[1][1]*V_re2 + B[1][2]*V_re3)\n",
    "temp23 = G[2][0]*V_im1 + G[2][1]*V_im2 + G[2][2]*V_im3 + (B[2][0]*V_re1 + B[2][1]*V_re2 + B[2][2]*V_re3)\n",
    "\n",
    "Qg_net = Cg.todense()@Qg\n",
    "Cg_ = Cg.todense().tolist() # Pg_net = Cg.todense()@Pg - [0, Pd, 0]\n",
    "# Qg_net = Cg@Qg\n",
    "\n",
    "eq1 = - (Cg_[0][0]*Pg1 + Cg_[0][1]*Pg3) + V_re1 * temp11 *baseMVA+ V_im1 * temp21*baseMVA\n",
    "eq2 = - (Cg_[1][0]*Pg1 + Cg_[1][1]*Pg3) + V_re2 * temp12 *baseMVA+ V_im2 * temp22*baseMVA + Pd\n",
    "eq3 = - (Cg_[2][0]*Pg1 + Cg_[2][1]*Pg3) + V_re3 * temp13 *baseMVA+ V_im3 * temp23*baseMVA\n",
    "\n",
    "# eq4 = - Qg_net[0] + V_im1 * temp11 *baseMVA- V_re1 * temp21*baseMVA\n",
    "# eq5 = - Qg_net[1] + V_im2 * temp12 *baseMVA- V_re2 * temp22*baseMVA\n",
    "# eq6 = - Qg_net[2] + V_im3 * temp13 *baseMVA- V_re3 * temp23*baseMVA\n",
    "\n",
    "# V_slack = model.addConstr(V_re[2]==1.05, 'V slack real')\n",
    "# V_slack_a = model.addConstr(V_im[2]==0, 'V slack imag')\n",
    "# for item in [eq1, eq2, eq3, eq4, eq5, eq6]:\n",
    "#     item.subs({V_re3:1.05, V_im3:0, Pg3:0, Qd:[0,0,0], Pd[1]:0, Pd[2]:0})\n",
    "\n",
    "# for item in [eq1, eq2, eq3]:\n",
    "#     item.subs({V_re3:1.05, V_im3:0,V_re2:1.05, V_im2:0, Pg3:0, Qd:[0,0,0], Pd[1,0]:0, Pd[2,0]:0})\n",
    "# eq1.subs({V_re3:1.05, V_im3:0,V_re2:1.05, V_im2:0, Pg3:0, Qd:[0,0,0], Pd[1,0]:0, Pd[2,0]:0})\n",
    "# eq3.subs({V_re3:1.05, V_im3:0,V_re2:1.05, V_im2:0, Pg3:0, Qd:[0,0,0], Pd[1,0]:0, Pd[2,0]:0})\n",
    "eq1.subs(Pg3, 0)\n",
    "print(eq1)\n",
    "print(eq2)\n",
    "print(eq3)\n",
    "# Solve the system of equations\n",
    "sol = sym.solve([eq1, eq2, eq3], [Pg1,V_im2, V_re2, V_im1, V_re1])\n",
    "\n",
    "# Print the solution\n",
    "print(sol)"
   ],
   "metadata": {
    "collapsed": false,
    "pycharm": {
     "is_executing": true
    }
   }
  },
  {
   "cell_type": "code",
   "execution_count": 42,
   "outputs": [
    {
     "data": {
      "text/plain": "<3x2 sparse matrix of type '<class 'numpy.float64'>'\n\twith 2 stored elements in Compressed Sparse Row format>"
     },
     "execution_count": 42,
     "metadata": {},
     "output_type": "execute_result"
    }
   ],
   "source": [
    "Cg"
   ],
   "metadata": {
    "collapsed": false
   }
  },
  {
   "cell_type": "code",
   "execution_count": null,
   "outputs": [],
   "source": [
    "A = sym.MatrixSymbol('A', 2, 2)\n",
    "B = sym.MatrixSymbol('B', 2,1 )\n",
    "C= A*B\n",
    "C[1]"
   ],
   "metadata": {
    "collapsed": false
   }
  },
  {
   "cell_type": "code",
   "execution_count": null,
   "outputs": [],
   "source": [
    "Pg_lower, Pg_upper = ll[vv[\"i1\"][\"Pg\"]:vv[\"iN\"][\"Pg\"]], uu[vv[\"i1\"][\"Pg\"]:vv[\"iN\"][\"Pg\"]]\n",
    "Pg_upper"
   ],
   "metadata": {
    "collapsed": false
   }
  },
  {
   "cell_type": "code",
   "execution_count": null,
   "outputs": [],
   "source": [
    "G\n",
    "B"
   ],
   "metadata": {
    "collapsed": false
   }
  },
  {
   "cell_type": "code",
   "execution_count": null,
   "outputs": [],
   "source": [
    "Pd = bus[:, PD]\n",
    "Pd"
   ],
   "metadata": {
    "collapsed": false
   }
  },
  {
   "cell_type": "code",
   "execution_count": null,
   "outputs": [],
   "source": [
    "baseMVA"
   ],
   "metadata": {
    "collapsed": false
   }
  },
  {
   "cell_type": "code",
   "execution_count": null,
   "outputs": [],
   "source": [
    "# Parameters\n",
    "# obtain the complex load\n",
    "Pd = bus[:, PD]\n",
    "Qd = bus[:, QD]\n",
    "slack_v = net.ext_grid['vm_pu']\n",
    "\n",
    "lb_update = -1e4\n",
    "\n",
    "# obtain the range of voltage; the range is from the setting\n",
    "V_range = v_max - 1\n",
    "V_ll,V_uu = 1.0-V_range, 1.0+V_range\n",
    "\n",
    "# obtain the power range\n",
    "Pg_lower, Pg_upper = ll[vv[\"i1\"][\"Pg\"]:vv[\"iN\"][\"Pg\"]], uu[vv[\"i1\"][\"Pg\"]:vv[\"iN\"][\"Pg\"]]*baseMVA\n",
    "Qg_lower, Qg_upper = ll[vv[\"i1\"][\"Qg\"]:vv[\"iN\"][\"Qg\"]], uu[vv[\"i1\"][\"Qg\"]:vv[\"iN\"][\"Qg\"]]*baseMVA\n",
    "\n",
    "# the dimension of the OPF\n",
    "nb = bus.shape[0]          ## number of buses\n",
    "nl = branch.shape[0]       ## number of branches\n",
    "\n",
    "ineq_idx = 0\n",
    "\n",
    "# create the model; set the model type: NonConvex.\n",
    "model = gp.Model(\"PowerGeneration\");model.setParam('NonConvex', 2)\n",
    "\n",
    "# creat variables for the model; the numbers in the following codes should be replaced by parameters\n",
    "V_re = model.addMVar(nb, lb=lb_update, vtype=GRB.CONTINUOUS, name='V real')\n",
    "V_im = model.addMVar(nb, lb=lb_update, vtype=GRB.CONTINUOUS, name='V imag')\n",
    "Pg = model.addMVar(ngon, lb=Pg_lower, ub=Pg_upper, vtype=GRB.CONTINUOUS, name='Pg')\n",
    "Qg = model.addMVar(ngon, lb=Qg_lower, ub=Qg_upper, vtype=GRB.CONTINUOUS, name='Qg')\n",
    "temp1 = model.addMVar(nb, lb=lb_update, vtype=GRB.CONTINUOUS, name='Temp 1')\n",
    "temp2 = model.addMVar(nb, lb=lb_update, vtype=GRB.CONTINUOUS, name='Temp 2')\n",
    "Pg_net = model.addMVar(nb, lb=lb_update, vtype=GRB.CONTINUOUS, name='Pg net')  # the number of buses, too\n",
    "Qg_net = model.addMVar(nb, lb=lb_update, vtype=GRB.CONTINUOUS, name='Qg net')\n",
    "Line_temp_1 = model.addMVar(nl, lb=lb_update, vtype=GRB.CONTINUOUS, name='Line temp 1')    # the shape should be line number\n",
    "Line_temp_2 = model.addMVar(nl, lb=lb_update, vtype=GRB.CONTINUOUS, name='Line temp 2')    # the shape should be line number\n",
    "Line_temp_3 = model.addMVar(nl, lb=lb_update, vtype=GRB.CONTINUOUS, name='Line temp 3')    # the shape should be line number\n",
    "Line_temp_4 = model.addMVar(nl, lb=lb_update, vtype=GRB.CONTINUOUS, name='Line temp 4')    # the shape should be line number\n",
    "\n",
    "# the prameters of branches\n",
    "G = np.real(Ybus)\n",
    "B = np.imag(Ybus)\n",
    "# the parameters for currents in branches\n",
    "G_yf, B_yf = np.real(Yf), np.imag(Yf)\n",
    "G_yt, B_yt = np.real(Yt), np.imag(Yt)\n",
    "\n",
    "# Constraints; insert the formulas\n",
    "Temp_c1 = model.addConstr(G@V_re - B@V_im == temp1, 'Temp Constr 1')\n",
    "Temp_c2 = model.addConstr(G @ V_im + B @ V_re == temp2, 'Temp Constr 2')\n",
    "Pg_net_c = model.addConstr(Cg @ Pg - Pd == Pg_net, 'Pg net Constr')\n",
    "Qg_net_c = model.addConstr(Cg @ Qg - Qd == Qg_net, 'Qg net Constr')\n",
    "# print(f'Pd:{Pd}\\n Qd:{Qd}')\n",
    "CVL_CPL = model.addConstrs((V_re[i] * temp1[i] *baseMVA+ V_im[i] * temp2[i]*baseMVA == Pg_net[i]  for i in range(nb)), 'Cvl P')  # break into different parts\n",
    "CVL_CPL_Q = model.addConstrs((V_im[i] * temp1[i] *baseMVA - V_re[i] * temp2[i]*baseMVA == Qg_net[i] for i in range(nb)), 'Cvl Q')\n",
    "\n",
    "# the constraints of voltages on all buses; set the constraint for slack bus, then give the upper and lower constraints for other buses\n",
    "V_slack = model.addConstr(V_re[0]==slack_v, 'V slack real')\n",
    "V_slack_a = model.addConstr(V_im[0]==0, 'V slack imag')\n",
    "# the upper&lower constraints for buses except for the slack bus\n",
    "V_upper = model.addConstrs((V_re[i]**2 + V_im[i]**2 <= V_uu**2 for i in range(1,nb-ineq_idx)), 'V upper bound')  # 对 range 起始值的处理，是处理树状分层搜索的突破口；有一\"减\"，对应的有一\"加\"。\n",
    "# if ineq_idx != 0:\n",
    "#     V_upper = model.addConstrs((V_re[i]**2 + V_im[i]**2 == V_uu**2 for i in range(ineq_idx,nb)), 'V upper bound')\n",
    "#\n",
    "V_lower = model.addConstrs((V_re[i]**2 + V_im[i]**2 >= V_ll**2 for i in range(1,nb)), 'V lower bound')\n",
    "\n",
    "# Yf * W * Yf; the number is equal to that of the lines/branches\n",
    "Line_temp_c_1 = model.addConstr(G_yf@V_re - B_yf@V_im == Line_temp_1, 'Branch Con 1')\n",
    "Line_temp_c_2 = model.addConstr(G_yf @ V_im + B_yf @ V_re == Line_temp_2, 'Branch Con 2')\n",
    "Line_temp_c_3 = model.addConstr(G_yt@V_re - B_yt@V_im == Line_temp_3, 'Branch Con 3')\n",
    "Line_temp_c_4 = model.addConstr(G_yt @ V_im + B_yt @ V_re == Line_temp_4, 'Branch Con 4')\n",
    "# 下式左侧是否应该乘上baseMVA\n",
    "Line_c_1 = model.addConstrs((Line_temp_1[i]**2 + Line_temp_2[i]**2 <= np.real(flow_max[i]) for i in range(nl)), 'Branch Con 1') # p.u.\n",
    "Line_c_2 = model.addConstrs((Line_temp_3[i]**2 + Line_temp_4[i]**2 <= np.real(flow_max[i]) for i in range(nl)), 'Branch Con 2') # p.u.\n",
    "\n",
    "# set the objective of the model\n",
    "print('ipol:', ipol)\n",
    "# The \"gencost\" changes with different cases. Keep in Mind!\n",
    "# model.setObjective(gencost[ipol, First_Or_Con]@Pg**2+gencost[ipol, First_Or_Con+1]@Pg, GRB.MINIMIZE)\n",
    "model.setObjective(gencost[ipol, First_Or_Con]@Pg, GRB.MINIMIZE)\n",
    "\n",
    "# calculate the optimization\n",
    "# model.optimize()\n",
    "model.X[:14]\n",
    "\n",
    "Pg_star, Qg_star = Pg.X, Qg.X\n",
    "optimized_obj = gencost[ipol, First_Or_Con]@Pg_star\n"
   ],
   "metadata": {
    "collapsed": false
   }
  },
  {
   "cell_type": "code",
   "execution_count": null,
   "outputs": [],
   "source": [
    "len(model.getVars())\n",
    "len(model.getConstrs())"
   ],
   "metadata": {
    "collapsed": false
   }
  },
  {
   "cell_type": "code",
   "execution_count": null,
   "outputs": [],
   "source": [
    "print(Pg)"
   ],
   "metadata": {
    "collapsed": false
   }
  },
  {
   "cell_type": "code",
   "execution_count": null,
   "outputs": [],
   "source": [
    "net.res_bus"
   ],
   "metadata": {
    "collapsed": false
   }
  },
  {
   "cell_type": "code",
   "execution_count": null,
   "outputs": [],
   "source": [
    "m = gp.Model(\"model\")\n",
    "# x = m.addMVar(shape=(10), name=\"x\")\n",
    "y = m.addMVar(shape=(5),lb=np.array([-1,-2,-3,-4,-5]), name=\"y\")\n",
    "\n",
    "A = np.ones(5)\n",
    "\n",
    "m.addConstrs((y[i] >=np.array([-1,-2,-3,-4,-5])[i] for i in range(5)), name=\"const\")\n",
    "m.setObjective(A@Y_.real)\n",
    "m.optimize()"
   ],
   "metadata": {
    "collapsed": false
   }
  },
  {
   "cell_type": "code",
   "execution_count": null,
   "outputs": [],
   "source": [
    "m.X"
   ],
   "metadata": {
    "collapsed": false
   }
  },
  {
   "cell_type": "code",
   "execution_count": null,
   "outputs": [],
   "source": [
    "for v in m.getVars():\n",
    "    print(v.varName, v.x)"
   ],
   "metadata": {
    "collapsed": false
   }
  },
  {
   "cell_type": "code",
   "execution_count": null,
   "outputs": [],
   "source": [],
   "metadata": {
    "collapsed": false
   }
  },
  {
   "cell_type": "code",
   "execution_count": null,
   "outputs": [],
   "source": [
    "n = 3\n",
    "p = 3\n",
    "np.random.seed(1)\n",
    "C = np.random.randn(n, n)\n",
    "A = []\n",
    "b = []\n",
    "for i in range(p):\n",
    "    A.append(np.random.randn(n, n))\n",
    "    b.append(np.random.randn())\n",
    "\n",
    "print(f'A ;{A};\\n b : {b}')"
   ],
   "metadata": {
    "collapsed": false
   }
  },
  {
   "cell_type": "code",
   "execution_count": null,
   "outputs": [],
   "source": [
    "# Define and solve the CVXPY problem.\n",
    "# Create a symmetric matrix variable\n",
    "X = cp.Variable((n,n), symmetric=True)\n",
    "# The operator >> denotes matrix inequality.\n",
    "constraints = [X >> 0]\n",
    "constraints += [\n",
    "    cp.trace(A[i] @ X) == b[i] for i in range(p)\n",
    "]\n",
    "prob = cp.Problem(cp.Minimize(cp.trace(C @ X)),\n",
    "                  constraints)\n",
    "prob.solve()\n",
    "# Print result.\n",
    "print(\"The optimal value is\", prob.value)\n",
    "print(\"A solution X is\")\n",
    "print(X.value)"
   ],
   "metadata": {
    "collapsed": false
   }
  },
  {
   "cell_type": "code",
   "execution_count": null,
   "outputs": [],
   "source": [],
   "metadata": {
    "collapsed": false
   }
  },
  {
   "cell_type": "code",
   "execution_count": null,
   "outputs": [],
   "source": [],
   "metadata": {
    "collapsed": false
   }
  }
 ],
 "metadata": {
  "kernelspec": {
   "display_name": "Python 3",
   "language": "python",
   "name": "python3"
  },
  "language_info": {
   "codemirror_mode": {
    "name": "ipython",
    "version": 2
   },
   "file_extension": ".py",
   "mimetype": "text/x-python",
   "name": "python",
   "nbconvert_exporter": "python",
   "pygments_lexer": "ipython2",
   "version": "2.7.6"
  }
 },
 "nbformat": 4,
 "nbformat_minor": 0
}
