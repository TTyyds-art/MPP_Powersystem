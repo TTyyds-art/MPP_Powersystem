{
 "cells": [
  {
   "cell_type": "code",
   "execution_count": 81,
   "metadata": {
    "collapsed": true,
    "pycharm": {
     "name": "#%%\n"
    }
   },
   "outputs": [],
   "source": [
    "import os.path\n",
    "import pandapower.networks as pn\n",
    "import pandapower as pp\n",
    "import pandas as pd\n",
    "import gurobipy as gp\n",
    "from gurobipy import GRB\n",
    "from numpy import flatnonzero as find, ones, zeros, Inf, pi, exp, conj, r_, arange, array\n",
    "from pypower_pych.makeYbus import makeYbus\n",
    "from pypower_pych.idx_brch import F_BUS, T_BUS, RATE_A, PF, QF, PT, QT, MU_SF, MU_ST\n",
    "from pypower_pych.idx_gen import GEN_BUS, PG, QG\n",
    "from pypower_pych.idx_cost import MODEL, PW_LINEAR, NCOST, POLYNOMIAL\n",
    "from pypower_pych.totcost import totcost\n",
    "from pypower_pych.makeSbus import makeSbus\n",
    "from pypower_pych.idx_bus import BUS_TYPE, REF, VM, VA, MU_VMAX, MU_VMIN, LAM_P, LAM_Q\n",
    "# import cvxpy as cp\n",
    "import numpy as np\n",
    "from scipy.sparse import csr_matrix as sparse\n",
    "from pypower_pych.idx_bus import PD, QD\n",
    "from pypower_pych.idx_gen import GEN_BUS, PG, QG, GEN_STATUS"
   ]
  },
  {
   "cell_type": "code",
   "execution_count": 82,
   "outputs": [],
   "source": [
    "import pandapower as pp\n",
    "import pandapower.networks as pw\n",
    "net = pw.case14()\n",
    "net.gen['vm_pu'] = 1.00\n",
    "om, ppopt = pp.runopp(net, delta = 1e-16)"
   ],
   "metadata": {
    "collapsed": false,
    "pycharm": {
     "name": "#%%\n"
    }
   }
  },
  {
   "cell_type": "code",
   "execution_count": 28,
   "outputs": [],
   "source": [
    "import pandapower as pp\n",
    "net = pp.create_empty_network()\n",
    "\n",
    "# create buses\n",
    "bus1 = pp.create_bus(net, vn_kv=110.)\n",
    "bus2 = pp.create_bus(net, vn_kv=110.)\n",
    "bus3 = pp.create_bus(net, vn_kv=110.)\n",
    "bus4 = pp.create_bus(net, vn_kv=110.)\n",
    "# bus5 = pp.create_bus(net, vn_kv=110.)\n",
    "\n",
    "# create 220/110 kV transformer\n",
    "pp.create_line(net, bus1, bus2, length_km=70., std_type='149-AL1/24-ST1A 110.0')\n",
    "\n",
    "# create 110 kV lines\n",
    "pp.create_line(net, bus2, bus3, length_km=70., std_type='149-AL1/24-ST1A 110.0')\n",
    "pp.create_line(net, bus3, bus4, length_km=50., std_type=\"149-AL1/24-ST1A 110.0\")\n",
    "pp.create_line(net, bus4, bus2, length_km=40., std_type=\"149-AL1/24-ST1A 110.0\")\n",
    "\n",
    "# create loads\n",
    "pp.create_load(net, bus2, p_mw=60., controllable=False)\n",
    "pp.create_load(net, bus3, p_mw=70., controllable=False)\n",
    "pp.create_load(net, bus4, p_mw=25., controllable=False)\n",
    "\n",
    "# create generators\n",
    "eg = pp.create_ext_grid(net, bus1, min_p_mw=0, max_p_mw=1000)\n",
    "g0 = pp.create_gen(net, bus3, p_mw=80, min_p_mw=0, max_p_mw=80, vm_pu=1.00, controllable=True)\n",
    "g1 = pp.create_gen(net, bus4, p_mw=100, min_p_mw=0, max_p_mw=100, vm_pu=1.00, controllable=True)\n",
    "\n",
    "costeg = pp.create_poly_cost(net, 0, 'ext_grid', cp1_eur_per_mw=20)\n",
    "costgen1 = pp.create_poly_cost(net, 0, 'gen', cp1_eur_per_mw=10)\n",
    "costgen2 = pp.create_poly_cost(net, 1, 'gen', cp1_eur_per_mw=10)\n",
    "\n",
    "net.line[\"max_loading_percent\"] = 50\n",
    "om,ppopt = pp.runopp(net, delta=1e-16)"
   ],
   "metadata": {
    "collapsed": false,
    "pycharm": {
     "name": "#%%\n"
    }
   }
  },
  {
   "cell_type": "code",
   "execution_count": 83,
   "outputs": [
    {
     "data": {
      "text/plain": "        p_mw     q_mvar  va_degree     vm_pu\n0  36.719180  23.685221  -4.022315  1.040753\n1  28.742791  24.126889  -9.925911  1.015625\n2   0.000070  11.545778 -12.689243  1.060000\n3   8.495048   8.273014 -10.414843  1.060000",
      "text/html": "<div>\n<style scoped>\n    .dataframe tbody tr th:only-of-type {\n        vertical-align: middle;\n    }\n\n    .dataframe tbody tr th {\n        vertical-align: top;\n    }\n\n    .dataframe thead th {\n        text-align: right;\n    }\n</style>\n<table border=\"1\" class=\"dataframe\">\n  <thead>\n    <tr style=\"text-align: right;\">\n      <th></th>\n      <th>p_mw</th>\n      <th>q_mvar</th>\n      <th>va_degree</th>\n      <th>vm_pu</th>\n    </tr>\n  </thead>\n  <tbody>\n    <tr>\n      <th>0</th>\n      <td>36.719180</td>\n      <td>23.685221</td>\n      <td>-4.022315</td>\n      <td>1.040753</td>\n    </tr>\n    <tr>\n      <th>1</th>\n      <td>28.742791</td>\n      <td>24.126889</td>\n      <td>-9.925911</td>\n      <td>1.015625</td>\n    </tr>\n    <tr>\n      <th>2</th>\n      <td>0.000070</td>\n      <td>11.545778</td>\n      <td>-12.689243</td>\n      <td>1.060000</td>\n    </tr>\n    <tr>\n      <th>3</th>\n      <td>8.495048</td>\n      <td>8.273014</td>\n      <td>-10.414843</td>\n      <td>1.060000</td>\n    </tr>\n  </tbody>\n</table>\n</div>"
     },
     "execution_count": 83,
     "metadata": {},
     "output_type": "execute_result"
    }
   ],
   "source": [
    "net.res_gen"
   ],
   "metadata": {
    "collapsed": false,
    "pycharm": {
     "name": "#%%\n"
    }
   }
  },
  {
   "cell_type": "code",
   "execution_count": 84,
   "outputs": [
    {
     "data": {
      "text/plain": "       vm_pu  va_degree        p_mw     q_mvar      lam_p         lam_q\n0   1.060000   0.000000 -194.330104  -0.000190  36.723777 -9.387659e-02\n1   1.040753  -4.022315  -15.019180 -10.985221  38.359589  3.978639e-07\n2   1.015625  -9.925911   65.457209  -5.126889  40.574855  3.844322e-07\n3   1.014461  -8.664884   47.800000  -3.900000  40.190225  1.198458e-01\n4   1.016363  -7.428436    7.600000   1.600000  39.660800  2.075723e-01\n5   1.060000 -12.689243   11.199930  -4.045778  39.733707  4.180256e-07\n6   1.046347 -11.187884    0.000000   0.000000  40.171513  1.196378e-01\n7   1.060000 -10.414843   -8.495048  -8.273014  40.169899 -1.154650e-07\n8   1.043699 -12.997160   29.500000  -4.096850  40.166192  1.960301e-01\n9   1.039137 -13.232903    9.000000   5.800000  40.317765  3.088292e-01\n10  1.046009 -13.090965    3.500000   1.800000  40.155380  2.281160e-01\n11  1.044820 -13.532732    6.100000   1.600000  40.379130  2.123319e-01\n12  1.039949 -13.582581   13.500000   5.800000  40.575476  3.534705e-01\n13  1.023889 -14.274109   14.900000   5.000000  41.197505  5.709807e-01",
      "text/html": "<div>\n<style scoped>\n    .dataframe tbody tr th:only-of-type {\n        vertical-align: middle;\n    }\n\n    .dataframe tbody tr th {\n        vertical-align: top;\n    }\n\n    .dataframe thead th {\n        text-align: right;\n    }\n</style>\n<table border=\"1\" class=\"dataframe\">\n  <thead>\n    <tr style=\"text-align: right;\">\n      <th></th>\n      <th>vm_pu</th>\n      <th>va_degree</th>\n      <th>p_mw</th>\n      <th>q_mvar</th>\n      <th>lam_p</th>\n      <th>lam_q</th>\n    </tr>\n  </thead>\n  <tbody>\n    <tr>\n      <th>0</th>\n      <td>1.060000</td>\n      <td>0.000000</td>\n      <td>-194.330104</td>\n      <td>-0.000190</td>\n      <td>36.723777</td>\n      <td>-9.387659e-02</td>\n    </tr>\n    <tr>\n      <th>1</th>\n      <td>1.040753</td>\n      <td>-4.022315</td>\n      <td>-15.019180</td>\n      <td>-10.985221</td>\n      <td>38.359589</td>\n      <td>3.978639e-07</td>\n    </tr>\n    <tr>\n      <th>2</th>\n      <td>1.015625</td>\n      <td>-9.925911</td>\n      <td>65.457209</td>\n      <td>-5.126889</td>\n      <td>40.574855</td>\n      <td>3.844322e-07</td>\n    </tr>\n    <tr>\n      <th>3</th>\n      <td>1.014461</td>\n      <td>-8.664884</td>\n      <td>47.800000</td>\n      <td>-3.900000</td>\n      <td>40.190225</td>\n      <td>1.198458e-01</td>\n    </tr>\n    <tr>\n      <th>4</th>\n      <td>1.016363</td>\n      <td>-7.428436</td>\n      <td>7.600000</td>\n      <td>1.600000</td>\n      <td>39.660800</td>\n      <td>2.075723e-01</td>\n    </tr>\n    <tr>\n      <th>5</th>\n      <td>1.060000</td>\n      <td>-12.689243</td>\n      <td>11.199930</td>\n      <td>-4.045778</td>\n      <td>39.733707</td>\n      <td>4.180256e-07</td>\n    </tr>\n    <tr>\n      <th>6</th>\n      <td>1.046347</td>\n      <td>-11.187884</td>\n      <td>0.000000</td>\n      <td>0.000000</td>\n      <td>40.171513</td>\n      <td>1.196378e-01</td>\n    </tr>\n    <tr>\n      <th>7</th>\n      <td>1.060000</td>\n      <td>-10.414843</td>\n      <td>-8.495048</td>\n      <td>-8.273014</td>\n      <td>40.169899</td>\n      <td>-1.154650e-07</td>\n    </tr>\n    <tr>\n      <th>8</th>\n      <td>1.043699</td>\n      <td>-12.997160</td>\n      <td>29.500000</td>\n      <td>-4.096850</td>\n      <td>40.166192</td>\n      <td>1.960301e-01</td>\n    </tr>\n    <tr>\n      <th>9</th>\n      <td>1.039137</td>\n      <td>-13.232903</td>\n      <td>9.000000</td>\n      <td>5.800000</td>\n      <td>40.317765</td>\n      <td>3.088292e-01</td>\n    </tr>\n    <tr>\n      <th>10</th>\n      <td>1.046009</td>\n      <td>-13.090965</td>\n      <td>3.500000</td>\n      <td>1.800000</td>\n      <td>40.155380</td>\n      <td>2.281160e-01</td>\n    </tr>\n    <tr>\n      <th>11</th>\n      <td>1.044820</td>\n      <td>-13.532732</td>\n      <td>6.100000</td>\n      <td>1.600000</td>\n      <td>40.379130</td>\n      <td>2.123319e-01</td>\n    </tr>\n    <tr>\n      <th>12</th>\n      <td>1.039949</td>\n      <td>-13.582581</td>\n      <td>13.500000</td>\n      <td>5.800000</td>\n      <td>40.575476</td>\n      <td>3.534705e-01</td>\n    </tr>\n    <tr>\n      <th>13</th>\n      <td>1.023889</td>\n      <td>-14.274109</td>\n      <td>14.900000</td>\n      <td>5.000000</td>\n      <td>41.197505</td>\n      <td>5.709807e-01</td>\n    </tr>\n  </tbody>\n</table>\n</div>"
     },
     "execution_count": 84,
     "metadata": {},
     "output_type": "execute_result"
    }
   ],
   "source": [
    "net.res_bus"
   ],
   "metadata": {
    "collapsed": false,
    "pycharm": {
     "name": "#%%\n"
    }
   }
  },
  {
   "cell_type": "code",
   "execution_count": 85,
   "outputs": [],
   "source": [
    "ppc = om.get_ppc()\n",
    "baseMVA, bus, gen, branch, gencost = ppc[\"baseMVA\"], ppc[\"bus\"], ppc[\"gen\"], ppc[\"branch\"], ppc[\"gencost\"]\n",
    "n_b, n_load, n_e, n_line = len(net.bus), len(net.load), len(net.ext_grid), len(branch)"
   ],
   "metadata": {
    "collapsed": false,
    "pycharm": {
     "name": "#%%\n"
    }
   }
  },
  {
   "cell_type": "code",
   "execution_count": 86,
   "outputs": [
    {
     "data": {
      "text/plain": "14"
     },
     "execution_count": 86,
     "metadata": {},
     "output_type": "execute_result"
    }
   ],
   "source": [
    "n_b"
   ],
   "metadata": {
    "collapsed": false,
    "pycharm": {
     "name": "#%%\n"
    }
   }
  },
  {
   "cell_type": "code",
   "execution_count": 87,
   "outputs": [
    {
     "data": {
      "text/plain": "array([0.   ,   inf,   inf,   inf,   inf,   inf,   inf,   inf,   inf,\n         inf,   inf,   inf,   inf,   inf, 1.06 , 1.06 , 1.06 , 1.06 ,\n       1.06 , 1.06 , 1.06 , 1.06 , 1.06 , 1.06 , 1.06 , 1.06 , 1.06 ,\n       1.06 , 3.324, 1.4  , 1.   , 1.   , 1.   , 0.1  , 0.5  , 0.4  ,\n       0.24 , 0.24 ])"
     },
     "execution_count": 87,
     "metadata": {},
     "output_type": "execute_result"
    }
   ],
   "source": [
    "## bounds on optimization vars\n",
    "x0, xmin, xmax = om.getv()\n",
    "vv, _, _, _ = om.get_idx()\n",
    "xmax"
   ],
   "metadata": {
    "collapsed": false,
    "pycharm": {
     "name": "#%%\n"
    }
   }
  },
  {
   "cell_type": "code",
   "execution_count": 88,
   "outputs": [
    {
     "data": {
      "text/plain": "array([0.  , 0.  , 0.  , 0.  , 0.  , 0.  , 0.  , 0.  , 0.  , 0.  , 0.  ,\n       0.  , 0.  , 0.  , 1.06, 1.  , 1.  , 1.  , 1.  , 1.  , 1.  , 1.  ,\n       1.  , 1.  , 1.  , 1.  , 1.  , 1.  , 0.  , 0.4 , 0.  , 0.  , 0.  ,\n       0.  , 0.  , 0.  , 0.  , 0.  ])"
     },
     "execution_count": 88,
     "metadata": {},
     "output_type": "execute_result"
    }
   ],
   "source": [
    "x0"
   ],
   "metadata": {
    "collapsed": false,
    "pycharm": {
     "name": "#%%\n"
    }
   }
  },
  {
   "cell_type": "code",
   "execution_count": 89,
   "outputs": [
    {
     "name": "stderr",
     "output_type": "stream",
     "text": [
      "/home/ubuntu-h/PycharmProjects/Auto_model_Ps2Dl_v1/pypower_pych/makeYbus.py:49: ComplexWarning: Casting complex values to real discards the imaginary part\n",
      "  tap[i] = branch[i, TAP]  ## assign non-zero tap ratios\n",
      "/home/ubuntu-h/PycharmProjects/Auto_model_Ps2Dl_v1/Attvenv/lib/python3.8/site-packages/scipy/sparse/_coo.py:159: ComplexWarning: Casting complex values to real discards the imaginary part\n",
      "  self.col = np.array(col, copy=copy, dtype=idx_dtype)\n"
     ]
    }
   ],
   "source": [
    "## build admittance matrices\n",
    "Ybus, Yf, Yt = makeYbus(baseMVA, bus, branch)"
   ],
   "metadata": {
    "collapsed": false,
    "pycharm": {
     "name": "#%%\n"
    }
   }
  },
  {
   "cell_type": "code",
   "execution_count": 90,
   "outputs": [
    {
     "name": "stdout",
     "output_type": "stream",
     "text": [
      "ll\"[ 0.00000000e+00 -3.92699082e-01 -3.92699082e-01 -3.92699082e-01\n",
      " -3.92699082e-01 -3.92699082e-01 -3.92699082e-01 -3.92699082e-01\n",
      " -3.92699082e-01 -3.92699082e-01 -3.92699082e-01 -3.92699082e-01\n",
      " -3.92699082e-01 -3.92699082e-01  1.06000000e+00  9.40000000e-01\n",
      "  9.40000000e-01  9.40000000e-01  9.40000000e-01  9.40000000e-01\n",
      "  9.40000000e-01  9.40000000e-01  9.40000000e-01  9.40000000e-01\n",
      "  9.40000000e-01  9.40000000e-01  9.40000000e-01  9.40000000e-01\n",
      " -1.00000000e-18 -1.00000000e-18 -1.00000000e-18 -1.00000000e-18\n",
      " -1.00000000e-18 -1.00000000e-18 -4.00000000e-01 -1.00000000e-18\n",
      " -6.00000000e-02 -6.00000000e-02];\n",
      " uu:[0.         0.39269908 0.39269908 0.39269908 0.39269908 0.39269908\n",
      " 0.39269908 0.39269908 0.39269908 0.39269908 0.39269908 0.39269908\n",
      " 0.39269908 0.39269908 1.06       1.06       1.06       1.06\n",
      " 1.06       1.06       1.06       1.06       1.06       1.06\n",
      " 1.06       1.06       1.06       1.06       3.324      1.4\n",
      " 1.         1.         1.         0.1        0.5        0.4\n",
      " 0.24       0.24      ]\n"
     ]
    }
   ],
   "source": [
    "## Set the lower and upper bound for all variables\n",
    "ll, uu = xmin.copy(), xmax.copy()\n",
    "# print(f'll : {ll}; uu : {uu}')\n",
    "ll[xmin == -Inf] = -1e10   ## replace Inf with numerical proxies\n",
    "uu[xmax ==  Inf] =  1e10\n",
    "Va_refs = bus[bus[:, BUS_TYPE]  == REF, VA] * (pi / 180)\n",
    "# print(f\"Va_refs: {Va_refs}\")\n",
    "ll[vv[\"i1\"][\"Va\"]:vv[\"iN\"][\"Va\"]] = -np.ones_like(bus[:, VA]) * (pi / 8) # Va lower bound 赋值\n",
    "uu[vv[\"i1\"][\"Va\"]:vv[\"iN\"][\"Va\"]] = np.ones_like(bus[:, VA]) * (pi / 8) # Va upper bound 赋值\n",
    "## deal with the Va_refs\n",
    "ll[vv[\"i1\"][\"Va\"]:vv[\"iN\"][\"Va\"]][bus[:, BUS_TYPE]  == REF] = Va_refs  # Va_refs lower bound 赋值\n",
    "uu[vv[\"i1\"][\"Va\"]:vv[\"iN\"][\"Va\"]][bus[:, BUS_TYPE]  == REF] = Va_refs # Va_refs upper bound 赋值\n",
    "## deal with reactive power, whose ll and uu is 1e9\n",
    "ll[ll<-1e4] = -100\n",
    "uu[uu>1e4] = 100\n",
    "\n",
    "print(f'll\"{ll};\\n uu:{uu}')"
   ],
   "metadata": {
    "collapsed": false,
    "pycharm": {
     "name": "#%%\n"
    }
   }
  },
  {
   "cell_type": "code",
   "execution_count": 91,
   "outputs": [
    {
     "data": {
      "text/plain": "100"
     },
     "execution_count": 91,
     "metadata": {},
     "output_type": "execute_result"
    }
   ],
   "source": [
    "baseMVA"
   ],
   "metadata": {
    "collapsed": false,
    "pycharm": {
     "name": "#%%\n"
    }
   }
  },
  {
   "cell_type": "code",
   "execution_count": 92,
   "outputs": [
    {
     "data": {
      "text/plain": "array([1.06, 1.06, 1.06, 1.06, 1.06, 1.06, 1.06, 1.06, 1.06, 1.06, 1.06,\n       1.06, 1.06, 1.06])"
     },
     "execution_count": 92,
     "metadata": {},
     "output_type": "execute_result"
    }
   ],
   "source": [
    "v_ll = ll[vv[\"i1\"][\"Vm\"]:vv[\"iN\"][\"Vm\"]]\n",
    "v_uu = uu[vv[\"i1\"][\"Vm\"]:vv[\"iN\"][\"Vm\"]]\n",
    "v_uu"
   ],
   "metadata": {
    "collapsed": false,
    "pycharm": {
     "name": "#%%\n"
    }
   }
  },
  {
   "cell_type": "code",
   "execution_count": 93,
   "outputs": [],
   "source": [
    "Pd = bus[:, PD]*0.01\n",
    "Qd = bus[:, QD]*0.01"
   ],
   "metadata": {
    "collapsed": false,
    "pycharm": {
     "name": "#%%\n"
    }
   }
  },
  {
   "cell_type": "code",
   "execution_count": 94,
   "outputs": [
    {
     "data": {
      "text/plain": "array([9801.+0.j, 9801.+0.j, 9801.+0.j, 9801.+0.j, 9801.+0.j, 9801.+0.j,\n       9801.+0.j, 9801.+0.j, 9801.+0.j, 9801.+0.j, 9801.+0.j, 9801.+0.j,\n       9801.+0.j, 9801.+0.j, 9801.+0.j, 9801.+0.j, 9801.+0.j, 9801.+0.j,\n       9801.+0.j, 9801.+0.j])"
     },
     "execution_count": 94,
     "metadata": {},
     "output_type": "execute_result"
    }
   ],
   "source": [
    "il = find(branch[:, RATE_A] < 1e10)\n",
    "flow_max = (branch[il, RATE_A] / baseMVA)**2\n",
    "flow_max[flow_max == 0] = 1e5\n",
    "flow_max"
   ],
   "metadata": {
    "collapsed": false,
    "pycharm": {
     "name": "#%%\n"
    }
   }
  },
  {
   "cell_type": "code",
   "execution_count": 95,
   "outputs": [],
   "source": [
    "on = find(gen[:, GEN_STATUS] > 0)      ## which generators are on?\n",
    "gbus = gen[on, GEN_BUS]                   ## what buses are they at?\n",
    "\n",
    "## form net complex bus power injection vector\n",
    "nb = bus.shape[0]\n",
    "ngon = on.shape[0]\n",
    "## connection matrix, element i, j is 1 if gen on(j) at bus i is ON\n",
    "Cg = sparse((ones(ngon), (gbus, range(ngon))), (nb, ngon))"
   ],
   "metadata": {
    "collapsed": false,
    "pycharm": {
     "name": "#%%\n"
    }
   }
  },
  {
   "cell_type": "code",
   "execution_count": 96,
   "outputs": [
    {
     "data": {
      "text/plain": "array([0.0430293, 0.25     , 0.01     , 0.01     , 0.01     ])"
     },
     "execution_count": 96,
     "metadata": {},
     "output_type": "execute_result"
    }
   ],
   "source": [
    "ipol = find(gencost[:, MODEL] == POLYNOMIAL)   ## poly MW and MVAr costs\n",
    "First_Or_Con = 4\n",
    "gencost[ipol, First_Or_Con]"
   ],
   "metadata": {
    "collapsed": false,
    "pycharm": {
     "name": "#%%\n"
    }
   }
  },
  {
   "cell_type": "code",
   "execution_count": 102,
   "outputs": [
    {
     "data": {
      "text/plain": "array([-1.e-16, -1.e-16, -1.e-16, -1.e-16, -1.e-16])"
     },
     "execution_count": 102,
     "metadata": {},
     "output_type": "execute_result"
    }
   ],
   "source": [
    "Pg_lower, Pg_upper = ll[vv[\"i1\"][\"Pg\"]:vv[\"iN\"][\"Pg\"]], uu[vv[\"i1\"][\"Pg\"]:vv[\"iN\"][\"Pg\"]]\n",
    "Qg_lower, Qg_upper = ll[vv[\"i1\"][\"Qg\"]:vv[\"iN\"][\"Qg\"]], uu[vv[\"i1\"][\"Qg\"]:vv[\"iN\"][\"Qg\"]]\n",
    "Pg_lower * baseMVA"
   ],
   "metadata": {
    "collapsed": false,
    "pycharm": {
     "name": "#%%\n"
    }
   }
  },
  {
   "cell_type": "code",
   "execution_count": 105,
   "outputs": [
    {
     "name": "stdout",
     "output_type": "stream",
     "text": [
      "Set parameter NonConvex to value 2\n",
      "Gurobi Optimizer version 9.5.2 build v9.5.2rc0 (linux64)\n",
      "Thread count: 8 physical cores, 8 logical processors, using up to 8 threads\n",
      "Optimize a model with 164 rows, 174 columns and 646 nonzeros\n",
      "Model fingerprint: 0x4e05f71e\n",
      "Model has 28 quadratic constraints\n",
      "Coefficient statistics:\n",
      "  Matrix range     [1e+00, 1e+02]\n",
      "  QMatrix range    [1e+00, 1e+00]\n",
      "  QLMatrix range   [1e+00, 1e+00]\n",
      "  Objective range  [1e-02, 2e-01]\n",
      "  Bounds range     [1e-16, 1e+04]\n",
      "  RHS range        [2e-02, 1e+00]\n",
      "Presolve removed 84 rows and 105 columns\n",
      "\n",
      "Continuous model is non-convex -- solving as a MIP\n",
      "\n",
      "Presolve removed 105 rows and 112 columns\n",
      "Presolve time: 0.00s\n",
      "Presolved: 293 rows, 114 columns, 1000 nonzeros\n",
      "Presolved model has 52 bilinear constraint(s)\n",
      "Variable types: 114 continuous, 0 integer (0 binary)\n",
      "\n",
      "Root relaxation: objective -5.551115e-17, 103 iterations, 0.00 seconds (0.00 work units)\n",
      "\n",
      "    Nodes    |    Current Node    |     Objective Bounds      |     Work\n",
      " Expl Unexpl |  Obj  Depth IntInf | Incumbent    BestBd   Gap | It/Node Time\n",
      "\n",
      "     0     0   -0.00000    0   52          -   -0.00000      -     -    0s\n",
      "     0     0   -0.00000    0   52          -   -0.00000      -     -    0s\n",
      "     0     0   -0.00000    0   52          -   -0.00000      -     -    0s\n",
      "     0     0   -0.00000    0   52          -   -0.00000      -     -    0s\n",
      "     0     0   -0.00000    0   52          -   -0.00000      -     -    0s\n",
      "     0     0   -0.00000    0   45          -   -0.00000      -     -    0s\n",
      "     0     2   -0.00000    0   45          -   -0.00000      -     -    0s\n",
      " 31396  2979   36.39414   63   28          -   13.90195      -  19.7    5s\n",
      "\n",
      "Cutting planes:\n",
      "  RLT: 8\n",
      "\n",
      "Explored 77412 nodes (1435355 simplex iterations) in 9.21 seconds (6.96 work units)\n",
      "Thread count was 8 (of 8 available processors)\n",
      "\n",
      "Solution count 0\n",
      "\n",
      "Model is infeasible\n",
      "Best objective -, best bound -, gap -\n"
     ]
    }
   ],
   "source": [
    "lb_update = -1e4\n",
    "# V_range = 0.02  # 需要进一步设定\n",
    "V_ll,V_uu = v_ll, v_uu\n",
    "Pg_lower, Pg_upper = ll[vv[\"i1\"][\"Pg\"]:vv[\"iN\"][\"Pg\"]] * baseMVA, uu[vv[\"i1\"][\"Pg\"]:vv[\"iN\"][\"Pg\"]] * baseMVA\n",
    "Qg_lower, Qg_upper = ll[vv[\"i1\"][\"Qg\"]:vv[\"iN\"][\"Qg\"]] * baseMVA, uu[vv[\"i1\"][\"Qg\"]:vv[\"iN\"][\"Qg\"]] * baseMVA\n",
    "model = gp.Model(\"PowerGeneration\");model.setParam('NonConvex', 2)\n",
    "n_bus, n_g = len(net.bus), len(net.gen) + len(net.ext_grid)\n",
    "V_re = model.addMVar(n_bus, lb=lb_update, vtype=GRB.CONTINUOUS, name='V real')\n",
    "V_im = model.addMVar(n_bus, lb=lb_update, vtype=GRB.CONTINUOUS, name='V imag')\n",
    "Pg = model.addMVar(n_g,lb=Pg_lower,  vtype=GRB.CONTINUOUS, name='Pg') # ub=Pg_upper,\n",
    "Qg = model.addMVar(n_g,   vtype=GRB.CONTINUOUS, name='Qg')# ub=Qg_upper,lb=Qg_lower,\n",
    "temp1 = model.addMVar(n_bus, lb=lb_update, vtype=GRB.CONTINUOUS, name='Temp 1')\n",
    "temp2 = model.addMVar(n_bus, lb=lb_update, vtype=GRB.CONTINUOUS, name='Temp 2')\n",
    "Pg_net = model.addMVar(n_bus, lb=lb_update, vtype=GRB.CONTINUOUS, name='Pg net')\n",
    "Qg_net = model.addMVar(n_bus, lb=lb_update, vtype=GRB.CONTINUOUS, name='Qg net')\n",
    "n_l = len(branch)                                                                         # the number of line\n",
    "Line_temp_1 = model.addMVar(n_l, lb=lb_update, vtype=GRB.CONTINUOUS, name='Line temp 1')    # the shape should be line number\n",
    "Line_temp_2 = model.addMVar(n_l, lb=lb_update, vtype=GRB.CONTINUOUS, name='Line temp 2')    # the shape should be line number\n",
    "Line_temp_3 = model.addMVar(n_l, lb=lb_update, vtype=GRB.CONTINUOUS, name='Line temp 3')    # the shape should be line number\n",
    "Line_temp_4 = model.addMVar(n_l, lb=lb_update, vtype=GRB.CONTINUOUS, name='Line temp 4')    # the shape should be line number\n",
    "\n",
    "# print(f'Pg_lower:{Pg_lower}\\nPg_upper:{Pg_upper}\\nQg_lower: {Qg_lower}\\n Qg_upper:{Qg_upper}')\n",
    "# print(f'cost: {gencost[ipol, First_Or_Con]}')\n",
    "# # V = Vm * exp(1j * Va)\n",
    "# # V = model.AddGenConstrExp(1j*Va, )\n",
    "G = np.real(Ybus)\n",
    "B = np.imag(Ybus)\n",
    "# print(f'G:{G}\\n B:{B}')\n",
    "G_yf, B_yf = np.real(Yf), np.imag(Yf)\n",
    "G_yt, B_yt = np.real(Yt), np.imag(Yt)\n",
    "Temp_c1 = model.addConstr(G@V_re - B@V_im == temp1, 'Temp Constr 1')\n",
    "Temp_c2 = model.addConstr(G @ V_im + B @ V_re == temp2, 'Temp Constr 2')\n",
    "Pg_net_c = model.addConstr(Cg @ Pg - Pd == Pg_net, 'Pg net Constr')\n",
    "Qg_net_c = model.addConstr(Cg @ Qg - Qd == Qg_net, 'Qg net Constr')\n",
    "# print(f'Pd:{Pd}\\n Qd:{Qd}')\n",
    "CVL_CPL = model.addConstrs((V_re[i] * temp1[i] + V_im[i] * temp2[i] == Pg_net[i] for i in range(n_bus)), 'Cvl P')  # break into different parts\n",
    "CVL_CPL_Q = model.addConstrs((V_im[i] * temp1[i] - V_re[i] * temp2[i] == Qg_net[i] for i in range(n_bus)), 'Cvl Q')\n",
    "V_slack = model.addConstr(V_re[0]==1, 'V slack real')\n",
    "V_slack_a = model.addConstr(V_im[0]==0, 'V slack imag')\n",
    "\n",
    "V_upper = model.addConstrs((V_re[i] <= 1.06 for i in range(1,n_bus)), 'V upper bound')   #+ V_im[i]**2\n",
    "V_lower = model.addConstrs((V_re[i]  >= 0.94 for i in range(1,n_bus)), 'V lower bound') #+ V_im[i]**2\n",
    "\n",
    "# Yf * W * Yf\n",
    "Line_temp_c_1 = model.addConstr(G_yf@V_re - B_yf@V_im == Line_temp_1, 'Branch Con 1')  # 正向实部电流\n",
    "Line_temp_c_2 = model.addConstr(G_yf @ V_im + B_yf @ V_re == Line_temp_2, 'Branch Con 2')   # 正向虚部电流\n",
    "Line_temp_c_3 = model.addConstr(G_yt@V_re - B_yt@V_im == Line_temp_3, 'Branch Con 3')   # 反向实部电流\n",
    "Line_temp_c_4 = model.addConstr(G_yt @ V_im + B_yt @ V_re == Line_temp_4, 'Branch Con 4') # 反向虚部电流\n",
    "# Line_c_1 = model.addConstrs((Line_temp_1[i]**2 + Line_temp_2[i]**2 + Line_temp_3[i]**2 + Line_temp_4[i]**2 <= np.real(flow_max[i]) for i in range(n_line)), 'Branch Con 1') # p.u.\n",
    "# Line_c_2 = model.addConstrs(( <= np.real(flow_max[i]) for i in range(n_line)), 'Branch Con 2') # p.u. np.imag(flow_max) 是零\n",
    "#gencost[ipol, First_Or_Con]\n",
    "model.setObjective(gencost[ipol, First_Or_Con]@Pg, GRB.MINIMIZE)\n",
    "model.optimize()\n",
    "# model.X[:14]"
   ],
   "metadata": {
    "collapsed": false,
    "pycharm": {
     "name": "#%%\n"
    }
   }
  },
  {
   "cell_type": "code",
   "execution_count": 21,
   "outputs": [
    {
     "data": {
      "text/plain": "[1.0,\n 0.005100875673038342,\n 276.64740263168005,\n 539.9752378033504,\n 4.631632645184473,\n 2525.169562924018,\n 2643.3219200443255,\n 4404.821920044325,\n 2324.592965983529,\n 2851.492965983529,\n 3243.0860942266336,\n 3340.221508371691,\n 3166.369562924018,\n 3635.2073669258702]"
     },
     "execution_count": 21,
     "metadata": {},
     "output_type": "execute_result"
    }
   ],
   "source": [
    "model.X[:14]"
   ],
   "metadata": {
    "collapsed": false,
    "pycharm": {
     "name": "#%%\n"
    }
   }
  },
  {
   "cell_type": "code",
   "execution_count": null,
   "outputs": [],
   "source": [],
   "metadata": {
    "collapsed": false,
    "pycharm": {
     "name": "#%%\n"
    }
   }
  }
 ],
 "metadata": {
  "kernelspec": {
   "display_name": "Python 3",
   "language": "python",
   "name": "python3"
  },
  "language_info": {
   "codemirror_mode": {
    "name": "ipython",
    "version": 2
   },
   "file_extension": ".py",
   "mimetype": "text/x-python",
   "name": "python",
   "nbconvert_exporter": "python",
   "pygments_lexer": "ipython2",
   "version": "2.7.6"
  }
 },
 "nbformat": 4,
 "nbformat_minor": 0
}