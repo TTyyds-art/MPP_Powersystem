{
 "cells": [
  {
   "cell_type": "code",
   "execution_count": 1,
   "metadata": {
    "collapsed": true
   },
   "outputs": [],
   "source": [
    "import sympy\n"
   ]
  },
  {
   "cell_type": "code",
   "execution_count": 2,
   "outputs": [
    {
     "data": {
      "text/plain": "sqrt(3)",
      "text/latex": "$\\displaystyle \\sqrt{3}$"
     },
     "execution_count": 2,
     "metadata": {},
     "output_type": "execute_result"
    }
   ],
   "source": [
    "sympy.sqrt(3)"
   ],
   "metadata": {
    "collapsed": false
   }
  },
  {
   "cell_type": "code",
   "execution_count": 3,
   "outputs": [
    {
     "data": {
      "text/plain": "x + 2*y",
      "text/latex": "$\\displaystyle x + 2 y$"
     },
     "execution_count": 3,
     "metadata": {},
     "output_type": "execute_result"
    }
   ],
   "source": [
    "from sympy import symbols\n",
    "\n",
    "x, y = symbols('x y')\n",
    "x+ 2*y"
   ],
   "metadata": {
    "collapsed": false
   }
  },
  {
   "cell_type": "code",
   "execution_count": 4,
   "outputs": [
    {
     "data": {
      "text/plain": "Matrix([\n[1, -1],\n[3,  4],\n[0,  2]])",
      "text/latex": "$\\displaystyle \\left[\\begin{matrix}1 & -1\\\\3 & 4\\\\0 & 2\\end{matrix}\\right]$"
     },
     "execution_count": 4,
     "metadata": {},
     "output_type": "execute_result"
    }
   ],
   "source": [
    "from sympy import *\n",
    "\n",
    "m1 = Matrix([1, 2, 3])\n",
    "\n",
    "m2 = Matrix([[1, -1], [3, 4], [0, 2]])\n",
    "\n",
    "m2"
   ],
   "metadata": {
    "collapsed": false
   }
  },
  {
   "cell_type": "code",
   "execution_count": 5,
   "outputs": [
    {
     "data": {
      "text/plain": "Matrix([\n[1],\n[2],\n[3]])",
      "text/latex": "$\\displaystyle \\left[\\begin{matrix}1\\\\2\\\\3\\end{matrix}\\right]$"
     },
     "execution_count": 5,
     "metadata": {},
     "output_type": "execute_result"
    }
   ],
   "source": [
    "m1"
   ],
   "metadata": {
    "collapsed": false
   }
  },
  {
   "cell_type": "code",
   "execution_count": 1,
   "outputs": [],
   "source": [
    "from sympy import *\n",
    "\n",
    "x, y, z, t = symbols('x y z t')\n",
    "k, m, n = symbols('k m n', integer=True)\n",
    "f, g, h = symbols('f g h', cls=Function)"
   ],
   "metadata": {
    "collapsed": false
   }
  },
  {
   "cell_type": "code",
   "execution_count": 2,
   "outputs": [
    {
     "data": {
      "text/plain": "3*pi/2 + exp(I*x)/(x**2 + y)",
      "text/latex": "$\\displaystyle \\frac{3 \\pi}{2} + \\frac{e^{i x}}{x^{2} + y}$"
     },
     "execution_count": 2,
     "metadata": {},
     "output_type": "execute_result"
    }
   ],
   "source": [
    "Rational(3,2)*pi + exp(I*x) / (x**2 + y)"
   ],
   "metadata": {
    "collapsed": false
   }
  },
  {
   "cell_type": "code",
   "execution_count": 4,
   "outputs": [
    {
     "data": {
      "text/plain": "-1.00000000000000",
      "text/latex": "$\\displaystyle -1.0$"
     },
     "execution_count": 4,
     "metadata": {},
     "output_type": "execute_result"
    }
   ],
   "source": [
    "x = Symbol('x')\n",
    "exp(I*x).subs(x, pi) .evalf()"
   ],
   "metadata": {
    "collapsed": false
   }
  },
  {
   "cell_type": "code",
   "execution_count": 5,
   "outputs": [
    {
     "data": {
      "text/plain": "sympy.core.add.Add"
     },
     "execution_count": 5,
     "metadata": {},
     "output_type": "execute_result"
    }
   ],
   "source": [
    "expr = x + 2*y\n",
    "expr.__class__"
   ],
   "metadata": {
    "collapsed": false
   }
  },
  {
   "cell_type": "code",
   "execution_count": 6,
   "outputs": [
    {
     "data": {
      "text/plain": "(x, 2*y)"
     },
     "execution_count": 6,
     "metadata": {},
     "output_type": "execute_result"
    }
   ],
   "source": [
    "expr.args"
   ],
   "metadata": {
    "collapsed": false
   }
  },
  {
   "cell_type": "code",
   "execution_count": 8,
   "outputs": [
    {
     "data": {
      "text/plain": "262537412640768743.99999999999925007259719818568888",
      "text/latex": "$\\displaystyle 262537412640768743.99999999999925007259719818568888$"
     },
     "execution_count": 8,
     "metadata": {},
     "output_type": "execute_result"
    }
   ],
   "source": [
    "exp(pi*sqrt(163)).evalf(50)"
   ],
   "metadata": {
    "collapsed": false
   }
  },
  {
   "cell_type": "code",
   "execution_count": 10,
   "outputs": [
    {
     "data": {
      "text/plain": "'2 \\\\cdot 4 + 10'"
     },
     "execution_count": 10,
     "metadata": {},
     "output_type": "execute_result"
    }
   ],
   "source": [
    "latex(S('2*4+10',evaluate=False))"
   ],
   "metadata": {
    "collapsed": false
   }
  },
  {
   "cell_type": "code",
   "execution_count": 11,
   "outputs": [
    {
     "data": {
      "text/plain": "'\\\\frac{e^{2 x}}{2}'"
     },
     "execution_count": 11,
     "metadata": {},
     "output_type": "execute_result"
    }
   ],
   "source": [
    "latex(exp(x*2)/2)"
   ],
   "metadata": {
    "collapsed": false
   }
  },
  {
   "cell_type": "code",
   "execution_count": 12,
   "outputs": [
    {
     "data": {
      "text/plain": "x**3 + 2*x**2*y + x**2 + x*y**2 + 2*x*y + y**2",
      "text/latex": "$\\displaystyle x^{3} + 2 x^{2} y + x^{2} + x y^{2} + 2 x y + y^{2}$"
     },
     "execution_count": 12,
     "metadata": {},
     "output_type": "execute_result"
    }
   ],
   "source": [
    "((x+y)**2*(x+1)).expand()"
   ],
   "metadata": {
    "collapsed": false
   }
  },
  {
   "cell_type": "code",
   "execution_count": 13,
   "outputs": [
    {
     "data": {
      "text/plain": "sin(x)",
      "text/latex": "$\\displaystyle \\sin{\\left(x \\right)}$"
     },
     "execution_count": 13,
     "metadata": {},
     "output_type": "execute_result"
    }
   ],
   "source": [
    "a = 1/x + (x*sin(x) - 1) /x\n",
    "simplify(a)"
   ],
   "metadata": {
    "collapsed": false
   }
  },
  {
   "cell_type": "code",
   "execution_count": 14,
   "outputs": [
    {
     "data": {
      "text/plain": "[-2, -2*I, 2*I]"
     },
     "execution_count": 14,
     "metadata": {},
     "output_type": "execute_result"
    }
   ],
   "source": [
    "solve(Eq(x**3 + 2*x**2 + 4*x +8, 0), x)"
   ],
   "metadata": {
    "collapsed": false
   }
  },
  {
   "cell_type": "code",
   "execution_count": 15,
   "outputs": [
    {
     "data": {
      "text/plain": "[-2, -2*I, 2*I]"
     },
     "execution_count": 15,
     "metadata": {},
     "output_type": "execute_result"
    }
   ],
   "source": [
    "solve(x**3 + 2*x**2 +4*x + 8, x)"
   ],
   "metadata": {
    "collapsed": false
   }
  },
  {
   "cell_type": "code",
   "execution_count": 16,
   "outputs": [
    {
     "data": {
      "text/plain": "{x: -3, y: 1}"
     },
     "execution_count": 16,
     "metadata": {},
     "output_type": "execute_result"
    }
   ],
   "source": [
    "solve([Eq(x+ 5*y,2), Eq(-3*x + 6*y, 15)], [x, y])"
   ],
   "metadata": {
    "collapsed": false
   }
  },
  {
   "cell_type": "code",
   "execution_count": 18,
   "outputs": [
    {
     "data": {
      "text/plain": "{x: -3, y: 1}"
     },
     "execution_count": 18,
     "metadata": {},
     "output_type": "execute_result"
    }
   ],
   "source": [
    "solve([x+5*y-2, -3*x +6*y - 15], [x, y])"
   ],
   "metadata": {
    "collapsed": false
   }
  },
  {
   "cell_type": "code",
   "execution_count": 19,
   "outputs": [
    {
     "data": {
      "text/plain": "ImageSet(Lambda(_n, 2*_n*pi + pi/2), Integers)",
      "text/latex": "$\\displaystyle \\left\\{2 n \\pi + \\frac{\\pi}{2}\\; \\middle|\\; n \\in \\mathbb{Z}\\right\\}$"
     },
     "execution_count": 19,
     "metadata": {},
     "output_type": "execute_result"
    }
   ],
   "source": [
    "solveset(x**2 - x, x)\n",
    "solveset(x - x, x, domain=S.Reals)\n",
    "solveset(sin(x) - 1, x, domain=S.Reals)"
   ],
   "metadata": {
    "collapsed": false
   }
  },
  {
   "cell_type": "code",
   "execution_count": 20,
   "outputs": [
    {
     "data": {
      "text/plain": "{(-y - 1, y, 2)}",
      "text/latex": "$\\displaystyle \\left\\{\\left( - y - 1, \\  y, \\  2\\right)\\right\\}$"
     },
     "execution_count": 20,
     "metadata": {},
     "output_type": "execute_result"
    }
   ],
   "source": [
    "linsolve([x + y + z - 1, x + y + 2*z - 3 ], (x, y, z))"
   ],
   "metadata": {
    "collapsed": false
   }
  },
  {
   "cell_type": "code",
   "execution_count": 21,
   "outputs": [
    {
     "data": {
      "text/plain": "{(0, y)}",
      "text/latex": "$\\displaystyle \\left\\{\\left( 0, \\  y\\right)\\right\\}$"
     },
     "execution_count": 21,
     "metadata": {},
     "output_type": "execute_result"
    }
   ],
   "source": [
    "nonlinsolve([x*y, x*y - x], [x, y])"
   ],
   "metadata": {
    "collapsed": false
   }
  },
  {
   "cell_type": "code",
   "execution_count": 22,
   "outputs": [],
   "source": [
    "x, la,th_1, th_2 = symbols('x la th_1 th_2', real=True)\n",
    "# nonlinsolve([])"
   ],
   "metadata": {
    "collapsed": false
   }
  },
  {
   "cell_type": "code",
   "execution_count": 23,
   "outputs": [
    {
     "ename": "KeyboardInterrupt",
     "evalue": "",
     "output_type": "error",
     "traceback": [
      "\u001B[0;31m---------------------------------------------------------------------------\u001B[0m",
      "\u001B[0;31mKeyboardInterrupt\u001B[0m                         Traceback (most recent call last)",
      "Cell \u001B[0;32mIn[23], line 2\u001B[0m\n\u001B[1;32m      1\u001B[0m system \u001B[38;5;241m=\u001B[39m [(la\u001B[38;5;241m+\u001B[39m\u001B[38;5;241m5.182\u001B[39m)\u001B[38;5;241m*\u001B[39m(x\u001B[38;5;241m+\u001B[39m\u001B[38;5;241m1.239\u001B[39m) \u001B[38;5;241m+\u001B[39m (x\u001B[38;5;241m+\u001B[39m\u001B[38;5;241m0.761\u001B[39m)\u001B[38;5;241m*\u001B[39m(la\u001B[38;5;241m-\u001B[39m\u001B[38;5;241m3.182\u001B[39m), (x\u001B[38;5;241m+\u001B[39m\u001B[38;5;241m0.761\u001B[39m)\u001B[38;5;241m*\u001B[39m(x\u001B[38;5;241m+\u001B[39m\u001B[38;5;241m1.239\u001B[39m) ]\n\u001B[0;32m----> 2\u001B[0m \u001B[43mnonlinsolve\u001B[49m\u001B[43m(\u001B[49m\u001B[43msystem\u001B[49m\u001B[43m,\u001B[49m\u001B[43m \u001B[49m\u001B[43m[\u001B[49m\u001B[43mth_1\u001B[49m\u001B[43m,\u001B[49m\u001B[43m \u001B[49m\u001B[43mth_2\u001B[49m\u001B[43m]\u001B[49m\u001B[43m)\u001B[49m\n",
      "File \u001B[0;32m~/anaconda3/envs/scientificProject/lib/python3.10/site-packages/sympy/solvers/solveset.py:3786\u001B[0m, in \u001B[0;36mnonlinsolve\u001B[0;34m(system, *symbols)\u001B[0m\n\u001B[1;32m   3783\u001B[0m poly_sol \u001B[38;5;241m=\u001B[39m [{}]\n\u001B[1;32m   3785\u001B[0m \u001B[38;5;28;01mif\u001B[39;00m polys:\n\u001B[0;32m-> 3786\u001B[0m     poly_sol, poly_eqs \u001B[38;5;241m=\u001B[39m \u001B[43m_handle_poly\u001B[49m\u001B[43m(\u001B[49m\u001B[43mpolys\u001B[49m\u001B[43m,\u001B[49m\u001B[43m \u001B[49m\u001B[43msymbols\u001B[49m\u001B[43m)\u001B[49m\n\u001B[1;32m   3787\u001B[0m     \u001B[38;5;28;01mif\u001B[39;00m poly_sol \u001B[38;5;129;01mand\u001B[39;00m poly_sol[\u001B[38;5;241m0\u001B[39m]:\n\u001B[1;32m   3788\u001B[0m         poly_syms \u001B[38;5;241m=\u001B[39m \u001B[38;5;28mset\u001B[39m()\u001B[38;5;241m.\u001B[39munion(\u001B[38;5;241m*\u001B[39m(eq\u001B[38;5;241m.\u001B[39mfree_symbols \u001B[38;5;28;01mfor\u001B[39;00m eq \u001B[38;5;129;01min\u001B[39;00m polys))\n",
      "File \u001B[0;32m~/anaconda3/envs/scientificProject/lib/python3.10/site-packages/sympy/solvers/solveset.py:3535\u001B[0m, in \u001B[0;36m_handle_poly\u001B[0;34m(polys, symbols)\u001B[0m\n\u001B[1;32m   3529\u001B[0m     polys \u001B[38;5;241m=\u001B[39m [poly(nsimplify(p, rational\u001B[38;5;241m=\u001B[39m\u001B[38;5;28;01mTrue\u001B[39;00m)) \u001B[38;5;28;01mfor\u001B[39;00m p \u001B[38;5;129;01min\u001B[39;00m polys]\n\u001B[1;32m   3531\u001B[0m \u001B[38;5;66;03m# Compute a Groebner basis in grevlex order wrt the ordering given. We will\u001B[39;00m\n\u001B[1;32m   3532\u001B[0m \u001B[38;5;66;03m# try to convert this to lex order later. Usually it seems to be more\u001B[39;00m\n\u001B[1;32m   3533\u001B[0m \u001B[38;5;66;03m# efficient to compute a lex order basis by computing a grevlex basis and\u001B[39;00m\n\u001B[1;32m   3534\u001B[0m \u001B[38;5;66;03m# converting to lex with fglm.\u001B[39;00m\n\u001B[0;32m-> 3535\u001B[0m basis \u001B[38;5;241m=\u001B[39m \u001B[43mgroebner\u001B[49m\u001B[43m(\u001B[49m\u001B[43mpolys\u001B[49m\u001B[43m,\u001B[49m\u001B[43m \u001B[49m\u001B[43msymbols\u001B[49m\u001B[43m,\u001B[49m\u001B[43m \u001B[49m\u001B[43morder\u001B[49m\u001B[38;5;241;43m=\u001B[39;49m\u001B[38;5;124;43m'\u001B[39;49m\u001B[38;5;124;43mgrevlex\u001B[39;49m\u001B[38;5;124;43m'\u001B[39;49m\u001B[43m,\u001B[49m\u001B[43m \u001B[49m\u001B[43mpolys\u001B[49m\u001B[38;5;241;43m=\u001B[39;49m\u001B[38;5;28;43;01mFalse\u001B[39;49;00m\u001B[43m)\u001B[49m\n\u001B[1;32m   3537\u001B[0m \u001B[38;5;66;03m#\u001B[39;00m\n\u001B[1;32m   3538\u001B[0m \u001B[38;5;66;03m# No solutions (inconsistent equations)?\u001B[39;00m\n\u001B[1;32m   3539\u001B[0m \u001B[38;5;66;03m#\u001B[39;00m\n\u001B[1;32m   3540\u001B[0m \u001B[38;5;28;01mif\u001B[39;00m \u001B[38;5;241m1\u001B[39m \u001B[38;5;129;01min\u001B[39;00m basis:\n\u001B[1;32m   3541\u001B[0m \n\u001B[1;32m   3542\u001B[0m     \u001B[38;5;66;03m# No solutions:\u001B[39;00m\n",
      "File \u001B[0;32m~/anaconda3/envs/scientificProject/lib/python3.10/site-packages/sympy/polys/polytools.py:6922\u001B[0m, in \u001B[0;36mgroebner\u001B[0;34m(F, *gens, **args)\u001B[0m\n\u001B[1;32m   6871\u001B[0m \u001B[38;5;129m@public\u001B[39m\n\u001B[1;32m   6872\u001B[0m \u001B[38;5;28;01mdef\u001B[39;00m \u001B[38;5;21mgroebner\u001B[39m(F, \u001B[38;5;241m*\u001B[39mgens, \u001B[38;5;241m*\u001B[39m\u001B[38;5;241m*\u001B[39margs):\n\u001B[1;32m   6873\u001B[0m     \u001B[38;5;124;03m\"\"\"\u001B[39;00m\n\u001B[1;32m   6874\u001B[0m \u001B[38;5;124;03m    Computes the reduced Groebner basis for a set of polynomials.\u001B[39;00m\n\u001B[1;32m   6875\u001B[0m \n\u001B[0;32m   (...)\u001B[0m\n\u001B[1;32m   6920\u001B[0m \n\u001B[1;32m   6921\u001B[0m \u001B[38;5;124;03m    \"\"\"\u001B[39;00m\n\u001B[0;32m-> 6922\u001B[0m     \u001B[38;5;28;01mreturn\u001B[39;00m \u001B[43mGroebnerBasis\u001B[49m\u001B[43m(\u001B[49m\u001B[43mF\u001B[49m\u001B[43m,\u001B[49m\u001B[43m \u001B[49m\u001B[38;5;241;43m*\u001B[39;49m\u001B[43mgens\u001B[49m\u001B[43m,\u001B[49m\u001B[43m \u001B[49m\u001B[38;5;241;43m*\u001B[39;49m\u001B[38;5;241;43m*\u001B[39;49m\u001B[43margs\u001B[49m\u001B[43m)\u001B[49m\n",
      "File \u001B[0;32m~/anaconda3/envs/scientificProject/lib/python3.10/site-packages/sympy/polys/polytools.py:6961\u001B[0m, in \u001B[0;36mGroebnerBasis.__new__\u001B[0;34m(cls, F, *gens, **args)\u001B[0m\n\u001B[1;32m   6957\u001B[0m ring \u001B[38;5;241m=\u001B[39m PolyRing(opt\u001B[38;5;241m.\u001B[39mgens, opt\u001B[38;5;241m.\u001B[39mdomain, opt\u001B[38;5;241m.\u001B[39morder)\n\u001B[1;32m   6959\u001B[0m polys \u001B[38;5;241m=\u001B[39m [ring\u001B[38;5;241m.\u001B[39mfrom_dict(poly\u001B[38;5;241m.\u001B[39mrep\u001B[38;5;241m.\u001B[39mto_dict()) \u001B[38;5;28;01mfor\u001B[39;00m poly \u001B[38;5;129;01min\u001B[39;00m polys \u001B[38;5;28;01mif\u001B[39;00m poly]\n\u001B[0;32m-> 6961\u001B[0m G \u001B[38;5;241m=\u001B[39m \u001B[43m_groebner\u001B[49m\u001B[43m(\u001B[49m\u001B[43mpolys\u001B[49m\u001B[43m,\u001B[49m\u001B[43m \u001B[49m\u001B[43mring\u001B[49m\u001B[43m,\u001B[49m\u001B[43m \u001B[49m\u001B[43mmethod\u001B[49m\u001B[38;5;241;43m=\u001B[39;49m\u001B[43mopt\u001B[49m\u001B[38;5;241;43m.\u001B[39;49m\u001B[43mmethod\u001B[49m\u001B[43m)\u001B[49m\n\u001B[1;32m   6962\u001B[0m G \u001B[38;5;241m=\u001B[39m [Poly\u001B[38;5;241m.\u001B[39m_from_dict(g, opt) \u001B[38;5;28;01mfor\u001B[39;00m g \u001B[38;5;129;01min\u001B[39;00m G]\n\u001B[1;32m   6964\u001B[0m \u001B[38;5;28;01mreturn\u001B[39;00m \u001B[38;5;28mcls\u001B[39m\u001B[38;5;241m.\u001B[39m_new(G, opt)\n",
      "File \u001B[0;32m~/anaconda3/envs/scientificProject/lib/python3.10/site-packages/sympy/polys/groebnertools.py:43\u001B[0m, in \u001B[0;36mgroebner\u001B[0;34m(seq, ring, method)\u001B[0m\n\u001B[1;32m     40\u001B[0m     \u001B[38;5;28;01melse\u001B[39;00m:\n\u001B[1;32m     41\u001B[0m         seq \u001B[38;5;241m=\u001B[39m [ s\u001B[38;5;241m.\u001B[39mset_ring(ring) \u001B[38;5;28;01mfor\u001B[39;00m s \u001B[38;5;129;01min\u001B[39;00m seq ]\n\u001B[0;32m---> 43\u001B[0m G \u001B[38;5;241m=\u001B[39m \u001B[43m_groebner\u001B[49m\u001B[43m(\u001B[49m\u001B[43mseq\u001B[49m\u001B[43m,\u001B[49m\u001B[43m \u001B[49m\u001B[43mring\u001B[49m\u001B[43m)\u001B[49m\n\u001B[1;32m     45\u001B[0m \u001B[38;5;28;01mif\u001B[39;00m orig \u001B[38;5;129;01mis\u001B[39;00m \u001B[38;5;129;01mnot\u001B[39;00m \u001B[38;5;28;01mNone\u001B[39;00m:\n\u001B[1;32m     46\u001B[0m     G \u001B[38;5;241m=\u001B[39m [ g\u001B[38;5;241m.\u001B[39mclear_denoms()[\u001B[38;5;241m1\u001B[39m]\u001B[38;5;241m.\u001B[39mset_ring(orig) \u001B[38;5;28;01mfor\u001B[39;00m g \u001B[38;5;129;01min\u001B[39;00m G ]\n",
      "File \u001B[0;32m~/anaconda3/envs/scientificProject/lib/python3.10/site-packages/sympy/polys/groebnertools.py:204\u001B[0m, in \u001B[0;36m_buchberger\u001B[0;34m(f, ring)\u001B[0m\n\u001B[1;32m    201\u001B[0m     r \u001B[38;5;241m=\u001B[39m p\u001B[38;5;241m.\u001B[39mrem(f[:i])\n\u001B[1;32m    203\u001B[0m     \u001B[38;5;28;01mif\u001B[39;00m r:\n\u001B[0;32m--> 204\u001B[0m         f1\u001B[38;5;241m.\u001B[39mappend(\u001B[43mr\u001B[49m\u001B[38;5;241;43m.\u001B[39;49m\u001B[43mmonic\u001B[49m\u001B[43m(\u001B[49m\u001B[43m)\u001B[49m)\n\u001B[1;32m    206\u001B[0m \u001B[38;5;28;01mif\u001B[39;00m f \u001B[38;5;241m==\u001B[39m f1:\n\u001B[1;32m    207\u001B[0m     \u001B[38;5;28;01mbreak\u001B[39;00m\n",
      "File \u001B[0;32m~/anaconda3/envs/scientificProject/lib/python3.10/site-packages/sympy/polys/rings.py:1958\u001B[0m, in \u001B[0;36mPolyElement.monic\u001B[0;34m(f)\u001B[0m\n\u001B[1;32m   1956\u001B[0m     \u001B[38;5;28;01mreturn\u001B[39;00m f\n\u001B[1;32m   1957\u001B[0m \u001B[38;5;28;01melse\u001B[39;00m:\n\u001B[0;32m-> 1958\u001B[0m     \u001B[38;5;28;01mreturn\u001B[39;00m \u001B[43mf\u001B[49m\u001B[38;5;241;43m.\u001B[39;49m\u001B[43mquo_ground\u001B[49m\u001B[43m(\u001B[49m\u001B[43mf\u001B[49m\u001B[38;5;241;43m.\u001B[39;49m\u001B[43mLC\u001B[49m\u001B[43m)\u001B[49m\n",
      "File \u001B[0;32m~/anaconda3/envs/scientificProject/lib/python3.10/site-packages/sympy/polys/rings.py:1994\u001B[0m, in \u001B[0;36mPolyElement.quo_ground\u001B[0;34m(f, x)\u001B[0m\n\u001B[1;32m   1992\u001B[0m \u001B[38;5;28;01mif\u001B[39;00m domain\u001B[38;5;241m.\u001B[39mis_Field:\n\u001B[1;32m   1993\u001B[0m     quo \u001B[38;5;241m=\u001B[39m domain\u001B[38;5;241m.\u001B[39mquo\n\u001B[0;32m-> 1994\u001B[0m     terms \u001B[38;5;241m=\u001B[39m [ (monom, quo(coeff, x)) \u001B[38;5;28;01mfor\u001B[39;00m monom, coeff \u001B[38;5;129;01min\u001B[39;00m f\u001B[38;5;241m.\u001B[39miterterms() ]\n\u001B[1;32m   1995\u001B[0m \u001B[38;5;28;01melse\u001B[39;00m:\n\u001B[1;32m   1996\u001B[0m     terms \u001B[38;5;241m=\u001B[39m [ (monom, coeff \u001B[38;5;241m/\u001B[39m\u001B[38;5;241m/\u001B[39m x) \u001B[38;5;28;01mfor\u001B[39;00m monom, coeff \u001B[38;5;129;01min\u001B[39;00m f\u001B[38;5;241m.\u001B[39miterterms() \u001B[38;5;28;01mif\u001B[39;00m \u001B[38;5;129;01mnot\u001B[39;00m (coeff \u001B[38;5;241m%\u001B[39m x) ]\n",
      "File \u001B[0;32m~/anaconda3/envs/scientificProject/lib/python3.10/site-packages/sympy/polys/rings.py:1994\u001B[0m, in \u001B[0;36m<listcomp>\u001B[0;34m(.0)\u001B[0m\n\u001B[1;32m   1992\u001B[0m \u001B[38;5;28;01mif\u001B[39;00m domain\u001B[38;5;241m.\u001B[39mis_Field:\n\u001B[1;32m   1993\u001B[0m     quo \u001B[38;5;241m=\u001B[39m domain\u001B[38;5;241m.\u001B[39mquo\n\u001B[0;32m-> 1994\u001B[0m     terms \u001B[38;5;241m=\u001B[39m [ (monom, \u001B[43mquo\u001B[49m\u001B[43m(\u001B[49m\u001B[43mcoeff\u001B[49m\u001B[43m,\u001B[49m\u001B[43m \u001B[49m\u001B[43mx\u001B[49m\u001B[43m)\u001B[49m) \u001B[38;5;28;01mfor\u001B[39;00m monom, coeff \u001B[38;5;129;01min\u001B[39;00m f\u001B[38;5;241m.\u001B[39miterterms() ]\n\u001B[1;32m   1995\u001B[0m \u001B[38;5;28;01melse\u001B[39;00m:\n\u001B[1;32m   1996\u001B[0m     terms \u001B[38;5;241m=\u001B[39m [ (monom, coeff \u001B[38;5;241m/\u001B[39m\u001B[38;5;241m/\u001B[39m x) \u001B[38;5;28;01mfor\u001B[39;00m monom, coeff \u001B[38;5;129;01min\u001B[39;00m f\u001B[38;5;241m.\u001B[39miterterms() \u001B[38;5;28;01mif\u001B[39;00m \u001B[38;5;129;01mnot\u001B[39;00m (coeff \u001B[38;5;241m%\u001B[39m x) ]\n",
      "File \u001B[0;32m~/anaconda3/envs/scientificProject/lib/python3.10/site-packages/sympy/polys/domains/field.py:29\u001B[0m, in \u001B[0;36mField.quo\u001B[0;34m(self, a, b)\u001B[0m\n\u001B[1;32m     27\u001B[0m \u001B[38;5;28;01mdef\u001B[39;00m \u001B[38;5;21mquo\u001B[39m(\u001B[38;5;28mself\u001B[39m, a, b):\n\u001B[1;32m     28\u001B[0m     \u001B[38;5;124;03m\"\"\"Quotient of ``a`` and ``b``, implies ``__truediv__``. \"\"\"\u001B[39;00m\n\u001B[0;32m---> 29\u001B[0m     \u001B[38;5;28;01mreturn\u001B[39;00m \u001B[43ma\u001B[49m\u001B[43m \u001B[49m\u001B[38;5;241;43m/\u001B[39;49m\u001B[43m \u001B[49m\u001B[43mb\u001B[49m\n",
      "File \u001B[0;32m~/anaconda3/envs/scientificProject/lib/python3.10/site-packages/sympy/polys/fields.py:536\u001B[0m, in \u001B[0;36mFracElement.__truediv__\u001B[0;34m(f, g)\u001B[0m\n\u001B[1;32m    534\u001B[0m     \u001B[38;5;28;01mraise\u001B[39;00m \u001B[38;5;167;01mZeroDivisionError\u001B[39;00m\n\u001B[1;32m    535\u001B[0m \u001B[38;5;28;01melif\u001B[39;00m \u001B[38;5;28misinstance\u001B[39m(g, field\u001B[38;5;241m.\u001B[39mdtype):\n\u001B[0;32m--> 536\u001B[0m     \u001B[38;5;28;01mreturn\u001B[39;00m f\u001B[38;5;241m.\u001B[39mnew(f\u001B[38;5;241m.\u001B[39mnumer\u001B[38;5;241m*\u001B[39mg\u001B[38;5;241m.\u001B[39mdenom, \u001B[43mf\u001B[49m\u001B[38;5;241;43m.\u001B[39;49m\u001B[43mdenom\u001B[49m\u001B[38;5;241;43m*\u001B[39;49m\u001B[43mg\u001B[49m\u001B[38;5;241;43m.\u001B[39;49m\u001B[43mnumer\u001B[49m)\n\u001B[1;32m    537\u001B[0m \u001B[38;5;28;01melif\u001B[39;00m \u001B[38;5;28misinstance\u001B[39m(g, field\u001B[38;5;241m.\u001B[39mring\u001B[38;5;241m.\u001B[39mdtype):\n\u001B[1;32m    538\u001B[0m     \u001B[38;5;28;01mreturn\u001B[39;00m f\u001B[38;5;241m.\u001B[39mnew(f\u001B[38;5;241m.\u001B[39mnumer, f\u001B[38;5;241m.\u001B[39mdenom\u001B[38;5;241m*\u001B[39mg)\n",
      "File \u001B[0;32m~/anaconda3/envs/scientificProject/lib/python3.10/site-packages/sympy/polys/rings.py:1100\u001B[0m, in \u001B[0;36mPolyElement.__mul__\u001B[0;34m(p1, p2)\u001B[0m\n\u001B[1;32m   1098\u001B[0m             exp \u001B[38;5;241m=\u001B[39m monomial_mul(exp1, exp2)\n\u001B[1;32m   1099\u001B[0m             p[exp] \u001B[38;5;241m=\u001B[39m get(exp, zero) \u001B[38;5;241m+\u001B[39m v1\u001B[38;5;241m*\u001B[39mv2\n\u001B[0;32m-> 1100\u001B[0m     \u001B[43mp\u001B[49m\u001B[38;5;241;43m.\u001B[39;49m\u001B[43mstrip_zero\u001B[49m\u001B[43m(\u001B[49m\u001B[43m)\u001B[49m\n\u001B[1;32m   1101\u001B[0m     \u001B[38;5;28;01mreturn\u001B[39;00m p\n\u001B[1;32m   1102\u001B[0m \u001B[38;5;28;01melif\u001B[39;00m \u001B[38;5;28misinstance\u001B[39m(p2, PolyElement):\n",
      "File \u001B[0;32m~/anaconda3/envs/scientificProject/lib/python3.10/site-packages/sympy/polys/rings.py:650\u001B[0m, in \u001B[0;36mPolyElement.strip_zero\u001B[0;34m(self)\u001B[0m\n\u001B[1;32m    648\u001B[0m \u001B[38;5;124;03m\"\"\"Eliminate monomials with zero coefficient. \"\"\"\u001B[39;00m\n\u001B[1;32m    649\u001B[0m \u001B[38;5;28;01mfor\u001B[39;00m k, v \u001B[38;5;129;01min\u001B[39;00m \u001B[38;5;28mlist\u001B[39m(\u001B[38;5;28mself\u001B[39m\u001B[38;5;241m.\u001B[39mitems()):\n\u001B[0;32m--> 650\u001B[0m     \u001B[38;5;28;01mif\u001B[39;00m \u001B[38;5;129;01mnot\u001B[39;00m v:\n\u001B[1;32m    651\u001B[0m         \u001B[38;5;28;01mdel\u001B[39;00m \u001B[38;5;28mself\u001B[39m[k]\n",
      "File \u001B[0;32m~/anaconda3/envs/scientificProject/lib/python3.10/site-packages/mpmath/ctx_mp_python.py:145\u001B[0m, in \u001B[0;36m_mpf.__nonzero__\u001B[0;34m(s)\u001B[0m\n\u001B[0;32m--> 145\u001B[0m \u001B[38;5;28;01mdef\u001B[39;00m \u001B[38;5;21m__nonzero__\u001B[39m(s): \u001B[38;5;28;01mreturn\u001B[39;00m \u001B[43ms\u001B[49m\u001B[38;5;241;43m.\u001B[39;49m\u001B[43m_mpf_\u001B[49m \u001B[38;5;241m!=\u001B[39m fzero\n",
      "File \u001B[0;32m~/anaconda3/envs/scientificProject/lib/python3.10/site-packages/sympy/polys/domains/mpelements.py:23\u001B[0m, in \u001B[0;36mRealElement.<lambda>\u001B[0;34m(self)\u001B[0m\n\u001B[1;32m     20\u001B[0m \u001B[38;5;28;01mdef\u001B[39;00m \u001B[38;5;21m_set_mpf\u001B[39m(\u001B[38;5;28mself\u001B[39m, val):\n\u001B[1;32m     21\u001B[0m     \u001B[38;5;28mself\u001B[39m\u001B[38;5;241m.\u001B[39m__mpf__ \u001B[38;5;241m=\u001B[39m val\n\u001B[0;32m---> 23\u001B[0m _mpf_ \u001B[38;5;241m=\u001B[39m \u001B[38;5;28mproperty\u001B[39m(\u001B[38;5;28;01mlambda\u001B[39;00m \u001B[38;5;28mself\u001B[39m: \u001B[38;5;28mself\u001B[39m\u001B[38;5;241m.\u001B[39m__mpf__, _set_mpf)\n\u001B[1;32m     25\u001B[0m \u001B[38;5;28;01mdef\u001B[39;00m \u001B[38;5;21mparent\u001B[39m(\u001B[38;5;28mself\u001B[39m):\n\u001B[1;32m     26\u001B[0m     \u001B[38;5;28;01mreturn\u001B[39;00m \u001B[38;5;28mself\u001B[39m\u001B[38;5;241m.\u001B[39mcontext\u001B[38;5;241m.\u001B[39m_parent\n",
      "\u001B[0;31mKeyboardInterrupt\u001B[0m: "
     ]
    }
   ],
   "source": [
    "system = [(la+5.182)*(x+1.239) + (x+0.761)*(la-3.182)-th_2+0.057, (x+0.761)*(x+1.239) ]\n",
    "nonlinsolve(system, [th_1, th_2])"
   ],
   "metadata": {
    "collapsed": false
   }
  },
  {
   "cell_type": "code",
   "execution_count": 32,
   "outputs": [
    {
     "data": {
      "text/plain": "{(-1.00050225213057*th_2 + (-1.00050225213057*th_2 - 0.000121060772507799)*(-1.998996*sqrt(1.0*th_2 + 0.000121)/(2.0*th_2 + 0.000242) - 1.0) - 1.00012106077251, -1.998996*sqrt(1.0*th_2 + 0.000121)/(2.0*th_2 + 0.000242) - 1.0), (-1.00050225213057*th_2 + (-1.00050225213057*th_2 - 0.000121060772507799)*(1.998996*sqrt(1.0*th_2 + 0.000121)/(2.0*th_2 + 0.000242) - 1.0) - 1.00012106077251, 1.998996*sqrt(1.0*th_2 + 0.000121)/(2.0*th_2 + 0.000242) - 1.0)}",
      "text/latex": "$\\displaystyle \\left\\{\\left( - 1.00050225213057 th_{2} + \\left(- 1.00050225213057 th_{2} - 0.000121060772507799\\right) \\left(- \\frac{1.998996 \\sqrt{1.0 th_{2} + 0.000121}}{2.0 th_{2} + 0.000242} - 1.0\\right) - 1.00012106077251, \\  - \\frac{1.998996 \\sqrt{1.0 th_{2} + 0.000121}}{2.0 th_{2} + 0.000242} - 1.0\\right), \\left( - 1.00050225213057 th_{2} + \\left(- 1.00050225213057 th_{2} - 0.000121060772507799\\right) \\left(\\frac{1.998996 \\sqrt{1.0 th_{2} + 0.000121}}{2.0 th_{2} + 0.000242} - 1.0\\right) - 1.00012106077251, \\  \\frac{1.998996 \\sqrt{1.0 th_{2} + 0.000121}}{2.0 th_{2} + 0.000242} - 1.0\\right)\\right\\}$"
     },
     "execution_count": 32,
     "metadata": {},
     "output_type": "execute_result"
    }
   ],
   "source": [
    "system = [(la+5.182)*(x+1.239) + (x+0.761)*(la-3.182), (x+0.761)*(x+1.239)-th_2+0.057 ]\n",
    "nonlinsolve(system, [x, la])"
   ],
   "metadata": {
    "collapsed": false
   }
  },
  {
   "cell_type": "code",
   "execution_count": 28,
   "outputs": [
    {
     "data": {
      "text/plain": "[]"
     },
     "execution_count": 28,
     "metadata": {},
     "output_type": "execute_result"
    }
   ],
   "source": [
    "system = [(la+5.182)*(x+1.239) + (x+0.761)*(la-3.182), (x+0.761)*(x+1.239)-th_2+0.057 ]\n",
    "solve(system, [x])"
   ],
   "metadata": {
    "collapsed": false
   }
  },
  {
   "cell_type": "code",
   "execution_count": 29,
   "outputs": [
    {
     "data": {
      "text/plain": "{la: (-500000.0*x - 999749.0)/(500000.0*x + 500000.0)}"
     },
     "execution_count": 29,
     "metadata": {},
     "output_type": "execute_result"
    }
   ],
   "source": [
    "system = [(la+5.182)*(x+1.239) + (x+0.761)*(la-3.182), (x+0.761)*(x+1.239)-th_2+0.057 ]\n",
    "solve(system, [la])"
   ],
   "metadata": {
    "collapsed": false
   }
  },
  {
   "cell_type": "code",
   "execution_count": 35,
   "outputs": [
    {
     "data": {
      "text/plain": "Matrix([\n[1, -1],\n[3,  4],\n[0,  2]])",
      "text/latex": "$\\displaystyle \\left[\\begin{matrix}1 & -1\\\\3 & 4\\\\0 & 2\\end{matrix}\\right]$"
     },
     "execution_count": 35,
     "metadata": {},
     "output_type": "execute_result"
    }
   ],
   "source": [
    "M = Matrix([[1,-1], [3,4], [0,2]])\n",
    "M"
   ],
   "metadata": {
    "collapsed": false
   }
  },
  {
   "cell_type": "code",
   "execution_count": 36,
   "outputs": [
    {
     "data": {
      "text/plain": "Matrix([\n[2],\n[3]])",
      "text/latex": "$\\displaystyle \\left[\\begin{matrix}2\\\\3\\end{matrix}\\right]$"
     },
     "execution_count": 36,
     "metadata": {},
     "output_type": "execute_result"
    }
   ],
   "source": [
    "N = Matrix([2,3])\n",
    "N"
   ],
   "metadata": {
    "collapsed": false
   }
  },
  {
   "cell_type": "code",
   "execution_count": 37,
   "outputs": [
    {
     "data": {
      "text/plain": "Matrix([\n[-1],\n[18],\n[ 6]])",
      "text/latex": "$\\displaystyle \\left[\\begin{matrix}-1\\\\18\\\\6\\end{matrix}\\right]$"
     },
     "execution_count": 37,
     "metadata": {},
     "output_type": "execute_result"
    }
   ],
   "source": [
    "M*N"
   ],
   "metadata": {
    "collapsed": false
   }
  },
  {
   "cell_type": "code",
   "execution_count": 39,
   "outputs": [
    {
     "data": {
      "text/plain": "(2, 1)"
     },
     "execution_count": 39,
     "metadata": {},
     "output_type": "execute_result"
    }
   ],
   "source": [
    "shape(N)"
   ],
   "metadata": {
    "collapsed": false
   }
  },
  {
   "cell_type": "code",
   "execution_count": 42,
   "outputs": [
    {
     "ename": "ShapeError",
     "evalue": "Matrix size mismatch: (3, 2) * (3, 2).",
     "output_type": "error",
     "traceback": [
      "\u001B[0;31m---------------------------------------------------------------------------\u001B[0m",
      "\u001B[0;31mShapeError\u001B[0m                                Traceback (most recent call last)",
      "Cell \u001B[0;32mIn[42], line 1\u001B[0m\n\u001B[0;32m----> 1\u001B[0m \u001B[43mM\u001B[49m\u001B[38;5;241;43m*\u001B[39;49m\u001B[43mM\u001B[49m\n",
      "File \u001B[0;32m~/anaconda3/envs/scientificProject/lib/python3.10/site-packages/sympy/core/decorators.py:106\u001B[0m, in \u001B[0;36mcall_highest_priority.<locals>.priority_decorator.<locals>.binary_op_wrapper\u001B[0;34m(self, other)\u001B[0m\n\u001B[1;32m    104\u001B[0m         \u001B[38;5;28;01mif\u001B[39;00m f \u001B[38;5;129;01mis\u001B[39;00m \u001B[38;5;129;01mnot\u001B[39;00m \u001B[38;5;28;01mNone\u001B[39;00m:\n\u001B[1;32m    105\u001B[0m             \u001B[38;5;28;01mreturn\u001B[39;00m f(\u001B[38;5;28mself\u001B[39m)\n\u001B[0;32m--> 106\u001B[0m \u001B[38;5;28;01mreturn\u001B[39;00m \u001B[43mfunc\u001B[49m\u001B[43m(\u001B[49m\u001B[38;5;28;43mself\u001B[39;49m\u001B[43m,\u001B[49m\u001B[43m \u001B[49m\u001B[43mother\u001B[49m\u001B[43m)\u001B[49m\n",
      "File \u001B[0;32m~/anaconda3/envs/scientificProject/lib/python3.10/site-packages/sympy/matrices/common.py:2771\u001B[0m, in \u001B[0;36mMatrixArithmetic.__mul__\u001B[0;34m(self, other)\u001B[0m\n\u001B[1;32m   2742\u001B[0m \u001B[38;5;129m@call_highest_priority\u001B[39m(\u001B[38;5;124m'\u001B[39m\u001B[38;5;124m__rmul__\u001B[39m\u001B[38;5;124m'\u001B[39m)\n\u001B[1;32m   2743\u001B[0m \u001B[38;5;28;01mdef\u001B[39;00m \u001B[38;5;21m__mul__\u001B[39m(\u001B[38;5;28mself\u001B[39m, other):\n\u001B[1;32m   2744\u001B[0m     \u001B[38;5;124;03m\"\"\"Return self*other where other is either a scalar or a matrix\u001B[39;00m\n\u001B[1;32m   2745\u001B[0m \u001B[38;5;124;03m    of compatible dimensions.\u001B[39;00m\n\u001B[1;32m   2746\u001B[0m \n\u001B[0;32m   (...)\u001B[0m\n\u001B[1;32m   2768\u001B[0m \u001B[38;5;124;03m    matrix_multiply_elementwise\u001B[39;00m\n\u001B[1;32m   2769\u001B[0m \u001B[38;5;124;03m    \"\"\"\u001B[39;00m\n\u001B[0;32m-> 2771\u001B[0m     \u001B[38;5;28;01mreturn\u001B[39;00m \u001B[38;5;28;43mself\u001B[39;49m\u001B[38;5;241;43m.\u001B[39;49m\u001B[43mmultiply\u001B[49m\u001B[43m(\u001B[49m\u001B[43mother\u001B[49m\u001B[43m)\u001B[49m\n",
      "File \u001B[0;32m~/anaconda3/envs/scientificProject/lib/python3.10/site-packages/sympy/matrices/common.py:2793\u001B[0m, in \u001B[0;36mMatrixArithmetic.multiply\u001B[0;34m(self, other, dotprodsimp)\u001B[0m\n\u001B[1;32m   2789\u001B[0m \u001B[38;5;28;01mif\u001B[39;00m (\u001B[38;5;28mhasattr\u001B[39m(other, \u001B[38;5;124m'\u001B[39m\u001B[38;5;124mshape\u001B[39m\u001B[38;5;124m'\u001B[39m) \u001B[38;5;129;01mand\u001B[39;00m \u001B[38;5;28mlen\u001B[39m(other\u001B[38;5;241m.\u001B[39mshape) \u001B[38;5;241m==\u001B[39m \u001B[38;5;241m2\u001B[39m \u001B[38;5;129;01mand\u001B[39;00m\n\u001B[1;32m   2790\u001B[0m     (\u001B[38;5;28mgetattr\u001B[39m(other, \u001B[38;5;124m'\u001B[39m\u001B[38;5;124mis_Matrix\u001B[39m\u001B[38;5;124m'\u001B[39m, \u001B[38;5;28;01mTrue\u001B[39;00m) \u001B[38;5;129;01mor\u001B[39;00m\n\u001B[1;32m   2791\u001B[0m      \u001B[38;5;28mgetattr\u001B[39m(other, \u001B[38;5;124m'\u001B[39m\u001B[38;5;124mis_MatrixLike\u001B[39m\u001B[38;5;124m'\u001B[39m, \u001B[38;5;28;01mTrue\u001B[39;00m))):\n\u001B[1;32m   2792\u001B[0m     \u001B[38;5;28;01mif\u001B[39;00m \u001B[38;5;28mself\u001B[39m\u001B[38;5;241m.\u001B[39mshape[\u001B[38;5;241m1\u001B[39m] \u001B[38;5;241m!=\u001B[39m other\u001B[38;5;241m.\u001B[39mshape[\u001B[38;5;241m0\u001B[39m]:\n\u001B[0;32m-> 2793\u001B[0m         \u001B[38;5;28;01mraise\u001B[39;00m ShapeError(\u001B[38;5;124m\"\u001B[39m\u001B[38;5;124mMatrix size mismatch: \u001B[39m\u001B[38;5;132;01m%s\u001B[39;00m\u001B[38;5;124m * \u001B[39m\u001B[38;5;132;01m%s\u001B[39;00m\u001B[38;5;124m.\u001B[39m\u001B[38;5;124m\"\u001B[39m \u001B[38;5;241m%\u001B[39m (\n\u001B[1;32m   2794\u001B[0m             \u001B[38;5;28mself\u001B[39m\u001B[38;5;241m.\u001B[39mshape, other\u001B[38;5;241m.\u001B[39mshape))\n\u001B[1;32m   2796\u001B[0m \u001B[38;5;66;03m# honest SymPy matrices defer to their class's routine\u001B[39;00m\n\u001B[1;32m   2797\u001B[0m \u001B[38;5;28;01mif\u001B[39;00m \u001B[38;5;28mgetattr\u001B[39m(other, \u001B[38;5;124m'\u001B[39m\u001B[38;5;124mis_Matrix\u001B[39m\u001B[38;5;124m'\u001B[39m, \u001B[38;5;28;01mFalse\u001B[39;00m):\n",
      "\u001B[0;31mShapeError\u001B[0m: Matrix size mismatch: (3, 2) * (3, 2)."
     ]
    }
   ],
   "source": [
    "M*M"
   ],
   "metadata": {
    "collapsed": false
   }
  },
  {
   "cell_type": "code",
   "execution_count": null,
   "outputs": [],
   "source": [],
   "metadata": {
    "collapsed": false
   }
  }
 ],
 "metadata": {
  "kernelspec": {
   "display_name": "Python 3",
   "language": "python",
   "name": "python3"
  },
  "language_info": {
   "codemirror_mode": {
    "name": "ipython",
    "version": 2
   },
   "file_extension": ".py",
   "mimetype": "text/x-python",
   "name": "python",
   "nbconvert_exporter": "python",
   "pygments_lexer": "ipython2",
   "version": "2.7.6"
  }
 },
 "nbformat": 4,
 "nbformat_minor": 0
}
