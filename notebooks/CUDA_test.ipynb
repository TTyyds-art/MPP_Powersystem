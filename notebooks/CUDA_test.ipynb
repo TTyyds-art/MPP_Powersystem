{
 "cells": [
  {
   "cell_type": "code",
   "execution_count": 1,
   "outputs": [
    {
     "name": "stdout",
     "output_type": "stream",
     "text": [
      "Collecting package metadata (current_repodata.json): done\r\n",
      "Solving environment: done\r\n",
      "\r\n",
      "\r\n",
      "==> WARNING: A newer version of conda exists. <==\r\n",
      "  current version: 4.13.0\r\n",
      "  latest version: 23.3.1\r\n",
      "\r\n",
      "Please update conda by running\r\n",
      "\r\n",
      "    $ conda update -n base conda\r\n",
      "\r\n",
      "\r\n",
      "\r\n",
      "## Package Plan ##\r\n",
      "\r\n",
      "  environment location: /home/huzuntao/.conda/envs/nvenv\r\n",
      "\r\n",
      "  added / updated specs:\r\n",
      "    - cupy\r\n",
      "\r\n",
      "\r\n",
      "The following packages will be downloaded:\r\n",
      "\r\n",
      "    package                    |            build\r\n",
      "    ---------------------------|-----------------\r\n",
      "    cudatoolkit-11.8.0         |      h37601d7_11       635.9 MB  conda-forge\r\n",
      "    cupy-12.0.0                |   py39hc3c280e_1        34.8 MB  conda-forge\r\n",
      "    fastrlock-0.8              |   py39h5a03fae_3          32 KB  conda-forge\r\n",
      "    ------------------------------------------------------------\r\n",
      "                                           Total:       670.8 MB\r\n",
      "\r\n",
      "The following NEW packages will be INSTALLED:\r\n",
      "\r\n",
      "  cudatoolkit        conda-forge/linux-64::cudatoolkit-11.8.0-h37601d7_11\r\n",
      "  cupy               conda-forge/linux-64::cupy-12.0.0-py39hc3c280e_1\r\n",
      "  fastrlock          conda-forge/linux-64::fastrlock-0.8-py39h5a03fae_3\r\n",
      "\r\n",
      "\r\n",
      "Proceed ([y]/n)? ^C\r\n",
      "\r\n",
      "CondaSystemExit: \r\n",
      "Operation aborted.  Exiting.\r\n",
      "\r\n"
     ]
    }
   ],
   "source": [],
   "metadata": {
    "collapsed": false,
    "pycharm": {
     "name": "#%%\n"
    }
   }
  },
  {
   "cell_type": "code",
   "execution_count": 29,
   "outputs": [
    {
     "name": "stdout",
     "output_type": "stream",
     "text": [
      "Numpy time: 0.86476 seconds\n"
     ]
    },
    {
     "ename": "OutOfMemoryError",
     "evalue": "Out of memory allocating 200,000,000 bytes (allocated so far: 800,000,000 bytes).",
     "output_type": "error",
     "traceback": [
      "\u001B[0;31m---------------------------------------------------------------------------\u001B[0m",
      "\u001B[0;31mOutOfMemoryError\u001B[0m                          Traceback (most recent call last)",
      "Cell \u001B[0;32mIn[29], line 20\u001B[0m\n\u001B[1;32m     18\u001B[0m \u001B[38;5;66;03m# 使用cupy求解矩阵的逆\u001B[39;00m\n\u001B[1;32m     19\u001B[0m start_time \u001B[38;5;241m=\u001B[39m time\u001B[38;5;241m.\u001B[39mtime()\n\u001B[0;32m---> 20\u001B[0m A_inv_cp \u001B[38;5;241m=\u001B[39m \u001B[43mcp\u001B[49m\u001B[38;5;241;43m.\u001B[39;49m\u001B[43mlinalg\u001B[49m\u001B[38;5;241;43m.\u001B[39;49m\u001B[43minv\u001B[49m\u001B[43m(\u001B[49m\u001B[43mA_cp\u001B[49m\u001B[43m)\u001B[49m\n\u001B[1;32m     21\u001B[0m cupy_time \u001B[38;5;241m=\u001B[39m time\u001B[38;5;241m.\u001B[39mtime() \u001B[38;5;241m-\u001B[39m start_time\n\u001B[1;32m     22\u001B[0m \u001B[38;5;28mprint\u001B[39m(\u001B[38;5;124m\"\u001B[39m\u001B[38;5;124mCuPy time: \u001B[39m\u001B[38;5;132;01m{:.5f}\u001B[39;00m\u001B[38;5;124m seconds\u001B[39m\u001B[38;5;124m\"\u001B[39m\u001B[38;5;241m.\u001B[39mformat(cupy_time))\n",
      "File \u001B[0;32m~/.conda/envs/nvenv/lib/python3.9/site-packages/cupy/linalg/_solve.py:255\u001B[0m, in \u001B[0;36minv\u001B[0;34m(a)\u001B[0m\n\u001B[1;32m    253\u001B[0m \u001B[38;5;66;03m# prevent 'a' to be overwritten\u001B[39;00m\n\u001B[1;32m    254\u001B[0m a \u001B[38;5;241m=\u001B[39m a\u001B[38;5;241m.\u001B[39mastype(dtype, copy\u001B[38;5;241m=\u001B[39m\u001B[38;5;28;01mTrue\u001B[39;00m, order\u001B[38;5;241m=\u001B[39morder)\n\u001B[0;32m--> 255\u001B[0m b \u001B[38;5;241m=\u001B[39m \u001B[43mcupy\u001B[49m\u001B[38;5;241;43m.\u001B[39;49m\u001B[43meye\u001B[49m\u001B[43m(\u001B[49m\u001B[43ma\u001B[49m\u001B[38;5;241;43m.\u001B[39;49m\u001B[43mshape\u001B[49m\u001B[43m[\u001B[49m\u001B[38;5;241;43m0\u001B[39;49m\u001B[43m]\u001B[49m\u001B[43m,\u001B[49m\u001B[43m \u001B[49m\u001B[43mdtype\u001B[49m\u001B[38;5;241;43m=\u001B[39;49m\u001B[43mdtype\u001B[49m\u001B[43m,\u001B[49m\u001B[43m \u001B[49m\u001B[43morder\u001B[49m\u001B[38;5;241;43m=\u001B[39;49m\u001B[43morder\u001B[49m\u001B[43m)\u001B[49m\n\u001B[1;32m    256\u001B[0m \u001B[38;5;28;01mif\u001B[39;00m order \u001B[38;5;241m==\u001B[39m \u001B[38;5;124m'\u001B[39m\u001B[38;5;124mF\u001B[39m\u001B[38;5;124m'\u001B[39m:\n\u001B[1;32m    257\u001B[0m     cupyx\u001B[38;5;241m.\u001B[39mlapack\u001B[38;5;241m.\u001B[39mgesv(a, b)\n",
      "File \u001B[0;32m~/.conda/envs/nvenv/lib/python3.9/site-packages/cupy/_creation/basic.py:113\u001B[0m, in \u001B[0;36meye\u001B[0;34m(N, M, k, dtype, order)\u001B[0m\n\u001B[1;32m    111\u001B[0m \u001B[38;5;28;01mif\u001B[39;00m M \u001B[38;5;129;01mis\u001B[39;00m \u001B[38;5;28;01mNone\u001B[39;00m:\n\u001B[1;32m    112\u001B[0m     M \u001B[38;5;241m=\u001B[39m N\n\u001B[0;32m--> 113\u001B[0m ret \u001B[38;5;241m=\u001B[39m \u001B[43mzeros\u001B[49m\u001B[43m(\u001B[49m\u001B[43m(\u001B[49m\u001B[43mN\u001B[49m\u001B[43m,\u001B[49m\u001B[43m \u001B[49m\u001B[43mM\u001B[49m\u001B[43m)\u001B[49m\u001B[43m,\u001B[49m\u001B[43m \u001B[49m\u001B[43mdtype\u001B[49m\u001B[38;5;241;43m=\u001B[39;49m\u001B[43mdtype\u001B[49m\u001B[43m,\u001B[49m\u001B[43m \u001B[49m\u001B[43morder\u001B[49m\u001B[38;5;241;43m=\u001B[39;49m\u001B[43morder\u001B[49m\u001B[43m)\u001B[49m\n\u001B[1;32m    114\u001B[0m \u001B[38;5;28;01mif\u001B[39;00m k \u001B[38;5;241m<\u001B[39m\u001B[38;5;241m=\u001B[39m \u001B[38;5;241m-\u001B[39mN \u001B[38;5;129;01mor\u001B[39;00m k \u001B[38;5;241m>\u001B[39m\u001B[38;5;241m=\u001B[39m M:\n\u001B[1;32m    115\u001B[0m     \u001B[38;5;28;01mreturn\u001B[39;00m ret\n",
      "File \u001B[0;32m~/.conda/envs/nvenv/lib/python3.9/site-packages/cupy/_creation/basic.py:211\u001B[0m, in \u001B[0;36mzeros\u001B[0;34m(shape, dtype, order)\u001B[0m\n\u001B[1;32m    196\u001B[0m \u001B[38;5;28;01mdef\u001B[39;00m \u001B[38;5;21mzeros\u001B[39m(shape, dtype\u001B[38;5;241m=\u001B[39m\u001B[38;5;28mfloat\u001B[39m, order\u001B[38;5;241m=\u001B[39m\u001B[38;5;124m'\u001B[39m\u001B[38;5;124mC\u001B[39m\u001B[38;5;124m'\u001B[39m):\n\u001B[1;32m    197\u001B[0m \u001B[38;5;250m    \u001B[39m\u001B[38;5;124;03m\"\"\"Returns a new array of given shape and dtype, filled with zeros.\u001B[39;00m\n\u001B[1;32m    198\u001B[0m \n\u001B[1;32m    199\u001B[0m \u001B[38;5;124;03m    Args:\u001B[39;00m\n\u001B[0;32m   (...)\u001B[0m\n\u001B[1;32m    209\u001B[0m \n\u001B[1;32m    210\u001B[0m \u001B[38;5;124;03m    \"\"\"\u001B[39;00m\n\u001B[0;32m--> 211\u001B[0m     a \u001B[38;5;241m=\u001B[39m \u001B[43mcupy\u001B[49m\u001B[38;5;241;43m.\u001B[39;49m\u001B[43mndarray\u001B[49m\u001B[43m(\u001B[49m\u001B[43mshape\u001B[49m\u001B[43m,\u001B[49m\u001B[43m \u001B[49m\u001B[43mdtype\u001B[49m\u001B[43m,\u001B[49m\u001B[43m \u001B[49m\u001B[43morder\u001B[49m\u001B[38;5;241;43m=\u001B[39;49m\u001B[43morder\u001B[49m\u001B[43m)\u001B[49m\n\u001B[1;32m    212\u001B[0m     a\u001B[38;5;241m.\u001B[39mdata\u001B[38;5;241m.\u001B[39mmemset_async(\u001B[38;5;241m0\u001B[39m, a\u001B[38;5;241m.\u001B[39mnbytes)\n\u001B[1;32m    213\u001B[0m     \u001B[38;5;28;01mreturn\u001B[39;00m a\n",
      "File \u001B[0;32mcupy/_core/core.pyx:136\u001B[0m, in \u001B[0;36mcupy._core.core.ndarray.__new__\u001B[0;34m()\u001B[0m\n",
      "File \u001B[0;32mcupy/_core/core.pyx:224\u001B[0m, in \u001B[0;36mcupy._core.core._ndarray_base._init\u001B[0;34m()\u001B[0m\n",
      "File \u001B[0;32mcupy/cuda/memory.pyx:742\u001B[0m, in \u001B[0;36mcupy.cuda.memory.alloc\u001B[0;34m()\u001B[0m\n",
      "File \u001B[0;32mcupy/cuda/memory.pyx:1419\u001B[0m, in \u001B[0;36mcupy.cuda.memory.MemoryPool.malloc\u001B[0;34m()\u001B[0m\n",
      "File \u001B[0;32mcupy/cuda/memory.pyx:1440\u001B[0m, in \u001B[0;36mcupy.cuda.memory.MemoryPool.malloc\u001B[0;34m()\u001B[0m\n",
      "File \u001B[0;32mcupy/cuda/memory.pyx:1120\u001B[0m, in \u001B[0;36mcupy.cuda.memory.SingleDeviceMemoryPool.malloc\u001B[0;34m()\u001B[0m\n",
      "File \u001B[0;32mcupy/cuda/memory.pyx:1141\u001B[0m, in \u001B[0;36mcupy.cuda.memory.SingleDeviceMemoryPool._malloc\u001B[0;34m()\u001B[0m\n",
      "File \u001B[0;32mcupy/cuda/memory.pyx:1379\u001B[0m, in \u001B[0;36mcupy.cuda.memory.SingleDeviceMemoryPool._try_malloc\u001B[0;34m()\u001B[0m\n",
      "\u001B[0;31mOutOfMemoryError\u001B[0m: Out of memory allocating 200,000,000 bytes (allocated so far: 800,000,000 bytes)."
     ]
    }
   ],
   "source": [
    "import numpy as np\n",
    "import cupy as cp\n",
    "import time\n",
    "\n",
    "# 创建一个5000*5000的随机矩阵\n",
    "size = 5000\n",
    "A_np = np.random.rand(size, size)\n",
    "\n",
    "# 使用numpy求解矩阵的逆\n",
    "start_time = time.time()\n",
    "A_inv_np = np.linalg.inv(A_np)\n",
    "numpy_time = time.time() - start_time\n",
    "print(\"Numpy time: {:.5f} seconds\".format(numpy_time))\n",
    "\n",
    "# 创建一个在GPU上的相同的矩阵\n",
    "A_cp = cp.array(A_np)\n",
    "\n",
    "# 使用cupy求解矩阵的逆\n",
    "start_time = time.time()\n",
    "A_inv_cp = cp.linalg.inv(A_cp)\n",
    "cupy_time = time.time() - start_time\n",
    "print(\"CuPy time: {:.5f} seconds\".format(cupy_time))"
   ],
   "metadata": {
    "collapsed": false,
    "pycharm": {
     "name": "#%%\n"
    }
   }
  },
  {
   "cell_type": "code",
   "execution_count": null,
   "outputs": [],
   "source": [],
   "metadata": {
    "collapsed": false,
    "pycharm": {
     "name": "#%%\n"
    }
   }
  }
 ],
 "metadata": {
  "kernelspec": {
   "name": "nvenv",
   "language": "python",
   "display_name": "nvenv"
  },
  "language_info": {
   "codemirror_mode": {
    "name": "ipython",
    "version": 2
   },
   "file_extension": ".py",
   "mimetype": "text/x-python",
   "name": "python",
   "nbconvert_exporter": "python",
   "pygments_lexer": "ipython2",
   "version": "2.7.6"
  }
 },
 "nbformat": 4,
 "nbformat_minor": 0
}